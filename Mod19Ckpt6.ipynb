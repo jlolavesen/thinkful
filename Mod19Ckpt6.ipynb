{
 "cells": [
  {
   "cell_type": "code",
   "execution_count": 73,
   "metadata": {},
   "outputs": [],
   "source": [
    "import matplotlib.pyplot as plt\n",
    "import numpy as np\n",
    "import pandas as pd\n",
    "import seaborn as sns\n",
    "from scipy.stats import ttest_ind\n",
    "from sqlalchemy import create_engine\n",
    "from scipy.stats.mstats import winsorize\n",
    "from scipy.stats import boxcox\n",
    "from scipy.stats import jarque_bera\n",
    "from scipy.stats import normaltest\n",
    "from sklearn.decomposition import PCA\n",
    "from sklearn.preprocessing import StandardScaler\n",
    "from sklearn.naive_bayes import BernoulliNB\n",
    "from sklearn.model_selection import cross_val_score\n",
    "from sklearn import linear_model\n",
    "from sklearn.model_selection import train_test_split\n",
    "from sklearn.metrics import mean_absolute_error\n",
    "from statsmodels.tools.eval_measures import mse, rmse\n",
    "from wordcloud import WordCloud\n",
    "import statsmodels.api as sm\n",
    "\n",
    "import warnings\n",
    "\n",
    "%matplotlib inline\n",
    "sns.set()\n",
    "\n",
    "warnings.filterwarnings('ignore')"
   ]
  },
  {
   "cell_type": "markdown",
   "metadata": {},
   "source": [
    "## Load the houseprices data from Thinkful's database."
   ]
  },
  {
   "cell_type": "code",
   "execution_count": 54,
   "metadata": {},
   "outputs": [],
   "source": [
    "postgres_user = 'dsbc_student'\n",
    "postgres_pw = '7*.8G9QH21'\n",
    "postgres_host = '142.93.121.174'\n",
    "postgres_port = '5432'\n",
    "postgres_db = 'houseprices'\n",
    "\n",
    "engine = create_engine('postgresql://{}:{}@{}:{}/{}'.format(\n",
    "    postgres_user, postgres_pw, postgres_host, postgres_port, postgres_db))\n",
    "house_prices_df = pd.read_sql_query('select * from houseprices',con=engine)\n",
    "\n",
    "engine.dispose()"
   ]
  },
  {
   "cell_type": "code",
   "execution_count": 55,
   "metadata": {},
   "outputs": [
    {
     "data": {
      "image/png": "[encoded data removed]",
      "text/plain": [
       "<Figure size 432x288 with 1 Axes>"
      ]
     },
     "metadata": {},
     "output_type": "display_data"
    }
   ],
   "source": [
    "#view the target variable as a histogram\n",
    "\n",
    "plt.hist(house_prices_df.saleprice)\n",
    "plt.title(\"House Prices Histogram\")\n",
    "plt.xlabel(\"Price\")\n",
    "plt.ylabel(\"Frequency\")\n",
    "plt.show()"
   ]
  },
  {
   "cell_type": "markdown",
   "metadata": {},
   "source": [
    "The histogram of House Prices is not normally distributed, but instead is skewed right."
   ]
  },
  {
   "cell_type": "code",
   "execution_count": 24,
   "metadata": {},
   "outputs": [
    {
     "name": "stdout",
     "output_type": "stream",
     "text": [
      "<class 'pandas.core.frame.DataFrame'>\n",
      "RangeIndex: 1460 entries, 0 to 1459\n",
      "Data columns (total 81 columns):\n",
      "id               1460 non-null int64\n",
      "mssubclass       1460 non-null int64\n",
      "mszoning         1460 non-null object\n",
      "lotfrontage      1201 non-null float64\n",
      "lotarea          1460 non-null int64\n",
      "street           1460 non-null object\n",
      "alley            91 non-null object\n",
      "lotshape         1460 non-null object\n",
      "landcontour      1460 non-null object\n",
      "utilities        1460 non-null object\n",
      "lotconfig        1460 non-null object\n",
      "landslope        1460 non-null object\n",
      "neighborhood     1460 non-null object\n",
      "condition1       1460 non-null object\n",
      "condition2       1460 non-null object\n",
      "bldgtype         1460 non-null object\n",
      "housestyle       1460 non-null object\n",
      "overallqual      1460 non-null int64\n",
      "overallcond      1460 non-null int64\n",
      "yearbuilt        1460 non-null int64\n",
      "yearremodadd     1460 non-null int64\n",
      "roofstyle        1460 non-null object\n",
      "roofmatl         1460 non-null object\n",
      "exterior1st      1460 non-null object\n",
      "exterior2nd      1460 non-null object\n",
      "masvnrtype       1452 non-null object\n",
      "masvnrarea       1452 non-null float64\n",
      "exterqual        1460 non-null object\n",
      "extercond        1460 non-null object\n",
      "foundation       1460 non-null object\n",
      "bsmtqual         1423 non-null object\n",
      "bsmtcond         1423 non-null object\n",
      "bsmtexposure     1422 non-null object\n",
      "bsmtfintype1     1423 non-null object\n",
      "bsmtfinsf1       1460 non-null int64\n",
      "bsmtfintype2     1422 non-null object\n",
      "bsmtfinsf2       1460 non-null int64\n",
      "bsmtunfsf        1460 non-null int64\n",
      "totalbsmtsf      1460 non-null int64\n",
      "heating          1460 non-null object\n",
      "heatingqc        1460 non-null object\n",
      "centralair       1460 non-null object\n",
      "electrical       1459 non-null object\n",
      "firstflrsf       1460 non-null int64\n",
      "secondflrsf      1460 non-null int64\n",
      "lowqualfinsf     1460 non-null int64\n",
      "grlivarea        1460 non-null int64\n",
      "bsmtfullbath     1460 non-null int64\n",
      "bsmthalfbath     1460 non-null int64\n",
      "fullbath         1460 non-null int64\n",
      "halfbath         1460 non-null int64\n",
      "bedroomabvgr     1460 non-null int64\n",
      "kitchenabvgr     1460 non-null int64\n",
      "kitchenqual      1460 non-null object\n",
      "totrmsabvgrd     1460 non-null int64\n",
      "functional       1460 non-null object\n",
      "fireplaces       1460 non-null int64\n",
      "fireplacequ      770 non-null object\n",
      "garagetype       1379 non-null object\n",
      "garageyrblt      1379 non-null float64\n",
      "garagefinish     1379 non-null object\n",
      "garagecars       1460 non-null int64\n",
      "garagearea       1460 non-null int64\n",
      "garagequal       1379 non-null object\n",
      "garagecond       1379 non-null object\n",
      "paveddrive       1460 non-null object\n",
      "wooddecksf       1460 non-null int64\n",
      "openporchsf      1460 non-null int64\n",
      "enclosedporch    1460 non-null int64\n",
      "threessnporch    1460 non-null int64\n",
      "screenporch      1460 non-null int64\n",
      "poolarea         1460 non-null int64\n",
      "poolqc           7 non-null object\n",
      "fence            281 non-null object\n",
      "miscfeature      54 non-null object\n",
      "miscval          1460 non-null int64\n",
      "mosold           1460 non-null int64\n",
      "yrsold           1460 non-null int64\n",
      "saletype         1460 non-null object\n",
      "salecondition    1460 non-null object\n",
      "saleprice        1460 non-null int64\n",
      "dtypes: float64(3), int64(35), object(43)\n",
      "memory usage: 924.0+ KB\n",
      "   id  mssubclass mszoning  lotfrontage  lotarea street alley lotshape  \\\n",
      "0   1          60       RL         65.0     8450   Pave  None      Reg   \n",
      "1   2          20       RL         80.0     9600   Pave  None      Reg   \n",
      "2   3          60       RL         68.0    11250   Pave  None      IR1   \n",
      "3   4          70       RL         60.0     9550   Pave  None      IR1   \n",
      "4   5          60       RL         84.0    14260   Pave  None      IR1   \n",
      "\n",
      "  landcontour utilities  ... poolarea poolqc fence miscfeature miscval mosold  \\\n",
      "0         Lvl    AllPub  ...        0   None  None        None       0      2   \n",
      "1         Lvl    AllPub  ...        0   None  None        None       0      5   \n",
      "2         Lvl    AllPub  ...        0   None  None        None       0      9   \n",
      "3         Lvl    AllPub  ...        0   None  None        None       0      2   \n",
      "4         Lvl    AllPub  ...        0   None  None        None       0     12   \n",
      "\n",
      "  yrsold  saletype  salecondition  saleprice  \n",
      "0   2008        WD         Normal     208500  \n",
      "1   2007        WD         Normal     181500  \n",
      "2   2008        WD         Normal     223500  \n",
      "3   2006        WD        Abnorml     140000  \n",
      "4   2008        WD         Normal     250000  \n",
      "\n",
      "[5 rows x 81 columns] None                 id   mssubclass  lotfrontage        lotarea  overallqual  \\\n",
      "count  1460.000000  1460.000000  1201.000000    1460.000000  1460.000000   \n",
      "mean    730.500000    56.897260    70.049958   10516.828082     6.099315   \n",
      "std     421.610009    42.300571    24.284752    9981.264932     1.382997   \n",
      "min       1.000000    20.000000    21.000000    1300.000000     1.000000   \n",
      "25%     365.750000    20.000000    59.000000    7553.500000     5.000000   \n",
      "50%     730.500000    50.000000    69.000000    9478.500000     6.000000   \n",
      "75%    1095.250000    70.000000    80.000000   11601.500000     7.000000   \n",
      "max    1460.000000   190.000000   313.000000  215245.000000    10.000000   \n",
      "\n",
      "       overallcond    yearbuilt  yearremodadd   masvnrarea   bsmtfinsf1  ...  \\\n",
      "count  1460.000000  1460.000000   1460.000000  1452.000000  1460.000000  ...   \n",
      "mean      5.575342  1971.267808   1984.865753   103.685262   443.639726  ...   \n",
      "std       1.112799    30.202904     20.645407   181.066207   456.098091  ...   \n",
      "min       1.000000  1872.000000   1950.000000     0.000000     0.000000  ...   \n",
      "25%       5.000000  1954.000000   1967.000000     0.000000     0.000000  ...   \n",
      "50%       5.000000  1973.000000   1994.000000     0.000000   383.500000  ...   \n",
      "75%       6.000000  2000.000000   2004.000000   166.000000   712.250000  ...   \n",
      "max       9.000000  2010.000000   2010.000000  1600.000000  5644.000000  ...   \n",
      "\n",
      "        wooddecksf  openporchsf  enclosedporch  threessnporch  screenporch  \\\n",
      "count  1460.000000  1460.000000    1460.000000    1460.000000  1460.000000   \n",
      "mean     94.244521    46.660274      21.954110       3.409589    15.060959   \n",
      "std     125.338794    66.256028      61.119149      29.317331    55.757415   \n",
      "min       0.000000     0.000000       0.000000       0.000000     0.000000   \n",
      "25%       0.000000     0.000000       0.000000       0.000000     0.000000   \n",
      "50%       0.000000    25.000000       0.000000       0.000000     0.000000   \n",
      "75%     168.000000    68.000000       0.000000       0.000000     0.000000   \n",
      "max     857.000000   547.000000     552.000000     508.000000   480.000000   \n",
      "\n",
      "          poolarea       miscval       mosold       yrsold      saleprice  \n",
      "count  1460.000000   1460.000000  1460.000000  1460.000000    1460.000000  \n",
      "mean      2.758904     43.489041     6.321918  2007.815753  180921.195890  \n",
      "std      40.177307    496.123024     2.703626     1.328095   79442.502883  \n",
      "min       0.000000      0.000000     1.000000  2006.000000   34900.000000  \n",
      "25%       0.000000      0.000000     5.000000  2007.000000  129975.000000  \n",
      "50%       0.000000      0.000000     6.000000  2008.000000  163000.000000  \n",
      "75%       0.000000      0.000000     8.000000  2009.000000  214000.000000  \n",
      "max     738.000000  15500.000000    12.000000  2010.000000  755000.000000  \n",
      "\n",
      "[8 rows x 38 columns]\n"
     ]
    }
   ],
   "source": [
    "#examine the data frame\n",
    "\n",
    "print(\n",
    "    house_prices_df.head(),\n",
    "    house_prices_df.info(),\n",
    "    house_prices_df.describe()\n",
    ")"
   ]
  },
  {
   "cell_type": "code",
   "execution_count": 22,
   "metadata": {},
   "outputs": [
    {
     "data": {
      "text/plain": [
       "poolqc          0.995205\n",
       "miscfeature     0.963014\n",
       "alley           0.937671\n",
       "fence           0.807534\n",
       "fireplacequ     0.472603\n",
       "lotfrontage     0.177397\n",
       "garagecond      0.055479\n",
       "garagetype      0.055479\n",
       "garageyrblt     0.055479\n",
       "garagefinish    0.055479\n",
       "garagequal      0.055479\n",
       "bsmtexposure    0.026027\n",
       "bsmtfintype2    0.026027\n",
       "bsmtfintype1    0.025342\n",
       "bsmtcond        0.025342\n",
       "bsmtqual        0.025342\n",
       "masvnrarea      0.005479\n",
       "masvnrtype      0.005479\n",
       "electrical      0.000685\n",
       "utilities       0.000000\n",
       "yearremodadd    0.000000\n",
       "mssubclass      0.000000\n",
       "foundation      0.000000\n",
       "extercond       0.000000\n",
       "exterqual       0.000000\n",
       "exterior2nd     0.000000\n",
       "exterior1st     0.000000\n",
       "roofmatl        0.000000\n",
       "roofstyle       0.000000\n",
       "yearbuilt       0.000000\n",
       "dtype: float64"
      ]
     },
     "execution_count": 22,
     "metadata": {},
     "output_type": "execute_result"
    }
   ],
   "source": [
    "#determine which variables have missing values and in what percentage\n",
    "\n",
    "missing_values_ratios = (house_prices_df.isnull().sum()/house_prices_df.isnull().count())\n",
    "missing_values_ratios.sort_values(ascending=False).head(30)"
   ]
  },
  {
   "cell_type": "markdown",
   "metadata": {},
   "source": [
    "It appears that most of the columns are not missing data, so we will avoid using the ones that are."
   ]
  },
  {
   "cell_type": "code",
   "execution_count": 62,
   "metadata": {},
   "outputs": [
    {
     "data": {
      "text/plain": [
       "saleprice       1.000000\n",
       "overallqual     0.790982\n",
       "grlivarea       0.708624\n",
       "garagecars      0.640409\n",
       "garagearea      0.623431\n",
       "totalbsmtsf     0.613581\n",
       "firstflrsf      0.605852\n",
       "fullbath        0.560664\n",
       "totrmsabvgrd    0.533723\n",
       "yearbuilt       0.522897\n",
       "yearremodadd    0.507101\n",
       "garageyrblt     0.486362\n",
       "masvnrarea      0.477493\n",
       "fireplaces      0.466929\n",
       "bsmtfinsf1      0.386420\n",
       "lotfrontage     0.351799\n",
       "wooddecksf      0.324413\n",
       "secondflrsf     0.319334\n",
       "openporchsf     0.315856\n",
       "halfbath        0.284108\n",
       "Name: saleprice, dtype: float64"
      ]
     },
     "execution_count": 62,
     "metadata": {},
     "output_type": "execute_result"
    }
   ],
   "source": [
    "#check the correlation of the numerical variables with the target\n",
    "np.abs(house_prices_df[house_prices_df.select_dtypes(['int64', 'float64']).columns].iloc[:,1:].corr().loc[:,\"saleprice\"]).sort_values(ascending=False).head(20)"
   ]
  },
  {
   "cell_type": "code",
   "execution_count": 63,
   "metadata": {},
   "outputs": [],
   "source": [
    "#here we add an interaction variable\n",
    "house_prices_df['year_by_year'] = house_prices_df.yearbuilt * house_prices_df.yearremodadd\n",
    "\n",
    "#X is the feature set\n",
    "X = house_prices_df[['overallqual', 'grlivarea', 'garagecars', 'totalbsmtsf', 'year_by_year']]\n",
    "\n",
    "#Y is the target\n",
    "Y = house_prices_df.saleprice"
   ]
  },
  {
   "cell_type": "markdown",
   "metadata": {},
   "source": [
    "## Split your data into train and test sets."
   ]
  },
  {
   "cell_type": "code",
   "execution_count": 68,
   "metadata": {},
   "outputs": [
    {
     "name": "stdout",
     "output_type": "stream",
     "text": [
      "The number of observations in training set is 1168\n",
      "The number of observations in test set is 292\n"
     ]
    }
   ],
   "source": [
    "X_train, X_test, y_train, y_test = train_test_split(X, Y, test_size = 0.2, random_state = 465)\n",
    "\n",
    "print(\"The number of observations in training set is {}\".format(X_train.shape[0]))\n",
    "print(\"The number of observations in test set is {}\".format(X_test.shape[0]))"
   ]
  },
  {
   "cell_type": "markdown",
   "metadata": {},
   "source": [
    "## Estimate your model from the previous checkpoint in the train set. Assess the goodness of fit of your model."
   ]
  },
  {
   "cell_type": "code",
   "execution_count": 70,
   "metadata": {},
   "outputs": [
    {
     "data": {
      "text/html": [
       "<table class=\"simpletable\">\n",
       "<caption>OLS Regression Results</caption>\n",
       "<tr>\n",
       "  <th>Dep. Variable:</th>        <td>saleprice</td>    <th>  R-squared:         </th> <td>   0.758</td> \n",
       "</tr>\n",
       "<tr>\n",
       "  <th>Model:</th>                   <td>OLS</td>       <th>  Adj. R-squared:    </th> <td>   0.758</td> \n",
       "</tr>\n",
       "<tr>\n",
       "  <th>Method:</th>             <td>Least Squares</td>  <th>  F-statistic:       </th> <td>   912.9</td> \n",
       "</tr>\n",
       "<tr>\n",
       "  <th>Date:</th>             <td>Wed, 24 Jul 2019</td> <th>  Prob (F-statistic):</th>  <td>  0.00</td>  \n",
       "</tr>\n",
       "<tr>\n",
       "  <th>Time:</th>                 <td>15:23:08</td>     <th>  Log-Likelihood:    </th> <td> -13996.</td> \n",
       "</tr>\n",
       "<tr>\n",
       "  <th>No. Observations:</th>      <td>  1168</td>      <th>  AIC:               </th> <td>2.800e+04</td>\n",
       "</tr>\n",
       "<tr>\n",
       "  <th>Df Residuals:</th>          <td>  1163</td>      <th>  BIC:               </th> <td>2.803e+04</td>\n",
       "</tr>\n",
       "<tr>\n",
       "  <th>Df Model:</th>              <td>     4</td>      <th>                     </th>     <td> </td>    \n",
       "</tr>\n",
       "<tr>\n",
       "  <th>Covariance Type:</th>      <td>nonrobust</td>    <th>                     </th>     <td> </td>    \n",
       "</tr>\n",
       "</table>\n",
       "<table class=\"simpletable\">\n",
       "<tr>\n",
       "       <td></td>          <th>coef</th>     <th>std err</th>      <th>t</th>      <th>P>|t|</th>  <th>[0.025</th>    <th>0.975]</th>  \n",
       "</tr>\n",
       "<tr>\n",
       "  <th>const</th>       <td>-9.889e+04</td> <td> 5215.655</td> <td>  -18.961</td> <td> 0.000</td> <td>-1.09e+05</td> <td>-8.87e+04</td>\n",
       "</tr>\n",
       "<tr>\n",
       "  <th>overallqual</th> <td> 2.441e+04</td> <td> 1219.646</td> <td>   20.015</td> <td> 0.000</td> <td>  2.2e+04</td> <td> 2.68e+04</td>\n",
       "</tr>\n",
       "<tr>\n",
       "  <th>grlivarea</th>   <td>   43.2118</td> <td>    2.757</td> <td>   15.672</td> <td> 0.000</td> <td>   37.802</td> <td>   48.622</td>\n",
       "</tr>\n",
       "<tr>\n",
       "  <th>garagecars</th>  <td> 1.989e+04</td> <td> 1971.236</td> <td>   10.091</td> <td> 0.000</td> <td>  1.6e+04</td> <td> 2.38e+04</td>\n",
       "</tr>\n",
       "<tr>\n",
       "  <th>totalbsmtsf</th> <td>   28.3480</td> <td>    3.072</td> <td>    9.229</td> <td> 0.000</td> <td>   22.322</td> <td>   34.375</td>\n",
       "</tr>\n",
       "</table>\n",
       "<table class=\"simpletable\">\n",
       "<tr>\n",
       "  <th>Omnibus:</th>       <td>371.463</td> <th>  Durbin-Watson:     </th> <td>   1.861</td> \n",
       "</tr>\n",
       "<tr>\n",
       "  <th>Prob(Omnibus):</th> <td> 0.000</td>  <th>  Jarque-Bera (JB):  </th> <td>27217.221</td>\n",
       "</tr>\n",
       "<tr>\n",
       "  <th>Skew:</th>          <td>-0.531</td>  <th>  Prob(JB):          </th> <td>    0.00</td> \n",
       "</tr>\n",
       "<tr>\n",
       "  <th>Kurtosis:</th>      <td>26.625</td>  <th>  Cond. No.          </th> <td>9.06e+03</td> \n",
       "</tr>\n",
       "</table><br/><br/>Warnings:<br/>[1] Standard Errors assume that the covariance matrix of the errors is correctly specified.<br/>[2] The condition number is large, 9.06e+03. This might indicate that there are<br/>strong multicollinearity or other numerical problems."
      ],
      "text/plain": [
       "<class 'statsmodels.iolib.summary.Summary'>\n",
       "\"\"\"\n",
       "                            OLS Regression Results                            \n",
       "==============================================================================\n",
       "Dep. Variable:              saleprice   R-squared:                       0.758\n",
       "Model:                            OLS   Adj. R-squared:                  0.758\n",
       "Method:                 Least Squares   F-statistic:                     912.9\n",
       "Date:                Wed, 24 Jul 2019   Prob (F-statistic):               0.00\n",
       "Time:                        15:23:08   Log-Likelihood:                -13996.\n",
       "No. Observations:                1168   AIC:                         2.800e+04\n",
       "Df Residuals:                    1163   BIC:                         2.803e+04\n",
       "Df Model:                           4                                         \n",
       "Covariance Type:            nonrobust                                         \n",
       "===============================================================================\n",
       "                  coef    std err          t      P>|t|      [0.025      0.975]\n",
       "-------------------------------------------------------------------------------\n",
       "const       -9.889e+04   5215.655    -18.961      0.000   -1.09e+05   -8.87e+04\n",
       "overallqual  2.441e+04   1219.646     20.015      0.000     2.2e+04    2.68e+04\n",
       "grlivarea      43.2118      2.757     15.672      0.000      37.802      48.622\n",
       "garagecars   1.989e+04   1971.236     10.091      0.000     1.6e+04    2.38e+04\n",
       "totalbsmtsf    28.3480      3.072      9.229      0.000      22.322      34.375\n",
       "==============================================================================\n",
       "Omnibus:                      371.463   Durbin-Watson:                   1.861\n",
       "Prob(Omnibus):                  0.000   Jarque-Bera (JB):            27217.221\n",
       "Skew:                          -0.531   Prob(JB):                         0.00\n",
       "Kurtosis:                      26.625   Cond. No.                     9.06e+03\n",
       "==============================================================================\n",
       "\n",
       "Warnings:\n",
       "[1] Standard Errors assume that the covariance matrix of the errors is correctly specified.\n",
       "[2] The condition number is large, 9.06e+03. This might indicate that there are\n",
       "strong multicollinearity or other numerical problems.\n",
       "\"\"\""
      ]
     },
     "execution_count": 70,
     "metadata": {},
     "output_type": "execute_result"
    }
   ],
   "source": [
    "# Adding a constant to the model\n",
    "X_train = sm.add_constant(X_train)\n",
    "\n",
    "# Fitting an OLS model using statsmodels\n",
    "results = sm.OLS(y_train, X_train).fit()\n",
    "\n",
    "results.summary()"
   ]
  },
  {
   "cell_type": "markdown",
   "metadata": {},
   "source": [
    "The model has a F-stat probability of zero, and the adjusted R-squared value is 0.758.  Not a perfect model, but not a terrible one either."
   ]
  },
  {
   "cell_type": "markdown",
   "metadata": {},
   "source": [
    "## Predict the house prices in the test set, and evaluate the performance of your model using the metrics we mentioned in this checkpoint."
   ]
  },
  {
   "cell_type": "code",
   "execution_count": 74,
   "metadata": {},
   "outputs": [
    {
     "data": {
      "image/png": "[encoded data removed]",
      "text/plain": [
       "<Figure size 432x288 with 1 Axes>"
      ]
     },
     "metadata": {},
     "output_type": "display_data"
    },
    {
     "name": "stdout",
     "output_type": "stream",
     "text": [
      "Mean absolute error of the prediction is: 26089.46787364969\n",
      "Mean squared error of the prediction is: 1574193490.0111256\n",
      "Root mean squared error of the prediction is: 39676.10729407719\n",
      "Mean absolute percentage error of the prediction is: 16.18868600344772\n"
     ]
    }
   ],
   "source": [
    "X_test = sm.add_constant(X_test)\n",
    "\n",
    "# We are making predictions here\n",
    "y_preds = results.predict(X_test)\n",
    "\n",
    "plt.scatter(y_test, y_preds)\n",
    "plt.plot(y_test, y_test, color=\"red\")\n",
    "plt.xlabel(\"true values\")\n",
    "plt.ylabel(\"predicted values\")\n",
    "plt.title(\"House prices: true and predicted values\")\n",
    "plt.show()\n",
    "\n",
    "\n",
    "print(\"Mean absolute error of the prediction is: {}\".format(mean_absolute_error(y_test, y_preds)))\n",
    "print(\"Mean squared error of the prediction is: {}\".format(mse(y_test, y_preds)))\n",
    "print(\"Root mean squared error of the prediction is: {}\".format(rmse(y_test, y_preds)))\n",
    "print(\"Mean absolute percentage error of the prediction is: {}\".format(np.mean(np.abs((y_test - y_preds) / y_test)) * 100))"
   ]
  },
  {
   "cell_type": "markdown",
   "metadata": {},
   "source": [
    "The model looks pretty good based on the predictions from the test set.  It doesn't perform as well on the higher values of the target. Based on the information provided in the module, these metrics are most useful when they are being compared, so I'm not sure what to say about them.  MAE, MSE, and RMSE seem high based on the very limited number of examples the module has provided.  Conversely, MAPE seems low."
   ]
  },
  {
   "cell_type": "markdown",
   "metadata": {},
   "source": [
    "## Is the performance of your model satisfactory? Why?"
   ]
  },
  {
   "cell_type": "markdown",
   "metadata": {},
   "source": [
    "It appears to be doing a decent job based on the above scatter plot."
   ]
  },
  {
   "cell_type": "markdown",
   "metadata": {},
   "source": [
    "## Try to improve your model in terms of predictive performance by adding or removing some variables."
   ]
  },
  {
   "cell_type": "code",
   "execution_count": 79,
   "metadata": {},
   "outputs": [],
   "source": [
    "#X is the feature set\n",
    "X = house_prices_df[['overallqual', 'grlivarea', 'garagecars', 'totalbsmtsf', \n",
    "                     'year_by_year', 'poolarea', 'overallcond']]\n",
    "\n",
    "#Y is the target\n",
    "Y = house_prices_df.saleprice"
   ]
  },
  {
   "cell_type": "code",
   "execution_count": 80,
   "metadata": {},
   "outputs": [
    {
     "name": "stdout",
     "output_type": "stream",
     "text": [
      "The number of observations in training set is 1168\n",
      "The number of observations in test set is 292\n"
     ]
    }
   ],
   "source": [
    "X_train, X_test, y_train, y_test = train_test_split(X, Y, test_size = 0.2, random_state = 465)\n",
    "\n",
    "print(\"The number of observations in training set is {}\".format(X_train.shape[0]))\n",
    "print(\"The number of observations in test set is {}\".format(X_test.shape[0]))"
   ]
  },
  {
   "cell_type": "code",
   "execution_count": 81,
   "metadata": {},
   "outputs": [
    {
     "data": {
      "text/html": [
       "<table class=\"simpletable\">\n",
       "<caption>OLS Regression Results</caption>\n",
       "<tr>\n",
       "  <th>Dep. Variable:</th>        <td>saleprice</td>    <th>  R-squared:         </th> <td>   0.782</td> \n",
       "</tr>\n",
       "<tr>\n",
       "  <th>Model:</th>                   <td>OLS</td>       <th>  Adj. R-squared:    </th> <td>   0.781</td> \n",
       "</tr>\n",
       "<tr>\n",
       "  <th>Method:</th>             <td>Least Squares</td>  <th>  F-statistic:       </th> <td>   594.4</td> \n",
       "</tr>\n",
       "<tr>\n",
       "  <th>Date:</th>             <td>Wed, 24 Jul 2019</td> <th>  Prob (F-statistic):</th>  <td>  0.00</td>  \n",
       "</tr>\n",
       "<tr>\n",
       "  <th>Time:</th>                 <td>15:52:18</td>     <th>  Log-Likelihood:    </th> <td> -13936.</td> \n",
       "</tr>\n",
       "<tr>\n",
       "  <th>No. Observations:</th>      <td>  1168</td>      <th>  AIC:               </th> <td>2.789e+04</td>\n",
       "</tr>\n",
       "<tr>\n",
       "  <th>Df Residuals:</th>          <td>  1160</td>      <th>  BIC:               </th> <td>2.793e+04</td>\n",
       "</tr>\n",
       "<tr>\n",
       "  <th>Df Model:</th>              <td>     7</td>      <th>                     </th>     <td> </td>    \n",
       "</tr>\n",
       "<tr>\n",
       "  <th>Covariance Type:</th>      <td>nonrobust</td>    <th>                     </th>     <td> </td>    \n",
       "</tr>\n",
       "</table>\n",
       "<table class=\"simpletable\">\n",
       "<tr>\n",
       "        <td></td>          <th>coef</th>     <th>std err</th>      <th>t</th>      <th>P>|t|</th>  <th>[0.025</th>    <th>0.975]</th>  \n",
       "</tr>\n",
       "<tr>\n",
       "  <th>const</th>        <td>-6.077e+05</td> <td> 6.39e+04</td> <td>   -9.510</td> <td> 0.000</td> <td>-7.33e+05</td> <td>-4.82e+05</td>\n",
       "</tr>\n",
       "<tr>\n",
       "  <th>overallqual</th>  <td> 1.896e+04</td> <td> 1326.509</td> <td>   14.294</td> <td> 0.000</td> <td> 1.64e+04</td> <td> 2.16e+04</td>\n",
       "</tr>\n",
       "<tr>\n",
       "  <th>grlivarea</th>    <td>   50.9271</td> <td>    2.746</td> <td>   18.545</td> <td> 0.000</td> <td>   45.539</td> <td>   56.315</td>\n",
       "</tr>\n",
       "<tr>\n",
       "  <th>garagecars</th>   <td> 1.522e+04</td> <td> 1983.980</td> <td>    7.671</td> <td> 0.000</td> <td> 1.13e+04</td> <td> 1.91e+04</td>\n",
       "</tr>\n",
       "<tr>\n",
       "  <th>totalbsmtsf</th>  <td>   31.6408</td> <td>    2.998</td> <td>   10.554</td> <td> 0.000</td> <td>   25.759</td> <td>   37.523</td>\n",
       "</tr>\n",
       "<tr>\n",
       "  <th>year_by_year</th> <td>    0.1295</td> <td>    0.017</td> <td>    7.633</td> <td> 0.000</td> <td>    0.096</td> <td>    0.163</td>\n",
       "</tr>\n",
       "<tr>\n",
       "  <th>poolarea</th>     <td> -300.1168</td> <td>   41.973</td> <td>   -7.150</td> <td> 0.000</td> <td> -382.468</td> <td> -217.766</td>\n",
       "</tr>\n",
       "<tr>\n",
       "  <th>overallcond</th>  <td> 5137.2953</td> <td> 1010.527</td> <td>    5.084</td> <td> 0.000</td> <td> 3154.630</td> <td> 7119.961</td>\n",
       "</tr>\n",
       "</table>\n",
       "<table class=\"simpletable\">\n",
       "<tr>\n",
       "  <th>Omnibus:</th>       <td>302.057</td> <th>  Durbin-Watson:     </th> <td>   1.886</td> \n",
       "</tr>\n",
       "<tr>\n",
       "  <th>Prob(Omnibus):</th> <td> 0.000</td>  <th>  Jarque-Bera (JB):  </th> <td>16627.446</td>\n",
       "</tr>\n",
       "<tr>\n",
       "  <th>Skew:</th>          <td> 0.232</td>  <th>  Prob(JB):          </th> <td>    0.00</td> \n",
       "</tr>\n",
       "<tr>\n",
       "  <th>Kurtosis:</th>      <td>21.478</td>  <th>  Cond. No.          </th> <td>2.32e+08</td> \n",
       "</tr>\n",
       "</table><br/><br/>Warnings:<br/>[1] Standard Errors assume that the covariance matrix of the errors is correctly specified.<br/>[2] The condition number is large, 2.32e+08. This might indicate that there are<br/>strong multicollinearity or other numerical problems."
      ],
      "text/plain": [
       "<class 'statsmodels.iolib.summary.Summary'>\n",
       "\"\"\"\n",
       "                            OLS Regression Results                            \n",
       "==============================================================================\n",
       "Dep. Variable:              saleprice   R-squared:                       0.782\n",
       "Model:                            OLS   Adj. R-squared:                  0.781\n",
       "Method:                 Least Squares   F-statistic:                     594.4\n",
       "Date:                Wed, 24 Jul 2019   Prob (F-statistic):               0.00\n",
       "Time:                        15:52:18   Log-Likelihood:                -13936.\n",
       "No. Observations:                1168   AIC:                         2.789e+04\n",
       "Df Residuals:                    1160   BIC:                         2.793e+04\n",
       "Df Model:                           7                                         \n",
       "Covariance Type:            nonrobust                                         \n",
       "================================================================================\n",
       "                   coef    std err          t      P>|t|      [0.025      0.975]\n",
       "--------------------------------------------------------------------------------\n",
       "const        -6.077e+05   6.39e+04     -9.510      0.000   -7.33e+05   -4.82e+05\n",
       "overallqual   1.896e+04   1326.509     14.294      0.000    1.64e+04    2.16e+04\n",
       "grlivarea       50.9271      2.746     18.545      0.000      45.539      56.315\n",
       "garagecars    1.522e+04   1983.980      7.671      0.000    1.13e+04    1.91e+04\n",
       "totalbsmtsf     31.6408      2.998     10.554      0.000      25.759      37.523\n",
       "year_by_year     0.1295      0.017      7.633      0.000       0.096       0.163\n",
       "poolarea      -300.1168     41.973     -7.150      0.000    -382.468    -217.766\n",
       "overallcond   5137.2953   1010.527      5.084      0.000    3154.630    7119.961\n",
       "==============================================================================\n",
       "Omnibus:                      302.057   Durbin-Watson:                   1.886\n",
       "Prob(Omnibus):                  0.000   Jarque-Bera (JB):            16627.446\n",
       "Skew:                           0.232   Prob(JB):                         0.00\n",
       "Kurtosis:                      21.478   Cond. No.                     2.32e+08\n",
       "==============================================================================\n",
       "\n",
       "Warnings:\n",
       "[1] Standard Errors assume that the covariance matrix of the errors is correctly specified.\n",
       "[2] The condition number is large, 2.32e+08. This might indicate that there are\n",
       "strong multicollinearity or other numerical problems.\n",
       "\"\"\""
      ]
     },
     "execution_count": 81,
     "metadata": {},
     "output_type": "execute_result"
    }
   ],
   "source": [
    "# Adding a constant to the model\n",
    "X_train = sm.add_constant(X_train)\n",
    "\n",
    "# Fitting an OLS model using statsmodels\n",
    "results = sm.OLS(y_train, X_train).fit()\n",
    "\n",
    "results.summary()"
   ]
  },
  {
   "cell_type": "code",
   "execution_count": 82,
   "metadata": {},
   "outputs": [
    {
     "data": {
      "image/png": "[encoded data removed]",
      "text/plain": [
       "<Figure size 432x288 with 1 Axes>"
      ]
     },
     "metadata": {},
     "output_type": "display_data"
    },
    {
     "name": "stdout",
     "output_type": "stream",
     "text": [
      "Mean absolute error of the prediction is: 26545.16057359938\n",
      "Mean squared error of the prediction is: 2292633237.9876366\n",
      "Root mean squared error of the prediction is: 47881.44983172123\n",
      "Mean absolute percentage error of the prediction is: 15.584811305356993\n"
     ]
    }
   ],
   "source": [
    "X_test = sm.add_constant(X_test)\n",
    "\n",
    "# We are making predictions here\n",
    "y_preds = results.predict(X_test)\n",
    "\n",
    "plt.scatter(y_test, y_preds)\n",
    "plt.plot(y_test, y_test, color=\"red\")\n",
    "plt.xlabel(\"true values\")\n",
    "plt.ylabel(\"predicted values\")\n",
    "plt.title(\"House prices: true and predicted values\")\n",
    "plt.show()\n",
    "\n",
    "\n",
    "print(\"Mean absolute error of the prediction is: {}\".format(mean_absolute_error(y_test, y_preds)))\n",
    "print(\"Mean squared error of the prediction is: {}\".format(mse(y_test, y_preds)))\n",
    "print(\"Root mean squared error of the prediction is: {}\".format(rmse(y_test, y_preds)))\n",
    "print(\"Mean absolute percentage error of the prediction is: {}\".format(np.mean(np.abs((y_test - y_preds) / y_test)) * 100))"
   ]
  },
  {
   "cell_type": "markdown",
   "metadata": {},
   "source": [
    "Although the R-squared value has improved by a few percentage points, the MAE, MSE, and RMSE metrics have gotten worse for this adjusted model- it seems like the errors are larger.  Visual inspection of the scatter plot suggests that this model is worse at dealing with outliers than the previous model."
   ]
  }
 ],
 "metadata": {
  "kernelspec": {
   "display_name": "Python 3",
   "language": "python",
   "name": "python3"
  },
  "language_info": {
   "codemirror_mode": {
    "name": "ipython",
    "version": 3
   },
   "file_extension": ".py",
   "mimetype": "text/x-python",
   "name": "python",
   "nbconvert_exporter": "python",
   "pygments_lexer": "ipython3",
   "version": "3.7.3"
  }
 },
 "nbformat": 4,
 "nbformat_minor": 2
}
