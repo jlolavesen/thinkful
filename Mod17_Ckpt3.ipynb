{
 "cells": [
  {
   "cell_type": "code",
   "execution_count": 16,
   "metadata": {},
   "outputs": [],
   "source": [
    "import matplotlib.pyplot as plt\n",
    "import numpy as np\n",
    "import pandas as pd\n",
    "import seaborn as sns\n",
    "from scipy.stats import ttest_ind\n",
    "from sqlalchemy import create_engine\n",
    "import warnings\n",
    "\n",
    "%matplotlib inline\n",
    "sns.set()\n",
    "\n",
    "warnings.filterwarnings('ignore')"
   ]
  },
  {
   "cell_type": "code",
   "execution_count": 19,
   "metadata": {},
   "outputs": [],
   "source": [
    "postgres_user = 'dsbc_student'\n",
    "postgres_pw = '7*.8G9QH21'\n",
    "postgres_host = '142.93.121.174'\n",
    "postgres_port = '5432'\n",
    "postgres_db = 'useducation'\n",
    "\n",
    "engine = create_engine('postgresql://{}:{}@{}:{}/{}'.format(\n",
    "    postgres_user, postgres_pw, postgres_host, postgres_port, postgres_db))\n",
    "\n",
    "df_used = pd.read_sql_query('select * from useducation',con=engine)\n",
    "\n",
    "engine.dispose()"
   ]
  },
  {
   "cell_type": "markdown",
   "metadata": {},
   "source": [
    "## Determine all the variable types and find the fraction of the missing values for each variable."
   ]
  },
  {
   "cell_type": "code",
   "execution_count": 20,
   "metadata": {},
   "outputs": [
    {
     "name": "stdout",
     "output_type": "stream",
     "text": [
      "<class 'pandas.core.frame.DataFrame'>\n",
      "RangeIndex: 1492 entries, 0 to 1491\n",
      "Data columns (total 25 columns):\n",
      "PRIMARY_KEY                     1492 non-null object\n",
      "STATE                           1492 non-null object\n",
      "YEAR                            1492 non-null int64\n",
      "ENROLL                          1229 non-null float64\n",
      "TOTAL_REVENUE                   1280 non-null float64\n",
      "FEDERAL_REVENUE                 1280 non-null float64\n",
      "STATE_REVENUE                   1280 non-null float64\n",
      "LOCAL_REVENUE                   1280 non-null float64\n",
      "TOTAL_EXPENDITURE               1280 non-null float64\n",
      "INSTRUCTION_EXPENDITURE         1280 non-null float64\n",
      "SUPPORT_SERVICES_EXPENDITURE    1280 non-null float64\n",
      "OTHER_EXPENDITURE               1229 non-null float64\n",
      "CAPITAL_OUTLAY_EXPENDITURE      1280 non-null float64\n",
      "GRADES_PK_G                     1319 non-null float64\n",
      "GRADES_KG_G                     1360 non-null float64\n",
      "GRADES_4_G                      1361 non-null float64\n",
      "GRADES_8_G                      1361 non-null float64\n",
      "GRADES_12_G                     1361 non-null float64\n",
      "GRADES_1_8_G                    1361 non-null float64\n",
      "GRADES_9_12_G                   1361 non-null float64\n",
      "GRADES_ALL_G                    1319 non-null float64\n",
      "AVG_MATH_4_SCORE                536 non-null float64\n",
      "AVG_MATH_8_SCORE                532 non-null float64\n",
      "AVG_READING_4_SCORE             533 non-null float64\n",
      "AVG_READING_8_SCORE             498 non-null float64\n",
      "dtypes: float64(22), int64(1), object(2)\n",
      "memory usage: 291.5+ KB\n"
     ]
    }
   ],
   "source": [
    "#determine variable types\n",
    "\n",
    "df_used.info()"
   ]
  },
  {
   "cell_type": "code",
   "execution_count": 21,
   "metadata": {},
   "outputs": [
    {
     "data": {
      "text/plain": [
       "PRIMARY_KEY                      0.000000\n",
       "STATE                            0.000000\n",
       "YEAR                             0.000000\n",
       "ENROLL                          17.627346\n",
       "TOTAL_REVENUE                   14.209115\n",
       "FEDERAL_REVENUE                 14.209115\n",
       "STATE_REVENUE                   14.209115\n",
       "LOCAL_REVENUE                   14.209115\n",
       "TOTAL_EXPENDITURE               14.209115\n",
       "INSTRUCTION_EXPENDITURE         14.209115\n",
       "SUPPORT_SERVICES_EXPENDITURE    14.209115\n",
       "OTHER_EXPENDITURE               17.627346\n",
       "CAPITAL_OUTLAY_EXPENDITURE      14.209115\n",
       "GRADES_PK_G                     11.595174\n",
       "GRADES_KG_G                      8.847185\n",
       "GRADES_4_G                       8.780161\n",
       "GRADES_8_G                       8.780161\n",
       "GRADES_12_G                      8.780161\n",
       "GRADES_1_8_G                     8.780161\n",
       "GRADES_9_12_G                    8.780161\n",
       "GRADES_ALL_G                    11.595174\n",
       "AVG_MATH_4_SCORE                64.075067\n",
       "AVG_MATH_8_SCORE                64.343164\n",
       "AVG_READING_4_SCORE             64.276139\n",
       "AVG_READING_8_SCORE             66.621984\n",
       "dtype: float64"
      ]
     },
     "execution_count": 21,
     "metadata": {},
     "output_type": "execute_result"
    }
   ],
   "source": [
    "#find fraction of null values (as a percentage)\n",
    "\n",
    "(df_used.isnull().sum()*100) / df_used.isnull().count()"
   ]
  },
  {
   "cell_type": "markdown",
   "metadata": {},
   "source": [
    "## Notice that the data has a time dimension (year). For this assignment, forget about time and treat all the observations as if they're from the same year. Choose a strategy to deal with the missing values for each variables. For which variables would filling in the missing values with some value make sense? For which might tossing out the records entirely make sense?"
   ]
  },
  {
   "cell_type": "code",
   "execution_count": 27,
   "metadata": {},
   "outputs": [
    {
     "name": "stdout",
     "output_type": "stream",
     "text": [
      "              YEAR        ENROLL  TOTAL_REVENUE  FEDERAL_REVENUE  \\\n",
      "count  1492.000000  1.492000e+03   1.492000e+03     1.492000e+03   \n",
      "mean   2004.433646  9.159308e+05   9.092082e+06     7.663723e+05   \n",
      "std       7.393983  9.667725e+05   1.087818e+07     1.060702e+06   \n",
      "min    1992.000000  4.386600e+04   4.656500e+05     3.102000e+04   \n",
      "25%    1998.000000  3.150940e+05   2.546261e+06     2.170200e+05   \n",
      "50%    2004.000000  8.204140e+05   6.359310e+06     5.167410e+05   \n",
      "75%    2011.000000  9.211780e+05   9.276958e+06     7.663723e+05   \n",
      "max    2017.000000  6.307022e+06   8.921726e+07     9.990221e+06   \n",
      "\n",
      "       STATE_REVENUE  LOCAL_REVENUE  TOTAL_EXPENDITURE  \\\n",
      "count   1.492000e+03   1.492000e+03       1.492000e+03   \n",
      "mean    4.216553e+06   4.109157e+06       9.196681e+06   \n",
      "std     5.133895e+06   5.078230e+06       1.109393e+07   \n",
      "min     0.000000e+00   2.209300e+04       4.816650e+05   \n",
      "25%     1.356434e+06   9.447962e+05       2.523968e+06   \n",
      "50%     3.127639e+06   2.697257e+06       6.520224e+06   \n",
      "75%     4.269811e+06   4.109157e+06       9.434922e+06   \n",
      "max     5.090457e+07   3.610526e+07       8.532013e+07   \n",
      "\n",
      "       INSTRUCTION_EXPENDITURE  SUPPORT_SERVICES_EXPENDITURE  \\\n",
      "count             1.492000e+03                  1.492000e+03   \n",
      "mean              4.762966e+06                  2.680331e+06   \n",
      "std               5.828468e+06                  3.105812e+06   \n",
      "min               2.655490e+05                  1.399630e+05   \n",
      "25%               1.343611e+06                  7.673688e+05   \n",
      "50%               3.358142e+06                  1.913844e+06   \n",
      "75%               4.938820e+06                  2.795888e+06   \n",
      "max               4.396452e+07                  2.605802e+07   \n",
      "\n",
      "       OTHER_EXPENDITURE  ...     GRADES_4_G     GRADES_8_G    GRADES_12_G  \\\n",
      "count       1.492000e+03  ...    1492.000000    1492.000000    1492.000000   \n",
      "mean        4.292046e+05  ...   64538.927259   64271.057311   54268.924320   \n",
      "std         4.846832e+05  ...   76684.998585   75364.301721   64838.328605   \n",
      "min         1.154100e+04  ...     633.000000     437.000000     311.000000   \n",
      "25%         1.354282e+05  ...   15195.500000   15682.750000   13437.000000   \n",
      "50%         3.672335e+05  ...   49884.500000   49571.000000   39566.000000   \n",
      "75%         4.568915e+05  ...   71814.250000   72131.000000   64616.250000   \n",
      "max         3.995951e+06  ...  493415.000000  500143.000000  498403.000000   \n",
      "\n",
      "       GRADES_1_8_G  GRADES_9_12_G  GRADES_ALL_G  AVG_MATH_4_SCORE  \\\n",
      "count  1.492000e+03   1.492000e+03  1.492000e+03        536.000000   \n",
      "mean   5.192140e+05   2.470714e+05  8.024415e+05        234.768293   \n",
      "std    6.147133e+05   2.938773e+05  9.126522e+05         10.221511   \n",
      "min    4.878000e+03   1.808000e+03  7.254000e+03        187.134670   \n",
      "25%    1.211522e+05   5.919750e+04  2.293578e+05        229.694352   \n",
      "50%    4.015865e+05   1.817010e+05  6.473260e+05        237.238552   \n",
      "75%    5.749118e+05   2.825390e+05  8.724220e+05        241.995486   \n",
      "max    3.929869e+06   2.013687e+06  5.944746e+06        253.420961   \n",
      "\n",
      "       AVG_MATH_8_SCORE  AVG_READING_4_SCORE  AVG_READING_8_SCORE  \n",
      "count        532.000000           533.000000           498.000000  \n",
      "mean         278.414711           218.866154           263.661132  \n",
      "std           10.159722             7.769616             6.803725  \n",
      "min          232.831510           178.557612           236.379102  \n",
      "25%          272.761598           214.663401           259.533171  \n",
      "50%          280.618803           220.416034           265.010912  \n",
      "75%          285.347428           223.999337           268.190121  \n",
      "max          300.568235           236.773867           280.499130  \n",
      "\n",
      "[8 rows x 23 columns]\n"
     ]
    }
   ],
   "source": [
    "df_used2 = df_used.copy()\n",
    "\n",
    "#choosing all float columns with < 20% missing values for mean imputation\n",
    "columns = [\"ENROLL\", \"TOTAL_REVENUE\", \"FEDERAL_REVENUE\", \"STATE_REVENUE\", \"LOCAL_REVENUE\", \"TOTAL_EXPENDITURE\", \n",
    "             \"INSTRUCTION_EXPENDITURE\", \"SUPPORT_SERVICES_EXPENDITURE\", \"OTHER_EXPENDITURE\", \"CAPITAL_OUTLAY_EXPENDITURE\", \"GRADES_PK_G\", \n",
    "             \"GRADES_KG_G\", \"GRADES_4_G\", \"GRADES_8_G\", \"GRADES_12_G\", \"GRADES_1_8_G\", \"GRADES_9_12_G\", \"GRADES_ALL_G\"]\n",
    "\n",
    "#process mean imputation\n",
    "for column in columns:\n",
    "    df_used2.loc[:, column].fillna(df_used2.loc[:, column].mean(), inplace=True)\n",
    "    \n",
    "print(df_used2.describe())"
   ]
  },
  {
   "cell_type": "markdown",
   "metadata": {},
   "source": [
    "## Now, take into account the time factor. Replicate your second answer but this time fill in the missing values by using a statistic that is calculated within the year of the observation. For example, if you want to fill a missing value for a variable with the mean of that variable, calculate the mean by using only the observations for that specific year."
   ]
  },
  {
   "cell_type": "code",
   "execution_count": 30,
   "metadata": {},
   "outputs": [
    {
     "name": "stdout",
     "output_type": "stream",
     "text": [
      "              YEAR        ENROLL  TOTAL_REVENUE  FEDERAL_REVENUE  \\\n",
      "count  1492.000000  1.229000e+03   1.280000e+03     1.280000e+03   \n",
      "mean   2004.433646  9.159308e+05   9.092082e+06     7.663723e+05   \n",
      "std       7.393983  1.065280e+06   1.174519e+07     1.145242e+06   \n",
      "min    1992.000000  4.386600e+04   4.656500e+05     3.102000e+04   \n",
      "25%    1998.000000  2.583140e+05   2.186305e+06     1.893540e+05   \n",
      "50%    2004.000000  6.483130e+05   5.079546e+06     4.033765e+05   \n",
      "75%    2011.000000  1.014528e+06   1.085985e+07     8.289660e+05   \n",
      "max    2017.000000  6.307022e+06   8.921726e+07     9.990221e+06   \n",
      "\n",
      "       STATE_REVENUE  LOCAL_REVENUE  TOTAL_EXPENDITURE  \\\n",
      "count   1.280000e+03   1.280000e+03       1.280000e+03   \n",
      "mean    4.216553e+06   4.109157e+06       9.196681e+06   \n",
      "std     5.543072e+06   5.482971e+06       1.197813e+07   \n",
      "min     0.000000e+00   2.209300e+04       4.816650e+05   \n",
      "25%     1.153097e+06   7.158345e+05       2.165404e+06   \n",
      "50%     2.537074e+06   2.055780e+06       5.234506e+06   \n",
      "75%     5.080939e+06   4.768680e+06       1.074519e+07   \n",
      "max     5.090457e+07   3.610526e+07       8.532013e+07   \n",
      "\n",
      "       INSTRUCTION_EXPENDITURE  SUPPORT_SERVICES_EXPENDITURE  \\\n",
      "count             1.280000e+03                  1.280000e+03   \n",
      "mean              4.762966e+06                  2.680331e+06   \n",
      "std               6.293004e+06                  3.353349e+06   \n",
      "min               2.655490e+05                  1.399630e+05   \n",
      "25%               1.168032e+06                  6.357900e+05   \n",
      "50%               2.657452e+06                  1.525406e+06   \n",
      "75%               5.568028e+06                  3.229651e+06   \n",
      "max               4.396452e+07                  2.605802e+07   \n",
      "\n",
      "       OTHER_EXPENDITURE  ...     GRADES_4_G     GRADES_8_G   GRADES_12_G  \\\n",
      "count       1.229000e+03  ...    1361.000000    1361.000000    1361.00000   \n",
      "mean        4.292046e+05  ...   64538.927259   64271.057311   54268.92432   \n",
      "std         5.340693e+05  ...   80293.387625   78910.545776   67889.27623   \n",
      "min         1.154100e+04  ...     633.000000     437.000000     311.00000   \n",
      "25%         1.028310e+05  ...   13739.000000   13342.000000   10919.00000   \n",
      "50%         2.715960e+05  ...   43272.000000   43339.000000   36735.00000   \n",
      "75%         5.186000e+05  ...   75481.000000   76566.000000   67460.00000   \n",
      "max         3.995951e+06  ...  493415.000000  500143.000000  498403.00000   \n",
      "\n",
      "       GRADES_1_8_G  GRADES_9_12_G  GRADES_ALL_G  AVG_MATH_4_SCORE  \\\n",
      "count  1.361000e+03   1.361000e+03  1.319000e+03        536.000000   \n",
      "mean   5.192140e+05   2.470714e+05  8.024415e+05        234.768293   \n",
      "std    6.436384e+05   3.077056e+05  9.707031e+05         10.221511   \n",
      "min    4.878000e+03   1.808000e+03  7.254000e+03        187.134670   \n",
      "25%    1.106260e+05   5.147100e+04  1.810650e+05        229.694352   \n",
      "50%    3.457750e+05   1.642600e+05  5.503420e+05        237.238552   \n",
      "75%    6.119050e+05   2.905020e+05  9.282755e+05        241.995486   \n",
      "max    3.929869e+06   2.013687e+06  5.944746e+06        253.420961   \n",
      "\n",
      "       AVG_MATH_8_SCORE  AVG_READING_4_SCORE  AVG_READING_8_SCORE  \n",
      "count        532.000000           533.000000           498.000000  \n",
      "mean         278.414711           218.866154           263.661132  \n",
      "std           10.159722             7.769616             6.803725  \n",
      "min          232.831510           178.557612           236.379102  \n",
      "25%          272.761598           214.663401           259.533171  \n",
      "50%          280.618803           220.416034           265.010912  \n",
      "75%          285.347428           223.999337           268.190121  \n",
      "max          300.568235           236.773867           280.499130  \n",
      "\n",
      "[8 rows x 23 columns]\n"
     ]
    }
   ],
   "source": [
    "df_used3 = df_used.copy()\n",
    "\n",
    "years = df_used3[\"YEAR\"].unique()\n",
    "\n",
    "for column in columns:\n",
    "    for year in years:\n",
    "        df_used3.loc[df_used3[\"YEAR\"] == year, col].fillna(\n",
    "            df_used3[df_used3[\"YEAR\"] == year][col].mean(), inplace=True)\n",
    "        \n",
    "print(df_used3.describe())"
   ]
  },
  {
   "cell_type": "markdown",
   "metadata": {},
   "source": [
    "## This time, fill in the missing values using interpolation (extrapolation)."
   ]
  },
  {
   "cell_type": "code",
   "execution_count": 32,
   "metadata": {},
   "outputs": [
    {
     "name": "stdout",
     "output_type": "stream",
     "text": [
      "              YEAR        ENROLL  TOTAL_REVENUE  FEDERAL_REVENUE  \\\n",
      "count  1492.000000  1.456000e+03   1.280000e+03     1.280000e+03   \n",
      "mean   2004.433646  1.005984e+06   9.092082e+06     7.663723e+05   \n",
      "std       7.393983  1.009158e+06   1.174519e+07     1.145242e+06   \n",
      "min    1992.000000  4.386600e+04   4.656500e+05     3.102000e+04   \n",
      "25%    1998.000000  2.973995e+05   2.186305e+06     1.893540e+05   \n",
      "50%    2004.000000  7.540845e+05   5.079546e+06     4.033765e+05   \n",
      "75%    2011.000000  1.595024e+06   1.085985e+07     8.289660e+05   \n",
      "max    2017.000000  6.307022e+06   8.921726e+07     9.990221e+06   \n",
      "\n",
      "       STATE_REVENUE  LOCAL_REVENUE  TOTAL_EXPENDITURE  \\\n",
      "count   1.280000e+03   1.280000e+03       1.280000e+03   \n",
      "mean    4.216553e+06   4.109157e+06       9.196681e+06   \n",
      "std     5.543072e+06   5.482971e+06       1.197813e+07   \n",
      "min     0.000000e+00   2.209300e+04       4.816650e+05   \n",
      "25%     1.153097e+06   7.158345e+05       2.165404e+06   \n",
      "50%     2.537074e+06   2.055780e+06       5.234506e+06   \n",
      "75%     5.080939e+06   4.768680e+06       1.074519e+07   \n",
      "max     5.090457e+07   3.610526e+07       8.532013e+07   \n",
      "\n",
      "       INSTRUCTION_EXPENDITURE  SUPPORT_SERVICES_EXPENDITURE  \\\n",
      "count             1.280000e+03                  1.280000e+03   \n",
      "mean              4.762966e+06                  2.680331e+06   \n",
      "std               6.293004e+06                  3.353349e+06   \n",
      "min               2.655490e+05                  1.399630e+05   \n",
      "25%               1.168032e+06                  6.357900e+05   \n",
      "50%               2.657452e+06                  1.525406e+06   \n",
      "75%               5.568028e+06                  3.229651e+06   \n",
      "max               4.396452e+07                  2.605802e+07   \n",
      "\n",
      "       OTHER_EXPENDITURE  ...     GRADES_4_G     GRADES_8_G   GRADES_12_G  \\\n",
      "count       1.229000e+03  ...    1361.000000    1361.000000    1361.00000   \n",
      "mean        4.292046e+05  ...   64538.927259   64271.057311   54268.92432   \n",
      "std         5.340693e+05  ...   80293.387625   78910.545776   67889.27623   \n",
      "min         1.154100e+04  ...     633.000000     437.000000     311.00000   \n",
      "25%         1.028310e+05  ...   13739.000000   13342.000000   10919.00000   \n",
      "50%         2.715960e+05  ...   43272.000000   43339.000000   36735.00000   \n",
      "75%         5.186000e+05  ...   75481.000000   76566.000000   67460.00000   \n",
      "max         3.995951e+06  ...  493415.000000  500143.000000  498403.00000   \n",
      "\n",
      "       GRADES_1_8_G  GRADES_9_12_G  GRADES_ALL_G  AVG_MATH_4_SCORE  \\\n",
      "count  1.361000e+03   1.361000e+03  1.319000e+03        536.000000   \n",
      "mean   5.192140e+05   2.470714e+05  8.024415e+05        234.768293   \n",
      "std    6.436384e+05   3.077056e+05  9.707031e+05         10.221511   \n",
      "min    4.878000e+03   1.808000e+03  7.254000e+03        187.134670   \n",
      "25%    1.106260e+05   5.147100e+04  1.810650e+05        229.694352   \n",
      "50%    3.457750e+05   1.642600e+05  5.503420e+05        237.238552   \n",
      "75%    6.119050e+05   2.905020e+05  9.282755e+05        241.995486   \n",
      "max    3.929869e+06   2.013687e+06  5.944746e+06        253.420961   \n",
      "\n",
      "       AVG_MATH_8_SCORE  AVG_READING_4_SCORE  AVG_READING_8_SCORE  \n",
      "count        532.000000           533.000000           498.000000  \n",
      "mean         278.414711           218.866154           263.661132  \n",
      "std           10.159722             7.769616             6.803725  \n",
      "min          232.831510           178.557612           236.379102  \n",
      "25%          272.761598           214.663401           259.533171  \n",
      "50%          280.618803           220.416034           265.010912  \n",
      "75%          285.347428           223.999337           268.190121  \n",
      "max          300.568235           236.773867           280.499130  \n",
      "\n",
      "[8 rows x 23 columns]\n"
     ]
    }
   ],
   "source": [
    "df_used4 = df_used.copy()\n",
    "\n",
    "#process interpolation\n",
    "for column in columns:\n",
    "    df_used4.loc[:, col].interpolate(inplace=True)\n",
    "    \n",
    "print(df_used4.describe())"
   ]
  },
  {
   "cell_type": "markdown",
   "metadata": {},
   "source": [
    "## Compare your results for the second, third and the fourth questions. Do you find any meaningful differences?"
   ]
  },
  {
   "cell_type": "markdown",
   "metadata": {},
   "source": [
    "The differences in this case appear to be small, +/- < 10%"
   ]
  },
  {
   "cell_type": "code",
   "execution_count": null,
   "metadata": {},
   "outputs": [],
   "source": [
    "tuesday 7:30 pm"
   ]
  }
 ],
 "metadata": {
  "kernelspec": {
   "display_name": "Python 3",
   "language": "python",
   "name": "python3"
  },
  "language_info": {
   "codemirror_mode": {
    "name": "ipython",
    "version": 3
   },
   "file_extension": ".py",
   "mimetype": "text/x-python",
   "name": "python",
   "nbconvert_exporter": "python",
   "pygments_lexer": "ipython3",
   "version": "3.7.3"
  }
 },
 "nbformat": 4,
 "nbformat_minor": 2
}
