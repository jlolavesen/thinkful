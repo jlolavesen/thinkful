{
 "cells": [
  {
   "cell_type": "code",
   "execution_count": 44,
   "metadata": {},
   "outputs": [],
   "source": [
    "class Node:\n",
    "    def __init__(self, val):\n",
    "        self.left = None\n",
    "        self.right = None\n",
    "        self.val = val\n",
    "        \n",
    "class BinaryTree(object):\n",
    "    def __init__(self, val):\n",
    "        self.root = Node(val)\n",
    "\n",
    "    def insert(self, val):\n",
    "        current = self.root\n",
    "        while current:\n",
    "            if val > current.val:\n",
    "                if current.right is None:\n",
    "                    current.right = Node(val)\n",
    "                    break\n",
    "                else:\n",
    "                    current = current.right\n",
    "            else:\n",
    "                if current.left is None:\n",
    "                    current.left = Node(val)\n",
    "                    break\n",
    "                else:\n",
    "                    current = current.left"
   ]
  },
  {
   "cell_type": "code",
   "execution_count": 45,
   "metadata": {},
   "outputs": [],
   "source": [
    "root = Node('A')\n",
    "root.left = Node('B')\n",
    "root.right = Node('C')\n",
    "\n",
    "#Add the appropriate children for ‘B’ and ‘C’\n",
    "#B children\n",
    "root.left.left = Node('D')\n",
    "root.left.right = Node('E')\n",
    "\n",
    "#C children\n",
    "root.right.left = Node('F')\n",
    "root.right.right = Node('G')\n",
    "\n",
    "\n",
    "#Add the appropriate children for D, E, F, G\n",
    "#D children\n",
    "root.left.left.left = Node('H')\n",
    "root.left.left.right = Node('I')\n",
    "\n",
    "#E children\n",
    "root.left.right.left = Node('J')\n",
    "root.left.right.right = Node('K')\n",
    "\n",
    "#F children\n",
    "root.right.left.left = Node('L')\n",
    "root.right.left.right = Node('M')\n",
    "\n",
    "#G children\n",
    "root.right.right.left = Node('N')\n",
    "root.right.right.right = Node('O')"
   ]
  },
  {
   "cell_type": "code",
   "execution_count": 46,
   "metadata": {},
   "outputs": [],
   "source": [
    "from random import randint\n",
    "t = BinaryTree(randint(0, 9999))\n",
    "t.insert(randint(0, 9999))\n",
    "t.insert(randint(0, 9999))\n",
    "t.insert(randint(0, 9999))\n",
    "t.insert(randint(0, 9999))\n",
    "t.insert(randint(0, 9999))\n",
    "t.insert(randint(0, 9999))\n",
    "t.insert(randint(0, 9999))\n",
    "t.insert(randint(0, 9999))\n",
    "t.insert(randint(0, 9999))\n",
    "t.insert(randint(0, 9999))\n",
    "t.insert(randint(0, 9999))\n",
    "t.insert(randint(0, 9999))\n",
    "t.insert(randint(0, 9999))\n",
    "t.insert(randint(0, 9999))"
   ]
  },
  {
   "cell_type": "code",
   "execution_count": 47,
   "metadata": {},
   "outputs": [],
   "source": [
    "def breadth_first_traversal(self, root=None):\n",
    "    root = self.root if root is None else root\n",
    "    to_visit = [root]\n",
    "    \n",
    "    while to_visit:\n",
    "        current = to_visit.pop(0)\n",
    "        print(current.val)\n",
    "        if current.left:\n",
    "            to_visit.append(current.left)\n",
    "        if current.right:\n",
    "            to_visit.append(current.right)"
   ]
  },
  {
   "cell_type": "code",
   "execution_count": 48,
   "metadata": {},
   "outputs": [
    {
     "name": "stdout",
     "output_type": "stream",
     "text": [
      "3892\n",
      "1900\n",
      "6437\n",
      "3368\n",
      "6638\n",
      "2934\n",
      "3786\n",
      "9252\n",
      "2110\n",
      "3385\n",
      "9210\n",
      "9628\n",
      "1910\n",
      "2512\n",
      "7992\n"
     ]
    }
   ],
   "source": [
    "breadth_first_traversal(t)"
   ]
  }
 ],
 "metadata": {
  "kernelspec": {
   "display_name": "Python 3",
   "language": "python",
   "name": "python3"
  },
  "language_info": {
   "codemirror_mode": {
    "name": "ipython",
    "version": 3
   },
   "file_extension": ".py",
   "mimetype": "text/x-python",
   "name": "python",
   "nbconvert_exporter": "python",
   "pygments_lexer": "ipython3",
   "version": "3.7.3"
  }
 },
 "nbformat": 4,
 "nbformat_minor": 2
}
