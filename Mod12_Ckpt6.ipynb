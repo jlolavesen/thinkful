{
 "cells": [
  {
   "cell_type": "code",
   "execution_count": 167,
   "metadata": {},
   "outputs": [],
   "source": [
    "import matplotlib.pyplot as plt\n",
    "import numpy as np\n",
    "import pandas as pd\n",
    "import seaborn as sns\n",
    "from scipy.stats import ttest_ind\n",
    "%matplotlib inline"
   ]
  },
  {
   "cell_type": "code",
   "execution_count": 168,
   "metadata": {},
   "outputs": [],
   "source": [
    "#assign data frame\n",
    "df = pd.read_csv('Data/APC_2013.csv', encoding='latin1')\n",
    "df_mod = df"
   ]
  },
  {
   "cell_type": "code",
   "execution_count": 170,
   "metadata": {},
   "outputs": [],
   "source": [
    "#format JournalTitle column\n",
    "df_mod = df_mod.rename(columns={\"PMID/PMCID\": \"PMID\", \"Journal title\": \"JournalTitle\", \"Article title\": \"ArticleTitle\", \"COST (£) charged to Wellcome (inc VAT when charged)\": \"Cost\"})\n",
    "        \n",
    "df_mod['JournalTitle'] = df_mod['JournalTitle'].str.lower()\n",
    "df_mod['JournalTitle'] = df_mod['JournalTitle'].str.strip()"
   ]
  },
  {
   "cell_type": "code",
   "execution_count": 171,
   "metadata": {},
   "outputs": [],
   "source": [
    "#replace JournalTitle strings\n",
    "df_mod['JournalTitle'] = df_mod['JournalTitle'].str.replace('journal of biological chemistry', 'jobc')\n",
    "df_mod['JournalTitle'] = df_mod['JournalTitle'].str.replace('j biol chem.', 'jobc')\n",
    "df_mod['JournalTitle'] = df_mod['JournalTitle'].str.replace('the journal of biological chemistry', 'jobc')\n",
    "df_mod['JournalTitle'] = df_mod['JournalTitle'].str.replace('biological chemistry', 'jobc')\n",
    "df_mod['JournalTitle'] = df_mod['JournalTitle'].str.replace('biologicial chemistry', 'jobc')\n",
    "df_mod['JournalTitle'] = df_mod['JournalTitle'].str.replace('jnl biological chemistry', 'jobc')\n",
    "df_mod['JournalTitle'] = df_mod['JournalTitle'].str.replace('journal biological chemistry', 'jobc')\n",
    "df_mod['JournalTitle'] = df_mod['JournalTitle'].str.replace('journal of biol chem', 'jobc')\n",
    "\n",
    "df_mod['JournalTitle'] = df_mod['JournalTitle'].str.replace('proceddings of the national academy of sciences of usa', 'pnas')\n",
    "df_mod['JournalTitle'] = df_mod['JournalTitle'].str.replace('proceedings of the national academy of sciences', 'pnas')\n",
    "df_mod['JournalTitle'] = df_mod['JournalTitle'].str.replace('proceedings of the national academy of sciences of the united states of america', 'pnas')\n",
    "\n",
    "df_mod['JournalTitle'] = df_mod['JournalTitle'].str.replace('plos one', 'plosone') \n",
    "df_mod['JournalTitle'] = df_mod['JournalTitle'].str.replace('plos 1', 'plosone')\n",
    "\n",
    "df_mod['JournalTitle'] = df_mod['JournalTitle'].str.replace('neuroimage: clinical', 'neuroimage')\n",
    "df_mod['JournalTitle'] = df_mod['JournalTitle'].str.replace('neuroimage: clinical', 'neuroimage')\n",
    "df_mod['JournalTitle'] = df_mod['JournalTitle'].str.replace('neurolmage', 'neuroimage')\n",
    "\n",
    "df_mod['JournalTitle'] = df_mod['JournalTitle'].str.replace('bmc public health', 'bmc')\n",
    "df_mod['JournalTitle'] = df_mod['JournalTitle'].str.replace('public health', 'bmc')\n",
    "\n",
    "#format Cost and change type\n",
    "df_mod['Cost'] = df_mod['Cost'].str.replace('£', ' ')\n",
    "df_mod['Cost'] = df_mod['Cost'].str.replace('$', ' ')\n",
    "\n",
    "df_mod['Cost'] = df_mod['Cost'].str.strip()\n",
    "\n",
    "df_mod['Cost'] = pd.to_numeric(df_mod['Cost'])"
   ]
  },
  {
   "cell_type": "code",
   "execution_count": 172,
   "metadata": {},
   "outputs": [],
   "source": [
    "#drop Cost outliers\n",
    "df_mod = df_mod.drop(df_mod[df_mod.Cost > 100000].index)"
   ]
  },
  {
   "cell_type": "code",
   "execution_count": 173,
   "metadata": {},
   "outputs": [
    {
     "data": {
      "text/plain": [
       "count      60.000000\n",
       "mean     1410.814500\n",
       "std       392.277806\n",
       "min       265.670000\n",
       "25%      1152.190000\n",
       "50%      1302.380000\n",
       "75%      1589.832500\n",
       "max      2501.070000\n",
       "Name: Cost, dtype: float64"
      ]
     },
     "execution_count": 173,
     "metadata": {},
     "output_type": "execute_result"
    }
   ],
   "source": [
    "#view stats\n",
    "df_jobc = df_mod.loc[lambda df: df_mod['JournalTitle'] == 'jobc', :]\n",
    "df_jobc['Cost'].describe()"
   ]
  },
  {
   "cell_type": "code",
   "execution_count": 174,
   "metadata": {},
   "outputs": [
    {
     "data": {
      "text/plain": [
       "count      28.000000\n",
       "mean      781.715714\n",
       "std       416.399170\n",
       "min       206.320000\n",
       "25%       623.707500\n",
       "50%       728.825000\n",
       "75%       781.512500\n",
       "max      2691.680000\n",
       "Name: Cost, dtype: float64"
      ]
     },
     "execution_count": 174,
     "metadata": {},
     "output_type": "execute_result"
    }
   ],
   "source": [
    "df_pnas = df_mod.loc[lambda df: df_mod['JournalTitle'] == 'pnas', :]\n",
    "df_pnas['Cost'].describe()"
   ]
  },
  {
   "cell_type": "code",
   "execution_count": 175,
   "metadata": {},
   "outputs": [
    {
     "data": {
      "text/plain": [
       "count     197.000000\n",
       "mean      935.410964\n",
       "std       195.369314\n",
       "min       122.310000\n",
       "25%       850.880000\n",
       "50%       896.990000\n",
       "75%      1040.210000\n",
       "max      1785.360000\n",
       "Name: Cost, dtype: float64"
      ]
     },
     "execution_count": 175,
     "metadata": {},
     "output_type": "execute_result"
    }
   ],
   "source": [
    "df_plosone = df_mod.loc[lambda df: df_mod['JournalTitle'] == 'plosone', :]\n",
    "df_plosone['Cost'].describe()"
   ]
  },
  {
   "cell_type": "code",
   "execution_count": 176,
   "metadata": {},
   "outputs": [
    {
     "data": {
      "text/plain": [
       "count      36.000000\n",
       "mean     2057.318056\n",
       "std       466.871610\n",
       "min       987.750000\n",
       "25%      1762.690000\n",
       "50%      2289.245000\n",
       "75%      2396.045000\n",
       "max      2518.230000\n",
       "Name: Cost, dtype: float64"
      ]
     },
     "execution_count": 176,
     "metadata": {},
     "output_type": "execute_result"
    }
   ],
   "source": [
    "df_neuroimage = df_mod.loc[lambda df: df_mod['JournalTitle'] == 'neuroimage', :]\n",
    "df_neuroimage['Cost'].describe()"
   ]
  },
  {
   "cell_type": "code",
   "execution_count": 177,
   "metadata": {},
   "outputs": [
    {
     "data": {
      "text/plain": [
       "count      16.000000\n",
       "mean     1261.903125\n",
       "std       486.435428\n",
       "min       384.000000\n",
       "25%      1273.650000\n",
       "50%      1315.200000\n",
       "75%      1536.000000\n",
       "max      2321.230000\n",
       "Name: Cost, dtype: float64"
      ]
     },
     "execution_count": 177,
     "metadata": {},
     "output_type": "execute_result"
    }
   ],
   "source": [
    "df_bmc = df_mod.loc[lambda df: df_mod['JournalTitle'] == 'bmc', :]\n",
    "df_bmc['Cost'].describe()"
   ]
  }
 ],
 "metadata": {
  "kernelspec": {
   "display_name": "Python 3",
   "language": "python",
   "name": "python3"
  }
 },
 "nbformat": 4,
 "nbformat_minor": 2
}
