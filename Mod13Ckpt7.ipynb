{
 "cells": [
  {
   "cell_type": "code",
   "execution_count": 1,
   "metadata": {},
   "outputs": [],
   "source": [
    "import matplotlib.pyplot as plt\n",
    "import numpy as np\n",
    "import pandas as pd\n",
    "import seaborn as sns\n",
    "from scipy.stats import ttest_ind\n",
    "%matplotlib inline"
   ]
  },
  {
   "cell_type": "code",
   "execution_count": 4,
   "metadata": {},
   "outputs": [
    {
     "name": "stdout",
     "output_type": "stream",
     "text": [
      "t-value = -19.78141420187361\n"
     ]
    }
   ],
   "source": [
    "y1 =5\n",
    "y2 =8\n",
    "\n",
    "s1 =1\n",
    "s2 =3\n",
    "\n",
    "n1 =200\n",
    "n2 =500\n",
    "\n",
    "print('t-value =', (y1-y2)/((((s1*s1)/n1) + ((s2*s2)/n2)) ** (1/2)))"
   ]
  },
  {
   "cell_type": "code",
   "execution_count": 5,
   "metadata": {},
   "outputs": [
    {
     "name": "stdout",
     "output_type": "stream",
     "text": [
      "t-value = 6.658536585365854\n"
     ]
    }
   ],
   "source": [
    "y1 =1090\n",
    "y2 =999\n",
    "\n",
    "s1 =400\n",
    "s2 =30\n",
    "\n",
    "n1 =900\n",
    "n2 =100\n",
    "\n",
    "print('t-value =', (y1-y2)/((((s1*s1)/n1) + ((s2*s2)/n2)) ** (1/2)))"
   ]
  },
  {
   "cell_type": "code",
   "execution_count": 6,
   "metadata": {},
   "outputs": [
    {
     "name": "stdout",
     "output_type": "stream",
     "text": [
      "t-value = 3.7139067635410377\n"
     ]
    }
   ],
   "source": [
    "y1 =45\n",
    "y2 =40\n",
    "\n",
    "s1 =45\n",
    "s2 =40\n",
    "\n",
    "n1 =2000\n",
    "n2 =2000\n",
    "\n",
    "print('t-value =', (y1-y2)/((((s1*s1)/n1) + ((s2*s2)/n2)) ** (1/2)))"
   ]
  },
  {
   "cell_type": "code",
   "execution_count": null,
   "metadata": {},
   "outputs": [],
   "source": []
  }
 ],
 "metadata": {
  "kernelspec": {
   "display_name": "Python 3",
   "language": "python",
   "name": "python3"
  },
  "language_info": {
   "codemirror_mode": {
    "name": "ipython",
    "version": 3
   },
   "file_extension": ".py",
   "mimetype": "text/x-python",
   "name": "python",
   "nbconvert_exporter": "python",
   "pygments_lexer": "ipython3",
   "version": "3.7.3"
  }
 },
 "nbformat": 4,
 "nbformat_minor": 2
}
