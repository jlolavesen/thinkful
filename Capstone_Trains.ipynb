{
 "cells": [
  {
   "cell_type": "code",
   "execution_count": 2,
   "metadata": {},
   "outputs": [],
   "source": [
    "import matplotlib.pyplot as plt\n",
    "import numpy as np\n",
    "import pandas as pd\n",
    "import seaborn as sns\n",
    "import math\n",
    "from imblearn.over_sampling import RandomOverSampler\n",
    "from scipy.stats import ttest_ind\n",
    "from sqlalchemy import create_engine\n",
    "from scipy.stats.mstats import winsorize\n",
    "from scipy.stats import boxcox\n",
    "from scipy.stats import jarque_bera\n",
    "from scipy.stats import normaltest\n",
    "from sklearn.decomposition import PCA\n",
    "from sklearn.preprocessing import StandardScaler\n",
    "from sklearn.naive_bayes import BernoulliNB\n",
    "from sklearn.model_selection import cross_val_score\n",
    "from sklearn import linear_model\n",
    "from sklearn.model_selection import train_test_split\n",
    "from sklearn.model_selection import GridSearchCV\n",
    "from sklearn.metrics import mean_absolute_error\n",
    "from sklearn.metrics import make_scorer\n",
    "from sklearn.preprocessing import normalize\n",
    "from sklearn.cluster import KMeans\n",
    "\n",
    "from sklearn.metrics import classification_report, confusion_matrix\n",
    "from sklearn.linear_model import LinearRegression, LassoCV, RidgeCV, ElasticNetCV\n",
    "from statsmodels.tools.eval_measures import mse, rmse\n",
    "from wordcloud import WordCloud\n",
    "import statsmodels.api as sm\n",
    "from sklearn.pipeline import make_pipeline\n",
    "from sklearn.pipeline import Pipeline\n",
    "from sklearn.feature_selection import SelectKBest, f_regression\n",
    "from sklearn.svm import SVC\n",
    "from sklearn import tree\n",
    "from sklearn import ensemble\n",
    "from sklearn import datasets\n",
    "from sklearn.utils import shuffle\n",
    "from sklearn import neighbors\n",
    "from IPython.display import Image\n",
    "from sklearn import metrics\n",
    "from sklearn.metrics import pairwise_distances\n",
    "\n",
    "\n",
    "import datetime\n",
    "import pydotplus\n",
    "from sklearn import ensemble\n",
    "\n",
    "import warnings\n",
    "\n",
    "%matplotlib inline\n",
    "sns.set()\n",
    "\n",
    "warnings.filterwarnings('ignore')\n",
    "import time"
   ]
  },
  {
   "cell_type": "markdown",
   "metadata": {},
   "source": [
    "## Introduction"
   ]
  },
  {
   "cell_type": "markdown",
   "metadata": {},
   "source": [
    "With over 300,000 passengers on the average weekday, New Jersey Transit is one of the largest train systems in the United States.  Despite its size, NJ Transit does not offer granular train performance data to the public.  Pranav Badami has been scraping NJ Transit data for years and making it available at https://www.kaggle.com/pranavbadami/nj-transit-amtrak-nec-performance/version/4.  This project aims to determine if the available data can be used to predict train performance, or more specifically, if the train will be ontime vs. running late.  If the data could be used in such a way, it could help to provide delay or cancellation notifications to millions of riders."
   ]
  },
  {
   "cell_type": "markdown",
   "metadata": {},
   "source": [
    "## Data Exploration"
   ]
  },
  {
   "cell_type": "code",
   "execution_count": 3,
   "metadata": {},
   "outputs": [],
   "source": [
    "trains_df = (pd.read_csv('Data/AmtrakNJ/2018_04.csv'))\n",
    "df_trains = trains_df"
   ]
  },
  {
   "cell_type": "code",
   "execution_count": 4,
   "metadata": {},
   "outputs": [
    {
     "name": "stdout",
     "output_type": "stream",
     "text": [
      "<class 'pandas.core.frame.DataFrame'>\n",
      "RangeIndex: 256267 entries, 0 to 256266\n",
      "Data columns (total 13 columns):\n",
      "date              256267 non-null object\n",
      "train_id          256267 non-null object\n",
      "stop_sequence     242793 non-null float64\n",
      "from              256267 non-null object\n",
      "from_id           256267 non-null int64\n",
      "to                256267 non-null object\n",
      "to_id             256267 non-null int64\n",
      "scheduled_time    242793 non-null object\n",
      "actual_time       256267 non-null object\n",
      "delay_minutes     242793 non-null float64\n",
      "status            256267 non-null object\n",
      "line              256267 non-null object\n",
      "type              256267 non-null object\n",
      "dtypes: float64(2), int64(2), object(9)\n",
      "memory usage: 25.4+ MB\n",
      "         date train_id  stop_sequence                   from  from_id  \\\n",
      "0  2018-04-01     7837            1.0  New York Penn Station      105   \n",
      "1  2018-04-01     7837            2.0  New York Penn Station      105   \n",
      "2  2018-04-01     7837            3.0     Secaucus Upper Lvl    38187   \n",
      "3  2018-04-01     7837            4.0    Newark Penn Station      107   \n",
      "4  2018-04-01     7837            5.0         Newark Airport    37953   \n",
      "\n",
      "                      to  to_id       scheduled_time          actual_time  \\\n",
      "0  New York Penn Station    105  2018-04-01 11:14:00  2018-04-01 11:14:10   \n",
      "1     Secaucus Upper Lvl  38187  2018-04-01 11:23:00  2018-04-01 11:26:05   \n",
      "2    Newark Penn Station    107  2018-04-01 11:32:00  2018-04-01 11:36:07   \n",
      "3         Newark Airport  37953  2018-04-01 11:37:00  2018-04-01 11:40:08   \n",
      "4              Elizabeth     41  2018-04-01 11:42:00  2018-04-01 11:46:04   \n",
      "\n",
      "   delay_minutes    status              line        type  \n",
      "0       0.166667  departed  Northeast Corrdr  NJ Transit  \n",
      "1       3.083333  departed  Northeast Corrdr  NJ Transit  \n",
      "2       4.116667  departed  Northeast Corrdr  NJ Transit  \n",
      "3       3.133333  departed  Northeast Corrdr  NJ Transit  \n",
      "4       4.066667  departed  Northeast Corrdr  NJ Transit   None        stop_sequence        from_id          to_id  delay_minutes\n",
      "count  242793.000000  256267.000000  256267.000000  242793.000000\n",
      "mean        8.002035    4161.194672    4173.178103       3.520321\n",
      "std         5.086811   11717.186213   11730.112964       6.084378\n",
      "min         1.000000       1.000000       1.000000       0.000000\n",
      "25%         4.000000      59.000000      59.000000       1.016667\n",
      "50%         7.000000     105.000000     105.000000       2.133333\n",
      "75%        11.000000     136.000000     136.000000       4.133333\n",
      "max        26.000000   43599.000000   43599.000000     108.116667\n"
     ]
    }
   ],
   "source": [
    "#preliminary examination of the data frame\n",
    "\n",
    "print(\n",
    "    df_trains.head(),\n",
    "    df_trains.info(),\n",
    "    df_trains.describe()\n",
    ")"
   ]
  },
  {
   "cell_type": "code",
   "execution_count": 5,
   "metadata": {},
   "outputs": [
    {
     "data": {
      "text/plain": [
       "delay_minutes     0.052578\n",
       "scheduled_time    0.052578\n",
       "stop_sequence     0.052578\n",
       "type              0.000000\n",
       "line              0.000000\n",
       "dtype: float64"
      ]
     },
     "execution_count": 5,
     "metadata": {},
     "output_type": "execute_result"
    }
   ],
   "source": [
    "#checking for missing values in the data\n",
    "\n",
    "missing_values_ratios = (df_trains.isnull().sum()/df_trains.isnull().count())\n",
    "missing_values_ratios.sort_values(ascending=False).head()"
   ]
  },
  {
   "cell_type": "code",
   "execution_count": 6,
   "metadata": {},
   "outputs": [],
   "source": [
    "#very low percentage of missing values; drop them\n",
    "\n",
    "df_trains.dropna(inplace=True)"
   ]
  },
  {
   "cell_type": "code",
   "execution_count": 7,
   "metadata": {},
   "outputs": [],
   "source": [
    "#converting the time data from object to datetime, and then to integer for algorithmic friendliness\n",
    "\n",
    "df_trains['scheduled_time']=pd.to_datetime(df_trains['scheduled_time'])\n",
    "df_trains['actual_time']=pd.to_datetime(df_trains['actual_time'])\n",
    "df_trains['date']=pd.to_datetime(df_trains['date'])"
   ]
  },
  {
   "cell_type": "code",
   "execution_count": 8,
   "metadata": {},
   "outputs": [],
   "source": [
    "df_trains['scheduled_time']=df_trains['scheduled_time'].astype(np.int64)\n",
    "df_trains['actual_time']=df_trains['actual_time'].astype(np.int64)\n",
    "df_trains['date']=df_trains['date'].astype(np.int64)"
   ]
  },
  {
   "cell_type": "markdown",
   "metadata": {},
   "source": [
    "Below, we examine the numerical variables through histograms."
   ]
  },
  {
   "cell_type": "code",
   "execution_count": 9,
   "metadata": {},
   "outputs": [
    {
     "data": {
      "image/png": "[encoded data removed]",
      "text/plain": [
       "<Figure size 1440x720 with 6 Axes>"
      ]
     },
     "metadata": {
      "needs_background": "light"
     },
     "output_type": "display_data"
    }
   ],
   "source": [
    "#plotting the numerical data in histograms\n",
    "\n",
    "plt.figure(figsize=(20,10))\n",
    "\n",
    "plt.subplot(2,3,1)\n",
    "plt.hist(df_trains.stop_sequence)\n",
    "plt.title(\"Histogram of {}\".format(\"stop_sequence\"))\n",
    "plt.xlabel('stop_sequence')\n",
    "\n",
    "plt.subplot(2,3,2)\n",
    "plt.hist(df_trains.from_id)\n",
    "plt.title(\"Histogram of {}\".format(\"from_id\"))\n",
    "plt.xlabel('from_id')\n",
    "\n",
    "plt.subplot(2,3,3)\n",
    "plt.hist(df_trains.to_id)\n",
    "plt.title(\"Histogram of {}\".format(\"to_id\"))\n",
    "plt.xlabel('to_id')\n",
    "\n",
    "plt.subplot(2,3,4)\n",
    "plt.hist(df_trains.scheduled_time)\n",
    "plt.title(\"Histogram of {}\".format(\"scheduled_time\"))\n",
    "plt.xlabel('scheduled_time')\n",
    "\n",
    "plt.subplot(2,3,5)\n",
    "plt.hist(df_trains.actual_time)\n",
    "plt.title(\"Histogram of {}\".format(\"actual_time\"))\n",
    "plt.xlabel('actual_time')\n",
    "\n",
    "plt.subplot(2,3,6)\n",
    "plt.hist(df_trains.delay_minutes)\n",
    "plt.title(\"Histogram of {}\".format(\"delay_minutes\"))\n",
    "plt.xlabel('delay_minutes')\n",
    "\n",
    "plt.show()"
   ]
  },
  {
   "cell_type": "markdown",
   "metadata": {},
   "source": [
    "While technically numerical data, the variables 'stop_sequence', 'from_id', and 'to_id' are more categorical in character.  The variables 'scheduled_time' and 'actual_time' have already been pre-engineered into the useful 'delay_minutes', which is the only true continuous variable in this data set.  "
   ]
  },
  {
   "cell_type": "code",
   "execution_count": 10,
   "metadata": {},
   "outputs": [
    {
     "data": {
      "image/png": "[encoded data removed]",
      "text/plain": [
       "<Figure size 432x288 with 1 Axes>"
      ]
     },
     "metadata": {
      "needs_background": "light"
     },
     "output_type": "display_data"
    }
   ],
   "source": [
    "plt.boxplot(df_trains['delay_minutes'])\n",
    "plt.show()"
   ]
  },
  {
   "cell_type": "markdown",
   "metadata": {},
   "source": [
    "The histogram and boxplot of 'delay_minutes' show that although delays of more than a few minutes are uncommon, there are occasional significant outliers.  "
   ]
  },
  {
   "cell_type": "code",
   "execution_count": 11,
   "metadata": {},
   "outputs": [
    {
     "name": "stdout",
     "output_type": "stream",
     "text": [
      "<class 'pandas.core.frame.DataFrame'>\n",
      "Int64Index: 242793 entries, 0 to 256261\n",
      "Data columns (total 13 columns):\n",
      "date              242793 non-null int64\n",
      "train_id          242793 non-null object\n",
      "stop_sequence     242793 non-null float64\n",
      "from              242793 non-null object\n",
      "from_id           242793 non-null int64\n",
      "to                242793 non-null object\n",
      "to_id             242793 non-null int64\n",
      "scheduled_time    242793 non-null int64\n",
      "actual_time       242793 non-null int64\n",
      "delay_minutes     242793 non-null float64\n",
      "status            242793 non-null object\n",
      "line              242793 non-null object\n",
      "type              242793 non-null object\n",
      "dtypes: float64(2), int64(5), object(6)\n",
      "memory usage: 25.9+ MB\n"
     ]
    }
   ],
   "source": [
    "df_trains.info()"
   ]
  },
  {
   "cell_type": "code",
   "execution_count": 12,
   "metadata": {},
   "outputs": [
    {
     "data": {
      "text/plain": [
       "NJ Transit    242793\n",
       "Name: type, dtype: int64"
      ]
     },
     "execution_count": 12,
     "metadata": {},
     "output_type": "execute_result"
    }
   ],
   "source": [
    "df_trains['type'].value_counts()"
   ]
  },
  {
   "cell_type": "markdown",
   "metadata": {},
   "source": [
    "The 'type' variable has only one value, so it will be excluded from analysis.\n",
    "\n",
    "Below, we show bar plots of the other categorical variables, 'status' and 'line'."
   ]
  },
  {
   "cell_type": "code",
   "execution_count": 13,
   "metadata": {},
   "outputs": [
    {
     "data": {
      "image/png": "[encoded data removed]",
      "text/plain": [
       "<Figure size 1440x1080 with 2 Axes>"
      ]
     },
     "metadata": {
      "needs_background": "light"
     },
     "output_type": "display_data"
    }
   ],
   "source": [
    "plt.figure(figsize=(20,15))\n",
    "\n",
    "plt.subplot(2,1,1)\n",
    "plt.title(\"Bar Plot of train 'status'\")\n",
    "plt.ylabel('Number of Trips')\n",
    "plt.bar(np.arange(3), df_trains['status'].value_counts(), color=(\"grey\",\"purple\"))\n",
    "plt.xticks(np.arange(3), ('departed','estimated','cancelled'))\n",
    "\n",
    "plt.subplot(2,1,2)\n",
    "plt.title(\"Bar Plot of train 'line'\")\n",
    "plt.ylabel('Number of Trips')\n",
    "plt.bar(np.arange(11), df_trains['line'].value_counts(), color=(\"grey\",\"purple\"))\n",
    "plt.xticks(np.arange(11), ('Northeast Corrdr','No Jersey Coast','Morristown Line','Gladstone Branch',\n",
    "                        'Main Line','Bergen Co. Line','Montclair-Boonton','Raritan Valley',\n",
    "                        'Pascack Valley','Atl. City Line','Princeton Shuttle'))\n",
    "plt.show()"
   ]
  },
  {
   "cell_type": "code",
   "execution_count": 14,
   "metadata": {},
   "outputs": [
    {
     "data": {
      "text/plain": [
       "departed     219266\n",
       "estimated     20803\n",
       "cancelled      2724\n",
       "Name: status, dtype: int64"
      ]
     },
     "execution_count": 14,
     "metadata": {},
     "output_type": "execute_result"
    }
   ],
   "source": [
    "#the value counts for the variable 'status'\n",
    "df_trains['status'].value_counts()"
   ]
  },
  {
   "cell_type": "markdown",
   "metadata": {},
   "source": [
    "Cancelled trains are two orders of magnitude less frequent than departed trains.  Instead of resampling the data to deal with class imbalance in an effort to predict 'cancelled' status, this report will instead attempt to determine if a train is running later than 2.15 minutes.  This value was chosen to deal with class imbalance, as it splits the data almost 50/50 as shown below."
   ]
  },
  {
   "cell_type": "markdown",
   "metadata": {},
   "source": [
    "## Feature Engineering"
   ]
  },
  {
   "cell_type": "code",
   "execution_count": 15,
   "metadata": {},
   "outputs": [],
   "source": [
    "#Make a boolean version of the target for algorithmic friendliness\n",
    "delay_minutes_bool = []\n",
    "\n",
    "for idx, val in enumerate(df_trains['delay_minutes']):\n",
    "    if val > 2.15:\n",
    "        delay_minutes_bool.append(1)\n",
    "    else:\n",
    "        delay_minutes_bool.append(0)\n",
    "        \n",
    "df_trains['delay_minutes_bool'] = delay_minutes_bool"
   ]
  },
  {
   "cell_type": "code",
   "execution_count": 16,
   "metadata": {},
   "outputs": [
    {
     "data": {
      "text/plain": [
       "0    125184\n",
       "1    117609\n",
       "Name: delay_minutes_bool, dtype: int64"
      ]
     },
     "execution_count": 16,
     "metadata": {},
     "output_type": "execute_result"
    }
   ],
   "source": [
    "df_trains['delay_minutes_bool'].value_counts()"
   ]
  },
  {
   "cell_type": "code",
   "execution_count": 17,
   "metadata": {},
   "outputs": [],
   "source": [
    "#make dummy variables from the object variables\n",
    "\n",
    "df_trains = pd.concat([df_trains,pd.get_dummies(\n",
    "    df_trains[['status','line']], drop_first=True)], axis=1)"
   ]
  },
  {
   "cell_type": "code",
   "execution_count": 18,
   "metadata": {},
   "outputs": [
    {
     "name": "stdout",
     "output_type": "stream",
     "text": [
      "<class 'pandas.core.frame.DataFrame'>\n",
      "Int64Index: 242793 entries, 0 to 256261\n",
      "Data columns (total 26 columns):\n",
      "date                      242793 non-null int64\n",
      "train_id                  242793 non-null object\n",
      "stop_sequence             242793 non-null float64\n",
      "from                      242793 non-null object\n",
      "from_id                   242793 non-null int64\n",
      "to                        242793 non-null object\n",
      "to_id                     242793 non-null int64\n",
      "scheduled_time            242793 non-null int64\n",
      "actual_time               242793 non-null int64\n",
      "delay_minutes             242793 non-null float64\n",
      "status                    242793 non-null object\n",
      "line                      242793 non-null object\n",
      "type                      242793 non-null object\n",
      "delay_minutes_bool        242793 non-null int64\n",
      "status_departed           242793 non-null uint8\n",
      "status_estimated          242793 non-null uint8\n",
      "line_Bergen Co. Line      242793 non-null uint8\n",
      "line_Gladstone Branch     242793 non-null uint8\n",
      "line_Main Line            242793 non-null uint8\n",
      "line_Montclair-Boonton    242793 non-null uint8\n",
      "line_Morristown Line      242793 non-null uint8\n",
      "line_No Jersey Coast      242793 non-null uint8\n",
      "line_Northeast Corrdr     242793 non-null uint8\n",
      "line_Pascack Valley       242793 non-null uint8\n",
      "line_Princeton Shuttle    242793 non-null uint8\n",
      "line_Raritan Valley       242793 non-null uint8\n",
      "dtypes: float64(2), int64(6), object(6), uint8(12)\n",
      "memory usage: 30.6+ MB\n"
     ]
    }
   ],
   "source": [
    "df_trains.info()"
   ]
  },
  {
   "cell_type": "code",
   "execution_count": 19,
   "metadata": {},
   "outputs": [],
   "source": [
    "X = pd.concat([df_trains[['date', 'stop_sequence', 'from_id', 'to_id']], df_trains.select_dtypes(['uint8'])], axis=1, sort=False)\n",
    "             \n",
    "y = df_trains['delay_minutes_bool']"
   ]
  },
  {
   "cell_type": "code",
   "execution_count": 20,
   "metadata": {},
   "outputs": [],
   "source": [
    "X_norm = normalize(X)"
   ]
  },
  {
   "cell_type": "code",
   "execution_count": 21,
   "metadata": {},
   "outputs": [],
   "source": [
    "n_comps = np.arange(15)\n",
    "param_grid_pca = [{'pca__n_components':n_comps}]\n",
    "pipe_tree_pca = make_pipeline(PCA())"
   ]
  },
  {
   "cell_type": "code",
   "execution_count": 26,
   "metadata": {},
   "outputs": [],
   "source": [
    "gs_pca = GridSearchCV(pipe_tree_pca, param_grid=param_grid_pca, cv=10)"
   ]
  },
  {
   "cell_type": "code",
   "execution_count": 27,
   "metadata": {},
   "outputs": [
    {
     "name": "stdout",
     "output_type": "stream",
     "text": [
      "{'pca__n_components': 14}\n"
     ]
    }
   ],
   "source": [
    "gs_pca.fit(X_norm,y)\n",
    "print(gs_pca.best_params_)"
   ]
  },
  {
   "cell_type": "code",
   "execution_count": 22,
   "metadata": {},
   "outputs": [
    {
     "name": "stdout",
     "output_type": "stream",
     "text": [
      "The percentage of total variance in the dataset explained by each component from Sklearn PCA:\n",
      " [5.41347954e-01 4.58651951e-01 9.19632078e-08 5.50298482e-10\n",
      " 5.14542324e-10 4.99794437e-10 4.24069210e-10 3.28195438e-10\n",
      " 3.07145635e-10 2.93898254e-10 2.83588059e-10 2.29345338e-10\n",
      " 6.12298681e-11 1.89701578e-11]\n"
     ]
    }
   ],
   "source": [
    "#using the results of GridSearchCV to perform PCA\n",
    "\n",
    "sklearn_pca = PCA(n_components=14)  \n",
    "X_pca = sklearn_pca.fit_transform(X_norm)\n",
    "\n",
    "print(\n",
    "    'The percentage of total variance in the dataset explained by each',\n",
    "    'component from Sklearn PCA:\\n',\n",
    "    sklearn_pca.explained_variance_ratio_\n",
    ")\n",
    "\n",
    "#X_pca is now our PCA engineered feature set."
   ]
  },
  {
   "cell_type": "code",
   "execution_count": 23,
   "metadata": {},
   "outputs": [],
   "source": [
    "# Split the data into four equally-sized samples for analysis with silhouette. \n",
    "X_half1, X_half2, X_pcahalf1, X_pcahalf2 = train_test_split(\n",
    "    X_norm,\n",
    "    X_pca,\n",
    "    test_size=0.5,\n",
    "    random_state=42)\n",
    "X1, X2, X_pca1, X_pca2 = train_test_split(\n",
    "    X_half1,\n",
    "    X_pcahalf1,\n",
    "    test_size=0.5,\n",
    "    random_state=42)\n",
    "X3, X4, X_pca3, X_pca4 = train_test_split(\n",
    "    X_half2,\n",
    "    X_pcahalf2,\n",
    "    test_size=0.5,\n",
    "    random_state=42)"
   ]
  },
  {
   "cell_type": "code",
   "execution_count": 24,
   "metadata": {},
   "outputs": [],
   "source": [
    "#Split the data into training and testing sets\n",
    "X_train, X_test, y_train, y_test = train_test_split(\n",
    "    X_pca,\n",
    "    y,\n",
    "    test_size=0.1,\n",
    "    random_state=42)"
   ]
  },
  {
   "cell_type": "markdown",
   "metadata": {},
   "source": [
    "## Model 1: Unsupervised Clustering"
   ]
  },
  {
   "cell_type": "code",
   "execution_count": 223,
   "metadata": {},
   "outputs": [
    {
     "name": "stdout",
     "output_type": "stream",
     "text": [
      "0.8267134917015787\n",
      "0.8264582873683031\n",
      "0.8258517763571647\n",
      "0.8247374516493243\n"
     ]
    }
   ],
   "source": [
    "for sample in [X_pca1, X_pca2, X_pca3, X_pca4]:\n",
    "    model = KMeans(n_clusters=2, random_state=42).fit(sample)\n",
    "    labels_test = model.labels_\n",
    "    print(metrics.silhouette_score(sample, labels_test, metric='euclidean'))"
   ]
  },
  {
   "cell_type": "code",
   "execution_count": 224,
   "metadata": {},
   "outputs": [
    {
     "name": "stdout",
     "output_type": "stream",
     "text": [
      "0.9853015060546815\n",
      "0.9855159265534013\n",
      "0.9856611206667235\n",
      "0.9857549096821756\n"
     ]
    }
   ],
   "source": [
    "for sample in [X_pca1, X_pca2, X_pca3, X_pca4]:\n",
    "    model = KMeans(n_clusters=4, random_state=42).fit(sample)\n",
    "    labels_test = model.labels_\n",
    "    print(metrics.silhouette_score(sample, labels_test, metric='euclidean'))"
   ]
  },
  {
   "cell_type": "code",
   "execution_count": 225,
   "metadata": {},
   "outputs": [
    {
     "name": "stdout",
     "output_type": "stream",
     "text": [
      "0.9663471524445826\n",
      "0.968366486425796\n",
      "0.9683230817633839\n",
      "0.9693749070650881\n"
     ]
    }
   ],
   "source": [
    "for sample in [X_pca1, X_pca2, X_pca3, X_pca4]:\n",
    "    model = KMeans(n_clusters=6, random_state=42).fit(sample)\n",
    "    labels_test = model.labels_\n",
    "    print(metrics.silhouette_score(sample, labels_test, metric='euclidean'))"
   ]
  },
  {
   "cell_type": "markdown",
   "metadata": {},
   "source": [
    "Silhouette analysis seems relatively ambivalent to the number of clusters from 2-6. We will use six clusters for our model."
   ]
  },
  {
   "cell_type": "code",
   "execution_count": 32,
   "metadata": {},
   "outputs": [],
   "source": [
    "y_pred = KMeans(n_clusters=6).fit(X_train)\n",
    "labels = y_pred.labels_"
   ]
  },
  {
   "cell_type": "code",
   "execution_count": 33,
   "metadata": {},
   "outputs": [
    {
     "name": "stdout",
     "output_type": "stream",
     "text": [
      "Comparing k-means clusters against the data:\n",
      "col_0                   0      1      2    3     4     5\n",
      "delay_minutes_bool                                      \n",
      "0                   88432  10639   9277  715  1634  2094\n",
      "1                   82299   9571  10917  218  1614  1103\n"
     ]
    }
   ],
   "source": [
    "print('Comparing k-means clusters against the data:')\n",
    "print(pd.crosstab(y_train, labels))"
   ]
  },
  {
   "cell_type": "code",
   "execution_count": 37,
   "metadata": {},
   "outputs": [
    {
     "data": {
      "image/png": "[encoded data removed]",
      "text/plain": [
       "<Figure size 1440x720 with 6 Axes>"
      ]
     },
     "metadata": {
      "needs_background": "light"
     },
     "output_type": "display_data"
    }
   ],
   "source": [
    "n1 = np.arange(2)\n",
    "c0_lateness = [88432,82299]\n",
    "c1_lateness = [10639,9571]\n",
    "c2_lateness = [9277,10917]\n",
    "c3_lateness = [715,218]\n",
    "c4_lateness = [1634,1614]\n",
    "c5_lateness = [2094,1103]\n",
    "\n",
    "plt.figure(figsize=(20,10))\n",
    "\n",
    "plt.subplot(2,3,1)\n",
    "plt.bar(n1, c0_lateness, color=(\"blue\",\"red\"))\n",
    "plt.xticks(n1, ('On-time', 'Late'))\n",
    "plt.title('Cluster0 Lateness Distribution')\n",
    "\n",
    "plt.subplot(2,3,2)\n",
    "plt.bar(n1, c1_lateness, color=(\"blue\",\"red\"))\n",
    "plt.xticks(n1, ('On-time', 'Late'))\n",
    "plt.title('Cluster1 Lateness Distribution')\n",
    "\n",
    "plt.subplot(2,3,3)\n",
    "plt.bar(n1, c2_lateness, color=(\"blue\",\"red\"))\n",
    "plt.xticks(n1, ('On-time', 'Late'))\n",
    "plt.title('Cluster2 Lateness Distribution')\n",
    "\n",
    "plt.subplot(2,3,4)\n",
    "plt.bar(n1, c3_lateness, color=(\"blue\",\"red\"))\n",
    "plt.xticks(n1, ('On-time', 'Late'))\n",
    "plt.title('Cluster3 Lateness Distribution')\n",
    "\n",
    "plt.subplot(2,3,5)\n",
    "plt.bar(n1, c4_lateness, color=(\"blue\",\"red\"))\n",
    "plt.xticks(n1, ('On-time', 'Late'))\n",
    "plt.title('Cluster4 Lateness Distribution')\n",
    "\n",
    "plt.subplot(2,3,6)\n",
    "plt.bar(n1, c5_lateness, color=(\"blue\",\"red\"))\n",
    "plt.xticks(n1, ('On-time', 'Late'))\n",
    "plt.title('Cluster5 Lateness Distribution')\n",
    "\n",
    "plt.show()"
   ]
  },
  {
   "cell_type": "markdown",
   "metadata": {},
   "source": [
    "In general, the unsupervised analysis is not classifying well between on-time and late.  Cluster0 contains the majority of the dataset, about 75%.  Clusters 3 and 5 show some discrimination of the target variable among a small subset of the data. Below we try some supervised models."
   ]
  },
  {
   "cell_type": "markdown",
   "metadata": {},
   "source": [
    "## Model 2: Decision Tree"
   ]
  },
  {
   "cell_type": "code",
   "execution_count": 33,
   "metadata": {},
   "outputs": [],
   "source": [
    "#setting up parameters for GridSearchCV(DecisionTreeClassifier())\n",
    "\n",
    "depths = np.arange(1, 25)\n",
    "num_features = [1, 2]\n",
    "\n",
    "param_grid_dt_pca = [{'decisiontreeclassifier__max_depth':depths,\n",
    "               'decisiontreeclassifier__max_features':num_features}]\n",
    "\n",
    "pipe_tree_dt_pca = make_pipeline(tree.DecisionTreeClassifier(criterion='entropy'))"
   ]
  },
  {
   "cell_type": "code",
   "execution_count": 34,
   "metadata": {},
   "outputs": [],
   "source": [
    "gs_dt_pca = GridSearchCV(pipe_tree_dt_pca, param_grid=param_grid_dt_pca, cv=10)"
   ]
  },
  {
   "cell_type": "code",
   "execution_count": 35,
   "metadata": {},
   "outputs": [
    {
     "name": "stdout",
     "output_type": "stream",
     "text": [
      "{'decisiontreeclassifier__max_depth': 1, 'decisiontreeclassifier__max_features': 1}\n"
     ]
    }
   ],
   "source": [
    "gs_dt_pca.fit(X_train,y_train)\n",
    "print(gs_dt_pca.best_params_)"
   ]
  },
  {
   "cell_type": "code",
   "execution_count": 107,
   "metadata": {},
   "outputs": [
    {
     "data": {
      "text/plain": [
       "DecisionTreeClassifier(class_weight=None, criterion='entropy', max_depth=1,\n",
       "                       max_features=1, max_leaf_nodes=None,\n",
       "                       min_impurity_decrease=0.0, min_impurity_split=None,\n",
       "                       min_samples_leaf=1, min_samples_split=2,\n",
       "                       min_weight_fraction_leaf=0.0, presort=False,\n",
       "                       random_state=None, splitter='best')"
      ]
     },
     "execution_count": 107,
     "metadata": {},
     "output_type": "execute_result"
    }
   ],
   "source": [
    "#initialize and train the decision tree model using GridSearchCV results\n",
    "\n",
    "decision_tree = tree.DecisionTreeClassifier(\n",
    "    criterion='entropy',\n",
    "    max_features=1,\n",
    "    max_depth=1\n",
    ")\n",
    "\n",
    "decision_tree.fit(X_train, y_train)"
   ]
  },
  {
   "cell_type": "code",
   "execution_count": 108,
   "metadata": {},
   "outputs": [],
   "source": [
    "#making predictions for model evaluation\n",
    "y_pred_dt = decision_tree.fit(X_train, y_train).predict(X_test)"
   ]
  },
  {
   "cell_type": "code",
   "execution_count": 109,
   "metadata": {},
   "outputs": [
    {
     "name": "stdout",
     "output_type": "stream",
     "text": [
      "[0.51617627 0.51615413 0.51617775 0.51617775 0.51617775 0.51617775\n",
      " 0.51617775 0.51617775 0.51617775 0.51617775]\n",
      "The 10-fold cross validation average for the training set is  0.5161752390889882\n",
      "--- 1.0046520233154297 seconds ---\n"
     ]
    }
   ],
   "source": [
    "#evaluating the model performance through xvalidation of the training set\n",
    "\n",
    "start_time = time.time()\n",
    "\n",
    "print(cross_val_score(decision_tree, X_train, y_train, cv=10))\n",
    "print('The 10-fold cross validation average for the training set is ', \n",
    "      cross_val_score(decision_tree, X_train, y_train, cv=10).mean())\n",
    "\n",
    "print(\"--- %s seconds ---\" % (time.time() - start_time))"
   ]
  },
  {
   "cell_type": "code",
   "execution_count": 110,
   "metadata": {},
   "outputs": [
    {
     "name": "stdout",
     "output_type": "stream",
     "text": [
      "[0.51049815 0.51049815 0.51049815 0.51029654 0.51029654 0.51029654\n",
      " 0.51029654 0.5105068  0.5105068  0.5105068 ]\n",
      "The 10-fold cross validation average for the testing set  is  0.510420099915708\n"
     ]
    }
   ],
   "source": [
    "#evaluating the model performance through xvalidation of the testing set\n",
    "\n",
    "print(cross_val_score(decision_tree, X_test, y_test, cv=10))\n",
    "print('The 10-fold cross validation average for the testing set  is ', \n",
    "      cross_val_score(decision_tree, X_test, y_test, cv=10).mean())"
   ]
  },
  {
   "cell_type": "code",
   "execution_count": 112,
   "metadata": {},
   "outputs": [
    {
     "name": "stdout",
     "output_type": "stream",
     "text": [
      "              precision    recall  f1-score   support\n",
      "\n",
      "           0       0.51      1.00      0.68     12393\n",
      "           1       0.00      0.00      0.00     11887\n",
      "\n",
      "    accuracy                           0.51     24280\n",
      "   macro avg       0.26      0.50      0.34     24280\n",
      "weighted avg       0.26      0.51      0.34     24280\n",
      "\n"
     ]
    }
   ],
   "source": [
    "#classification report\n",
    "\n",
    "print(classification_report(y_test, y_pred_dt, labels=None, target_names=None, \n",
    "                      sample_weight=None, digits=2, output_dict=False\n",
    "                     ))"
   ]
  },
  {
   "cell_type": "code",
   "execution_count": 113,
   "metadata": {},
   "outputs": [
    {
     "name": "stdout",
     "output_type": "stream",
     "text": [
      "Test set confusion matrix: \n",
      " [[12393     0]\n",
      " [11887     0]]\n"
     ]
    }
   ],
   "source": [
    "#confusion matrix\n",
    "print('Test set confusion matrix:', '\\n', \n",
    "      confusion_matrix(y_test, y_pred_dt, labels=None, sample_weight=None)\n",
    "     )"
   ]
  },
  {
   "cell_type": "markdown",
   "metadata": {},
   "source": [
    "In the classification reports, a value of 1 corresponds to a value of \"late\" for the target variable \"delay\", and 0 corresponds to a \"on-time.\"  Although decision tree models tend to handle varied types of data well, this model isn't achieving any useful discrimination of the target. "
   ]
  },
  {
   "cell_type": "markdown",
   "metadata": {},
   "source": [
    "## Model 3: Random Forest Classifier"
   ]
  },
  {
   "cell_type": "code",
   "execution_count": 114,
   "metadata": {
    "scrolled": true
   },
   "outputs": [
    {
     "data": {
      "text/plain": [
       "RandomForestClassifier(bootstrap=True, class_weight=None, criterion='gini',\n",
       "                       max_depth=None, max_features='auto', max_leaf_nodes=None,\n",
       "                       min_impurity_decrease=0.0, min_impurity_split=None,\n",
       "                       min_samples_leaf=1, min_samples_split=2,\n",
       "                       min_weight_fraction_leaf=0.0, n_estimators=10,\n",
       "                       n_jobs=None, oob_score=False, random_state=None,\n",
       "                       verbose=0, warm_start=False)"
      ]
     },
     "execution_count": 114,
     "metadata": {},
     "output_type": "execute_result"
    }
   ],
   "source": [
    "rfc = ensemble.RandomForestClassifier()\n",
    "rfc.fit(X_train,y_train)"
   ]
  },
  {
   "cell_type": "code",
   "execution_count": 115,
   "metadata": {},
   "outputs": [],
   "source": [
    "#making predictions for model evaluation\n",
    "y_preds_rfc=rfc.predict(X_test)"
   ]
  },
  {
   "cell_type": "code",
   "execution_count": 116,
   "metadata": {},
   "outputs": [
    {
     "name": "stdout",
     "output_type": "stream",
     "text": [
      "[0.51617627 0.51615413 0.51617775 0.51617775 0.51617775 0.51617775\n",
      " 0.51617775 0.51617775 0.51617775 0.51617775]\n",
      "The 10-fold cross validation average for the training set is  0.5161752390889882\n",
      "--- 7.489235162734985 seconds ---\n"
     ]
    }
   ],
   "source": [
    "#evaluating the model performance through xvalidation of the training set\n",
    "\n",
    "start_time = time.time()\n",
    "\n",
    "print(cross_val_score(rfc, X_train, y_train, cv=10))\n",
    "print('The 10-fold cross validation average for the training set is ', \n",
    "      cross_val_score(rfc, X_train, y_train, cv=10).mean())\n",
    "\n",
    "print(\"--- %s seconds ---\" % (time.time() - start_time))"
   ]
  },
  {
   "cell_type": "code",
   "execution_count": 117,
   "metadata": {},
   "outputs": [
    {
     "name": "stdout",
     "output_type": "stream",
     "text": [
      "[0.51049815 0.51049815 0.51049815 0.51029654 0.51029654 0.51029654\n",
      " 0.51029654 0.5105068  0.5105068  0.5105068 ]\n",
      "The 10-fold cross validation average for the testing set  is  0.510420099915708\n"
     ]
    }
   ],
   "source": [
    "#evaluating the model performance through xvalidation of the testing set\n",
    "\n",
    "print(cross_val_score(rfc, X_test, y_test, cv=10))\n",
    "print('The 10-fold cross validation average for the testing set  is ', \n",
    "      cross_val_score(rfc, X_test, y_test, cv=10).mean())"
   ]
  },
  {
   "cell_type": "code",
   "execution_count": 118,
   "metadata": {},
   "outputs": [
    {
     "name": "stdout",
     "output_type": "stream",
     "text": [
      "              precision    recall  f1-score   support\n",
      "\n",
      "           0       0.51      1.00      0.68     12393\n",
      "           1       0.00      0.00      0.00     11887\n",
      "\n",
      "    accuracy                           0.51     24280\n",
      "   macro avg       0.26      0.50      0.34     24280\n",
      "weighted avg       0.26      0.51      0.34     24280\n",
      "\n"
     ]
    }
   ],
   "source": [
    "#classification report\n",
    "\n",
    "print(classification_report(y_test, y_preds_rfc, labels=None, target_names=None, \n",
    "                      sample_weight=None, digits=2, output_dict=False\n",
    "                     ))"
   ]
  },
  {
   "cell_type": "code",
   "execution_count": 119,
   "metadata": {},
   "outputs": [
    {
     "name": "stdout",
     "output_type": "stream",
     "text": [
      "Test set confusion matrix: \n",
      " [[12393     0]\n",
      " [11887     0]]\n"
     ]
    }
   ],
   "source": [
    "#confusion matrix\n",
    "print('Test set confusion matrix:', '\\n', \n",
    "      confusion_matrix(y_test, y_preds_rfc, labels=None, sample_weight=None)\n",
    "     )"
   ]
  },
  {
   "cell_type": "markdown",
   "metadata": {},
   "source": [
    "Similarly to the decision tree model, the random forest model is not a good fit for this data.  It was unable to discriminate the target variable whatsoever with this dataset. "
   ]
  },
  {
   "cell_type": "markdown",
   "metadata": {},
   "source": [
    "## Model 4: SVM"
   ]
  },
  {
   "cell_type": "code",
   "execution_count": 24,
   "metadata": {},
   "outputs": [],
   "source": [
    "#kernels = ['linear', 'poly', 'rbf', 'sigmoid']\n",
    "degrees = [1,2]\n",
    "param_grid_svm = [{'svc__degree':degrees}]\n",
    "pipe_tree_svm = make_pipeline(SVC(kernel = 'poly'))"
   ]
  },
  {
   "cell_type": "code",
   "execution_count": 25,
   "metadata": {},
   "outputs": [],
   "source": [
    "gs_svm = GridSearchCV(pipe_tree_svm, param_grid=param_grid_svm, cv=10)\n",
    "\n",
    "#gs_svm.get_params().keys()"
   ]
  },
  {
   "cell_type": "code",
   "execution_count": 39,
   "metadata": {},
   "outputs": [
    {
     "name": "stdout",
     "output_type": "stream",
     "text": [
      "{'svc__degree': 1}\n"
     ]
    }
   ],
   "source": [
    "gs_svm.fit(X_train,y_train)\n",
    "print(gs_svm.best_params_)"
   ]
  },
  {
   "cell_type": "code",
   "execution_count": 25,
   "metadata": {},
   "outputs": [
    {
     "data": {
      "text/plain": [
       "SVC(C=1.0, cache_size=200, class_weight=None, coef0=0.0,\n",
       "    decision_function_shape='ovr', degree=1, gamma='auto_deprecated',\n",
       "    kernel='poly', max_iter=-1, probability=False, random_state=None,\n",
       "    shrinking=True, tol=0.001, verbose=False)"
      ]
     },
     "execution_count": 25,
     "metadata": {},
     "output_type": "execute_result"
    }
   ],
   "source": [
    "svm = SVC(kernel='poly',degree=1)\n",
    "svm.fit(X_train, y_train)"
   ]
  },
  {
   "cell_type": "code",
   "execution_count": 26,
   "metadata": {},
   "outputs": [],
   "source": [
    "#Setting the predictions for analysis\n",
    "y_pred_svm = svm.fit(X_train, y_train).predict(X_test)"
   ]
  },
  {
   "cell_type": "markdown",
   "metadata": {},
   "source": [
    "#evaluating the model performance through xvalidation of the training set\n",
    "\n",
    "start_time = time.time()\n",
    "\n",
    "print(cross_val_score(svm, X_train, y_train, cv=10))\n",
    "print('The 10-fold cross validation average for the training set is ', \n",
    "      cross_val_score(svm, X_train, y_train, cv=10).mean())\n",
    "\n",
    "print(\"--- %s seconds ---\" % (time.time() - start_time))"
   ]
  },
  {
   "cell_type": "code",
   "execution_count": 27,
   "metadata": {},
   "outputs": [
    {
     "name": "stdout",
     "output_type": "stream",
     "text": [
      "[0.51049815 0.51049815 0.51049815 0.51029654 0.51029654 0.51029654\n",
      " 0.51029654 0.5105068  0.5105068  0.5105068 ]\n",
      "The 10-fold cross validation average for the testing set  is  0.510420099915708\n",
      "--- 204.898530960083 seconds ---\n"
     ]
    }
   ],
   "source": [
    "#evaluating the model performance through xvalidation of the testing set\n",
    "\n",
    "start_time = time.time()\n",
    "\n",
    "print(cross_val_score(svm, X_test, y_test, cv=10))\n",
    "print('The 10-fold cross validation average for the testing set  is ', \n",
    "      cross_val_score(svm, X_test, y_test, cv=10).mean())\n",
    "\n",
    "print(\"--- %s seconds ---\" % (time.time() - start_time))"
   ]
  },
  {
   "cell_type": "code",
   "execution_count": 28,
   "metadata": {
    "scrolled": false
   },
   "outputs": [
    {
     "name": "stdout",
     "output_type": "stream",
     "text": [
      "              precision    recall  f1-score   support\n",
      "\n",
      "           0       0.51      1.00      0.68     12393\n",
      "           1       0.00      0.00      0.00     11887\n",
      "\n",
      "    accuracy                           0.51     24280\n",
      "   macro avg       0.26      0.50      0.34     24280\n",
      "weighted avg       0.26      0.51      0.34     24280\n",
      "\n"
     ]
    }
   ],
   "source": [
    "#classification report\n",
    "\n",
    "print(classification_report(y_test, y_pred_svm, labels=None, target_names=None, \n",
    "                      sample_weight=None, digits=2, output_dict=False\n",
    "                     ))"
   ]
  },
  {
   "cell_type": "code",
   "execution_count": 29,
   "metadata": {
    "scrolled": true
   },
   "outputs": [
    {
     "name": "stdout",
     "output_type": "stream",
     "text": [
      "Test set confusion matrix: \n",
      " [[12393     0]\n",
      " [11887     0]]\n"
     ]
    }
   ],
   "source": [
    "#confusion matrix\n",
    "print('Test set confusion matrix:', '\\n', \n",
    "      confusion_matrix(y_test, y_pred_svm, labels=None, sample_weight=None)\n",
    "     )"
   ]
  },
  {
   "cell_type": "markdown",
   "metadata": {},
   "source": [
    "Similarly to the decision tree and random forest models above, the SVM model was completely unable to classify the target variable."
   ]
  },
  {
   "cell_type": "markdown",
   "metadata": {},
   "source": [
    "## Model 5: Naive Bayes"
   ]
  },
  {
   "cell_type": "code",
   "execution_count": 49,
   "metadata": {},
   "outputs": [],
   "source": [
    "# Instantiate our model and store it in a new variable.\n",
    "bnb = BernoulliNB()\n",
    "\n",
    "# Fit our model to the data.\n",
    "bnb.fit(X_train, y_train)\n",
    "\n",
    "# Classify, storing the result in a new variable.\n",
    "y_preds_nb = bnb.predict(X_test)"
   ]
  },
  {
   "cell_type": "code",
   "execution_count": 50,
   "metadata": {},
   "outputs": [
    {
     "name": "stdout",
     "output_type": "stream",
     "text": [
      "[0.58175079 0.58186894 0.57361219 0.57937852 0.5853279  0.57896664\n",
      " 0.57809711 0.58166674 0.58088875 0.58207862]\n",
      "The 10-fold cross validation average for the training set is  0.5803636201065616\n",
      "--- 1.8319790363311768 seconds ---\n"
     ]
    }
   ],
   "source": [
    "#evaluating the model performance through xvalidation of the training set\n",
    "\n",
    "start_time = time.time()\n",
    "\n",
    "print(cross_val_score(bnb, X_train, y_train, cv=10))\n",
    "print('The 10-fold cross validation average for the training set is ', \n",
    "      cross_val_score(bnb, X_train, y_train, cv=10).mean())\n",
    "\n",
    "print(\"--- %s seconds ---\" % (time.time() - start_time))"
   ]
  },
  {
   "cell_type": "code",
   "execution_count": 51,
   "metadata": {},
   "outputs": [
    {
     "name": "stdout",
     "output_type": "stream",
     "text": [
      "[0.5751338  0.57760395 0.57842734 0.59390445 0.58319605 0.5601318\n",
      " 0.57372323 0.57560775 0.59250103 0.58508447]\n",
      "The 10-fold cross validation average for the testing set  is  0.579531385014587\n"
     ]
    }
   ],
   "source": [
    "#evaluating the model performance through xvalidation of the testing set\n",
    "\n",
    "print(cross_val_score(bnb, X_test, y_test, cv=10))\n",
    "print('The 10-fold cross validation average for the testing set  is ', \n",
    "      cross_val_score(bnb, X_test, y_test, cv=10).mean())"
   ]
  },
  {
   "cell_type": "code",
   "execution_count": 52,
   "metadata": {},
   "outputs": [
    {
     "name": "stdout",
     "output_type": "stream",
     "text": [
      "              precision    recall  f1-score   support\n",
      "\n",
      "           0       0.59      0.55      0.57     12393\n",
      "           1       0.56      0.60      0.58     11887\n",
      "\n",
      "    accuracy                           0.58     24280\n",
      "   macro avg       0.58      0.58      0.58     24280\n",
      "weighted avg       0.58      0.58      0.58     24280\n",
      "\n"
     ]
    }
   ],
   "source": [
    "#classification report\n",
    "\n",
    "print(classification_report(y_test, y_preds_nb, labels=None, target_names=None, \n",
    "                      sample_weight=None, digits=2, output_dict=False\n",
    "                     ))"
   ]
  },
  {
   "cell_type": "code",
   "execution_count": 53,
   "metadata": {},
   "outputs": [
    {
     "name": "stdout",
     "output_type": "stream",
     "text": [
      "Test set confusion matrix: \n",
      " [[6857 5536]\n",
      " [4770 7117]]\n"
     ]
    }
   ],
   "source": [
    "#confusion matrix\n",
    "print('Test set confusion matrix:', '\\n', \n",
    "      confusion_matrix(y_test, y_preds_nb, labels=None, sample_weight=None)\n",
    "     )"
   ]
  },
  {
   "cell_type": "markdown",
   "metadata": {},
   "source": [
    "Naive Bayes is known for its ability to solve problems with multiple classes of data, and while it may be a stretch to say that it is working well here, it is the first model implemented in this report to begin to achieve some classification of the target variable."
   ]
  },
  {
   "cell_type": "markdown",
   "metadata": {},
   "source": [
    "## Model 6: KNN"
   ]
  },
  {
   "cell_type": "code",
   "execution_count": 40,
   "metadata": {},
   "outputs": [],
   "source": [
    "#kernels = ['linear', 'poly', 'rbf', 'sigmoid']\n",
    "num_neighbors = np.arange(1, 25)\n",
    "weights = ['distance','uniform']\n",
    "leaf_sizes = np.arange(1, 40)\n",
    "\n",
    "param_grid_knn = [{'kneighborsclassifier__n_neighbors':num_neighbors,\n",
    "                      'kneighborsclassifier__weights':weights,\n",
    "                      'kneighborsclassifier__leaf_size':leaf_sizes}\n",
    "                     ]\n",
    "pipe_tree_knn = make_pipeline(neighbors.KNeighborsClassifier())"
   ]
  },
  {
   "cell_type": "code",
   "execution_count": 41,
   "metadata": {},
   "outputs": [],
   "source": [
    "gs_knn = GridSearchCV(pipe_tree_knn, param_grid=param_grid_knn, cv=10)\n",
    "\n",
    "#gs_knn.get_params().keys()"
   ]
  },
  {
   "cell_type": "code",
   "execution_count": 42,
   "metadata": {},
   "outputs": [
    {
     "name": "stdout",
     "output_type": "stream",
     "text": [
      "{'kneighborsclassifier__leaf_size': 4, 'kneighborsclassifier__n_neighbors': 21, 'kneighborsclassifier__weights': 'uniform'}\n"
     ]
    }
   ],
   "source": [
    "gs_knn.fit(X_train,y_train)\n",
    "print(gs_knn.best_params_)"
   ]
  },
  {
   "cell_type": "code",
   "execution_count": 43,
   "metadata": {},
   "outputs": [
    {
     "data": {
      "text/plain": [
       "KNeighborsClassifier(algorithm='auto', leaf_size=4, metric='minkowski',\n",
       "                     metric_params=None, n_jobs=None, n_neighbors=21, p=2,\n",
       "                     weights='distance')"
      ]
     },
     "execution_count": 43,
     "metadata": {},
     "output_type": "execute_result"
    }
   ],
   "source": [
    "#{'kneighborsclassifier__leaf_size': 29, 'kneighborsclassifier__n_neighbors': 1, 'kneighborsclassifier__weights': 'distance'}\n",
    "knn = neighbors.KNeighborsClassifier(n_neighbors=21, weights='distance', leaf_size=4)\n",
    "knn.fit(X_train, y_train)"
   ]
  },
  {
   "cell_type": "code",
   "execution_count": 44,
   "metadata": {},
   "outputs": [],
   "source": [
    "# Classify, storing the result in a new variable.\n",
    "y_preds_knn = knn.predict(X_test)"
   ]
  },
  {
   "cell_type": "code",
   "execution_count": 45,
   "metadata": {},
   "outputs": [
    {
     "name": "stdout",
     "output_type": "stream",
     "text": [
      "[0.64265776 0.64030752 0.64386069 0.6430827  0.64674386 0.64866596\n",
      " 0.64363187 0.64596586 0.64807103 0.64116059]\n",
      "The 10-fold cross validation average for the training set is  0.6444147836573124\n",
      "--- 21.463364839553833 seconds ---\n"
     ]
    }
   ],
   "source": [
    "#evaluating the model performance through xvalidation of the training set\n",
    "\n",
    "start_time = time.time()\n",
    "\n",
    "print(cross_val_score(knn, X_train, y_train, cv=10))\n",
    "print('The 10-fold cross validation average for the training set is ', \n",
    "      cross_val_score(knn, X_train, y_train, cv=10).mean())\n",
    "\n",
    "print(\"--- %s seconds ---\" % (time.time() - start_time))"
   ]
  },
  {
   "cell_type": "code",
   "execution_count": 46,
   "metadata": {},
   "outputs": [
    {
     "name": "stdout",
     "output_type": "stream",
     "text": [
      "[0.62247839 0.63359407 0.62371346 0.61985173 0.6276771  0.61285008\n",
      " 0.60914333 0.62752369 0.62834775 0.62257932]\n",
      "The 10-fold cross validation average for the testing set  is  0.6227758922916855\n"
     ]
    }
   ],
   "source": [
    "#evaluating the model performance through xvalidation of the testing set\n",
    "\n",
    "print(cross_val_score(knn, X_test, y_test, cv=10))\n",
    "print('The 10-fold cross validation average for the testing set  is ', \n",
    "      cross_val_score(knn, X_test, y_test, cv=10).mean())"
   ]
  },
  {
   "cell_type": "code",
   "execution_count": 47,
   "metadata": {},
   "outputs": [
    {
     "name": "stdout",
     "output_type": "stream",
     "text": [
      "              precision    recall  f1-score   support\n",
      "\n",
      "           0       0.65      0.67      0.66     12393\n",
      "           1       0.64      0.62      0.63     11887\n",
      "\n",
      "    accuracy                           0.64     24280\n",
      "   macro avg       0.64      0.64      0.64     24280\n",
      "weighted avg       0.64      0.64      0.64     24280\n",
      "\n"
     ]
    }
   ],
   "source": [
    "#classification report\n",
    "\n",
    "print(classification_report(y_test, y_preds_knn, labels=None, target_names=None, \n",
    "                      sample_weight=None, digits=2, output_dict=False\n",
    "                     ))"
   ]
  },
  {
   "cell_type": "code",
   "execution_count": 48,
   "metadata": {},
   "outputs": [
    {
     "name": "stdout",
     "output_type": "stream",
     "text": [
      "Test set confusion matrix: \n",
      " [[8316 4077]\n",
      " [4550 7337]]\n"
     ]
    }
   ],
   "source": [
    "#confusion matrix\n",
    "print('Test set confusion matrix:', '\\n', \n",
    "      confusion_matrix(y_test, y_preds_knn, labels=None, sample_weight=None)\n",
    "     )"
   ]
  },
  {
   "cell_type": "markdown",
   "metadata": {},
   "source": [
    "Like the Naive Bayes model, KNN is easy to implement for problems with multiple classes of data, and it also requires no data assumptions.  These characteristics may help to explain why it is working moderately well with this challenging data set.  "
   ]
  },
  {
   "cell_type": "markdown",
   "metadata": {},
   "source": [
    "## Conclusion"
   ]
  },
  {
   "cell_type": "markdown",
   "metadata": {},
   "source": [
    "With this dataset, the KNN model dramatically outperformed all other models, including the unsupervised clustering model, in terms of classification performance.  Its precision and recall values are around 0.64, which is not ideal, but it is much better than the other models, and it is well balanced.  To improve the performance of this model, some additional data might need to be scraped and incorporated into the feature set.  Weather data such as precipitation potential or a weather category would be a good starting point for improving the model."
   ]
  }
 ],
 "metadata": {
  "kernelspec": {
   "display_name": "Python 3",
   "language": "python",
   "name": "python3"
  },
  "language_info": {
   "codemirror_mode": {
    "name": "ipython",
    "version": 3
   },
   "file_extension": ".py",
   "mimetype": "text/x-python",
   "name": "python",
   "nbconvert_exporter": "python",
   "pygments_lexer": "ipython3",
   "version": "3.7.3"
  }
 },
 "nbformat": 4,
 "nbformat_minor": 2
}
