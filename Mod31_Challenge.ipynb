{
 "cells": [
  {
   "cell_type": "code",
   "execution_count": 2,
   "metadata": {},
   "outputs": [],
   "source": [
    "import matplotlib.pyplot as plt\n",
    "import numpy as np\n",
    "import pandas as pd\n",
    "import seaborn as sns\n",
    "import math\n",
    "from imblearn.over_sampling import RandomOverSampler\n",
    "from scipy.stats import ttest_ind\n",
    "from sqlalchemy import create_engine\n",
    "from scipy.stats.mstats import winsorize\n",
    "from scipy.stats import boxcox\n",
    "from scipy.stats import jarque_bera\n",
    "from scipy.stats import normaltest\n",
    "from sklearn.decomposition import PCA\n",
    "from sklearn.preprocessing import StandardScaler\n",
    "from sklearn.naive_bayes import BernoulliNB\n",
    "from sklearn.model_selection import cross_val_score\n",
    "from sklearn import linear_model\n",
    "from sklearn.model_selection import train_test_split\n",
    "from sklearn.model_selection import GridSearchCV\n",
    "from sklearn.metrics import mean_absolute_error\n",
    "from sklearn.metrics import make_scorer\n",
    "\n",
    "from sklearn.metrics import classification_report, confusion_matrix\n",
    "from sklearn.linear_model import LinearRegression, LassoCV, RidgeCV, ElasticNetCV\n",
    "from statsmodels.tools.eval_measures import mse, rmse\n",
    "from wordcloud import WordCloud\n",
    "import statsmodels.api as sm\n",
    "from sklearn.pipeline import make_pipeline\n",
    "from sklearn.pipeline import Pipeline\n",
    "from sklearn.feature_selection import SelectKBest, f_regression\n",
    "from sklearn.svm import SVC\n",
    "from sklearn import tree\n",
    "from sklearn import ensemble\n",
    "from sklearn import datasets\n",
    "from sklearn.utils import shuffle\n",
    "from sklearn import neighbors\n",
    "from IPython.display import Image\n",
    "\n",
    "\n",
    "import pydotplus\n",
    "from sklearn import ensemble\n",
    "\n",
    "import warnings\n",
    "\n",
    "%matplotlib inline\n",
    "sns.set()\n",
    "\n",
    "warnings.filterwarnings('ignore')\n",
    "import time"
   ]
  },
  {
   "cell_type": "markdown",
   "metadata": {},
   "source": [
    "## Introduction\n",
    "\n",
    "Customer Churn is an important consideration for most businesses to be able to understand and influence to keep growth and proftability healthy.  The simulated dataset used in this project describes customers with fifteen categorical variables and three continuous variables.  Those features are engineered and incorporated into several different models in an attmept to predict the boolean category Churn.      "
   ]
  },
  {
   "cell_type": "markdown",
   "metadata": {},
   "source": [
    "## Data Exploration"
   ]
  },
  {
   "cell_type": "code",
   "execution_count": 3,
   "metadata": {},
   "outputs": [],
   "source": [
    "#assign data frame\n",
    "df_telco = (pd.read_excel('Data/Telco_Churn.xlsx'))"
   ]
  },
  {
   "cell_type": "code",
   "execution_count": 4,
   "metadata": {},
   "outputs": [
    {
     "name": "stdout",
     "output_type": "stream",
     "text": [
      "<class 'pandas.core.frame.DataFrame'>\n",
      "RangeIndex: 7043 entries, 0 to 7042\n",
      "Data columns (total 21 columns):\n",
      "customerID          7043 non-null object\n",
      "gender              7043 non-null object\n",
      "SeniorCitizen       7043 non-null int64\n",
      "Partner             7043 non-null object\n",
      "Dependents          7043 non-null object\n",
      "tenure              7043 non-null int64\n",
      "PhoneService        7043 non-null object\n",
      "MultipleLines       7043 non-null object\n",
      "InternetService     7043 non-null object\n",
      "OnlineSecurity      7043 non-null object\n",
      "OnlineBackup        7043 non-null object\n",
      "DeviceProtection    7043 non-null object\n",
      "TechSupport         7043 non-null object\n",
      "StreamingTV         7043 non-null object\n",
      "StreamingMovies     7043 non-null object\n",
      "Contract            7043 non-null object\n",
      "PaperlessBilling    7043 non-null object\n",
      "PaymentMethod       7043 non-null object\n",
      "MonthlyCharges      7043 non-null float64\n",
      "TotalCharges        7043 non-null object\n",
      "Churn               7043 non-null object\n",
      "dtypes: float64(1), int64(2), object(18)\n",
      "memory usage: 1.1+ MB\n",
      "   customerID  gender  SeniorCitizen Partner Dependents  tenure PhoneService  \\\n",
      "0  7590-VHVEG  Female              0     Yes         No       1           No   \n",
      "1  5575-GNVDE    Male              0      No         No      34          Yes   \n",
      "2  3668-QPYBK    Male              0      No         No       2          Yes   \n",
      "3  7795-CFOCW    Male              0      No         No      45           No   \n",
      "4  9237-HQITU  Female              0      No         No       2          Yes   \n",
      "\n",
      "      MultipleLines InternetService OnlineSecurity  ... DeviceProtection  \\\n",
      "0  No phone service             DSL             No  ...               No   \n",
      "1                No             DSL            Yes  ...              Yes   \n",
      "2                No             DSL            Yes  ...               No   \n",
      "3  No phone service             DSL            Yes  ...              Yes   \n",
      "4                No     Fiber optic             No  ...               No   \n",
      "\n",
      "  TechSupport StreamingTV StreamingMovies        Contract PaperlessBilling  \\\n",
      "0          No          No              No  Month-to-month              Yes   \n",
      "1          No          No              No        One year               No   \n",
      "2          No          No              No  Month-to-month              Yes   \n",
      "3         Yes          No              No        One year               No   \n",
      "4          No          No              No  Month-to-month              Yes   \n",
      "\n",
      "               PaymentMethod MonthlyCharges  TotalCharges Churn  \n",
      "0           Electronic check          29.85         29.85    No  \n",
      "1               Mailed check          56.95        1889.5    No  \n",
      "2               Mailed check          53.85        108.15   Yes  \n",
      "3  Bank transfer (automatic)          42.30       1840.75    No  \n",
      "4           Electronic check          70.70        151.65   Yes  \n",
      "\n",
      "[5 rows x 21 columns] None        SeniorCitizen       tenure  MonthlyCharges\n",
      "count    7043.000000  7043.000000     7043.000000\n",
      "mean        0.162147    32.371149       64.761692\n",
      "std         0.368612    24.559481       30.090047\n",
      "min         0.000000     0.000000       18.250000\n",
      "25%         0.000000     9.000000       35.500000\n",
      "50%         0.000000    29.000000       70.350000\n",
      "75%         0.000000    55.000000       89.850000\n",
      "max         1.000000    72.000000      118.750000\n"
     ]
    }
   ],
   "source": [
    "#examine the data frame\n",
    "\n",
    "print(\n",
    "    df_telco.head(),\n",
    "    df_telco.info(),\n",
    "    df_telco.describe()\n",
    ")"
   ]
  },
  {
   "cell_type": "code",
   "execution_count": 5,
   "metadata": {},
   "outputs": [],
   "source": [
    "#change TotalCharges from dtype 'object' to 'float64'\n",
    "\n",
    "df_telco.TotalCharges=pd.to_numeric(df_telco.TotalCharges, errors='coerce')"
   ]
  },
  {
   "cell_type": "code",
   "execution_count": 6,
   "metadata": {},
   "outputs": [],
   "source": [
    "#change SeniorCitizen to dtype to 'uint8' (as it is binary)\n",
    "\n",
    "df_telco.SeniorCitizen = df_telco.SeniorCitizen.astype('uint8')"
   ]
  },
  {
   "cell_type": "code",
   "execution_count": 7,
   "metadata": {},
   "outputs": [
    {
     "data": {
      "text/plain": [
       "TotalCharges      0.001562\n",
       "Churn             0.000000\n",
       "OnlineSecurity    0.000000\n",
       "gender            0.000000\n",
       "SeniorCitizen     0.000000\n",
       "dtype: float64"
      ]
     },
     "execution_count": 7,
     "metadata": {},
     "output_type": "execute_result"
    }
   ],
   "source": [
    "#Check for missing values\n",
    "\n",
    "missing_values_ratios = (df_telco.isnull().sum()/df_telco.isnull().count())\n",
    "missing_values_ratios.sort_values(ascending=False).head()"
   ]
  },
  {
   "cell_type": "code",
   "execution_count": 8,
   "metadata": {},
   "outputs": [],
   "source": [
    "#v low percantage of missing values; drop them\n",
    "\n",
    "df_telco.dropna(inplace=True)"
   ]
  },
  {
   "cell_type": "code",
   "execution_count": 9,
   "metadata": {},
   "outputs": [
    {
     "data": {
      "text/plain": [
       "No     5163\n",
       "Yes    1869\n",
       "Name: Churn, dtype: int64"
      ]
     },
     "execution_count": 9,
     "metadata": {},
     "output_type": "execute_result"
    }
   ],
   "source": [
    "#get value counts of the target\n",
    "\n",
    "df_telco['Churn'].value_counts()"
   ]
  },
  {
   "cell_type": "code",
   "execution_count": 10,
   "metadata": {},
   "outputs": [],
   "source": [
    "#Make a boolean version of the target for algorithmic friendliness\n",
    "churn_bool = []\n",
    "\n",
    "for idx, val in enumerate(df_telco['Churn']):\n",
    "    if val == 'Yes':\n",
    "        churn_bool.append(1)\n",
    "    else:\n",
    "        churn_bool.append(0)\n",
    "        \n",
    "df_telco['churn_bool'] = churn_bool"
   ]
  },
  {
   "cell_type": "code",
   "execution_count": 11,
   "metadata": {},
   "outputs": [
    {
     "data": {
      "image/png": "[encoded data removed]",
      "text/plain": [
       "<Figure size 1440x360 with 3 Axes>"
      ]
     },
     "metadata": {
      "needs_background": "light"
     },
     "output_type": "display_data"
    }
   ],
   "source": [
    "#plot histograms of the target and the three numeric variables\n",
    "\n",
    "plt.figure(figsize=(20,5))\n",
    "\n",
    "#plt.subplot(2,2,1)\n",
    "#plt.hist(df_telco.churn_bool)\n",
    "#plt.title(\"Histogram of {} (this is the target variable))\".format(\"churn_bool\"))\n",
    "\n",
    "plt.subplot(1,3,1)\n",
    "plt.hist(df_telco.tenure)\n",
    "plt.title(\"Histogram of {}\".format(\"tenure\"))\n",
    "plt.xlabel('Months')\n",
    "\n",
    "plt.subplot(1,3,2)\n",
    "plt.hist(df_telco.MonthlyCharges)\n",
    "plt.title(\"Histogram of {}\".format(\"MonthlyCharges\"))\n",
    "plt.xlabel('Dollars')\n",
    "\n",
    "plt.subplot(1,3,3)\n",
    "plt.hist(df_telco.TotalCharges)\n",
    "plt.title(\"Histogram of {}\".format(\"TotalCharges\"))\n",
    "plt.xlabel('Dollars')\n",
    "plt.show()"
   ]
  },
  {
   "cell_type": "code",
   "execution_count": 12,
   "metadata": {},
   "outputs": [],
   "source": [
    "#perform a boxcox transformation on the continuous variables\n",
    "\n",
    "df_telco['tenure_boxcox'],_ = boxcox(df_telco.tenure)\n",
    "df_telco['MonthlyCharges_boxcox'],_ = boxcox(df_telco.MonthlyCharges)\n",
    "df_telco['TotalCharges_boxcox'],_ = boxcox(df_telco.TotalCharges)"
   ]
  },
  {
   "cell_type": "code",
   "execution_count": 13,
   "metadata": {},
   "outputs": [
    {
     "data": {
      "image/png": "[encoded data removed]",
      "text/plain": [
       "<Figure size 1440x720 with 3 Axes>"
      ]
     },
     "metadata": {
      "needs_background": "light"
     },
     "output_type": "display_data"
    }
   ],
   "source": [
    "#visualize the boxcox transformations of the three numeric variables\n",
    "\n",
    "plt.figure(figsize=(20,10))\n",
    "plt.subplot(2,2,1)\n",
    "plt.hist(df_telco.tenure_boxcox)\n",
    "plt.title(\"histogram of {}\".format(\"tenure\"))\n",
    "\n",
    "plt.subplot(2,2,2)\n",
    "plt.hist((df_telco.MonthlyCharges_boxcox))\n",
    "plt.title(\"histogram of {}\".format(\"MonthlyCharges\"))\n",
    "\n",
    "plt.subplot(2,2,3)\n",
    "plt.hist((df_telco.TotalCharges_boxcox))\n",
    "plt.title(\"histogram of {}\".format(\"TotalCharges\"))\n",
    "plt.show()"
   ]
  },
  {
   "cell_type": "code",
   "execution_count": 14,
   "metadata": {},
   "outputs": [],
   "source": [
    "#setting up for visualization of 'object' variables\n",
    "\n",
    "cols = [col for col in df_telco.select_dtypes(['object','uint8']) if col not in ['customerID', 'Churn']]\n",
    "df_telco2 = df_telco[cols]\n",
    "df_telco2['churn_bool'] = churn_bool\n"
   ]
  },
  {
   "cell_type": "code",
   "execution_count": 15,
   "metadata": {},
   "outputs": [
    {
     "data": {
      "image/png": "[encoded data removed]",
      "text/plain": [
       "<Figure size 1080x3600 with 17 Axes>"
      ]
     },
     "metadata": {
      "needs_background": "light"
     },
     "output_type": "display_data"
    }
   ],
   "source": [
    "#plot bar graphs of the object variables\n",
    "\n",
    "plt.figure(figsize=(15,50))\n",
    "\n",
    "for index, column in enumerate(df_telco2):\n",
    "    plt.subplot(11,4,index+1)\n",
    "    plt.bar(df_telco2.groupby(column)[\"churn_bool\"].mean().index, df_telco2.groupby(column)[\"churn_bool\"].mean(),\n",
    "           color=(\"grey\",\"purple\"))\n",
    "    plt.title(\"Churn percentage wrt. {}\".format(column))\n",
    "    plt.ylabel(\"Churn percentage\")\n",
    "    plt.xlabel(column)\n",
    "    plt.xticks(rotation='vertical')\n",
    "\n",
    "plt.tight_layout()\n",
    "plt.show()"
   ]
  },
  {
   "cell_type": "markdown",
   "metadata": {},
   "source": [
    "## Feature Engineering"
   ]
  },
  {
   "cell_type": "code",
   "execution_count": 16,
   "metadata": {},
   "outputs": [],
   "source": [
    "#make dummy variables from the object variables\n",
    "\n",
    "df_telco = pd.concat([df_telco,pd.get_dummies(\n",
    "    df_telco[['gender','Partner','Dependents','PhoneService','MultipleLines','InternetService',\n",
    "                'OnlineSecurity','OnlineBackup','DeviceProtection','TechSupport','StreamingTV',\n",
    "                'StreamingMovies','Contract','PaperlessBilling','PaymentMethod']], drop_first=True)], axis=1)\n"
   ]
  },
  {
   "cell_type": "code",
   "execution_count": 17,
   "metadata": {},
   "outputs": [
    {
     "data": {
      "text/plain": [
       "churn_bool                               1.000000\n",
       "tenure_boxcox                            0.374174\n",
       "tenure                                   0.354049\n",
       "InternetService_Fiber optic              0.307463\n",
       "Contract_Two year                        0.301552\n",
       "PaymentMethod_Electronic check           0.301455\n",
       "TotalCharges_boxcox                      0.236815\n",
       "TechSupport_No internet service          0.227578\n",
       "OnlineSecurity_No internet service       0.227578\n",
       "OnlineBackup_No internet service         0.227578\n",
       "DeviceProtection_No internet service     0.227578\n",
       "StreamingTV_No internet service          0.227578\n",
       "StreamingMovies_No internet service      0.227578\n",
       "InternetService_No                       0.227578\n",
       "TotalCharges                             0.199484\n",
       "MonthlyCharges_boxcox                    0.194624\n",
       "MonthlyCharges                           0.192858\n",
       "PaperlessBilling_Yes                     0.191454\n",
       "Contract_One year                        0.178225\n",
       "OnlineSecurity_Yes                       0.171270\n",
       "TechSupport_Yes                          0.164716\n",
       "Dependents_Yes                           0.163128\n",
       "Partner_Yes                              0.149982\n",
       "PaymentMethod_Credit card (automatic)    0.134687\n",
       "PaymentMethod_Mailed check               0.090773\n",
       "OnlineBackup_Yes                         0.082307\n",
       "DeviceProtection_Yes                     0.066193\n",
       "StreamingTV_Yes                          0.063254\n",
       "StreamingMovies_Yes                      0.060860\n",
       "MultipleLines_Yes                        0.040033\n",
       "PhoneService_Yes                         0.011691\n",
       "MultipleLines_No phone service           0.011691\n",
       "gender_Male                              0.008545\n",
       "Name: churn_bool, dtype: float64"
      ]
     },
     "execution_count": 17,
     "metadata": {},
     "output_type": "execute_result"
    }
   ],
   "source": [
    "#check the correlation of various features with the target\n",
    "\n",
    "np.abs(df_telco[df_telco.select_dtypes(['int64', 'float64', 'uint8']).columns].iloc[:,1:].corr().loc[:,'churn_bool']).sort_values(ascending=False).head(35)\n",
    "\n",
    "#NTS: the ^above^ logic fails if the target is categorical"
   ]
  },
  {
   "cell_type": "code",
   "execution_count": 18,
   "metadata": {},
   "outputs": [
    {
     "data": {
      "text/plain": [
       "<matplotlib.axes._subplots.AxesSubplot at 0x1c26399630>"
      ]
     },
     "execution_count": 18,
     "metadata": {},
     "output_type": "execute_result"
    },
    {
     "data": {
      "image/png": "[encoded data removed]",
      "text/plain": [
       "<Figure size 432x288 with 2 Axes>"
      ]
     },
     "metadata": {
      "needs_background": "light"
     },
     "output_type": "display_data"
    }
   ],
   "source": [
    "sns.heatmap(df_telco.select_dtypes(['int64', 'float64']).corr())"
   ]
  },
  {
   "cell_type": "code",
   "execution_count": 19,
   "metadata": {},
   "outputs": [],
   "source": [
    "#assigning features\n",
    "\n",
    "#X is standardized\n",
    "X = StandardScaler().fit_transform(pd.concat([df_telco[['tenure_boxcox','MonthlyCharges_boxcox','TotalCharges_boxcox']], \n",
    "                                              df_telco.select_dtypes(['uint8'])], axis=1, sort=False)\n",
    "                                  )\n",
    "\n",
    "#XX is the same data as X but not standardized\n",
    "XX = pd.concat([df_telco[['tenure_boxcox', 'MonthlyCharges_boxcox','TotalCharges_boxcox']], \n",
    "                df_telco.select_dtypes(['uint8'])], axis=1, sort=False\n",
    "              )\n",
    "\n",
    "#Y is the target\n",
    "Y = df_telco.churn_bool"
   ]
  },
  {
   "cell_type": "code",
   "execution_count": 20,
   "metadata": {},
   "outputs": [],
   "source": [
    "#NTS: these functions are useful diagnostic tools\n",
    "\n",
    "#np.isinf(X).any()\n",
    "#np.isinf(Y).any()\n",
    "\n",
    "#np.isnan(X).any()\n",
    "#np.isnan(Y).any()"
   ]
  },
  {
   "cell_type": "markdown",
   "metadata": {},
   "source": [
    "For comparision, two feature sets are engineered.  The first feature set will use PCA, and the second will use SelectKBest."
   ]
  },
  {
   "cell_type": "markdown",
   "metadata": {},
   "source": [
    "## Feature Engineering: PCA"
   ]
  },
  {
   "cell_type": "code",
   "execution_count": 21,
   "metadata": {},
   "outputs": [],
   "source": [
    "#setting up parameters for GridSearchCV(X)... the plan is PCA(GridSearchCV(X))\n",
    "\n",
    "n_comps = np.arange(0, 25)\n",
    "param_grid_pca = [{'pca__n_components':n_comps}]\n",
    "pipe_tree_pca = make_pipeline(PCA())"
   ]
  },
  {
   "cell_type": "code",
   "execution_count": 22,
   "metadata": {},
   "outputs": [],
   "source": [
    "gs_pca = GridSearchCV(pipe_tree_pca, param_grid=param_grid_pca, cv=10)"
   ]
  },
  {
   "cell_type": "code",
   "execution_count": 52,
   "metadata": {},
   "outputs": [
    {
     "ename": "ValueError",
     "evalue": "array must not contain infs or NaNs",
     "output_type": "error",
     "traceback": [
      "\u001b[0;31m---------------------------------------------------------------------------\u001b[0m",
      "\u001b[0;31mValueError\u001b[0m                                Traceback (most recent call last)",
      "\u001b[0;32m<ipython-input-52-2ee10f1e4b95>\u001b[0m in \u001b[0;36m<module>\u001b[0;34m\u001b[0m\n\u001b[0;32m----> 1\u001b[0;31m \u001b[0mgs_pca\u001b[0m\u001b[0;34m.\u001b[0m\u001b[0mfit\u001b[0m\u001b[0;34m(\u001b[0m\u001b[0mX\u001b[0m\u001b[0;34m,\u001b[0m\u001b[0mY\u001b[0m\u001b[0;34m)\u001b[0m\u001b[0;34m\u001b[0m\u001b[0;34m\u001b[0m\u001b[0m\n\u001b[0m\u001b[1;32m      2\u001b[0m \u001b[0mprint\u001b[0m\u001b[0;34m(\u001b[0m\u001b[0mgs_pca\u001b[0m\u001b[0;34m.\u001b[0m\u001b[0mbest_params_\u001b[0m\u001b[0;34m)\u001b[0m\u001b[0;34m\u001b[0m\u001b[0;34m\u001b[0m\u001b[0m\n",
      "\u001b[0;32m/anaconda3/lib/python3.7/site-packages/sklearn/model_selection/_search.py\u001b[0m in \u001b[0;36mfit\u001b[0;34m(self, X, y, groups, **fit_params)\u001b[0m\n\u001b[1;32m    686\u001b[0m                 \u001b[0;32mreturn\u001b[0m \u001b[0mresults\u001b[0m\u001b[0;34m\u001b[0m\u001b[0;34m\u001b[0m\u001b[0m\n\u001b[1;32m    687\u001b[0m \u001b[0;34m\u001b[0m\u001b[0m\n\u001b[0;32m--> 688\u001b[0;31m             \u001b[0mself\u001b[0m\u001b[0;34m.\u001b[0m\u001b[0m_run_search\u001b[0m\u001b[0;34m(\u001b[0m\u001b[0mevaluate_candidates\u001b[0m\u001b[0;34m)\u001b[0m\u001b[0;34m\u001b[0m\u001b[0;34m\u001b[0m\u001b[0m\n\u001b[0m\u001b[1;32m    689\u001b[0m \u001b[0;34m\u001b[0m\u001b[0m\n\u001b[1;32m    690\u001b[0m         \u001b[0;31m# For multi-metric evaluation, store the best_index_, best_params_ and\u001b[0m\u001b[0;34m\u001b[0m\u001b[0;34m\u001b[0m\u001b[0;34m\u001b[0m\u001b[0m\n",
      "\u001b[0;32m/anaconda3/lib/python3.7/site-packages/sklearn/model_selection/_search.py\u001b[0m in \u001b[0;36m_run_search\u001b[0;34m(self, evaluate_candidates)\u001b[0m\n\u001b[1;32m   1147\u001b[0m     \u001b[0;32mdef\u001b[0m \u001b[0m_run_search\u001b[0m\u001b[0;34m(\u001b[0m\u001b[0mself\u001b[0m\u001b[0;34m,\u001b[0m \u001b[0mevaluate_candidates\u001b[0m\u001b[0;34m)\u001b[0m\u001b[0;34m:\u001b[0m\u001b[0;34m\u001b[0m\u001b[0;34m\u001b[0m\u001b[0m\n\u001b[1;32m   1148\u001b[0m         \u001b[0;34m\"\"\"Search all candidates in param_grid\"\"\"\u001b[0m\u001b[0;34m\u001b[0m\u001b[0;34m\u001b[0m\u001b[0m\n\u001b[0;32m-> 1149\u001b[0;31m         \u001b[0mevaluate_candidates\u001b[0m\u001b[0;34m(\u001b[0m\u001b[0mParameterGrid\u001b[0m\u001b[0;34m(\u001b[0m\u001b[0mself\u001b[0m\u001b[0;34m.\u001b[0m\u001b[0mparam_grid\u001b[0m\u001b[0;34m)\u001b[0m\u001b[0;34m)\u001b[0m\u001b[0;34m\u001b[0m\u001b[0;34m\u001b[0m\u001b[0m\n\u001b[0m\u001b[1;32m   1150\u001b[0m \u001b[0;34m\u001b[0m\u001b[0m\n\u001b[1;32m   1151\u001b[0m \u001b[0;34m\u001b[0m\u001b[0m\n",
      "\u001b[0;32m/anaconda3/lib/python3.7/site-packages/sklearn/model_selection/_search.py\u001b[0m in \u001b[0;36mevaluate_candidates\u001b[0;34m(candidate_params)\u001b[0m\n\u001b[1;32m    665\u001b[0m                                \u001b[0;32mfor\u001b[0m \u001b[0mparameters\u001b[0m\u001b[0;34m,\u001b[0m \u001b[0;34m(\u001b[0m\u001b[0mtrain\u001b[0m\u001b[0;34m,\u001b[0m \u001b[0mtest\u001b[0m\u001b[0;34m)\u001b[0m\u001b[0;34m\u001b[0m\u001b[0;34m\u001b[0m\u001b[0m\n\u001b[1;32m    666\u001b[0m                                in product(candidate_params,\n\u001b[0;32m--> 667\u001b[0;31m                                           cv.split(X, y, groups)))\n\u001b[0m\u001b[1;32m    668\u001b[0m \u001b[0;34m\u001b[0m\u001b[0m\n\u001b[1;32m    669\u001b[0m                 \u001b[0;32mif\u001b[0m \u001b[0mlen\u001b[0m\u001b[0;34m(\u001b[0m\u001b[0mout\u001b[0m\u001b[0;34m)\u001b[0m \u001b[0;34m<\u001b[0m \u001b[0;36m1\u001b[0m\u001b[0;34m:\u001b[0m\u001b[0;34m\u001b[0m\u001b[0;34m\u001b[0m\u001b[0m\n",
      "\u001b[0;32m/anaconda3/lib/python3.7/site-packages/joblib/parallel.py\u001b[0m in \u001b[0;36m__call__\u001b[0;34m(self, iterable)\u001b[0m\n\u001b[1;32m    922\u001b[0m                 \u001b[0mself\u001b[0m\u001b[0;34m.\u001b[0m\u001b[0m_iterating\u001b[0m \u001b[0;34m=\u001b[0m \u001b[0mself\u001b[0m\u001b[0;34m.\u001b[0m\u001b[0m_original_iterator\u001b[0m \u001b[0;32mis\u001b[0m \u001b[0;32mnot\u001b[0m \u001b[0;32mNone\u001b[0m\u001b[0;34m\u001b[0m\u001b[0;34m\u001b[0m\u001b[0m\n\u001b[1;32m    923\u001b[0m \u001b[0;34m\u001b[0m\u001b[0m\n\u001b[0;32m--> 924\u001b[0;31m             \u001b[0;32mwhile\u001b[0m \u001b[0mself\u001b[0m\u001b[0;34m.\u001b[0m\u001b[0mdispatch_one_batch\u001b[0m\u001b[0;34m(\u001b[0m\u001b[0miterator\u001b[0m\u001b[0;34m)\u001b[0m\u001b[0;34m:\u001b[0m\u001b[0;34m\u001b[0m\u001b[0;34m\u001b[0m\u001b[0m\n\u001b[0m\u001b[1;32m    925\u001b[0m                 \u001b[0;32mpass\u001b[0m\u001b[0;34m\u001b[0m\u001b[0;34m\u001b[0m\u001b[0m\n\u001b[1;32m    926\u001b[0m \u001b[0;34m\u001b[0m\u001b[0m\n",
      "\u001b[0;32m/anaconda3/lib/python3.7/site-packages/joblib/parallel.py\u001b[0m in \u001b[0;36mdispatch_one_batch\u001b[0;34m(self, iterator)\u001b[0m\n\u001b[1;32m    757\u001b[0m                 \u001b[0;32mreturn\u001b[0m \u001b[0;32mFalse\u001b[0m\u001b[0;34m\u001b[0m\u001b[0;34m\u001b[0m\u001b[0m\n\u001b[1;32m    758\u001b[0m             \u001b[0;32melse\u001b[0m\u001b[0;34m:\u001b[0m\u001b[0;34m\u001b[0m\u001b[0;34m\u001b[0m\u001b[0m\n\u001b[0;32m--> 759\u001b[0;31m                 \u001b[0mself\u001b[0m\u001b[0;34m.\u001b[0m\u001b[0m_dispatch\u001b[0m\u001b[0;34m(\u001b[0m\u001b[0mtasks\u001b[0m\u001b[0;34m)\u001b[0m\u001b[0;34m\u001b[0m\u001b[0;34m\u001b[0m\u001b[0m\n\u001b[0m\u001b[1;32m    760\u001b[0m                 \u001b[0;32mreturn\u001b[0m \u001b[0;32mTrue\u001b[0m\u001b[0;34m\u001b[0m\u001b[0;34m\u001b[0m\u001b[0m\n\u001b[1;32m    761\u001b[0m \u001b[0;34m\u001b[0m\u001b[0m\n",
      "\u001b[0;32m/anaconda3/lib/python3.7/site-packages/joblib/parallel.py\u001b[0m in \u001b[0;36m_dispatch\u001b[0;34m(self, batch)\u001b[0m\n\u001b[1;32m    714\u001b[0m         \u001b[0;32mwith\u001b[0m \u001b[0mself\u001b[0m\u001b[0;34m.\u001b[0m\u001b[0m_lock\u001b[0m\u001b[0;34m:\u001b[0m\u001b[0;34m\u001b[0m\u001b[0;34m\u001b[0m\u001b[0m\n\u001b[1;32m    715\u001b[0m             \u001b[0mjob_idx\u001b[0m \u001b[0;34m=\u001b[0m \u001b[0mlen\u001b[0m\u001b[0;34m(\u001b[0m\u001b[0mself\u001b[0m\u001b[0;34m.\u001b[0m\u001b[0m_jobs\u001b[0m\u001b[0;34m)\u001b[0m\u001b[0;34m\u001b[0m\u001b[0;34m\u001b[0m\u001b[0m\n\u001b[0;32m--> 716\u001b[0;31m             \u001b[0mjob\u001b[0m \u001b[0;34m=\u001b[0m \u001b[0mself\u001b[0m\u001b[0;34m.\u001b[0m\u001b[0m_backend\u001b[0m\u001b[0;34m.\u001b[0m\u001b[0mapply_async\u001b[0m\u001b[0;34m(\u001b[0m\u001b[0mbatch\u001b[0m\u001b[0;34m,\u001b[0m \u001b[0mcallback\u001b[0m\u001b[0;34m=\u001b[0m\u001b[0mcb\u001b[0m\u001b[0;34m)\u001b[0m\u001b[0;34m\u001b[0m\u001b[0;34m\u001b[0m\u001b[0m\n\u001b[0m\u001b[1;32m    717\u001b[0m             \u001b[0;31m# A job can complete so quickly than its callback is\u001b[0m\u001b[0;34m\u001b[0m\u001b[0;34m\u001b[0m\u001b[0;34m\u001b[0m\u001b[0m\n\u001b[1;32m    718\u001b[0m             \u001b[0;31m# called before we get here, causing self._jobs to\u001b[0m\u001b[0;34m\u001b[0m\u001b[0;34m\u001b[0m\u001b[0;34m\u001b[0m\u001b[0m\n",
      "\u001b[0;32m/anaconda3/lib/python3.7/site-packages/joblib/_parallel_backends.py\u001b[0m in \u001b[0;36mapply_async\u001b[0;34m(self, func, callback)\u001b[0m\n\u001b[1;32m    180\u001b[0m     \u001b[0;32mdef\u001b[0m \u001b[0mapply_async\u001b[0m\u001b[0;34m(\u001b[0m\u001b[0mself\u001b[0m\u001b[0;34m,\u001b[0m \u001b[0mfunc\u001b[0m\u001b[0;34m,\u001b[0m \u001b[0mcallback\u001b[0m\u001b[0;34m=\u001b[0m\u001b[0;32mNone\u001b[0m\u001b[0;34m)\u001b[0m\u001b[0;34m:\u001b[0m\u001b[0;34m\u001b[0m\u001b[0;34m\u001b[0m\u001b[0m\n\u001b[1;32m    181\u001b[0m         \u001b[0;34m\"\"\"Schedule a func to be run\"\"\"\u001b[0m\u001b[0;34m\u001b[0m\u001b[0;34m\u001b[0m\u001b[0m\n\u001b[0;32m--> 182\u001b[0;31m         \u001b[0mresult\u001b[0m \u001b[0;34m=\u001b[0m \u001b[0mImmediateResult\u001b[0m\u001b[0;34m(\u001b[0m\u001b[0mfunc\u001b[0m\u001b[0;34m)\u001b[0m\u001b[0;34m\u001b[0m\u001b[0;34m\u001b[0m\u001b[0m\n\u001b[0m\u001b[1;32m    183\u001b[0m         \u001b[0;32mif\u001b[0m \u001b[0mcallback\u001b[0m\u001b[0;34m:\u001b[0m\u001b[0;34m\u001b[0m\u001b[0;34m\u001b[0m\u001b[0m\n\u001b[1;32m    184\u001b[0m             \u001b[0mcallback\u001b[0m\u001b[0;34m(\u001b[0m\u001b[0mresult\u001b[0m\u001b[0;34m)\u001b[0m\u001b[0;34m\u001b[0m\u001b[0;34m\u001b[0m\u001b[0m\n",
      "\u001b[0;32m/anaconda3/lib/python3.7/site-packages/joblib/_parallel_backends.py\u001b[0m in \u001b[0;36m__init__\u001b[0;34m(self, batch)\u001b[0m\n\u001b[1;32m    547\u001b[0m         \u001b[0;31m# Don't delay the application, to avoid keeping the input\u001b[0m\u001b[0;34m\u001b[0m\u001b[0;34m\u001b[0m\u001b[0;34m\u001b[0m\u001b[0m\n\u001b[1;32m    548\u001b[0m         \u001b[0;31m# arguments in memory\u001b[0m\u001b[0;34m\u001b[0m\u001b[0;34m\u001b[0m\u001b[0;34m\u001b[0m\u001b[0m\n\u001b[0;32m--> 549\u001b[0;31m         \u001b[0mself\u001b[0m\u001b[0;34m.\u001b[0m\u001b[0mresults\u001b[0m \u001b[0;34m=\u001b[0m \u001b[0mbatch\u001b[0m\u001b[0;34m(\u001b[0m\u001b[0;34m)\u001b[0m\u001b[0;34m\u001b[0m\u001b[0;34m\u001b[0m\u001b[0m\n\u001b[0m\u001b[1;32m    550\u001b[0m \u001b[0;34m\u001b[0m\u001b[0m\n\u001b[1;32m    551\u001b[0m     \u001b[0;32mdef\u001b[0m \u001b[0mget\u001b[0m\u001b[0;34m(\u001b[0m\u001b[0mself\u001b[0m\u001b[0;34m)\u001b[0m\u001b[0;34m:\u001b[0m\u001b[0;34m\u001b[0m\u001b[0;34m\u001b[0m\u001b[0m\n",
      "\u001b[0;32m/anaconda3/lib/python3.7/site-packages/joblib/parallel.py\u001b[0m in \u001b[0;36m__call__\u001b[0;34m(self)\u001b[0m\n\u001b[1;32m    223\u001b[0m         \u001b[0;32mwith\u001b[0m \u001b[0mparallel_backend\u001b[0m\u001b[0;34m(\u001b[0m\u001b[0mself\u001b[0m\u001b[0;34m.\u001b[0m\u001b[0m_backend\u001b[0m\u001b[0;34m,\u001b[0m \u001b[0mn_jobs\u001b[0m\u001b[0;34m=\u001b[0m\u001b[0mself\u001b[0m\u001b[0;34m.\u001b[0m\u001b[0m_n_jobs\u001b[0m\u001b[0;34m)\u001b[0m\u001b[0;34m:\u001b[0m\u001b[0;34m\u001b[0m\u001b[0;34m\u001b[0m\u001b[0m\n\u001b[1;32m    224\u001b[0m             return [func(*args, **kwargs)\n\u001b[0;32m--> 225\u001b[0;31m                     for func, args, kwargs in self.items]\n\u001b[0m\u001b[1;32m    226\u001b[0m \u001b[0;34m\u001b[0m\u001b[0m\n\u001b[1;32m    227\u001b[0m     \u001b[0;32mdef\u001b[0m \u001b[0m__len__\u001b[0m\u001b[0;34m(\u001b[0m\u001b[0mself\u001b[0m\u001b[0;34m)\u001b[0m\u001b[0;34m:\u001b[0m\u001b[0;34m\u001b[0m\u001b[0;34m\u001b[0m\u001b[0m\n",
      "\u001b[0;32m/anaconda3/lib/python3.7/site-packages/joblib/parallel.py\u001b[0m in \u001b[0;36m<listcomp>\u001b[0;34m(.0)\u001b[0m\n\u001b[1;32m    223\u001b[0m         \u001b[0;32mwith\u001b[0m \u001b[0mparallel_backend\u001b[0m\u001b[0;34m(\u001b[0m\u001b[0mself\u001b[0m\u001b[0;34m.\u001b[0m\u001b[0m_backend\u001b[0m\u001b[0;34m,\u001b[0m \u001b[0mn_jobs\u001b[0m\u001b[0;34m=\u001b[0m\u001b[0mself\u001b[0m\u001b[0;34m.\u001b[0m\u001b[0m_n_jobs\u001b[0m\u001b[0;34m)\u001b[0m\u001b[0;34m:\u001b[0m\u001b[0;34m\u001b[0m\u001b[0;34m\u001b[0m\u001b[0m\n\u001b[1;32m    224\u001b[0m             return [func(*args, **kwargs)\n\u001b[0;32m--> 225\u001b[0;31m                     for func, args, kwargs in self.items]\n\u001b[0m\u001b[1;32m    226\u001b[0m \u001b[0;34m\u001b[0m\u001b[0m\n\u001b[1;32m    227\u001b[0m     \u001b[0;32mdef\u001b[0m \u001b[0m__len__\u001b[0m\u001b[0;34m(\u001b[0m\u001b[0mself\u001b[0m\u001b[0;34m)\u001b[0m\u001b[0;34m:\u001b[0m\u001b[0;34m\u001b[0m\u001b[0;34m\u001b[0m\u001b[0m\n",
      "\u001b[0;32m/anaconda3/lib/python3.7/site-packages/sklearn/model_selection/_validation.py\u001b[0m in \u001b[0;36m_fit_and_score\u001b[0;34m(estimator, X, y, scorer, train, test, verbose, parameters, fit_params, return_train_score, return_parameters, return_n_test_samples, return_times, return_estimator, error_score)\u001b[0m\n\u001b[1;32m    554\u001b[0m         \u001b[0mfit_time\u001b[0m \u001b[0;34m=\u001b[0m \u001b[0mtime\u001b[0m\u001b[0;34m.\u001b[0m\u001b[0mtime\u001b[0m\u001b[0;34m(\u001b[0m\u001b[0;34m)\u001b[0m \u001b[0;34m-\u001b[0m \u001b[0mstart_time\u001b[0m\u001b[0;34m\u001b[0m\u001b[0;34m\u001b[0m\u001b[0m\n\u001b[1;32m    555\u001b[0m         \u001b[0;31m# _score will return dict if is_multimetric is True\u001b[0m\u001b[0;34m\u001b[0m\u001b[0;34m\u001b[0m\u001b[0;34m\u001b[0m\u001b[0m\n\u001b[0;32m--> 556\u001b[0;31m         \u001b[0mtest_scores\u001b[0m \u001b[0;34m=\u001b[0m \u001b[0m_score\u001b[0m\u001b[0;34m(\u001b[0m\u001b[0mestimator\u001b[0m\u001b[0;34m,\u001b[0m \u001b[0mX_test\u001b[0m\u001b[0;34m,\u001b[0m \u001b[0my_test\u001b[0m\u001b[0;34m,\u001b[0m \u001b[0mscorer\u001b[0m\u001b[0;34m,\u001b[0m \u001b[0mis_multimetric\u001b[0m\u001b[0;34m)\u001b[0m\u001b[0;34m\u001b[0m\u001b[0;34m\u001b[0m\u001b[0m\n\u001b[0m\u001b[1;32m    557\u001b[0m         \u001b[0mscore_time\u001b[0m \u001b[0;34m=\u001b[0m \u001b[0mtime\u001b[0m\u001b[0;34m.\u001b[0m\u001b[0mtime\u001b[0m\u001b[0;34m(\u001b[0m\u001b[0;34m)\u001b[0m \u001b[0;34m-\u001b[0m \u001b[0mstart_time\u001b[0m \u001b[0;34m-\u001b[0m \u001b[0mfit_time\u001b[0m\u001b[0;34m\u001b[0m\u001b[0;34m\u001b[0m\u001b[0m\n\u001b[1;32m    558\u001b[0m         \u001b[0;32mif\u001b[0m \u001b[0mreturn_train_score\u001b[0m\u001b[0;34m:\u001b[0m\u001b[0;34m\u001b[0m\u001b[0;34m\u001b[0m\u001b[0m\n",
      "\u001b[0;32m/anaconda3/lib/python3.7/site-packages/sklearn/model_selection/_validation.py\u001b[0m in \u001b[0;36m_score\u001b[0;34m(estimator, X_test, y_test, scorer, is_multimetric)\u001b[0m\n\u001b[1;32m    597\u001b[0m     \"\"\"\n\u001b[1;32m    598\u001b[0m     \u001b[0;32mif\u001b[0m \u001b[0mis_multimetric\u001b[0m\u001b[0;34m:\u001b[0m\u001b[0;34m\u001b[0m\u001b[0;34m\u001b[0m\u001b[0m\n\u001b[0;32m--> 599\u001b[0;31m         \u001b[0;32mreturn\u001b[0m \u001b[0m_multimetric_score\u001b[0m\u001b[0;34m(\u001b[0m\u001b[0mestimator\u001b[0m\u001b[0;34m,\u001b[0m \u001b[0mX_test\u001b[0m\u001b[0;34m,\u001b[0m \u001b[0my_test\u001b[0m\u001b[0;34m,\u001b[0m \u001b[0mscorer\u001b[0m\u001b[0;34m)\u001b[0m\u001b[0;34m\u001b[0m\u001b[0;34m\u001b[0m\u001b[0m\n\u001b[0m\u001b[1;32m    600\u001b[0m     \u001b[0;32melse\u001b[0m\u001b[0;34m:\u001b[0m\u001b[0;34m\u001b[0m\u001b[0;34m\u001b[0m\u001b[0m\n\u001b[1;32m    601\u001b[0m         \u001b[0;32mif\u001b[0m \u001b[0my_test\u001b[0m \u001b[0;32mis\u001b[0m \u001b[0;32mNone\u001b[0m\u001b[0;34m:\u001b[0m\u001b[0;34m\u001b[0m\u001b[0;34m\u001b[0m\u001b[0m\n",
      "\u001b[0;32m/anaconda3/lib/python3.7/site-packages/sklearn/model_selection/_validation.py\u001b[0m in \u001b[0;36m_multimetric_score\u001b[0;34m(estimator, X_test, y_test, scorers)\u001b[0m\n\u001b[1;32m    627\u001b[0m             \u001b[0mscore\u001b[0m \u001b[0;34m=\u001b[0m \u001b[0mscorer\u001b[0m\u001b[0;34m(\u001b[0m\u001b[0mestimator\u001b[0m\u001b[0;34m,\u001b[0m \u001b[0mX_test\u001b[0m\u001b[0;34m)\u001b[0m\u001b[0;34m\u001b[0m\u001b[0;34m\u001b[0m\u001b[0m\n\u001b[1;32m    628\u001b[0m         \u001b[0;32melse\u001b[0m\u001b[0;34m:\u001b[0m\u001b[0;34m\u001b[0m\u001b[0;34m\u001b[0m\u001b[0m\n\u001b[0;32m--> 629\u001b[0;31m             \u001b[0mscore\u001b[0m \u001b[0;34m=\u001b[0m \u001b[0mscorer\u001b[0m\u001b[0;34m(\u001b[0m\u001b[0mestimator\u001b[0m\u001b[0;34m,\u001b[0m \u001b[0mX_test\u001b[0m\u001b[0;34m,\u001b[0m \u001b[0my_test\u001b[0m\u001b[0;34m)\u001b[0m\u001b[0;34m\u001b[0m\u001b[0;34m\u001b[0m\u001b[0m\n\u001b[0m\u001b[1;32m    630\u001b[0m \u001b[0;34m\u001b[0m\u001b[0m\n\u001b[1;32m    631\u001b[0m         \u001b[0;32mif\u001b[0m \u001b[0mhasattr\u001b[0m\u001b[0;34m(\u001b[0m\u001b[0mscore\u001b[0m\u001b[0;34m,\u001b[0m \u001b[0;34m'item'\u001b[0m\u001b[0;34m)\u001b[0m\u001b[0;34m:\u001b[0m\u001b[0;34m\u001b[0m\u001b[0;34m\u001b[0m\u001b[0m\n",
      "\u001b[0;32m/anaconda3/lib/python3.7/site-packages/sklearn/metrics/scorer.py\u001b[0m in \u001b[0;36m_passthrough_scorer\u001b[0;34m(estimator, *args, **kwargs)\u001b[0m\n\u001b[1;32m    238\u001b[0m \u001b[0;32mdef\u001b[0m \u001b[0m_passthrough_scorer\u001b[0m\u001b[0;34m(\u001b[0m\u001b[0mestimator\u001b[0m\u001b[0;34m,\u001b[0m \u001b[0;34m*\u001b[0m\u001b[0margs\u001b[0m\u001b[0;34m,\u001b[0m \u001b[0;34m**\u001b[0m\u001b[0mkwargs\u001b[0m\u001b[0;34m)\u001b[0m\u001b[0;34m:\u001b[0m\u001b[0;34m\u001b[0m\u001b[0;34m\u001b[0m\u001b[0m\n\u001b[1;32m    239\u001b[0m     \u001b[0;34m\"\"\"Function that wraps estimator.score\"\"\"\u001b[0m\u001b[0;34m\u001b[0m\u001b[0;34m\u001b[0m\u001b[0m\n\u001b[0;32m--> 240\u001b[0;31m     \u001b[0;32mreturn\u001b[0m \u001b[0mestimator\u001b[0m\u001b[0;34m.\u001b[0m\u001b[0mscore\u001b[0m\u001b[0;34m(\u001b[0m\u001b[0;34m*\u001b[0m\u001b[0margs\u001b[0m\u001b[0;34m,\u001b[0m \u001b[0;34m**\u001b[0m\u001b[0mkwargs\u001b[0m\u001b[0;34m)\u001b[0m\u001b[0;34m\u001b[0m\u001b[0;34m\u001b[0m\u001b[0m\n\u001b[0m\u001b[1;32m    241\u001b[0m \u001b[0;34m\u001b[0m\u001b[0m\n\u001b[1;32m    242\u001b[0m \u001b[0;34m\u001b[0m\u001b[0m\n",
      "\u001b[0;32m/anaconda3/lib/python3.7/site-packages/sklearn/utils/metaestimators.py\u001b[0m in \u001b[0;36m<lambda>\u001b[0;34m(*args, **kwargs)\u001b[0m\n\u001b[1;32m    114\u001b[0m \u001b[0;34m\u001b[0m\u001b[0m\n\u001b[1;32m    115\u001b[0m         \u001b[0;31m# lambda, but not partial, allows help() to work with update_wrapper\u001b[0m\u001b[0;34m\u001b[0m\u001b[0;34m\u001b[0m\u001b[0;34m\u001b[0m\u001b[0m\n\u001b[0;32m--> 116\u001b[0;31m         \u001b[0mout\u001b[0m \u001b[0;34m=\u001b[0m \u001b[0;32mlambda\u001b[0m \u001b[0;34m*\u001b[0m\u001b[0margs\u001b[0m\u001b[0;34m,\u001b[0m \u001b[0;34m**\u001b[0m\u001b[0mkwargs\u001b[0m\u001b[0;34m:\u001b[0m \u001b[0mself\u001b[0m\u001b[0;34m.\u001b[0m\u001b[0mfn\u001b[0m\u001b[0;34m(\u001b[0m\u001b[0mobj\u001b[0m\u001b[0;34m,\u001b[0m \u001b[0;34m*\u001b[0m\u001b[0margs\u001b[0m\u001b[0;34m,\u001b[0m \u001b[0;34m**\u001b[0m\u001b[0mkwargs\u001b[0m\u001b[0;34m)\u001b[0m\u001b[0;34m\u001b[0m\u001b[0;34m\u001b[0m\u001b[0m\n\u001b[0m\u001b[1;32m    117\u001b[0m         \u001b[0;31m# update the docstring of the returned function\u001b[0m\u001b[0;34m\u001b[0m\u001b[0;34m\u001b[0m\u001b[0;34m\u001b[0m\u001b[0m\n\u001b[1;32m    118\u001b[0m         \u001b[0mupdate_wrapper\u001b[0m\u001b[0;34m(\u001b[0m\u001b[0mout\u001b[0m\u001b[0;34m,\u001b[0m \u001b[0mself\u001b[0m\u001b[0;34m.\u001b[0m\u001b[0mfn\u001b[0m\u001b[0;34m)\u001b[0m\u001b[0;34m\u001b[0m\u001b[0;34m\u001b[0m\u001b[0m\n",
      "\u001b[0;32m/anaconda3/lib/python3.7/site-packages/sklearn/pipeline.py\u001b[0m in \u001b[0;36mscore\u001b[0;34m(self, X, y, sample_weight)\u001b[0m\n\u001b[1;32m    600\u001b[0m         \u001b[0;32mif\u001b[0m \u001b[0msample_weight\u001b[0m \u001b[0;32mis\u001b[0m \u001b[0;32mnot\u001b[0m \u001b[0;32mNone\u001b[0m\u001b[0;34m:\u001b[0m\u001b[0;34m\u001b[0m\u001b[0;34m\u001b[0m\u001b[0m\n\u001b[1;32m    601\u001b[0m             \u001b[0mscore_params\u001b[0m\u001b[0;34m[\u001b[0m\u001b[0;34m'sample_weight'\u001b[0m\u001b[0;34m]\u001b[0m \u001b[0;34m=\u001b[0m \u001b[0msample_weight\u001b[0m\u001b[0;34m\u001b[0m\u001b[0;34m\u001b[0m\u001b[0m\n\u001b[0;32m--> 602\u001b[0;31m         \u001b[0;32mreturn\u001b[0m \u001b[0mself\u001b[0m\u001b[0;34m.\u001b[0m\u001b[0msteps\u001b[0m\u001b[0;34m[\u001b[0m\u001b[0;34m-\u001b[0m\u001b[0;36m1\u001b[0m\u001b[0;34m]\u001b[0m\u001b[0;34m[\u001b[0m\u001b[0;34m-\u001b[0m\u001b[0;36m1\u001b[0m\u001b[0;34m]\u001b[0m\u001b[0;34m.\u001b[0m\u001b[0mscore\u001b[0m\u001b[0;34m(\u001b[0m\u001b[0mXt\u001b[0m\u001b[0;34m,\u001b[0m \u001b[0my\u001b[0m\u001b[0;34m,\u001b[0m \u001b[0;34m**\u001b[0m\u001b[0mscore_params\u001b[0m\u001b[0;34m)\u001b[0m\u001b[0;34m\u001b[0m\u001b[0;34m\u001b[0m\u001b[0m\n\u001b[0m\u001b[1;32m    603\u001b[0m \u001b[0;34m\u001b[0m\u001b[0m\n\u001b[1;32m    604\u001b[0m     \u001b[0;34m@\u001b[0m\u001b[0mproperty\u001b[0m\u001b[0;34m\u001b[0m\u001b[0;34m\u001b[0m\u001b[0m\n",
      "\u001b[0;32m/anaconda3/lib/python3.7/site-packages/sklearn/decomposition/pca.py\u001b[0m in \u001b[0;36mscore\u001b[0;34m(self, X, y)\u001b[0m\n\u001b[1;32m    593\u001b[0m             \u001b[0mAverage\u001b[0m \u001b[0mlog\u001b[0m\u001b[0;34m-\u001b[0m\u001b[0mlikelihood\u001b[0m \u001b[0mof\u001b[0m \u001b[0mthe\u001b[0m \u001b[0msamples\u001b[0m \u001b[0munder\u001b[0m \u001b[0mthe\u001b[0m \u001b[0mcurrent\u001b[0m \u001b[0mmodel\u001b[0m\u001b[0;34m\u001b[0m\u001b[0;34m\u001b[0m\u001b[0m\n\u001b[1;32m    594\u001b[0m         \"\"\"\n\u001b[0;32m--> 595\u001b[0;31m         \u001b[0;32mreturn\u001b[0m \u001b[0mnp\u001b[0m\u001b[0;34m.\u001b[0m\u001b[0mmean\u001b[0m\u001b[0;34m(\u001b[0m\u001b[0mself\u001b[0m\u001b[0;34m.\u001b[0m\u001b[0mscore_samples\u001b[0m\u001b[0;34m(\u001b[0m\u001b[0mX\u001b[0m\u001b[0;34m)\u001b[0m\u001b[0;34m)\u001b[0m\u001b[0;34m\u001b[0m\u001b[0;34m\u001b[0m\u001b[0m\n\u001b[0m",
      "\u001b[0;32m/anaconda3/lib/python3.7/site-packages/sklearn/decomposition/pca.py\u001b[0m in \u001b[0;36mscore_samples\u001b[0;34m(self, X)\u001b[0m\n\u001b[1;32m    568\u001b[0m         \u001b[0mXr\u001b[0m \u001b[0;34m=\u001b[0m \u001b[0mX\u001b[0m \u001b[0;34m-\u001b[0m \u001b[0mself\u001b[0m\u001b[0;34m.\u001b[0m\u001b[0mmean_\u001b[0m\u001b[0;34m\u001b[0m\u001b[0;34m\u001b[0m\u001b[0m\n\u001b[1;32m    569\u001b[0m         \u001b[0mn_features\u001b[0m \u001b[0;34m=\u001b[0m \u001b[0mX\u001b[0m\u001b[0;34m.\u001b[0m\u001b[0mshape\u001b[0m\u001b[0;34m[\u001b[0m\u001b[0;36m1\u001b[0m\u001b[0;34m]\u001b[0m\u001b[0;34m\u001b[0m\u001b[0;34m\u001b[0m\u001b[0m\n\u001b[0;32m--> 570\u001b[0;31m         \u001b[0mprecision\u001b[0m \u001b[0;34m=\u001b[0m \u001b[0mself\u001b[0m\u001b[0;34m.\u001b[0m\u001b[0mget_precision\u001b[0m\u001b[0;34m(\u001b[0m\u001b[0;34m)\u001b[0m\u001b[0;34m\u001b[0m\u001b[0;34m\u001b[0m\u001b[0m\n\u001b[0m\u001b[1;32m    571\u001b[0m         \u001b[0mlog_like\u001b[0m \u001b[0;34m=\u001b[0m \u001b[0;34m-\u001b[0m\u001b[0;36m.5\u001b[0m \u001b[0;34m*\u001b[0m \u001b[0;34m(\u001b[0m\u001b[0mXr\u001b[0m \u001b[0;34m*\u001b[0m \u001b[0;34m(\u001b[0m\u001b[0mnp\u001b[0m\u001b[0;34m.\u001b[0m\u001b[0mdot\u001b[0m\u001b[0;34m(\u001b[0m\u001b[0mXr\u001b[0m\u001b[0;34m,\u001b[0m \u001b[0mprecision\u001b[0m\u001b[0;34m)\u001b[0m\u001b[0;34m)\u001b[0m\u001b[0;34m)\u001b[0m\u001b[0;34m.\u001b[0m\u001b[0msum\u001b[0m\u001b[0;34m(\u001b[0m\u001b[0maxis\u001b[0m\u001b[0;34m=\u001b[0m\u001b[0;36m1\u001b[0m\u001b[0;34m)\u001b[0m\u001b[0;34m\u001b[0m\u001b[0;34m\u001b[0m\u001b[0m\n\u001b[1;32m    572\u001b[0m         log_like -= .5 * (n_features * log(2. * np.pi) -\n",
      "\u001b[0;32m/anaconda3/lib/python3.7/site-packages/sklearn/decomposition/base.py\u001b[0m in \u001b[0;36mget_precision\u001b[0;34m(self)\u001b[0m\n\u001b[1;32m     73\u001b[0m         \u001b[0mprecision\u001b[0m\u001b[0;34m.\u001b[0m\u001b[0mflat\u001b[0m\u001b[0;34m[\u001b[0m\u001b[0;34m:\u001b[0m\u001b[0;34m:\u001b[0m\u001b[0mlen\u001b[0m\u001b[0;34m(\u001b[0m\u001b[0mprecision\u001b[0m\u001b[0;34m)\u001b[0m \u001b[0;34m+\u001b[0m \u001b[0;36m1\u001b[0m\u001b[0;34m]\u001b[0m \u001b[0;34m+=\u001b[0m \u001b[0;36m1.\u001b[0m \u001b[0;34m/\u001b[0m \u001b[0mexp_var_diff\u001b[0m\u001b[0;34m\u001b[0m\u001b[0;34m\u001b[0m\u001b[0m\n\u001b[1;32m     74\u001b[0m         precision = np.dot(components_.T,\n\u001b[0;32m---> 75\u001b[0;31m                            np.dot(linalg.inv(precision), components_))\n\u001b[0m\u001b[1;32m     76\u001b[0m         \u001b[0mprecision\u001b[0m \u001b[0;34m/=\u001b[0m \u001b[0;34m-\u001b[0m\u001b[0;34m(\u001b[0m\u001b[0mself\u001b[0m\u001b[0;34m.\u001b[0m\u001b[0mnoise_variance_\u001b[0m \u001b[0;34m**\u001b[0m \u001b[0;36m2\u001b[0m\u001b[0;34m)\u001b[0m\u001b[0;34m\u001b[0m\u001b[0;34m\u001b[0m\u001b[0m\n\u001b[1;32m     77\u001b[0m         \u001b[0mprecision\u001b[0m\u001b[0;34m.\u001b[0m\u001b[0mflat\u001b[0m\u001b[0;34m[\u001b[0m\u001b[0;34m:\u001b[0m\u001b[0;34m:\u001b[0m\u001b[0mlen\u001b[0m\u001b[0;34m(\u001b[0m\u001b[0mprecision\u001b[0m\u001b[0;34m)\u001b[0m \u001b[0;34m+\u001b[0m \u001b[0;36m1\u001b[0m\u001b[0;34m]\u001b[0m \u001b[0;34m+=\u001b[0m \u001b[0;36m1.\u001b[0m \u001b[0;34m/\u001b[0m \u001b[0mself\u001b[0m\u001b[0;34m.\u001b[0m\u001b[0mnoise_variance_\u001b[0m\u001b[0;34m\u001b[0m\u001b[0;34m\u001b[0m\u001b[0m\n",
      "\u001b[0;32m/anaconda3/lib/python3.7/site-packages/scipy/linalg/basic.py\u001b[0m in \u001b[0;36minv\u001b[0;34m(a, overwrite_a, check_finite)\u001b[0m\n\u001b[1;32m    943\u001b[0m \u001b[0;34m\u001b[0m\u001b[0m\n\u001b[1;32m    944\u001b[0m     \"\"\"\n\u001b[0;32m--> 945\u001b[0;31m     \u001b[0ma1\u001b[0m \u001b[0;34m=\u001b[0m \u001b[0m_asarray_validated\u001b[0m\u001b[0;34m(\u001b[0m\u001b[0ma\u001b[0m\u001b[0;34m,\u001b[0m \u001b[0mcheck_finite\u001b[0m\u001b[0;34m=\u001b[0m\u001b[0mcheck_finite\u001b[0m\u001b[0;34m)\u001b[0m\u001b[0;34m\u001b[0m\u001b[0;34m\u001b[0m\u001b[0m\n\u001b[0m\u001b[1;32m    946\u001b[0m     \u001b[0;32mif\u001b[0m \u001b[0mlen\u001b[0m\u001b[0;34m(\u001b[0m\u001b[0ma1\u001b[0m\u001b[0;34m.\u001b[0m\u001b[0mshape\u001b[0m\u001b[0;34m)\u001b[0m \u001b[0;34m!=\u001b[0m \u001b[0;36m2\u001b[0m \u001b[0;32mor\u001b[0m \u001b[0ma1\u001b[0m\u001b[0;34m.\u001b[0m\u001b[0mshape\u001b[0m\u001b[0;34m[\u001b[0m\u001b[0;36m0\u001b[0m\u001b[0;34m]\u001b[0m \u001b[0;34m!=\u001b[0m \u001b[0ma1\u001b[0m\u001b[0;34m.\u001b[0m\u001b[0mshape\u001b[0m\u001b[0;34m[\u001b[0m\u001b[0;36m1\u001b[0m\u001b[0;34m]\u001b[0m\u001b[0;34m:\u001b[0m\u001b[0;34m\u001b[0m\u001b[0;34m\u001b[0m\u001b[0m\n\u001b[1;32m    947\u001b[0m         \u001b[0;32mraise\u001b[0m \u001b[0mValueError\u001b[0m\u001b[0;34m(\u001b[0m\u001b[0;34m'expected square matrix'\u001b[0m\u001b[0;34m)\u001b[0m\u001b[0;34m\u001b[0m\u001b[0;34m\u001b[0m\u001b[0m\n",
      "\u001b[0;32m/anaconda3/lib/python3.7/site-packages/scipy/_lib/_util.py\u001b[0m in \u001b[0;36m_asarray_validated\u001b[0;34m(a, check_finite, sparse_ok, objects_ok, mask_ok, as_inexact)\u001b[0m\n\u001b[1;32m    237\u001b[0m             \u001b[0;32mraise\u001b[0m \u001b[0mValueError\u001b[0m\u001b[0;34m(\u001b[0m\u001b[0;34m'masked arrays are not supported'\u001b[0m\u001b[0;34m)\u001b[0m\u001b[0;34m\u001b[0m\u001b[0;34m\u001b[0m\u001b[0m\n\u001b[1;32m    238\u001b[0m     \u001b[0mtoarray\u001b[0m \u001b[0;34m=\u001b[0m \u001b[0mnp\u001b[0m\u001b[0;34m.\u001b[0m\u001b[0masarray_chkfinite\u001b[0m \u001b[0;32mif\u001b[0m \u001b[0mcheck_finite\u001b[0m \u001b[0;32melse\u001b[0m \u001b[0mnp\u001b[0m\u001b[0;34m.\u001b[0m\u001b[0masarray\u001b[0m\u001b[0;34m\u001b[0m\u001b[0;34m\u001b[0m\u001b[0m\n\u001b[0;32m--> 239\u001b[0;31m     \u001b[0ma\u001b[0m \u001b[0;34m=\u001b[0m \u001b[0mtoarray\u001b[0m\u001b[0;34m(\u001b[0m\u001b[0ma\u001b[0m\u001b[0;34m)\u001b[0m\u001b[0;34m\u001b[0m\u001b[0;34m\u001b[0m\u001b[0m\n\u001b[0m\u001b[1;32m    240\u001b[0m     \u001b[0;32mif\u001b[0m \u001b[0;32mnot\u001b[0m \u001b[0mobjects_ok\u001b[0m\u001b[0;34m:\u001b[0m\u001b[0;34m\u001b[0m\u001b[0;34m\u001b[0m\u001b[0m\n\u001b[1;32m    241\u001b[0m         \u001b[0;32mif\u001b[0m \u001b[0ma\u001b[0m\u001b[0;34m.\u001b[0m\u001b[0mdtype\u001b[0m \u001b[0;32mis\u001b[0m \u001b[0mnp\u001b[0m\u001b[0;34m.\u001b[0m\u001b[0mdtype\u001b[0m\u001b[0;34m(\u001b[0m\u001b[0;34m'O'\u001b[0m\u001b[0;34m)\u001b[0m\u001b[0;34m:\u001b[0m\u001b[0;34m\u001b[0m\u001b[0;34m\u001b[0m\u001b[0m\n",
      "\u001b[0;32m/anaconda3/lib/python3.7/site-packages/numpy/lib/function_base.py\u001b[0m in \u001b[0;36masarray_chkfinite\u001b[0;34m(a, dtype, order)\u001b[0m\n\u001b[1;32m    496\u001b[0m     \u001b[0;32mif\u001b[0m \u001b[0ma\u001b[0m\u001b[0;34m.\u001b[0m\u001b[0mdtype\u001b[0m\u001b[0;34m.\u001b[0m\u001b[0mchar\u001b[0m \u001b[0;32min\u001b[0m \u001b[0mtypecodes\u001b[0m\u001b[0;34m[\u001b[0m\u001b[0;34m'AllFloat'\u001b[0m\u001b[0;34m]\u001b[0m \u001b[0;32mand\u001b[0m \u001b[0;32mnot\u001b[0m \u001b[0mnp\u001b[0m\u001b[0;34m.\u001b[0m\u001b[0misfinite\u001b[0m\u001b[0;34m(\u001b[0m\u001b[0ma\u001b[0m\u001b[0;34m)\u001b[0m\u001b[0;34m.\u001b[0m\u001b[0mall\u001b[0m\u001b[0;34m(\u001b[0m\u001b[0;34m)\u001b[0m\u001b[0;34m:\u001b[0m\u001b[0;34m\u001b[0m\u001b[0;34m\u001b[0m\u001b[0m\n\u001b[1;32m    497\u001b[0m         raise ValueError(\n\u001b[0;32m--> 498\u001b[0;31m             \"array must not contain infs or NaNs\")\n\u001b[0m\u001b[1;32m    499\u001b[0m     \u001b[0;32mreturn\u001b[0m \u001b[0ma\u001b[0m\u001b[0;34m\u001b[0m\u001b[0;34m\u001b[0m\u001b[0m\n\u001b[1;32m    500\u001b[0m \u001b[0;34m\u001b[0m\u001b[0m\n",
      "\u001b[0;31mValueError\u001b[0m: array must not contain infs or NaNs"
     ]
    }
   ],
   "source": [
    "gs_pca.fit(X,Y)\n",
    "print(gs_pca.best_params_)"
   ]
  },
  {
   "cell_type": "code",
   "execution_count": 23,
   "metadata": {},
   "outputs": [
    {
     "name": "stdout",
     "output_type": "stream",
     "text": [
      "The percentage of total variance in the dataset explained by each component from Sklearn PCA:\n",
      " [3.31842341e-01 1.19866458e-01 8.98165287e-02 4.77221792e-02\n",
      " 4.16126789e-02 4.12633978e-02 3.78085715e-02 3.33596922e-02\n",
      " 3.13799130e-02 2.96360092e-02 2.66083095e-02 2.38330588e-02\n",
      " 2.26682792e-02 2.05405597e-02 2.02421265e-02 1.80819458e-02\n",
      " 1.56008299e-02 1.53408924e-02 1.46270378e-02 9.20900330e-03\n",
      " 8.64470384e-03 2.64931253e-04]\n"
     ]
    }
   ],
   "source": [
    "#using the results of GridSearchCV to perform PCA\n",
    "\n",
    "sklearn_pca = PCA(n_components=22)  \n",
    "X_pca = sklearn_pca.fit_transform(X)\n",
    "\n",
    "print(\n",
    "    'The percentage of total variance in the dataset explained by each',\n",
    "    'component from Sklearn PCA:\\n',\n",
    "    sklearn_pca.explained_variance_ratio_\n",
    ")\n",
    "\n",
    "#X_pca is now our PCA engineered feature set."
   ]
  },
  {
   "cell_type": "markdown",
   "metadata": {},
   "source": [
    "## Feature Engineering: SelectKBest"
   ]
  },
  {
   "cell_type": "code",
   "execution_count": 24,
   "metadata": {},
   "outputs": [],
   "source": [
    "#SelectKBest contrasts with PCA as a feature selection tool\n",
    "\n",
    "selection = SelectKBest(score_func=f_regression, k='all') \n",
    "X_kbest = selection.fit(XX, Y).transform(XX)\n",
    "\n",
    "#we can compare the performance of models with a PCA derived feature set (X_pca(X)),\n",
    "#    vs a SelectKBest derived feature set (X_kbest(XX))"
   ]
  },
  {
   "cell_type": "markdown",
   "metadata": {},
   "source": [
    "## Splitting and Resampling Data"
   ]
  },
  {
   "cell_type": "code",
   "execution_count": 26,
   "metadata": {},
   "outputs": [],
   "source": [
    "from imblearn.over_sampling import SMOTE\n",
    "#splitting the data into testing and training sets\n",
    "X_train_skb, X_test_skb, Y_train_skb, Y_test_skb = train_test_split(\n",
    "    X_kbest, Y, test_size = 0.20, random_state = 1\n",
    ")\n",
    "\n",
    "X_train_pca, X_test_pca, Y_train_pca, Y_test_pca = train_test_split(\n",
    "    X_pca, Y, test_size = 0.20, random_state = 1\n",
    ")\n",
    "\n",
    "#resampling the data to deal with class imbalance\n",
    "X_resampled_train_skb, Y_resampled_train_skb = SMOTE().fit_resample(X_train_skb, Y_train_skb)\n",
    "X_resampled_train_pca, Y_resampled_train_pca = SMOTE().fit_resample(X_train_pca, Y_train_pca)"
   ]
  },
  {
   "cell_type": "markdown",
   "metadata": {},
   "source": [
    "## Model 1: Decision Tree(SelectKBest)"
   ]
  },
  {
   "cell_type": "code",
   "execution_count": 34,
   "metadata": {},
   "outputs": [],
   "source": [
    "#setting up parameters for GridSearchCV(DecisionTreeClassifier())\n",
    "\n",
    "depths = np.arange(1, 25)\n",
    "num_features = [1, 2, 3, 4, 5, 6, 7, 8]\n",
    "\n",
    "param_grid_dt_skb = [{'decisiontreeclassifier__max_depth':depths,\n",
    "               'decisiontreeclassifier__max_features':num_features}]\n",
    "\n",
    "pipe_tree_dt_skb = make_pipeline(tree.DecisionTreeClassifier(criterion='entropy'))"
   ]
  },
  {
   "cell_type": "code",
   "execution_count": 35,
   "metadata": {},
   "outputs": [],
   "source": [
    "gs_dt_skb = GridSearchCV(pipe_tree_dt_skb, param_grid=param_grid_dt_skb, cv=10)"
   ]
  },
  {
   "cell_type": "code",
   "execution_count": 36,
   "metadata": {},
   "outputs": [
    {
     "name": "stdout",
     "output_type": "stream",
     "text": [
      "{'decisiontreeclassifier__max_depth': 16, 'decisiontreeclassifier__max_features': 8}\n"
     ]
    }
   ],
   "source": [
    "gs_dt_skb.fit(X_resampled_train_skb,Y_resampled_train_skb)\n",
    "print(gs_dt_skb.best_params_)"
   ]
  },
  {
   "cell_type": "code",
   "execution_count": 37,
   "metadata": {},
   "outputs": [
    {
     "data": {
      "text/plain": [
       "DecisionTreeClassifier(class_weight=None, criterion='entropy', max_depth=16,\n",
       "                       max_features=8, max_leaf_nodes=None,\n",
       "                       min_impurity_decrease=0.0, min_impurity_split=None,\n",
       "                       min_samples_leaf=1, min_samples_split=2,\n",
       "                       min_weight_fraction_leaf=0.0, presort=False,\n",
       "                       random_state=None, splitter='best')"
      ]
     },
     "execution_count": 37,
     "metadata": {},
     "output_type": "execute_result"
    }
   ],
   "source": [
    "#initialize and train the decision tree model using GridSearchCV results\n",
    "#    {'decisiontreeclassifier__max_depth': 16, 'decisiontreeclassifier__max_features': 8}\n",
    "\n",
    "decision_tree = tree.DecisionTreeClassifier(\n",
    "    criterion='entropy',\n",
    "    max_features=8,\n",
    "    max_depth=16\n",
    ")\n",
    "\n",
    "decision_tree.fit(X_resampled_train_skb, Y_resampled_train_skb)"
   ]
  },
  {
   "cell_type": "code",
   "execution_count": 38,
   "metadata": {},
   "outputs": [],
   "source": [
    "#making predictions for model evaluation\n",
    "Y_pred_dt_skb = decision_tree.fit(X_resampled_train_skb, Y_resampled_train_skb).predict(X_test_skb)"
   ]
  },
  {
   "cell_type": "code",
   "execution_count": 39,
   "metadata": {},
   "outputs": [
    {
     "name": "stdout",
     "output_type": "stream",
     "text": [
      "[0.68401937 0.71670702 0.71966019 0.77063107 0.86286408 0.87257282\n",
      " 0.86286408 0.88592233 0.87378641 0.86771845]\n",
      "The 10-fold cross validation average for the training set is  0.8151972307764639\n",
      "--- 0.35196518898010254 seconds ---\n"
     ]
    }
   ],
   "source": [
    "#evaluating the model performance through xvalidation of the training set\n",
    "\n",
    "start_time = time.time()\n",
    "print(cross_val_score(decision_tree, X_resampled_train_skb, Y_resampled_train_skb, cv=10))\n",
    "print('The 10-fold cross validation average for the training set is ', \n",
    "      cross_val_score(decision_tree, X_resampled_train_skb, Y_resampled_train_skb, cv=10).mean())\n",
    "print(\"--- %s seconds ---\" % (time.time() - start_time))"
   ]
  },
  {
   "cell_type": "code",
   "execution_count": 40,
   "metadata": {},
   "outputs": [
    {
     "name": "stdout",
     "output_type": "stream",
     "text": [
      "[0.69014085 0.76595745 0.70212766 0.73049645 0.75177305 0.76595745\n",
      " 0.72142857 0.76428571 0.80714286 0.72857143]\n",
      "The 10-fold cross validation average for the testing set  is  0.7356156085448863\n"
     ]
    }
   ],
   "source": [
    "#evaluating the model performance through xvalidation of the testing set\n",
    "\n",
    "print(cross_val_score(decision_tree, X_test_skb, Y_test_skb, cv=10))\n",
    "print('The 10-fold cross validation average for the testing set  is ', \n",
    "      cross_val_score(decision_tree, X_test_skb, Y_test_skb, cv=10).mean())"
   ]
  },
  {
   "cell_type": "code",
   "execution_count": 41,
   "metadata": {},
   "outputs": [
    {
     "name": "stdout",
     "output_type": "stream",
     "text": [
      "              precision    recall  f1-score   support\n",
      "\n",
      "           0       0.85      0.79      0.82      1041\n",
      "           1       0.51      0.61      0.55       366\n",
      "\n",
      "    accuracy                           0.74      1407\n",
      "   macro avg       0.68      0.70      0.69      1407\n",
      "weighted avg       0.76      0.74      0.75      1407\n",
      "\n"
     ]
    }
   ],
   "source": [
    "#classification report\n",
    "\n",
    "print(classification_report(Y_test_skb, Y_pred_dt_skb, labels=None, target_names=None, \n",
    "                      sample_weight=None, digits=2, output_dict=False\n",
    "                     ))"
   ]
  },
  {
   "cell_type": "code",
   "execution_count": 42,
   "metadata": {},
   "outputs": [
    {
     "name": "stdout",
     "output_type": "stream",
     "text": [
      "Test set confusion matrix: \n",
      " [[823 218]\n",
      " [142 224]]\n"
     ]
    }
   ],
   "source": [
    "#confusion matrix\n",
    "print('Test set confusion matrix:', '\\n', \n",
    "      confusion_matrix(Y_test_skb, Y_pred_dt_skb, labels=None, sample_weight=None)\n",
    "     )"
   ]
  },
  {
   "cell_type": "markdown",
   "metadata": {},
   "source": [
    "## Model 2: Decision Tree(PCA)"
   ]
  },
  {
   "cell_type": "code",
   "execution_count": 180,
   "metadata": {},
   "outputs": [],
   "source": [
    "#setting up parameters for GridSearchCV(DecisionTreeClassifier())\n",
    "\n",
    "depths = np.arange(1, 25)\n",
    "num_features = [1, 2, 3, 4, 5, 6, 7, 8]\n",
    "\n",
    "param_grid_dt_pca = [{'decisiontreeclassifier__max_depth':depths,\n",
    "               'decisiontreeclassifier__max_features':num_features}]\n",
    "\n",
    "pipe_tree_dt_pca = make_pipeline(tree.DecisionTreeClassifier(criterion='entropy'))"
   ]
  },
  {
   "cell_type": "code",
   "execution_count": 181,
   "metadata": {},
   "outputs": [],
   "source": [
    "gs_dt_pca = GridSearchCV(pipe_tree_dt_pca, param_grid=param_grid_dt_pca, cv=10)"
   ]
  },
  {
   "cell_type": "code",
   "execution_count": 182,
   "metadata": {},
   "outputs": [
    {
     "name": "stdout",
     "output_type": "stream",
     "text": [
      "{'decisiontreeclassifier__max_depth': 20, 'decisiontreeclassifier__max_features': 7}\n"
     ]
    }
   ],
   "source": [
    "gs_dt_pca.fit(X_resampled_train_pca,Y_resampled_train_pca)\n",
    "print(gs_dt_pca.best_params_)"
   ]
  },
  {
   "cell_type": "code",
   "execution_count": 183,
   "metadata": {},
   "outputs": [
    {
     "data": {
      "text/plain": [
       "DecisionTreeClassifier(class_weight=None, criterion='entropy', max_depth=20,\n",
       "                       max_features=7, max_leaf_nodes=None,\n",
       "                       min_impurity_decrease=0.0, min_impurity_split=None,\n",
       "                       min_samples_leaf=1, min_samples_split=2,\n",
       "                       min_weight_fraction_leaf=0.0, presort=False,\n",
       "                       random_state=None, splitter='best')"
      ]
     },
     "execution_count": 183,
     "metadata": {},
     "output_type": "execute_result"
    }
   ],
   "source": [
    "#initialize and train the decision tree model using GridSearchCV results\n",
    "#    {'decisiontreeclassifier__max_depth': 20, 'decisiontreeclassifier__max_features': 7}\n",
    "\n",
    "decision_tree = tree.DecisionTreeClassifier(\n",
    "    criterion='entropy',\n",
    "    max_features=7,\n",
    "    max_depth=20\n",
    ")\n",
    "\n",
    "decision_tree.fit(X_resampled_train_pca, Y_resampled_train_pca)"
   ]
  },
  {
   "cell_type": "code",
   "execution_count": 184,
   "metadata": {},
   "outputs": [],
   "source": [
    "#making predictions for model evaluation\n",
    "Y_pred_dt_pca = decision_tree.fit(X_resampled_train_pca, Y_resampled_train_pca).predict(X_test_pca)"
   ]
  },
  {
   "cell_type": "code",
   "execution_count": 185,
   "metadata": {},
   "outputs": [
    {
     "name": "stdout",
     "output_type": "stream",
     "text": [
      "[0.73607748 0.77966102 0.74150485 0.75728155 0.82038835 0.79368932\n",
      " 0.81432039 0.78762136 0.79004854 0.7961165 ]\n",
      "The 10-fold cross validation average for the training set is  0.7778000775758716\n",
      "--- 1.8795490264892578 seconds ---\n"
     ]
    }
   ],
   "source": [
    "#evaluating the model performance through xvalidation of the training set\n",
    "\n",
    "start_time = time.time()\n",
    "\n",
    "print(cross_val_score(decision_tree, X_resampled_train_pca, Y_resampled_train_pca, cv=10))\n",
    "print('The 10-fold cross validation average for the training set is ', \n",
    "      cross_val_score(decision_tree, X_resampled_train_pca, Y_resampled_train_pca, cv=10).mean())\n",
    "\n",
    "print(\"--- %s seconds ---\" % (time.time() - start_time))"
   ]
  },
  {
   "cell_type": "code",
   "execution_count": 186,
   "metadata": {},
   "outputs": [
    {
     "name": "stdout",
     "output_type": "stream",
     "text": [
      "[0.71126761 0.75177305 0.67375887 0.78014184 0.75886525 0.71631206\n",
      " 0.8        0.75714286 0.78571429 0.76428571]\n",
      "The 10-fold cross validation average for the testing set  is  0.7484823836636842\n"
     ]
    }
   ],
   "source": [
    "#evaluating the model performance through xvalidation of the testing set\n",
    "\n",
    "print(cross_val_score(decision_tree, X_test_pca, Y_test_pca, cv=10))\n",
    "print('The 10-fold cross validation average for the testing set  is ', \n",
    "      cross_val_score(decision_tree, X_test_pca, Y_test_pca, cv=10).mean())"
   ]
  },
  {
   "cell_type": "code",
   "execution_count": 187,
   "metadata": {},
   "outputs": [
    {
     "name": "stdout",
     "output_type": "stream",
     "text": [
      "              precision    recall  f1-score   support\n",
      "\n",
      "           0       0.84      0.75      0.79      1041\n",
      "           1       0.46      0.60      0.52       366\n",
      "\n",
      "    accuracy                           0.71      1407\n",
      "   macro avg       0.65      0.68      0.66      1407\n",
      "weighted avg       0.74      0.71      0.72      1407\n",
      "\n"
     ]
    }
   ],
   "source": [
    "#classification report\n",
    "\n",
    "print(classification_report(Y_test_pca, Y_pred_dt_pca, labels=None, target_names=None, \n",
    "                      sample_weight=None, digits=2, output_dict=False\n",
    "                     ))"
   ]
  },
  {
   "cell_type": "code",
   "execution_count": 188,
   "metadata": {},
   "outputs": [
    {
     "name": "stdout",
     "output_type": "stream",
     "text": [
      "Test set confusion matrix: \n",
      " [[777 264]\n",
      " [145 221]]\n"
     ]
    }
   ],
   "source": [
    "#confusion matrix\n",
    "print('Test set confusion matrix:', '\\n', \n",
    "      confusion_matrix(Y_test_pca, Y_pred_dt_pca, labels=None, sample_weight=None)\n",
    "     )"
   ]
  },
  {
   "cell_type": "markdown",
   "metadata": {},
   "source": [
    "In the classification reports, a value of 1 corresponds to a value of \"Yes\" for the target variable \"Churn\", and 0 corresponds to a \"No.\"  Across all models built, values of \"Yes\" proved more difficult to capture accurately than \"No\" values (\"No\" is the dominant class of our target as shown above in the Data Exploration section).  These decision tree models show above average performance compared to the other models built in this project.  One disadvantage of decision trees is that they are biased towards the dominant class. This issue was addressed by implementing SMOTE resampling, although the prediction of the dominant class is still much better in these models.  The SelectKBest feature set outperformed the PCA feature set slightly. Decison Trees handle varied data types well, and are easy to implement and visulaize, making this model a good choice overall."
   ]
  },
  {
   "cell_type": "markdown",
   "metadata": {},
   "source": [
    "## Model 3: Random Forest Classifier(SelectKBest)"
   ]
  },
  {
   "cell_type": "code",
   "execution_count": 56,
   "metadata": {},
   "outputs": [
    {
     "data": {
      "text/plain": [
       "RandomForestClassifier(bootstrap=True, class_weight=None, criterion='gini',\n",
       "                       max_depth=None, max_features='auto', max_leaf_nodes=None,\n",
       "                       min_impurity_decrease=0.0, min_impurity_split=None,\n",
       "                       min_samples_leaf=1, min_samples_split=2,\n",
       "                       min_weight_fraction_leaf=0.0, n_estimators=10,\n",
       "                       n_jobs=None, oob_score=False, random_state=None,\n",
       "                       verbose=0, warm_start=False)"
      ]
     },
     "execution_count": 56,
     "metadata": {},
     "output_type": "execute_result"
    }
   ],
   "source": [
    "rfc = ensemble.RandomForestClassifier()\n",
    "rfc.fit(X_resampled_train_skb,Y_resampled_train_skb)"
   ]
  },
  {
   "cell_type": "code",
   "execution_count": 57,
   "metadata": {},
   "outputs": [],
   "source": [
    "#making predictions for model evaluation\n",
    "Y_preds_rfc_skb=rfc.predict(X_test_skb)"
   ]
  },
  {
   "cell_type": "code",
   "execution_count": 58,
   "metadata": {},
   "outputs": [
    {
     "name": "stdout",
     "output_type": "stream",
     "text": [
      "[0.69975787 0.71670702 0.70752427 0.78762136 0.91868932 0.92597087\n",
      " 0.9368932  0.94296117 0.94174757 0.94174757]\n",
      "The 10-fold cross validation average for the training set is  0.8500208632078798\n",
      "--- 1.548774242401123 seconds ---\n"
     ]
    }
   ],
   "source": [
    "#evaluating the model performance through xvalidation of the training set\n",
    "\n",
    "start_time = time.time()\n",
    "print(cross_val_score(rfc, X_resampled_train_skb, Y_resampled_train_skb, cv=10))\n",
    "print('The 10-fold cross validation average for the training set is ', \n",
    "      cross_val_score(rfc, X_resampled_train_skb, Y_resampled_train_skb, cv=10).mean())\n",
    "print(\"--- %s seconds ---\" % (time.time() - start_time))"
   ]
  },
  {
   "cell_type": "code",
   "execution_count": 59,
   "metadata": {},
   "outputs": [
    {
     "name": "stdout",
     "output_type": "stream",
     "text": [
      "[0.77464789 0.75886525 0.76595745 0.81560284 0.73049645 0.79432624\n",
      " 0.78571429 0.79285714 0.82857143 0.79285714]\n",
      "The 10-fold cross validation average for the testing set  is  0.77403028097664\n"
     ]
    }
   ],
   "source": [
    "#evaluating the model performance through xvalidation of the testing set\n",
    "\n",
    "print(cross_val_score(rfc, X_test_skb, Y_test_skb, cv=10))\n",
    "print('The 10-fold cross validation average for the testing set  is ', \n",
    "      cross_val_score(rfc, X_test_skb, Y_test_skb, cv=10).mean())"
   ]
  },
  {
   "cell_type": "code",
   "execution_count": 60,
   "metadata": {},
   "outputs": [
    {
     "name": "stdout",
     "output_type": "stream",
     "text": [
      "              precision    recall  f1-score   support\n",
      "\n",
      "           0       0.82      0.88      0.85      1041\n",
      "           1       0.58      0.46      0.52       366\n",
      "\n",
      "    accuracy                           0.77      1407\n",
      "   macro avg       0.70      0.67      0.68      1407\n",
      "weighted avg       0.76      0.77      0.76      1407\n",
      "\n"
     ]
    }
   ],
   "source": [
    "#classification report\n",
    "print(classification_report(Y_test_skb, Y_preds_rfc_skb, labels=None, target_names=None, \n",
    "                      sample_weight=None, digits=2, output_dict=False\n",
    "                     ))"
   ]
  },
  {
   "cell_type": "code",
   "execution_count": 61,
   "metadata": {},
   "outputs": [
    {
     "name": "stdout",
     "output_type": "stream",
     "text": [
      "Test set confusion matrix: \n",
      " [[918 123]\n",
      " [196 170]]\n"
     ]
    }
   ],
   "source": [
    "#confusion matrix\n",
    "print('Test set confusion matrix:', '\\n', \n",
    "      confusion_matrix(Y_test_skb, Y_preds_rfc_skb, labels=None, sample_weight=None)\n",
    "     )"
   ]
  },
  {
   "cell_type": "markdown",
   "metadata": {},
   "source": [
    "## Model 4: Random Forest Classifier(PCA)"
   ]
  },
  {
   "cell_type": "code",
   "execution_count": 62,
   "metadata": {
    "scrolled": true
   },
   "outputs": [
    {
     "data": {
      "text/plain": [
       "RandomForestClassifier(bootstrap=True, class_weight=None, criterion='gini',\n",
       "                       max_depth=None, max_features='auto', max_leaf_nodes=None,\n",
       "                       min_impurity_decrease=0.0, min_impurity_split=None,\n",
       "                       min_samples_leaf=1, min_samples_split=2,\n",
       "                       min_weight_fraction_leaf=0.0, n_estimators=10,\n",
       "                       n_jobs=None, oob_score=False, random_state=None,\n",
       "                       verbose=0, warm_start=False)"
      ]
     },
     "execution_count": 62,
     "metadata": {},
     "output_type": "execute_result"
    }
   ],
   "source": [
    "rfc = ensemble.RandomForestClassifier()\n",
    "rfc.fit(X_resampled_train_pca,Y_resampled_train_pca)"
   ]
  },
  {
   "cell_type": "code",
   "execution_count": 63,
   "metadata": {},
   "outputs": [],
   "source": [
    "#making predictions for model evaluation\n",
    "Y_preds_rfc_pca=rfc.predict(X_test_pca)"
   ]
  },
  {
   "cell_type": "code",
   "execution_count": 64,
   "metadata": {},
   "outputs": [
    {
     "name": "stdout",
     "output_type": "stream",
     "text": [
      "[0.80750605 0.80266344 0.78762136 0.81796117 0.85072816 0.8434466\n",
      " 0.87014563 0.87135922 0.84708738 0.84708738]\n",
      "The 10-fold cross validation average for the training set is  0.8274121982181057\n",
      "--- 4.479430913925171 seconds ---\n"
     ]
    }
   ],
   "source": [
    "#evaluating the model performance through xvalidation of the training set\n",
    "\n",
    "start_time = time.time()\n",
    "\n",
    "print(cross_val_score(rfc, X_resampled_train_pca, Y_resampled_train_pca, cv=10))\n",
    "print('The 10-fold cross validation average for the training set is ', \n",
    "      cross_val_score(rfc, X_resampled_train_pca, Y_resampled_train_pca, cv=10).mean())\n",
    "\n",
    "print(\"--- %s seconds ---\" % (time.time() - start_time))"
   ]
  },
  {
   "cell_type": "code",
   "execution_count": 65,
   "metadata": {},
   "outputs": [
    {
     "name": "stdout",
     "output_type": "stream",
     "text": [
      "[0.78873239 0.77304965 0.72340426 0.75886525 0.78723404 0.77304965\n",
      " 0.81428571 0.77142857 0.81428571 0.72857143]\n",
      "The 10-fold cross validation average for the testing set  is  0.7833007263438788\n"
     ]
    }
   ],
   "source": [
    "#evaluating the model performance through xvalidation of the testing set\n",
    "\n",
    "print(cross_val_score(rfc, X_test_pca, Y_test_pca, cv=10))\n",
    "print('The 10-fold cross validation average for the testing set  is ', \n",
    "      cross_val_score(rfc, X_test_pca, Y_test_pca, cv=10).mean())"
   ]
  },
  {
   "cell_type": "code",
   "execution_count": 66,
   "metadata": {},
   "outputs": [
    {
     "name": "stdout",
     "output_type": "stream",
     "text": [
      "              precision    recall  f1-score   support\n",
      "\n",
      "           0       0.84      0.83      0.83      1041\n",
      "           1       0.53      0.55      0.54       366\n",
      "\n",
      "    accuracy                           0.75      1407\n",
      "   macro avg       0.68      0.69      0.69      1407\n",
      "weighted avg       0.76      0.75      0.76      1407\n",
      "\n"
     ]
    }
   ],
   "source": [
    "#classification report\n",
    "\n",
    "print(classification_report(Y_test_pca, Y_preds_rfc_pca, labels=None, target_names=None, \n",
    "                      sample_weight=None, digits=2, output_dict=False\n",
    "                     ))"
   ]
  },
  {
   "cell_type": "code",
   "execution_count": 67,
   "metadata": {},
   "outputs": [
    {
     "name": "stdout",
     "output_type": "stream",
     "text": [
      "Test set confusion matrix: \n",
      " [[861 180]\n",
      " [165 201]]\n"
     ]
    }
   ],
   "source": [
    "#confusion matrix\n",
    "print('Test set confusion matrix:', '\\n', \n",
    "      confusion_matrix(Y_test_pca, Y_preds_rfc_pca, labels=None, sample_weight=None)\n",
    "     )"
   ]
  },
  {
   "cell_type": "markdown",
   "metadata": {},
   "source": [
    "Both Random Forest models performed well on the dominant class, but had low values for precision and recall of the minority class.  The PCA feature set handily outperforms the SelectKBest set for this model.  Due to the lower minority class performance and the resource intensive, black box nature of the Random Forest, these models are more difficult to recommend.  "
   ]
  },
  {
   "cell_type": "markdown",
   "metadata": {},
   "source": [
    "## Model 5: SVM(SelectKBest)"
   ]
  },
  {
   "cell_type": "code",
   "execution_count": 168,
   "metadata": {},
   "outputs": [],
   "source": [
    "#kernels = ['linear', 'poly', 'rbf', 'sigmoid']\n",
    "degrees = [1,2]\n",
    "param_grid_svm_skb = [{'svc__degree':degrees}]\n",
    "pipe_tree_svm_skb = make_pipeline(SVC(kernel = 'poly'))"
   ]
  },
  {
   "cell_type": "code",
   "execution_count": 169,
   "metadata": {},
   "outputs": [],
   "source": [
    "gs_svm = GridSearchCV(pipe_tree_svm_skb, param_grid=param_grid_svm_skb, cv=10)\n",
    "\n",
    "#gs_svm.get_params().keys()"
   ]
  },
  {
   "cell_type": "code",
   "execution_count": 170,
   "metadata": {},
   "outputs": [
    {
     "name": "stdout",
     "output_type": "stream",
     "text": [
      "{'svc__degree': 1}\n"
     ]
    }
   ],
   "source": [
    "gs_svm.fit(X_resampled_train_skb,Y_resampled_train_skb)\n",
    "print(gs_svm.best_params_)"
   ]
  },
  {
   "cell_type": "code",
   "execution_count": 70,
   "metadata": {},
   "outputs": [
    {
     "data": {
      "text/plain": [
       "SVC(C=1.0, cache_size=200, class_weight=None, coef0=0.0,\n",
       "    decision_function_shape='ovr', degree=1, gamma='auto_deprecated',\n",
       "    kernel='poly', max_iter=-1, probability=False, random_state=None,\n",
       "    shrinking=True, tol=0.001, verbose=False)"
      ]
     },
     "execution_count": 70,
     "metadata": {},
     "output_type": "execute_result"
    }
   ],
   "source": [
    "svm = SVC(kernel='poly',degree=1)\n",
    "svm.fit(X_resampled_train_skb, Y_resampled_train_skb)"
   ]
  },
  {
   "cell_type": "code",
   "execution_count": 71,
   "metadata": {},
   "outputs": [],
   "source": [
    "#Setting the predictions for analysis\n",
    "Y_pred_svm_skb = svm.fit(X_resampled_train_skb, Y_resampled_train_skb).predict(X_test_skb)"
   ]
  },
  {
   "cell_type": "code",
   "execution_count": 73,
   "metadata": {},
   "outputs": [
    {
     "name": "stdout",
     "output_type": "stream",
     "text": [
      "[0.76755448 0.75423729 0.75       0.75970874 0.77548544 0.77427184\n",
      " 0.77548544 0.74514563 0.76941748 0.77548544]\n",
      "The 10-fold cross validation average for the training set is  0.7646791767554479\n",
      "--- 47.49872303009033 seconds ---\n"
     ]
    }
   ],
   "source": [
    "#evaluating the model performance through xvalidation of the training set\n",
    "\n",
    "start_time = time.time()\n",
    "print(cross_val_score(svm, X_resampled_train_skb, Y_resampled_train_skb, cv=10))\n",
    "print('The 10-fold cross validation average for the training set is ', \n",
    "      cross_val_score(svm, X_resampled_train_skb, Y_resampled_train_skb, cv=10).mean())\n",
    "print(\"--- %s seconds ---\" % (time.time() - start_time))"
   ]
  },
  {
   "cell_type": "code",
   "execution_count": 74,
   "metadata": {},
   "outputs": [
    {
     "name": "stdout",
     "output_type": "stream",
     "text": [
      "[0.80985915 0.78014184 0.77304965 0.81560284 0.79432624 0.77304965\n",
      " 0.8        0.78571429 0.79285714 0.8       ]\n",
      "The 10-fold cross validation average for the testing set  is  0.7924600796266963\n"
     ]
    }
   ],
   "source": [
    "#evaluating the model performance through xvalidation of the testing set\n",
    "\n",
    "print(cross_val_score(svm, X_test_skb, Y_test_skb, cv=10))\n",
    "print('The 10-fold cross validation average for the testing set  is ', \n",
    "      cross_val_score(svm, X_test_skb, Y_test_skb, cv=10).mean())"
   ]
  },
  {
   "cell_type": "code",
   "execution_count": 75,
   "metadata": {},
   "outputs": [
    {
     "name": "stdout",
     "output_type": "stream",
     "text": [
      "              precision    recall  f1-score   support\n",
      "\n",
      "           0       0.92      0.71      0.81      1041\n",
      "           1       0.51      0.83      0.63       366\n",
      "\n",
      "    accuracy                           0.74      1407\n",
      "   macro avg       0.71      0.77      0.72      1407\n",
      "weighted avg       0.81      0.74      0.76      1407\n",
      "\n"
     ]
    }
   ],
   "source": [
    "#classification report\n",
    "\n",
    "print(classification_report(Y_test_skb, Y_pred_svm_skb, labels=None, target_names=None, \n",
    "                      sample_weight=None, digits=2, output_dict=False\n",
    "                     ))"
   ]
  },
  {
   "cell_type": "code",
   "execution_count": 42,
   "metadata": {},
   "outputs": [
    {
     "ename": "NameError",
     "evalue": "name 'Y_test_skb' is not defined",
     "output_type": "error",
     "traceback": [
      "\u001b[0;31m---------------------------------------------------------------------------\u001b[0m",
      "\u001b[0;31mNameError\u001b[0m                                 Traceback (most recent call last)",
      "\u001b[0;32m<ipython-input-42-c6e02fa776b3>\u001b[0m in \u001b[0;36m<module>\u001b[0;34m\u001b[0m\n\u001b[1;32m      1\u001b[0m \u001b[0;31m#confusion matrix\u001b[0m\u001b[0;34m\u001b[0m\u001b[0;34m\u001b[0m\u001b[0;34m\u001b[0m\u001b[0m\n\u001b[1;32m      2\u001b[0m print('SVM confusion matrix:', '\\n', \n\u001b[0;32m----> 3\u001b[0;31m       \u001b[0mconfusion_matrix\u001b[0m\u001b[0;34m(\u001b[0m\u001b[0mY_test_skb\u001b[0m\u001b[0;34m,\u001b[0m \u001b[0mY_pred_svm_skb\u001b[0m\u001b[0;34m,\u001b[0m \u001b[0mlabels\u001b[0m\u001b[0;34m=\u001b[0m\u001b[0;32mNone\u001b[0m\u001b[0;34m,\u001b[0m \u001b[0msample_weight\u001b[0m\u001b[0;34m=\u001b[0m\u001b[0;32mNone\u001b[0m\u001b[0;34m)\u001b[0m\u001b[0;34m\u001b[0m\u001b[0;34m\u001b[0m\u001b[0m\n\u001b[0m\u001b[1;32m      4\u001b[0m      )\n",
      "\u001b[0;31mNameError\u001b[0m: name 'Y_test_skb' is not defined"
     ]
    }
   ],
   "source": [
    "#confusion matrix\n",
    "print('SVM confusion matrix:', '\\n', \n",
    "      confusion_matrix(Y_test_skb, Y_pred_svm_skb, labels=None, sample_weight=None)\n",
    "     )"
   ]
  },
  {
   "cell_type": "markdown",
   "metadata": {},
   "source": [
    "## Model 6: SVM(PCA)"
   ]
  },
  {
   "cell_type": "code",
   "execution_count": 171,
   "metadata": {},
   "outputs": [],
   "source": [
    "#kernels = ['linear', 'poly', 'rbf', 'sigmoid']\n",
    "degrees = [1,2]\n",
    "param_grid_svm_pca = [{'svc__degree':degrees}]\n",
    "pipe_tree_svm_pca = make_pipeline(SVC(kernel = 'poly'))"
   ]
  },
  {
   "cell_type": "code",
   "execution_count": 172,
   "metadata": {},
   "outputs": [],
   "source": [
    "gs_svm_pca = GridSearchCV(pipe_tree_svm_pca, param_grid=param_grid_svm_pca, cv=10)\n",
    "\n",
    "#gs_svm.get_params().keys()"
   ]
  },
  {
   "cell_type": "code",
   "execution_count": 173,
   "metadata": {},
   "outputs": [
    {
     "name": "stdout",
     "output_type": "stream",
     "text": [
      "{'svc__degree': 1}\n"
     ]
    }
   ],
   "source": [
    "gs_svm_pca.fit(X_resampled_train_pca,Y_resampled_train_pca)\n",
    "print(gs_svm_pca.best_params_)"
   ]
  },
  {
   "cell_type": "code",
   "execution_count": 80,
   "metadata": {},
   "outputs": [
    {
     "data": {
      "text/plain": [
       "SVC(C=1.0, cache_size=200, class_weight=None, coef0=0.0,\n",
       "    decision_function_shape='ovr', degree=1, gamma='auto_deprecated',\n",
       "    kernel='poly', max_iter=-1, probability=False, random_state=None,\n",
       "    shrinking=True, tol=0.001, verbose=False)"
      ]
     },
     "execution_count": 80,
     "metadata": {},
     "output_type": "execute_result"
    }
   ],
   "source": [
    "svm = SVC(kernel='poly',degree=1)\n",
    "svm.fit(X_resampled_train_pca, Y_resampled_train_pca)"
   ]
  },
  {
   "cell_type": "code",
   "execution_count": 81,
   "metadata": {},
   "outputs": [],
   "source": [
    "#Setting the predictions for analysis\n",
    "Y_pred_svm_pca = svm.fit(X_resampled_train_pca, Y_resampled_train_pca).predict(X_test_pca)"
   ]
  },
  {
   "cell_type": "code",
   "execution_count": 82,
   "metadata": {},
   "outputs": [
    {
     "name": "stdout",
     "output_type": "stream",
     "text": [
      "[0.77239709 0.7566586  0.75728155 0.75485437 0.76334951 0.77063107\n",
      " 0.78398058 0.76820388 0.77184466 0.78276699]\n",
      "The 10-fold cross validation average for the training set is  0.7681968311431862\n",
      "--- 25.259382963180542 seconds ---\n"
     ]
    }
   ],
   "source": [
    "#evaluating the model performance through xvalidation of the training set\n",
    "\n",
    "start_time = time.time()\n",
    "\n",
    "print(cross_val_score(svm, X_resampled_train_pca, Y_resampled_train_pca, cv=10))\n",
    "print('The 10-fold cross validation average for the training set is ', \n",
    "      cross_val_score(svm, X_resampled_train_pca, Y_resampled_train_pca, cv=10).mean())\n",
    "\n",
    "print(\"--- %s seconds ---\" % (time.time() - start_time))"
   ]
  },
  {
   "cell_type": "code",
   "execution_count": 83,
   "metadata": {},
   "outputs": [
    {
     "name": "stdout",
     "output_type": "stream",
     "text": [
      "[0.79577465 0.72340426 0.80141844 0.80851064 0.79432624 0.77304965\n",
      " 0.82857143 0.78571429 0.85       0.79285714]\n",
      "The 10-fold cross validation average for the testing set  is  0.7953626724888336\n"
     ]
    }
   ],
   "source": [
    "#evaluating the model performance through xvalidation of the testing set\n",
    "\n",
    "print(cross_val_score(svm, X_test_pca, Y_test_pca, cv=10))\n",
    "print('The 10-fold cross validation average for the testing set  is ', \n",
    "      cross_val_score(svm, X_test_pca, Y_test_pca, cv=10).mean())"
   ]
  },
  {
   "cell_type": "code",
   "execution_count": 84,
   "metadata": {
    "scrolled": false
   },
   "outputs": [
    {
     "name": "stdout",
     "output_type": "stream",
     "text": [
      "              precision    recall  f1-score   support\n",
      "\n",
      "           0       0.92      0.73      0.81      1041\n",
      "           1       0.51      0.82      0.63       366\n",
      "\n",
      "    accuracy                           0.75      1407\n",
      "   macro avg       0.72      0.77      0.72      1407\n",
      "weighted avg       0.82      0.75      0.77      1407\n",
      "\n"
     ]
    }
   ],
   "source": [
    "#classification report\n",
    "\n",
    "print(classification_report(Y_test_pca, Y_pred_svm_pca, labels=None, target_names=None, \n",
    "                      sample_weight=None, digits=2, output_dict=False\n",
    "                     ))"
   ]
  },
  {
   "cell_type": "code",
   "execution_count": 85,
   "metadata": {},
   "outputs": [
    {
     "name": "stdout",
     "output_type": "stream",
     "text": [
      "Test set confusion matrix: \n",
      " [[757 284]\n",
      " [ 65 301]]\n"
     ]
    }
   ],
   "source": [
    "#confusion matrix\n",
    "print('Test set confusion matrix:', '\\n', \n",
    "      confusion_matrix(Y_test_pca, Y_pred_svm_pca, labels=None, sample_weight=None)\n",
    "     )"
   ]
  },
  {
   "cell_type": "markdown",
   "metadata": {},
   "source": [
    "Of all the models in this report, SVM has the best classification report and is the most robust.  It is fairly resource intensive when compared to some of the other models, with the PCA feature set outperforming the SelectKBest set by roughly a factor of two for this parameter."
   ]
  },
  {
   "cell_type": "markdown",
   "metadata": {},
   "source": [
    "## Model 7: Naive Bayes(SelectKBest)\n"
   ]
  },
  {
   "cell_type": "code",
   "execution_count": 96,
   "metadata": {},
   "outputs": [],
   "source": [
    "# Instantiate our model and store it in a new variable.\n",
    "bnb = BernoulliNB()\n",
    "\n",
    "# Fit our model to the data.\n",
    "bnb.fit(X_resampled_train_skb, Y_resampled_train_skb)\n",
    "\n",
    "# Classify, storing the result in a new variable.\n",
    "Y_preds_nb_skb = bnb.predict(X_test_skb)"
   ]
  },
  {
   "cell_type": "code",
   "execution_count": 97,
   "metadata": {},
   "outputs": [
    {
     "name": "stdout",
     "output_type": "stream",
     "text": [
      "[0.73728814 0.71549637 0.72087379 0.75485437 0.72694175 0.7342233\n",
      " 0.75121359 0.70995146 0.74757282 0.73786408]\n",
      "The 10-fold cross validation average for the training set is  0.7336279649263029\n",
      "--- 0.16277098655700684 seconds ---\n"
     ]
    }
   ],
   "source": [
    "#evaluating the model performance through xvalidation of the training set\n",
    "\n",
    "start_time = time.time()\n",
    "\n",
    "print(cross_val_score(bnb, X_resampled_train_skb, Y_resampled_train_skb, cv=10))\n",
    "print('The 10-fold cross validation average for the training set is ', \n",
    "      cross_val_score(bnb, X_resampled_train_skb, Y_resampled_train_skb, cv=10).mean())\n",
    "\n",
    "print(\"--- %s seconds ---\" % (time.time() - start_time))"
   ]
  },
  {
   "cell_type": "code",
   "execution_count": 98,
   "metadata": {},
   "outputs": [
    {
     "name": "stdout",
     "output_type": "stream",
     "text": [
      "[0.72535211 0.74468085 0.67375887 0.81560284 0.72340426 0.78014184\n",
      " 0.77142857 0.75       0.76428571 0.67857143]\n",
      "The 10-fold cross validation average for the testing set  is  0.742722647944404\n"
     ]
    }
   ],
   "source": [
    "#evaluating the model performance through xvalidation of the testing set\n",
    "\n",
    "print(cross_val_score(bnb, X_test_skb, Y_test_skb, cv=10))\n",
    "print('The 10-fold cross validation average for the testing set  is ', \n",
    "      cross_val_score(bnb, X_test_skb, Y_test_skb, cv=10).mean())"
   ]
  },
  {
   "cell_type": "code",
   "execution_count": 99,
   "metadata": {},
   "outputs": [
    {
     "name": "stdout",
     "output_type": "stream",
     "text": [
      "              precision    recall  f1-score   support\n",
      "\n",
      "           0       0.93      0.59      0.72      1041\n",
      "           1       0.43      0.87      0.57       366\n",
      "\n",
      "    accuracy                           0.67      1407\n",
      "   macro avg       0.68      0.73      0.65      1407\n",
      "weighted avg       0.80      0.67      0.69      1407\n",
      "\n"
     ]
    }
   ],
   "source": [
    "#classification report\n",
    "\n",
    "print(classification_report(Y_test_skb, Y_preds_nb_skb, labels=None, target_names=None, \n",
    "                      sample_weight=None, digits=2, output_dict=False\n",
    "                     ))"
   ]
  },
  {
   "cell_type": "code",
   "execution_count": 100,
   "metadata": {},
   "outputs": [
    {
     "name": "stdout",
     "output_type": "stream",
     "text": [
      "Test set confusion matrix: \n",
      " [[619 422]\n",
      " [ 49 317]]\n"
     ]
    }
   ],
   "source": [
    "#confusion matrix\n",
    "print('Test set confusion matrix:', '\\n', \n",
    "      confusion_matrix(Y_test_skb, Y_preds_nb_skb, labels=None, sample_weight=None)\n",
    "     )"
   ]
  },
  {
   "cell_type": "markdown",
   "metadata": {},
   "source": [
    "## Model 8: Naive Bayes(PCA)"
   ]
  },
  {
   "cell_type": "code",
   "execution_count": 101,
   "metadata": {},
   "outputs": [],
   "source": [
    "# Instantiate our model and store it in a new variable.\n",
    "bnb = BernoulliNB()\n",
    "\n",
    "# Fit our model to the data.\n",
    "bnb.fit(X_resampled_train_pca, Y_resampled_train_pca)\n",
    "\n",
    "# Classify, storing the result in a new variable.\n",
    "Y_preds_nb_pca = bnb.predict(X_test_pca)"
   ]
  },
  {
   "cell_type": "code",
   "execution_count": 102,
   "metadata": {},
   "outputs": [
    {
     "name": "stdout",
     "output_type": "stream",
     "text": [
      "[0.71428571 0.69854722 0.67961165 0.69053398 0.72572816 0.72572816\n",
      " 0.71966019 0.70873786 0.72087379 0.70024272]\n",
      "The 10-fold cross validation average for the training set is  0.7083949434636451\n",
      "--- 0.1382429599761963 seconds ---\n"
     ]
    }
   ],
   "source": [
    "#evaluating the model performance through xvalidation of the training set\n",
    "\n",
    "start_time = time.time()\n",
    "\n",
    "print(cross_val_score(bnb, X_resampled_train_pca, Y_resampled_train_pca, cv=10))\n",
    "print('The 10-fold cross validation average for the training set is ', \n",
    "      cross_val_score(bnb, X_resampled_train_pca, Y_resampled_train_pca, cv=10).mean())\n",
    "\n",
    "print(\"--- %s seconds ---\" % (time.time() - start_time))"
   ]
  },
  {
   "cell_type": "code",
   "execution_count": 103,
   "metadata": {},
   "outputs": [
    {
     "name": "stdout",
     "output_type": "stream",
     "text": [
      "[0.80985915 0.70212766 0.72340426 0.79432624 0.75177305 0.75177305\n",
      " 0.75       0.77142857 0.86428571 0.82142857]\n",
      "The 10-fold cross validation average for the testing set  is  0.7740406267391583\n"
     ]
    }
   ],
   "source": [
    "#evaluating the model performance through xvalidation of the testing set\n",
    "\n",
    "print(cross_val_score(bnb, X_test_pca, Y_test_pca, cv=10))\n",
    "print('The 10-fold cross validation average for the testing set  is ', \n",
    "      cross_val_score(bnb, X_test_pca, Y_test_pca, cv=10).mean())"
   ]
  },
  {
   "cell_type": "code",
   "execution_count": 104,
   "metadata": {},
   "outputs": [
    {
     "name": "stdout",
     "output_type": "stream",
     "text": [
      "              precision    recall  f1-score   support\n",
      "\n",
      "           0       0.88      0.73      0.80      1041\n",
      "           1       0.48      0.71      0.57       366\n",
      "\n",
      "    accuracy                           0.72      1407\n",
      "   macro avg       0.68      0.72      0.68      1407\n",
      "weighted avg       0.77      0.72      0.74      1407\n",
      "\n"
     ]
    }
   ],
   "source": [
    "#classification report\n",
    "\n",
    "print(classification_report(Y_test_pca, Y_preds_nb_pca, labels=None, target_names=None, \n",
    "                      sample_weight=None, digits=2, output_dict=False\n",
    "                     ))"
   ]
  },
  {
   "cell_type": "code",
   "execution_count": 105,
   "metadata": {},
   "outputs": [
    {
     "name": "stdout",
     "output_type": "stream",
     "text": [
      "Test set confusion matrix: \n",
      " [[758 283]\n",
      " [107 259]]\n"
     ]
    }
   ],
   "source": [
    "#confusion matrix\n",
    "print('Test set confusion matrix:', '\\n', \n",
    "      confusion_matrix(Y_test_pca, Y_preds_nb_pca, labels=None, sample_weight=None)\n",
    "     )"
   ]
  },
  {
   "cell_type": "markdown",
   "metadata": {},
   "source": [
    "The Naive Bayes PCA model performed well, but the SelectKBest model was fairly unbalanced.  This may be because the PCA feature set does a better job of engineering variable independence, which is preferred by Naive Bayes models.  Overall, the Naive Bayes PCA model is one of the best in the report. Although the classification report here is not quite as strong as the SVM model, the simple and fast nature of the Naive Bayes model combined with its above average classification performance makes it a strong contender."
   ]
  },
  {
   "cell_type": "markdown",
   "metadata": {},
   "source": [
    "## Model 9: KNN(SelectKBest)"
   ]
  },
  {
   "cell_type": "code",
   "execution_count": 149,
   "metadata": {},
   "outputs": [],
   "source": [
    "#kernels = ['linear', 'poly', 'rbf', 'sigmoid']\n",
    "num_neighbors = np.arange(1, 25)\n",
    "weights = ['distance','uniform']\n",
    "leaf_sizes = np.arange(1, 40)\n",
    "\n",
    "param_grid_knn_skb = [{'kneighborsclassifier__n_neighbors':num_neighbors,\n",
    "                      'kneighborsclassifier__weights':weights,\n",
    "                      'kneighborsclassifier__leaf_size':leaf_sizes}\n",
    "                     ]\n",
    "pipe_tree_knn_skb = make_pipeline(neighbors.KNeighborsClassifier())"
   ]
  },
  {
   "cell_type": "code",
   "execution_count": 150,
   "metadata": {},
   "outputs": [],
   "source": [
    "gs_knn_skb = GridSearchCV(pipe_tree_knn_skb, param_grid=param_grid_knn_skb, cv=10)\n",
    "\n",
    "#gs_knn_skb.get_params().keys()"
   ]
  },
  {
   "cell_type": "code",
   "execution_count": 151,
   "metadata": {},
   "outputs": [
    {
     "name": "stdout",
     "output_type": "stream",
     "text": [
      "{'kneighborsclassifier__leaf_size': 4, 'kneighborsclassifier__n_neighbors': 1, 'kneighborsclassifier__weights': 'distance'}\n"
     ]
    }
   ],
   "source": [
    "gs_knn_skb.fit(X_resampled_train_skb,Y_resampled_train_skb)\n",
    "print(gs_knn_skb.best_params_)"
   ]
  },
  {
   "cell_type": "code",
   "execution_count": 152,
   "metadata": {},
   "outputs": [
    {
     "data": {
      "text/plain": [
       "KNeighborsClassifier(algorithm='auto', leaf_size=4, metric='minkowski',\n",
       "                     metric_params=None, n_jobs=None, n_neighbors=1, p=2,\n",
       "                     weights='distance')"
      ]
     },
     "execution_count": 152,
     "metadata": {},
     "output_type": "execute_result"
    }
   ],
   "source": [
    "knn = neighbors.KNeighborsClassifier(n_neighbors=1, weights='distance', leaf_size=4)\n",
    "knn.fit(X_resampled_train_skb, Y_resampled_train_skb)"
   ]
  },
  {
   "cell_type": "code",
   "execution_count": 153,
   "metadata": {},
   "outputs": [],
   "source": [
    "# Classify, storing the result in a new variable.\n",
    "Y_preds_knn_skb = knn.predict(X_test_skb)"
   ]
  },
  {
   "cell_type": "code",
   "execution_count": 154,
   "metadata": {},
   "outputs": [
    {
     "name": "stdout",
     "output_type": "stream",
     "text": [
      "[0.8062954  0.83535109 0.84466019 0.85194175 0.86650485 0.84708738\n",
      " 0.87985437 0.85800971 0.86286408 0.87257282]\n",
      "The 10-fold cross validation average for the training set is  0.8525141634735183\n",
      "--- 0.5048840045928955 seconds ---\n"
     ]
    }
   ],
   "source": [
    "#evaluating the model performance through xvalidation of the training set\n",
    "\n",
    "start_time = time.time()\n",
    "\n",
    "print(cross_val_score(knn, X_resampled_train_skb, Y_resampled_train_skb, cv=10))\n",
    "print('The 10-fold cross validation average for the training set is ', \n",
    "      cross_val_score(knn, X_resampled_train_skb, Y_resampled_train_skb, cv=10).mean())\n",
    "\n",
    "print(\"--- %s seconds ---\" % (time.time() - start_time))"
   ]
  },
  {
   "cell_type": "code",
   "execution_count": 155,
   "metadata": {},
   "outputs": [
    {
     "name": "stdout",
     "output_type": "stream",
     "text": [
      "[0.71830986 0.71631206 0.70921986 0.74468085 0.70212766 0.75886525\n",
      " 0.73571429 0.72142857 0.77142857 0.72857143]\n",
      "The 10-fold cross validation average for the testing set  is  0.7306658390056653\n"
     ]
    }
   ],
   "source": [
    "#evaluating the model performance through xvalidation of the testing set\n",
    "\n",
    "print(cross_val_score(knn, X_test_skb, Y_test_skb, cv=10))\n",
    "print('The 10-fold cross validation average for the testing set  is ', \n",
    "      cross_val_score(knn, X_test_skb, Y_test_skb, cv=10).mean())"
   ]
  },
  {
   "cell_type": "code",
   "execution_count": 156,
   "metadata": {},
   "outputs": [
    {
     "name": "stdout",
     "output_type": "stream",
     "text": [
      "              precision    recall  f1-score   support\n",
      "\n",
      "           0       0.84      0.76      0.80      1041\n",
      "           1       0.46      0.58      0.51       366\n",
      "\n",
      "    accuracy                           0.71      1407\n",
      "   macro avg       0.65      0.67      0.65      1407\n",
      "weighted avg       0.74      0.71      0.72      1407\n",
      "\n"
     ]
    }
   ],
   "source": [
    "#classification report\n",
    "\n",
    "print(classification_report(Y_test_skb, Y_preds_knn_skb, labels=None, target_names=None, \n",
    "                      sample_weight=None, digits=2, output_dict=False\n",
    "                     ))"
   ]
  },
  {
   "cell_type": "code",
   "execution_count": 157,
   "metadata": {},
   "outputs": [
    {
     "name": "stdout",
     "output_type": "stream",
     "text": [
      "Test set confusion matrix: \n",
      " [[789 252]\n",
      " [153 213]]\n"
     ]
    }
   ],
   "source": [
    "#confusion matrix\n",
    "print('Test set confusion matrix:', '\\n', \n",
    "      confusion_matrix(Y_test_skb, Y_preds_knn_skb, labels=None, sample_weight=None)\n",
    "     )"
   ]
  },
  {
   "cell_type": "markdown",
   "metadata": {},
   "source": [
    "## Model 10: KNN(PCA)"
   ]
  },
  {
   "cell_type": "code",
   "execution_count": 158,
   "metadata": {},
   "outputs": [],
   "source": [
    "#kernels = ['linear', 'poly', 'rbf', 'sigmoid']\n",
    "num_neighbors = np.arange(1, 25)\n",
    "weights = ['distance','uniform']\n",
    "leaf_sizes = np.arange(1, 40)\n",
    "\n",
    "param_grid_knn_pca = [{'kneighborsclassifier__n_neighbors':num_neighbors,\n",
    "                      'kneighborsclassifier__weights':weights,\n",
    "                      'kneighborsclassifier__leaf_size':leaf_sizes}\n",
    "                     ]\n",
    "pipe_tree_knn_pca = make_pipeline(neighbors.KNeighborsClassifier())"
   ]
  },
  {
   "cell_type": "code",
   "execution_count": 159,
   "metadata": {},
   "outputs": [],
   "source": [
    "gs_knn_pca = GridSearchCV(pipe_tree_knn_pca, param_grid=param_grid_knn_pca, cv=10)\n",
    "\n",
    "#gs_knn_pca.get_params().keys()"
   ]
  },
  {
   "cell_type": "code",
   "execution_count": 160,
   "metadata": {},
   "outputs": [
    {
     "name": "stdout",
     "output_type": "stream",
     "text": [
      "{'kneighborsclassifier__leaf_size': 29, 'kneighborsclassifier__n_neighbors': 1, 'kneighborsclassifier__weights': 'distance'}\n"
     ]
    }
   ],
   "source": [
    "gs_knn_pca.fit(X_resampled_train_pca,Y_resampled_train_pca)\n",
    "print(gs_knn_pca.best_params_)"
   ]
  },
  {
   "cell_type": "code",
   "execution_count": 161,
   "metadata": {},
   "outputs": [
    {
     "data": {
      "text/plain": [
       "KNeighborsClassifier(algorithm='auto', leaf_size=29, metric='minkowski',\n",
       "                     metric_params=None, n_jobs=None, n_neighbors=1, p=2,\n",
       "                     weights='distance')"
      ]
     },
     "execution_count": 161,
     "metadata": {},
     "output_type": "execute_result"
    }
   ],
   "source": [
    "#{'kneighborsclassifier__leaf_size': 29, 'kneighborsclassifier__n_neighbors': 1, 'kneighborsclassifier__weights': 'distance'}\n",
    "knn = neighbors.KNeighborsClassifier(n_neighbors=1, weights='distance', leaf_size=29)\n",
    "knn.fit(X_resampled_train_pca, Y_resampled_train_pca)"
   ]
  },
  {
   "cell_type": "code",
   "execution_count": 162,
   "metadata": {},
   "outputs": [],
   "source": [
    "# Classify, storing the result in a new variable.\n",
    "Y_preds_knn_pca = knn.predict(X_test_pca)"
   ]
  },
  {
   "cell_type": "code",
   "execution_count": 163,
   "metadata": {},
   "outputs": [
    {
     "name": "stdout",
     "output_type": "stream",
     "text": [
      "[0.80992736 0.80387409 0.80582524 0.82281553 0.86650485 0.84587379\n",
      " 0.8592233  0.85315534 0.86529126 0.85194175]\n",
      "The 10-fold cross validation average for the training set is  0.8384432520745669\n",
      "--- 0.9935920238494873 seconds ---\n"
     ]
    }
   ],
   "source": [
    "#evaluating the model performance through xvalidation of the training set\n",
    "\n",
    "start_time = time.time()\n",
    "\n",
    "print(cross_val_score(knn, X_resampled_train_pca, Y_resampled_train_pca, cv=10))\n",
    "print('The 10-fold cross validation average for the training set is ', \n",
    "      cross_val_score(knn, X_resampled_train_pca, Y_resampled_train_pca, cv=10).mean())\n",
    "\n",
    "print(\"--- %s seconds ---\" % (time.time() - start_time))"
   ]
  },
  {
   "cell_type": "code",
   "execution_count": 164,
   "metadata": {},
   "outputs": [
    {
     "name": "stdout",
     "output_type": "stream",
     "text": [
      "[0.74647887 0.71631206 0.70921986 0.70921986 0.73049645 0.75886525\n",
      " 0.77142857 0.78571429 0.78571429 0.66428571]\n",
      "The 10-fold cross validation average for the testing set  is  0.7377735205559599\n"
     ]
    }
   ],
   "source": [
    "#evaluating the model performance through xvalidation of the testing set\n",
    "\n",
    "print(cross_val_score(knn, X_test_pca, Y_test_pca, cv=10))\n",
    "print('The 10-fold cross validation average for the testing set  is ', \n",
    "      cross_val_score(knn, X_test_pca, Y_test_pca, cv=10).mean())"
   ]
  },
  {
   "cell_type": "code",
   "execution_count": 165,
   "metadata": {},
   "outputs": [
    {
     "name": "stdout",
     "output_type": "stream",
     "text": [
      "              precision    recall  f1-score   support\n",
      "\n",
      "           0       0.82      0.75      0.78      1041\n",
      "           1       0.42      0.52      0.47       366\n",
      "\n",
      "    accuracy                           0.69      1407\n",
      "   macro avg       0.62      0.64      0.62      1407\n",
      "weighted avg       0.71      0.69      0.70      1407\n",
      "\n"
     ]
    }
   ],
   "source": [
    "#classification report\n",
    "\n",
    "print(classification_report(Y_test_pca, Y_preds_knn_pca, labels=None, target_names=None, \n",
    "                      sample_weight=None, digits=2, output_dict=False\n",
    "                     ))"
   ]
  },
  {
   "cell_type": "code",
   "execution_count": 166,
   "metadata": {},
   "outputs": [
    {
     "name": "stdout",
     "output_type": "stream",
     "text": [
      "Test set confusion matrix: \n",
      " [[777 264]\n",
      " [174 192]]\n"
     ]
    }
   ],
   "source": [
    "#confusion matrix\n",
    "print('Test set confusion matrix:', '\\n', \n",
    "      confusion_matrix(Y_test_pca, Y_preds_knn_pca, labels=None, sample_weight=None)\n",
    "     )"
   ]
  },
  {
   "cell_type": "markdown",
   "metadata": {},
   "source": [
    "Although not terrible by the standards of this report, the KNN models are a bit unbalanced and do not classify quite as well as some of the other models.  However, the KNN assigns impicit probabilities to each data point, which one imagines could be useful in the context of predicting customer churn.  This attribute, combined with the ease of use and implementation of KNN, suggest that it could be a useful model in spite of its relatively lower performance as a classifier."
   ]
  },
  {
   "cell_type": "markdown",
   "metadata": {},
   "source": [
    "## Conclusion"
   ]
  },
  {
   "cell_type": "markdown",
   "metadata": {},
   "source": [
    "Overall, the two best models for predicting our target variable \"Churn\", were the SVM model and the Naive Bayes model, both of which performed best with the PCA dervied feature set.  In terms of classification performance, the SVM model is objectively stronger with fewer type II errors, but the Naive Bayes model is a bit more balanced and is much less resource intensive."
   ]
  },
  {
   "cell_type": "markdown",
   "metadata": {},
   "source": [
    "## Model 11: Neural Network(SelectKBest)"
   ]
  },
  {
   "cell_type": "code",
   "execution_count": 27,
   "metadata": {},
   "outputs": [
    {
     "data": {
      "text/plain": [
       "MLPClassifier(activation='relu', alpha=0.0001, batch_size='auto', beta_1=0.9,\n",
       "              beta_2=0.999, early_stopping=False, epsilon=1e-08,\n",
       "              hidden_layer_sizes=(1000,), learning_rate='constant',\n",
       "              learning_rate_init=0.001, max_iter=200, momentum=0.9,\n",
       "              n_iter_no_change=10, nesterovs_momentum=True, power_t=0.5,\n",
       "              random_state=None, shuffle=True, solver='adam', tol=0.0001,\n",
       "              validation_fraction=0.1, verbose=False, warm_start=False)"
      ]
     },
     "execution_count": 27,
     "metadata": {},
     "output_type": "execute_result"
    }
   ],
   "source": [
    "# Import the model.\n",
    "from sklearn.neural_network import MLPClassifier\n",
    "\n",
    "# Establish and fit the model, with a single, 1000 perceptron layer.\n",
    "mlp = MLPClassifier(hidden_layer_sizes=(1000,))\n",
    "mlp.fit(X_resampled_train_skb, Y_resampled_train_skb)#making predictions for model evaluation\n",
    "\n",
    "\n"
   ]
  },
  {
   "cell_type": "code",
   "execution_count": 28,
   "metadata": {},
   "outputs": [],
   "source": [
    "#making predictions for model evaluation\n",
    "Y_preds_mlp_skb=mlp.predict(X_test_skb)"
   ]
  },
  {
   "cell_type": "code",
   "execution_count": 29,
   "metadata": {},
   "outputs": [
    {
     "name": "stdout",
     "output_type": "stream",
     "text": [
      "[0.73849879 0.76876513 0.76092233 0.80582524 0.85072816 0.81796117\n",
      " 0.88956311 0.78640777 0.88228155 0.87014563]\n",
      "The 10-fold cross validation average for the training set is  0.8066979712734197\n",
      "--- 472.8930718898773 seconds ---\n"
     ]
    }
   ],
   "source": [
    "#evaluating the model performance through xvalidation of the training set\n",
    "\n",
    "start_time = time.time()\n",
    "print(cross_val_score(mlp, X_resampled_train_skb, Y_resampled_train_skb, cv=10))\n",
    "print('The 10-fold cross validation average for the training set is ', \n",
    "      cross_val_score(mlp, X_resampled_train_skb, Y_resampled_train_skb, cv=10).mean())\n",
    "print(\"--- %s seconds ---\" % (time.time() - start_time))"
   ]
  },
  {
   "cell_type": "code",
   "execution_count": 30,
   "metadata": {},
   "outputs": [
    {
     "name": "stdout",
     "output_type": "stream",
     "text": [
      "[0.8028169  0.74468085 0.80851064 0.80851064 0.80851064 0.76595745\n",
      " 0.80714286 0.80714286 0.82857143 0.77857143]\n",
      "The 10-fold cross validation average for the testing set  is  0.7967457939124106\n"
     ]
    }
   ],
   "source": [
    "#evaluating the model performance through xvalidation of the testing set\n",
    "\n",
    "print(cross_val_score(mlp, X_test_skb, Y_test_skb, cv=10))\n",
    "print('The 10-fold cross validation average for the testing set  is ', \n",
    "      cross_val_score(mlp, X_test_skb, Y_test_skb, cv=10).mean())"
   ]
  },
  {
   "cell_type": "code",
   "execution_count": 31,
   "metadata": {},
   "outputs": [
    {
     "name": "stdout",
     "output_type": "stream",
     "text": [
      "              precision    recall  f1-score   support\n",
      "\n",
      "           0       0.90      0.70      0.79      1041\n",
      "           1       0.48      0.77      0.59       366\n",
      "\n",
      "    accuracy                           0.72      1407\n",
      "   macro avg       0.69      0.74      0.69      1407\n",
      "weighted avg       0.79      0.72      0.74      1407\n",
      "\n"
     ]
    }
   ],
   "source": [
    "#classification report\n",
    "print(classification_report(Y_test_skb, Y_preds_mlp_skb, labels=None, target_names=None, \n",
    "                      sample_weight=None, digits=2, output_dict=False\n",
    "                     ))"
   ]
  },
  {
   "cell_type": "code",
   "execution_count": 32,
   "metadata": {},
   "outputs": [
    {
     "name": "stdout",
     "output_type": "stream",
     "text": [
      "Test set confusion matrix: \n",
      " [[731 310]\n",
      " [ 84 282]]\n"
     ]
    }
   ],
   "source": [
    "#confusion matrix\n",
    "print('Test set confusion matrix:', '\\n', \n",
    "      confusion_matrix(Y_test_skb, Y_preds_mlp_skb, labels=None, sample_weight=None)\n",
    "     )"
   ]
  },
  {
   "cell_type": "markdown",
   "metadata": {},
   "source": [
    "## Model 12: Neural Network(PCA)"
   ]
  },
  {
   "cell_type": "code",
   "execution_count": 33,
   "metadata": {
    "scrolled": true
   },
   "outputs": [
    {
     "data": {
      "text/plain": [
       "MLPClassifier(activation='relu', alpha=0.0001, batch_size='auto', beta_1=0.9,\n",
       "              beta_2=0.999, early_stopping=False, epsilon=1e-08,\n",
       "              hidden_layer_sizes=(1000,), learning_rate='constant',\n",
       "              learning_rate_init=0.001, max_iter=200, momentum=0.9,\n",
       "              n_iter_no_change=10, nesterovs_momentum=True, power_t=0.5,\n",
       "              random_state=None, shuffle=True, solver='adam', tol=0.0001,\n",
       "              validation_fraction=0.1, verbose=False, warm_start=False)"
      ]
     },
     "execution_count": 33,
     "metadata": {},
     "output_type": "execute_result"
    }
   ],
   "source": [
    "# Import the model.\n",
    "from sklearn.neural_network import MLPClassifier\n",
    "\n",
    "# Establish and fit the model, with a single, 1000 perceptron layer.\n",
    "mlp = MLPClassifier(hidden_layer_sizes=(1000,))\n",
    "mlp.fit(X_resampled_train_pca, Y_resampled_train_pca)#making predictions for model evaluation\n",
    "\n",
    "\n"
   ]
  },
  {
   "cell_type": "code",
   "execution_count": 34,
   "metadata": {},
   "outputs": [],
   "source": [
    "#making predictions for model evaluation\n",
    "Y_preds_mlp_pca=mlp.predict(X_test_pca)"
   ]
  },
  {
   "cell_type": "code",
   "execution_count": 35,
   "metadata": {},
   "outputs": [
    {
     "name": "stdout",
     "output_type": "stream",
     "text": [
      "[0.7905569  0.78934625 0.80703883 0.83373786 0.90291262 0.88834951\n",
      " 0.91140777 0.86650485 0.90291262 0.90048544]\n",
      "The 10-fold cross validation average for the training set is  0.8641769905263408\n",
      "--- 546.4958143234253 seconds ---\n"
     ]
    }
   ],
   "source": [
    "#evaluating the model performance through xvalidation of the training set\n",
    "\n",
    "start_time = time.time()\n",
    "print(cross_val_score(mlp, X_resampled_train_pca, Y_resampled_train_pca, cv=10))\n",
    "print('The 10-fold cross validation average for the training set is ', \n",
    "      cross_val_score(mlp, X_resampled_train_pca, Y_resampled_train_pca, cv=10).mean())\n",
    "print(\"--- %s seconds ---\" % (time.time() - start_time))"
   ]
  },
  {
   "cell_type": "code",
   "execution_count": 36,
   "metadata": {},
   "outputs": [
    {
     "name": "stdout",
     "output_type": "stream",
     "text": [
      "[0.75352113 0.70212766 0.75886525 0.74468085 0.78014184 0.78723404\n",
      " 0.75714286 0.81428571 0.82142857 0.70714286]\n",
      "The 10-fold cross validation average for the testing set  is  0.7690804400873326\n"
     ]
    }
   ],
   "source": [
    "#evaluating the model performance through xvalidation of the testing set\n",
    "\n",
    "print(cross_val_score(mlp, X_test_pca, Y_test_pca, cv=10))\n",
    "print('The 10-fold cross validation average for the testing set  is ', \n",
    "      cross_val_score(mlp, X_test_pca, Y_test_pca, cv=10).mean())"
   ]
  },
  {
   "cell_type": "code",
   "execution_count": 37,
   "metadata": {},
   "outputs": [
    {
     "name": "stdout",
     "output_type": "stream",
     "text": [
      "              precision    recall  f1-score   support\n",
      "\n",
      "           0       0.83      0.83      0.83      1041\n",
      "           1       0.52      0.51      0.51       366\n",
      "\n",
      "    accuracy                           0.75      1407\n",
      "   macro avg       0.67      0.67      0.67      1407\n",
      "weighted avg       0.75      0.75      0.75      1407\n",
      "\n"
     ]
    }
   ],
   "source": [
    "#classification report\n",
    "print(classification_report(Y_test_pca, Y_preds_mlp_pca, labels=None, target_names=None, \n",
    "                      sample_weight=None, digits=2, output_dict=False\n",
    "                     ))"
   ]
  },
  {
   "cell_type": "code",
   "execution_count": 38,
   "metadata": {},
   "outputs": [
    {
     "name": "stdout",
     "output_type": "stream",
     "text": [
      "Test set confusion matrix: \n",
      " [[865 176]\n",
      " [179 187]]\n"
     ]
    }
   ],
   "source": [
    "#confusion matrix\n",
    "print('Test set confusion matrix:', '\\n', \n",
    "      confusion_matrix(Y_test_pca, Y_preds_mlp_pca, labels=None, sample_weight=None)\n",
    "     )"
   ]
  },
  {
   "cell_type": "markdown",
   "metadata": {},
   "source": [
    "## Conclusion"
   ]
  },
  {
   "cell_type": "markdown",
   "metadata": {},
   "source": [
    "With these feature sets (PCA and SelectKBest derived), the neural network model classified about as well as its Random Forest competitor, but not better.  It would be difficult to recommend this model over the Random Forest for this feature set, as the neural network is roughly an order of magnitude more resource intensive.  Tweaking the neural network parameters such as size and number of hidden layers could result in performance improvements, as could some reengineering of the features."
   ]
  },
  {
   "cell_type": "code",
   "execution_count": null,
   "metadata": {},
   "outputs": [],
   "source": []
  }
 ],
 "metadata": {
  "kernelspec": {
   "display_name": "Python 3",
   "language": "python",
   "name": "python3"
  },
  "language_info": {
   "codemirror_mode": {
    "name": "ipython",
    "version": 3
   },
   "file_extension": ".py",
   "mimetype": "text/x-python",
   "name": "python",
   "nbconvert_exporter": "python",
   "pygments_lexer": "ipython3",
   "version": "3.7.3"
  }
 },
 "nbformat": 4,
 "nbformat_minor": 2
}
