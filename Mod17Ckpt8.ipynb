{
 "cells": [
  {
   "cell_type": "code",
   "execution_count": 11,
   "metadata": {},
   "outputs": [],
   "source": [
    "import matplotlib.pyplot as plt\n",
    "import numpy as np\n",
    "import pandas as pd\n",
    "import seaborn as sns\n",
    "from scipy.stats import ttest_ind\n",
    "from sqlalchemy import create_engine\n",
    "from scipy.stats.mstats import winsorize\n",
    "from scipy.stats import boxcox\n",
    "from scipy.stats import jarque_bera\n",
    "from scipy.stats import normaltest\n",
    "from sklearn.decomposition import PCA\n",
    "from sklearn.preprocessing import StandardScaler\n",
    "\n",
    "import warnings\n",
    "\n",
    "%matplotlib inline\n",
    "sns.set()\n",
    "\n",
    "warnings.filterwarnings('ignore')"
   ]
  },
  {
   "cell_type": "code",
   "execution_count": 12,
   "metadata": {},
   "outputs": [],
   "source": [
    "postgres_user = 'dsbc_student'\n",
    "postgres_pw = '7*.8G9QH21'\n",
    "postgres_host = '142.93.121.174'\n",
    "postgres_port = '5432'\n",
    "postgres_db = 'useducation'\n",
    "\n",
    "engine = create_engine('postgresql://{}:{}@{}:{}/{}'.format(\n",
    "    postgres_user, postgres_pw, postgres_host, postgres_port, postgres_db))\n",
    "\n",
    "df_used = pd.read_sql_query('select * from useducation',con=engine)\n",
    "\n",
    "engine.dispose()"
   ]
  },
  {
   "cell_type": "code",
   "execution_count": 17,
   "metadata": {},
   "outputs": [],
   "source": [
    "df_used2 = df_used.copy()\n",
    "\n",
    "#filling in missing values\n",
    "columns = [\"ENROLL\", \"TOTAL_REVENUE\", \"FEDERAL_REVENUE\", \"STATE_REVENUE\", \"LOCAL_REVENUE\", \"TOTAL_EXPENDITURE\", \n",
    "             \"INSTRUCTION_EXPENDITURE\", \"SUPPORT_SERVICES_EXPENDITURE\", \"OTHER_EXPENDITURE\", \"CAPITAL_OUTLAY_EXPENDITURE\", \"GRADES_PK_G\", \n",
    "             \"GRADES_KG_G\", \"GRADES_4_G\", \"GRADES_8_G\", \"GRADES_12_G\", \"GRADES_1_8_G\", \"GRADES_9_12_G\", \"GRADES_ALL_G\"]\n",
    "\n",
    "#interpolate missing values\n",
    "for column in columns:\n",
    "    df_used2.loc[:, column].fillna(df_used2.loc[:, column].interpolate(), inplace=True)\n",
    "    \n",
    "df_used2.dropna(inplace=True)\n"
   ]
  },
  {
   "cell_type": "markdown",
   "metadata": {},
   "source": [
    "## 1. Create a new score variable from the weighted averages of all score variables in the datasets. Notice that the number of students in the 4th grade isn't the same as the number of students in the 8th grade. So, you should appropriately weigh the scores!."
   ]
  },
  {
   "cell_type": "code",
   "execution_count": 18,
   "metadata": {},
   "outputs": [],
   "source": [
    "df_used2[\"OVERALL_SCORE\"] = (df_used2[\"GRADES_4_G\"]*((df_used2[\"AVG_MATH_4_SCORE\"] + df_used2[\"AVG_READING_4_SCORE\"])*0.5) + df_used2[\"GRADES_8_G\"]\n",
    "                                 * ((df_used2[\"AVG_MATH_8_SCORE\"] + df_used2[\"AVG_READING_8_SCORE\"])*0.5))/(df_used2[\"GRADES_4_G\"] + df_used2[\"GRADES_8_G\"])\n"
   ]
  },
  {
   "cell_type": "markdown",
   "metadata": {},
   "source": [
    "## 2. What are the correlations between this newly created score variable and the expenditure types? Which 1 of the expenditure types is more correlated than the others?"
   ]
  },
  {
   "cell_type": "code",
   "execution_count": 19,
   "metadata": {},
   "outputs": [
    {
     "data": {
      "text/html": [
       "<div>\n",
       "<style scoped>\n",
       "    .dataframe tbody tr th:only-of-type {\n",
       "        vertical-align: middle;\n",
       "    }\n",
       "\n",
       "    .dataframe tbody tr th {\n",
       "        vertical-align: top;\n",
       "    }\n",
       "\n",
       "    .dataframe thead th {\n",
       "        text-align: right;\n",
       "    }\n",
       "</style>\n",
       "<table border=\"1\" class=\"dataframe\">\n",
       "  <thead>\n",
       "    <tr style=\"text-align: right;\">\n",
       "      <th></th>\n",
       "      <th>OVERALL_SCORE</th>\n",
       "      <th>TOTAL_EXPENDITURE</th>\n",
       "      <th>INSTRUCTION_EXPENDITURE</th>\n",
       "      <th>SUPPORT_SERVICES_EXPENDITURE</th>\n",
       "      <th>OTHER_EXPENDITURE</th>\n",
       "      <th>CAPITAL_OUTLAY_EXPENDITURE</th>\n",
       "    </tr>\n",
       "  </thead>\n",
       "  <tbody>\n",
       "    <tr>\n",
       "      <th>OVERALL_SCORE</th>\n",
       "      <td>1.000000</td>\n",
       "      <td>0.085529</td>\n",
       "      <td>0.098540</td>\n",
       "      <td>0.090792</td>\n",
       "      <td>0.018222</td>\n",
       "      <td>0.005444</td>\n",
       "    </tr>\n",
       "    <tr>\n",
       "      <th>TOTAL_EXPENDITURE</th>\n",
       "      <td>0.085529</td>\n",
       "      <td>1.000000</td>\n",
       "      <td>0.991170</td>\n",
       "      <td>0.992755</td>\n",
       "      <td>0.947953</td>\n",
       "      <td>0.925651</td>\n",
       "    </tr>\n",
       "    <tr>\n",
       "      <th>INSTRUCTION_EXPENDITURE</th>\n",
       "      <td>0.098540</td>\n",
       "      <td>0.991170</td>\n",
       "      <td>1.000000</td>\n",
       "      <td>0.977085</td>\n",
       "      <td>0.910612</td>\n",
       "      <td>0.887075</td>\n",
       "    </tr>\n",
       "    <tr>\n",
       "      <th>SUPPORT_SERVICES_EXPENDITURE</th>\n",
       "      <td>0.090792</td>\n",
       "      <td>0.992755</td>\n",
       "      <td>0.977085</td>\n",
       "      <td>1.000000</td>\n",
       "      <td>0.951520</td>\n",
       "      <td>0.906012</td>\n",
       "    </tr>\n",
       "    <tr>\n",
       "      <th>OTHER_EXPENDITURE</th>\n",
       "      <td>0.018222</td>\n",
       "      <td>0.947953</td>\n",
       "      <td>0.910612</td>\n",
       "      <td>0.951520</td>\n",
       "      <td>1.000000</td>\n",
       "      <td>0.921163</td>\n",
       "    </tr>\n",
       "    <tr>\n",
       "      <th>CAPITAL_OUTLAY_EXPENDITURE</th>\n",
       "      <td>0.005444</td>\n",
       "      <td>0.925651</td>\n",
       "      <td>0.887075</td>\n",
       "      <td>0.906012</td>\n",
       "      <td>0.921163</td>\n",
       "      <td>1.000000</td>\n",
       "    </tr>\n",
       "  </tbody>\n",
       "</table>\n",
       "</div>"
      ],
      "text/plain": [
       "                              OVERALL_SCORE  TOTAL_EXPENDITURE  \\\n",
       "OVERALL_SCORE                      1.000000           0.085529   \n",
       "TOTAL_EXPENDITURE                  0.085529           1.000000   \n",
       "INSTRUCTION_EXPENDITURE            0.098540           0.991170   \n",
       "SUPPORT_SERVICES_EXPENDITURE       0.090792           0.992755   \n",
       "OTHER_EXPENDITURE                  0.018222           0.947953   \n",
       "CAPITAL_OUTLAY_EXPENDITURE         0.005444           0.925651   \n",
       "\n",
       "                              INSTRUCTION_EXPENDITURE  \\\n",
       "OVERALL_SCORE                                0.098540   \n",
       "TOTAL_EXPENDITURE                            0.991170   \n",
       "INSTRUCTION_EXPENDITURE                      1.000000   \n",
       "SUPPORT_SERVICES_EXPENDITURE                 0.977085   \n",
       "OTHER_EXPENDITURE                            0.910612   \n",
       "CAPITAL_OUTLAY_EXPENDITURE                   0.887075   \n",
       "\n",
       "                              SUPPORT_SERVICES_EXPENDITURE  OTHER_EXPENDITURE  \\\n",
       "OVERALL_SCORE                                     0.090792           0.018222   \n",
       "TOTAL_EXPENDITURE                                 0.992755           0.947953   \n",
       "INSTRUCTION_EXPENDITURE                           0.977085           0.910612   \n",
       "SUPPORT_SERVICES_EXPENDITURE                      1.000000           0.951520   \n",
       "OTHER_EXPENDITURE                                 0.951520           1.000000   \n",
       "CAPITAL_OUTLAY_EXPENDITURE                        0.906012           0.921163   \n",
       "\n",
       "                              CAPITAL_OUTLAY_EXPENDITURE  \n",
       "OVERALL_SCORE                                   0.005444  \n",
       "TOTAL_EXPENDITURE                               0.925651  \n",
       "INSTRUCTION_EXPENDITURE                         0.887075  \n",
       "SUPPORT_SERVICES_EXPENDITURE                    0.906012  \n",
       "OTHER_EXPENDITURE                               0.921163  \n",
       "CAPITAL_OUTLAY_EXPENDITURE                      1.000000  "
      ]
     },
     "execution_count": 19,
     "metadata": {},
     "output_type": "execute_result"
    }
   ],
   "source": [
    "df_used2[[\"OVERALL_SCORE\", \"TOTAL_EXPENDITURE\", \"INSTRUCTION_EXPENDITURE\",\n",
    "              \"SUPPORT_SERVICES_EXPENDITURE\", \"OTHER_EXPENDITURE\", \"CAPITAL_OUTLAY_EXPENDITURE\"]].corr()"
   ]
  },
  {
   "cell_type": "markdown",
   "metadata": {},
   "source": [
    "INSTRUCTION_EXPENDITURE is the most highly correlated (but still low: ~0.115) variable with our new OVERALL_SCORE variable."
   ]
  },
  {
   "cell_type": "markdown",
   "metadata": {},
   "source": [
    "## 3. Now, apply PCA to the 4 expenditure types. How much of the total variance is explained by the 1st component?"
   ]
  },
  {
   "cell_type": "code",
   "execution_count": 22,
   "metadata": {},
   "outputs": [
    {
     "name": "stdout",
     "output_type": "stream",
     "text": [
      "[0.94430736]\n"
     ]
    }
   ],
   "source": [
    "X = df_used2[[\"INSTRUCTION_EXPENDITURE\", \"SUPPORT_SERVICES_EXPENDITURE\",\n",
    "                  \"OTHER_EXPENDITURE\", \"CAPITAL_OUTLAY_EXPENDITURE\"]]\n",
    "\n",
    "X = StandardScaler().fit_transform(X)\n",
    "\n",
    "sklearn_pca = PCA(n_components=1)\n",
    "df_used2[\"PCA_1\"] = sklearn_pca.fit_transform(X)\n",
    "\n",
    "print(sklearn_pca.explained_variance_ratio_)"
   ]
  },
  {
   "cell_type": "markdown",
   "metadata": {},
   "source": [
    "Approximately 94% of the total variance is explained by the first component."
   ]
  },
  {
   "cell_type": "markdown",
   "metadata": {},
   "source": [
    "## 4. What is the correlation between the overall score variable and the 1st principal component?"
   ]
  },
  {
   "cell_type": "code",
   "execution_count": 23,
   "metadata": {},
   "outputs": [
    {
     "data": {
      "text/html": [
       "<div>\n",
       "<style scoped>\n",
       "    .dataframe tbody tr th:only-of-type {\n",
       "        vertical-align: middle;\n",
       "    }\n",
       "\n",
       "    .dataframe tbody tr th {\n",
       "        vertical-align: top;\n",
       "    }\n",
       "\n",
       "    .dataframe thead th {\n",
       "        text-align: right;\n",
       "    }\n",
       "</style>\n",
       "<table border=\"1\" class=\"dataframe\">\n",
       "  <thead>\n",
       "    <tr style=\"text-align: right;\">\n",
       "      <th></th>\n",
       "      <th>OVERALL_SCORE</th>\n",
       "      <th>PCA_1</th>\n",
       "    </tr>\n",
       "  </thead>\n",
       "  <tbody>\n",
       "    <tr>\n",
       "      <th>OVERALL_SCORE</th>\n",
       "      <td>1.000000</td>\n",
       "      <td>0.055135</td>\n",
       "    </tr>\n",
       "    <tr>\n",
       "      <th>PCA_1</th>\n",
       "      <td>0.055135</td>\n",
       "      <td>1.000000</td>\n",
       "    </tr>\n",
       "  </tbody>\n",
       "</table>\n",
       "</div>"
      ],
      "text/plain": [
       "               OVERALL_SCORE     PCA_1\n",
       "OVERALL_SCORE       1.000000  0.055135\n",
       "PCA_1               0.055135  1.000000"
      ]
     },
     "execution_count": 23,
     "metadata": {},
     "output_type": "execute_result"
    }
   ],
   "source": [
    "df_used2[[\"OVERALL_SCORE\", \"PCA_1\"]].corr()"
   ]
  },
  {
   "cell_type": "markdown",
   "metadata": {},
   "source": [
    "The correlation between the overall score variable and the 1st principal component is ~ 0.055."
   ]
  },
  {
   "cell_type": "markdown",
   "metadata": {},
   "source": [
    "## 5. If you were to choose the best variables for your model, would you prefer using the 1st principal component instead of the expenditure variables? Why?"
   ]
  },
  {
   "cell_type": "markdown",
   "metadata": {},
   "source": [
    "I don't think so for two reasons. First, the expenditure variables are all highly correlated with each other, which can have unstable results; and second, the expenditure variables show better correlation with the overall score variable than the 1st principal compenent.  "
   ]
  },
  {
   "cell_type": "code",
   "execution_count": null,
   "metadata": {},
   "outputs": [],
   "source": []
  }
 ],
 "metadata": {
  "kernelspec": {
   "display_name": "Python 3",
   "language": "python",
   "name": "python3"
  },
  "language_info": {
   "codemirror_mode": {
    "name": "ipython",
    "version": 3
   },
   "file_extension": ".py",
   "mimetype": "text/x-python",
   "name": "python",
   "nbconvert_exporter": "python",
   "pygments_lexer": "ipython3",
   "version": "3.7.3"
  }
 },
 "nbformat": 4,
 "nbformat_minor": 2
}
