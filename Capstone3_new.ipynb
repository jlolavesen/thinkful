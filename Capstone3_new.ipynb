{
 "cells": [
  {
   "cell_type": "code",
   "execution_count": 107,
   "metadata": {},
   "outputs": [],
   "source": [
    "import matplotlib.pyplot as plt\n",
    "import numpy as np\n",
    "import pandas as pd\n",
    "import seaborn as sns\n",
    "import math\n",
    "from imblearn.over_sampling import RandomOverSampler\n",
    "from scipy.stats import ttest_ind\n",
    "from sqlalchemy import create_engine\n",
    "from scipy.stats.mstats import winsorize\n",
    "from scipy.stats import boxcox\n",
    "from scipy.stats import jarque_bera\n",
    "from scipy.stats import normaltest\n",
    "from sklearn.decomposition import PCA\n",
    "from sklearn.preprocessing import StandardScaler\n",
    "from sklearn.naive_bayes import BernoulliNB\n",
    "from sklearn.model_selection import cross_val_score\n",
    "from sklearn import linear_model\n",
    "from sklearn.model_selection import train_test_split\n",
    "from sklearn.model_selection import GridSearchCV\n",
    "from sklearn.metrics import mean_absolute_error\n",
    "from sklearn.metrics import make_scorer\n",
    "\n",
    "from sklearn.metrics import classification_report, confusion_matrix\n",
    "from sklearn.linear_model import LinearRegression, LassoCV, RidgeCV, ElasticNetCV\n",
    "from statsmodels.tools.eval_measures import mse, rmse\n",
    "from wordcloud import WordCloud\n",
    "import statsmodels.api as sm\n",
    "from sklearn.pipeline import make_pipeline\n",
    "from sklearn.pipeline import Pipeline\n",
    "from sklearn.feature_selection import SelectKBest, f_regression\n",
    "from sklearn.svm import SVC\n",
    "from sklearn import tree\n",
    "from sklearn import ensemble\n",
    "from sklearn import datasets\n",
    "from sklearn.utils import shuffle\n",
    "from sklearn import neighbors\n",
    "from IPython.display import Image\n",
    "\n",
    "\n",
    "import pydotplus\n",
    "from sklearn import ensemble\n",
    "\n",
    "import warnings\n",
    "\n",
    "%matplotlib inline\n",
    "sns.set()\n",
    "\n",
    "warnings.filterwarnings('ignore')\n",
    "import time"
   ]
  },
  {
   "cell_type": "code",
   "execution_count": 9,
   "metadata": {},
   "outputs": [],
   "source": [
    "#assign data frame\n",
    "df_telco = (pd.read_excel('Data/Telco_Churn.xlsx'))"
   ]
  },
  {
   "cell_type": "code",
   "execution_count": 10,
   "metadata": {},
   "outputs": [
    {
     "name": "stdout",
     "output_type": "stream",
     "text": [
      "<class 'pandas.core.frame.DataFrame'>\n",
      "RangeIndex: 7043 entries, 0 to 7042\n",
      "Data columns (total 21 columns):\n",
      "customerID          7043 non-null object\n",
      "gender              7043 non-null object\n",
      "SeniorCitizen       7043 non-null int64\n",
      "Partner             7043 non-null object\n",
      "Dependents          7043 non-null object\n",
      "tenure              7043 non-null int64\n",
      "PhoneService        7043 non-null object\n",
      "MultipleLines       7043 non-null object\n",
      "InternetService     7043 non-null object\n",
      "OnlineSecurity      7043 non-null object\n",
      "OnlineBackup        7043 non-null object\n",
      "DeviceProtection    7043 non-null object\n",
      "TechSupport         7043 non-null object\n",
      "StreamingTV         7043 non-null object\n",
      "StreamingMovies     7043 non-null object\n",
      "Contract            7043 non-null object\n",
      "PaperlessBilling    7043 non-null object\n",
      "PaymentMethod       7043 non-null object\n",
      "MonthlyCharges      7043 non-null float64\n",
      "TotalCharges        7043 non-null object\n",
      "Churn               7043 non-null object\n",
      "dtypes: float64(1), int64(2), object(18)\n",
      "memory usage: 1.1+ MB\n",
      "   customerID  gender  SeniorCitizen Partner Dependents  tenure PhoneService  \\\n",
      "0  7590-VHVEG  Female              0     Yes         No       1           No   \n",
      "1  5575-GNVDE    Male              0      No         No      34          Yes   \n",
      "2  3668-QPYBK    Male              0      No         No       2          Yes   \n",
      "3  7795-CFOCW    Male              0      No         No      45           No   \n",
      "4  9237-HQITU  Female              0      No         No       2          Yes   \n",
      "\n",
      "      MultipleLines InternetService OnlineSecurity  ... DeviceProtection  \\\n",
      "0  No phone service             DSL             No  ...               No   \n",
      "1                No             DSL            Yes  ...              Yes   \n",
      "2                No             DSL            Yes  ...               No   \n",
      "3  No phone service             DSL            Yes  ...              Yes   \n",
      "4                No     Fiber optic             No  ...               No   \n",
      "\n",
      "  TechSupport StreamingTV StreamingMovies        Contract PaperlessBilling  \\\n",
      "0          No          No              No  Month-to-month              Yes   \n",
      "1          No          No              No        One year               No   \n",
      "2          No          No              No  Month-to-month              Yes   \n",
      "3         Yes          No              No        One year               No   \n",
      "4          No          No              No  Month-to-month              Yes   \n",
      "\n",
      "               PaymentMethod MonthlyCharges  TotalCharges Churn  \n",
      "0           Electronic check          29.85         29.85    No  \n",
      "1               Mailed check          56.95        1889.5    No  \n",
      "2               Mailed check          53.85        108.15   Yes  \n",
      "3  Bank transfer (automatic)          42.30       1840.75    No  \n",
      "4           Electronic check          70.70        151.65   Yes  \n",
      "\n",
      "[5 rows x 21 columns] None        SeniorCitizen       tenure  MonthlyCharges\n",
      "count    7043.000000  7043.000000     7043.000000\n",
      "mean        0.162147    32.371149       64.761692\n",
      "std         0.368612    24.559481       30.090047\n",
      "min         0.000000     0.000000       18.250000\n",
      "25%         0.000000     9.000000       35.500000\n",
      "50%         0.000000    29.000000       70.350000\n",
      "75%         0.000000    55.000000       89.850000\n",
      "max         1.000000    72.000000      118.750000\n"
     ]
    }
   ],
   "source": [
    "#examine the data frame\n",
    "\n",
    "print(\n",
    "    df_telco.head(),\n",
    "    df_telco.info(),\n",
    "    df_telco.describe()\n",
    ")"
   ]
  },
  {
   "cell_type": "code",
   "execution_count": 11,
   "metadata": {},
   "outputs": [],
   "source": [
    "#change TotalCharges from dtype 'object' to 'float64'\n",
    "\n",
    "df_telco.TotalCharges=pd.to_numeric(df_telco.TotalCharges, errors='coerce')"
   ]
  },
  {
   "cell_type": "code",
   "execution_count": 12,
   "metadata": {},
   "outputs": [],
   "source": [
    "#change SeniorCitizen to dtype to 'uint8' (as it is binary)\n",
    "\n",
    "df_telco.SeniorCitizen = df_telco.SeniorCitizen.astype('uint8')"
   ]
  },
  {
   "cell_type": "code",
   "execution_count": 13,
   "metadata": {},
   "outputs": [
    {
     "data": {
      "text/plain": [
       "TotalCharges      0.001562\n",
       "Churn             0.000000\n",
       "OnlineSecurity    0.000000\n",
       "gender            0.000000\n",
       "SeniorCitizen     0.000000\n",
       "dtype: float64"
      ]
     },
     "execution_count": 13,
     "metadata": {},
     "output_type": "execute_result"
    }
   ],
   "source": [
    "#Check for missing values\n",
    "\n",
    "missing_values_ratios = (df_telco.isnull().sum()/df_telco.isnull().count())\n",
    "missing_values_ratios.sort_values(ascending=False).head()"
   ]
  },
  {
   "cell_type": "code",
   "execution_count": 14,
   "metadata": {},
   "outputs": [],
   "source": [
    "#v low percantage of missing values; drop them\n",
    "\n",
    "df_telco.dropna(inplace=True)"
   ]
  },
  {
   "cell_type": "code",
   "execution_count": 15,
   "metadata": {},
   "outputs": [
    {
     "data": {
      "text/plain": [
       "No     5163\n",
       "Yes    1869\n",
       "Name: Churn, dtype: int64"
      ]
     },
     "execution_count": 15,
     "metadata": {},
     "output_type": "execute_result"
    }
   ],
   "source": [
    "#get value counts of the target\n",
    "\n",
    "df_telco['Churn'].value_counts()"
   ]
  },
  {
   "cell_type": "code",
   "execution_count": 16,
   "metadata": {},
   "outputs": [],
   "source": [
    "#Make a boolean version of the target for algorithmic friendliness\n",
    "churn_bool = []\n",
    "\n",
    "for idx, val in enumerate(df_telco['Churn']):\n",
    "    if val == 'Yes':\n",
    "        churn_bool.append(1)\n",
    "    else:\n",
    "        churn_bool.append(0)\n",
    "        \n",
    "df_telco['churn_bool'] = churn_bool"
   ]
  },
  {
   "cell_type": "code",
   "execution_count": 17,
   "metadata": {},
   "outputs": [
    {
     "data": {
      "image/png": "[encoded data removed]",
      "text/plain": [
       "<Figure size 1440x720 with 4 Axes>"
      ]
     },
     "metadata": {},
     "output_type": "display_data"
    }
   ],
   "source": [
    "#plot histograms of the target and the three numeric variables\n",
    "\n",
    "plt.figure(figsize=(20,10))\n",
    "\n",
    "plt.subplot(2,2,1)\n",
    "plt.hist(df_telco.churn_bool)\n",
    "plt.title(\"histogram of {}\".format(\"churn_bool\"))\n",
    "\n",
    "plt.subplot(2,2,2)\n",
    "plt.hist(df_telco.tenure)\n",
    "plt.title(\"histogram of {}\".format(\"tenure\"))\n",
    "\n",
    "plt.subplot(2,2,3)\n",
    "plt.hist(df_telco.MonthlyCharges)\n",
    "plt.title(\"histogram of {}\".format(\"MonthlyCharges\"))\n",
    "\n",
    "plt.subplot(2,2,4)\n",
    "plt.hist(df_telco.TotalCharges)\n",
    "plt.title(\"histogram of {}\".format(\"TotalCharges\"))\n",
    "plt.show()"
   ]
  },
  {
   "cell_type": "code",
   "execution_count": 18,
   "metadata": {},
   "outputs": [],
   "source": [
    "df_telco['tenure_boxcox'],_ = boxcox(df_telco.tenure)\n",
    "df_telco['MonthlyCharges_boxcox'],_ = boxcox(df_telco.MonthlyCharges)\n",
    "df_telco['TotalCharges_boxcox'],_ = boxcox(df_telco.TotalCharges)"
   ]
  },
  {
   "cell_type": "code",
   "execution_count": 167,
   "metadata": {},
   "outputs": [
    {
     "data": {
      "image/png": "[encoded data removed]",
      "text/plain": [
       "<Figure size 1440x720 with 3 Axes>"
      ]
     },
     "metadata": {},
     "output_type": "display_data"
    }
   ],
   "source": [
    "#see the boxcox transformations of the three numeric variables\n",
    "\n",
    "plt.figure(figsize=(20,10))\n",
    "\n",
    "\n",
    "plt.subplot(2,2,1)\n",
    "plt.hist(df_telco.tenure_boxcox)\n",
    "plt.title(\"histogram of {}\".format(\"tenure\"))\n",
    "\n",
    "plt.subplot(2,2,2)\n",
    "plt.hist((df_telco.MonthlyCharges_boxcox))\n",
    "plt.title(\"histogram of {}\".format(\"MonthlyCharges\"))\n",
    "\n",
    "plt.subplot(2,2,3)\n",
    "plt.hist((df_telco.TotalCharges_boxcox))\n",
    "plt.title(\"histogram of {}\".format(\"TotalCharges\"))\n",
    "plt.show()"
   ]
  },
  {
   "cell_type": "code",
   "execution_count": 20,
   "metadata": {},
   "outputs": [],
   "source": [
    "#setting up for visualization of 'object' variables\n",
    "\n",
    "cols = [col for col in df_telco.select_dtypes(['object','uint8']) if col not in ['customerID', 'Churn']]\n",
    "df_telco2 = df_telco[cols]\n",
    "df_telco2['churn_bool'] = churn_bool"
   ]
  },
  {
   "cell_type": "code",
   "execution_count": 21,
   "metadata": {},
   "outputs": [
    {
     "data": {
      "image/png": "[encoded data removed]",
      "text/plain": [
       "<Figure size 2160x3600 with 17 Axes>"
      ]
     },
     "metadata": {},
     "output_type": "display_data"
    }
   ],
   "source": [
    "#plot bar graphs of the object variables\n",
    "\n",
    "plt.figure(figsize=(30,50))\n",
    "\n",
    "for index, column in enumerate(df_telco2):\n",
    "    plt.subplot(11,4,index+1)\n",
    "    plt.bar(df_telco2.groupby(column)[\"churn_bool\"].mean().index, df_telco2.groupby(column)[\"churn_bool\"].mean(),\n",
    "           color=(\"grey\",\"purple\"))\n",
    "    plt.title(\"Churn percentage wrt. {}\".format(column))\n",
    "    plt.ylabel(\"Churn percentage\")\n",
    "    plt.xlabel(column)\n",
    "    plt.xticks(rotation='vertical')\n",
    "\n",
    "plt.tight_layout()\n",
    "plt.show()"
   ]
  },
  {
   "cell_type": "markdown",
   "metadata": {},
   "source": [
    "## Feature Engineering"
   ]
  },
  {
   "cell_type": "code",
   "execution_count": 22,
   "metadata": {},
   "outputs": [],
   "source": [
    "#make dummy variables from the object variables\n",
    "\n",
    "df_telco = pd.concat([df_telco,pd.get_dummies(\n",
    "    df_telco[['gender','Partner','Dependents','PhoneService','MultipleLines','InternetService',\n",
    "                'OnlineSecurity','OnlineBackup','DeviceProtection','TechSupport','StreamingTV',\n",
    "                'StreamingMovies','Contract','PaperlessBilling','PaymentMethod']], drop_first=True)], axis=1)\n"
   ]
  },
  {
   "cell_type": "code",
   "execution_count": 23,
   "metadata": {},
   "outputs": [
    {
     "data": {
      "text/plain": [
       "churn_bool                               1.000000\n",
       "tenure_boxcox                            0.374174\n",
       "tenure                                   0.354049\n",
       "InternetService_Fiber optic              0.307463\n",
       "Contract_Two year                        0.301552\n",
       "PaymentMethod_Electronic check           0.301455\n",
       "TotalCharges_boxcox                      0.236815\n",
       "TechSupport_No internet service          0.227578\n",
       "OnlineSecurity_No internet service       0.227578\n",
       "OnlineBackup_No internet service         0.227578\n",
       "DeviceProtection_No internet service     0.227578\n",
       "StreamingTV_No internet service          0.227578\n",
       "StreamingMovies_No internet service      0.227578\n",
       "InternetService_No                       0.227578\n",
       "TotalCharges                             0.199484\n",
       "MonthlyCharges_boxcox                    0.194624\n",
       "MonthlyCharges                           0.192858\n",
       "PaperlessBilling_Yes                     0.191454\n",
       "Contract_One year                        0.178225\n",
       "OnlineSecurity_Yes                       0.171270\n",
       "TechSupport_Yes                          0.164716\n",
       "Dependents_Yes                           0.163128\n",
       "Partner_Yes                              0.149982\n",
       "PaymentMethod_Credit card (automatic)    0.134687\n",
       "PaymentMethod_Mailed check               0.090773\n",
       "OnlineBackup_Yes                         0.082307\n",
       "DeviceProtection_Yes                     0.066193\n",
       "StreamingTV_Yes                          0.063254\n",
       "StreamingMovies_Yes                      0.060860\n",
       "MultipleLines_Yes                        0.040033\n",
       "PhoneService_Yes                         0.011691\n",
       "MultipleLines_No phone service           0.011691\n",
       "gender_Male                              0.008545\n",
       "Name: churn_bool, dtype: float64"
      ]
     },
     "execution_count": 23,
     "metadata": {},
     "output_type": "execute_result"
    }
   ],
   "source": [
    "#check the correlation of various features with the target\n",
    "\n",
    "np.abs(df_telco[df_telco.select_dtypes(['int64', 'float64', 'uint8']).columns].iloc[:,1:].corr().loc[:,'churn_bool']).sort_values(ascending=False).head(35)\n",
    "\n",
    "#NTS: the ^above^ logic fails if the target is categorical"
   ]
  },
  {
   "cell_type": "code",
   "execution_count": 24,
   "metadata": {},
   "outputs": [
    {
     "data": {
      "text/plain": [
       "<matplotlib.axes._subplots.AxesSubplot at 0x1c22a1a208>"
      ]
     },
     "execution_count": 24,
     "metadata": {},
     "output_type": "execute_result"
    },
    {
     "data": {
      "image/png": "[encoded data removed]",
      "text/plain": [
       "<Figure size 432x288 with 2 Axes>"
      ]
     },
     "metadata": {},
     "output_type": "display_data"
    }
   ],
   "source": [
    "sns.heatmap(df_telco.select_dtypes(['int64', 'float64']).corr())"
   ]
  },
  {
   "cell_type": "code",
   "execution_count": 25,
   "metadata": {},
   "outputs": [],
   "source": [
    "#assigning features\n",
    "\n",
    "#X is standardized\n",
    "X = StandardScaler().fit_transform(pd.concat([df_telco[['tenure_boxcox','MonthlyCharges_boxcox','TotalCharges_boxcox']], \n",
    "                                              df_telco.select_dtypes(['uint8'])], axis=1, sort=False)\n",
    "                                  )\n",
    "\n",
    "#XX is the same data as X but not standardized\n",
    "XX = pd.concat([df_telco[['tenure_boxcox', 'MonthlyCharges_boxcox','TotalCharges_boxcox']], \n",
    "                df_telco.select_dtypes(['uint8'])], axis=1, sort=False\n",
    "              )\n",
    "\n",
    "#Y is the target\n",
    "Y = df_telco.churn_bool"
   ]
  },
  {
   "cell_type": "code",
   "execution_count": 26,
   "metadata": {},
   "outputs": [],
   "source": [
    "#NTS: these functions are useful diagnostic tools\n",
    "\n",
    "#np.isinf(X).any()\n",
    "#np.isinf(Y).any()\n",
    "\n",
    "#np.isnan(X).any()\n",
    "#np.isnan(Y).any()"
   ]
  },
  {
   "cell_type": "markdown",
   "metadata": {},
   "source": [
    "## Feature Engineering: PCA"
   ]
  },
  {
   "cell_type": "code",
   "execution_count": 27,
   "metadata": {},
   "outputs": [],
   "source": [
    "#setting up parameters for GridSearchCV(X)... the plan is PCA(GridSearchCV(X))\n",
    "\n",
    "n_comps = np.arange(0, 25)\n",
    "param_grid_pca = [{'pca__n_components':n_comps}]\n",
    "pipe_tree_pca = make_pipeline(PCA())"
   ]
  },
  {
   "cell_type": "code",
   "execution_count": 28,
   "metadata": {},
   "outputs": [],
   "source": [
    "gs_pca = GridSearchCV(pipe_tree_pca, param_grid=param_grid_pca, cv=10)"
   ]
  },
  {
   "cell_type": "code",
   "execution_count": 273,
   "metadata": {},
   "outputs": [
    {
     "name": "stdout",
     "output_type": "stream",
     "text": [
      "{'pca__n_components': 22}\n"
     ]
    }
   ],
   "source": [
    "gs_pca.fit(X,Y)\n",
    "print(gs_pca.best_params_)"
   ]
  },
  {
   "cell_type": "code",
   "execution_count": 29,
   "metadata": {},
   "outputs": [
    {
     "name": "stdout",
     "output_type": "stream",
     "text": [
      "The percentage of total variance in the dataset explained by each component from Sklearn PCA:\n",
      " [3.31842341e-01 1.19866458e-01 8.98165287e-02 4.77221792e-02\n",
      " 4.16126789e-02 4.12633978e-02 3.78085715e-02 3.33596922e-02\n",
      " 3.13799130e-02 2.96360092e-02 2.66083095e-02 2.38330588e-02\n",
      " 2.26682792e-02 2.05405597e-02 2.02421265e-02 1.80819458e-02\n",
      " 1.56008299e-02 1.53408924e-02 1.46270378e-02 9.20900330e-03\n",
      " 8.64470384e-03 2.64931253e-04]\n"
     ]
    }
   ],
   "source": [
    "#using the results of GridSearchCV to perform PCA\n",
    "\n",
    "sklearn_pca = PCA(n_components=22)  \n",
    "X_pca = sklearn_pca.fit_transform(X)\n",
    "\n",
    "print(\n",
    "    'The percentage of total variance in the dataset explained by each',\n",
    "    'component from Sklearn PCA:\\n',\n",
    "    sklearn_pca.explained_variance_ratio_\n",
    ")\n",
    "\n",
    "#X_pca is now our PCA engineered feature set.\n",
    "#NTS: try a feature set applying PCA to the four numerical variables and adding the raw uint8 features separately?"
   ]
  },
  {
   "cell_type": "markdown",
   "metadata": {},
   "source": [
    "## Feature Engineering: SelectKBest"
   ]
  },
  {
   "cell_type": "code",
   "execution_count": 30,
   "metadata": {},
   "outputs": [],
   "source": [
    "#SelectKBest contrasts with PCA as a feature selection tool\n",
    "\n",
    "selection = SelectKBest(score_func=f_regression, k='all') \n",
    "X_kbest = selection.fit(XX, Y).transform(XX)\n",
    "\n",
    "#we can compare the performance of models with a PCA derived feature set (X_pca(X)),\n",
    "#    vs a SelectKBest derived feature set (X_kbest(XX))"
   ]
  },
  {
   "cell_type": "code",
   "execution_count": 33,
   "metadata": {},
   "outputs": [],
   "source": [
    "#splitting the data into testing and training sets\n",
    "X_train_skb, X_test_skb, Y_train_skb, Y_test_skb = train_test_split(\n",
    "    X_kbest, Y, test_size = 0.20, random_state = 1\n",
    ")\n",
    "\n",
    "X_train_pca, X_test_pca, Y_train_pca, Y_test_pca = train_test_split(\n",
    "    X_pca, Y, test_size = 0.20, random_state = 1\n",
    ")\n",
    "\n",
    "X_resampled_train_skb, Y_resampled_train_skb = SMOTE().fit_resample(X_train_skb, Y_train_skb)\n",
    "X_resampled_train_pca, Y_resampled_train_pca = SMOTE().fit_resample(X_train_pca, Y_train_pca)"
   ]
  },
  {
   "cell_type": "markdown",
   "metadata": {},
   "source": [
    "## Model 1: Decision Tree(SelectKBest)"
   ]
  },
  {
   "cell_type": "code",
   "execution_count": 34,
   "metadata": {},
   "outputs": [],
   "source": [
    "#setting up parameters for GridSearchCV(DecisionTreeClassifier())\n",
    "\n",
    "depths = np.arange(1, 25)\n",
    "num_features = [1, 2, 3, 4, 5, 6, 7, 8]\n",
    "\n",
    "param_grid_dt_skb = [{'decisiontreeclassifier__max_depth':depths,\n",
    "               'decisiontreeclassifier__max_features':num_features}]\n",
    "\n",
    "pipe_tree_dt_skb = make_pipeline(tree.DecisionTreeClassifier(criterion='entropy'))"
   ]
  },
  {
   "cell_type": "code",
   "execution_count": 35,
   "metadata": {},
   "outputs": [],
   "source": [
    "gs_dt_skb = GridSearchCV(pipe_tree_dt_skb, param_grid=param_grid_dt_skb, cv=10)"
   ]
  },
  {
   "cell_type": "code",
   "execution_count": 36,
   "metadata": {},
   "outputs": [
    {
     "name": "stdout",
     "output_type": "stream",
     "text": [
      "{'decisiontreeclassifier__max_depth': 16, 'decisiontreeclassifier__max_features': 8}\n"
     ]
    }
   ],
   "source": [
    "gs_dt_skb.fit(X_resampled_train_skb,Y_resampled_train_skb)\n",
    "print(gs_dt_skb.best_params_)"
   ]
  },
  {
   "cell_type": "code",
   "execution_count": 37,
   "metadata": {},
   "outputs": [
    {
     "data": {
      "text/plain": [
       "DecisionTreeClassifier(class_weight=None, criterion='entropy', max_depth=16,\n",
       "                       max_features=8, max_leaf_nodes=None,\n",
       "                       min_impurity_decrease=0.0, min_impurity_split=None,\n",
       "                       min_samples_leaf=1, min_samples_split=2,\n",
       "                       min_weight_fraction_leaf=0.0, presort=False,\n",
       "                       random_state=None, splitter='best')"
      ]
     },
     "execution_count": 37,
     "metadata": {},
     "output_type": "execute_result"
    }
   ],
   "source": [
    "#initialize and train the decision tree model using GridSearchCV results\n",
    "#    {'decisiontreeclassifier__max_depth': 6, 'decisiontreeclassifier__max_features': 7}\n",
    "\n",
    "decision_tree = tree.DecisionTreeClassifier(\n",
    "    criterion='entropy',\n",
    "    max_features=8,\n",
    "    max_depth=16\n",
    ")\n",
    "\n",
    "decision_tree.fit(X_resampled_train_skb, Y_resampled_train_skb)"
   ]
  },
  {
   "cell_type": "code",
   "execution_count": 38,
   "metadata": {},
   "outputs": [],
   "source": [
    "#making predictions for model evaluation\n",
    "Y_pred_dt_skb = decision_tree.fit(X_resampled_train_skb, Y_resampled_train_skb).predict(X_test_skb)"
   ]
  },
  {
   "cell_type": "code",
   "execution_count": 39,
   "metadata": {},
   "outputs": [
    {
     "name": "stdout",
     "output_type": "stream",
     "text": [
      "[0.68401937 0.71670702 0.71966019 0.77063107 0.86286408 0.87257282\n",
      " 0.86286408 0.88592233 0.87378641 0.86771845]\n",
      "The 10-fold cross validation average for the training set is  0.8151972307764639\n",
      "--- 0.35196518898010254 seconds ---\n"
     ]
    }
   ],
   "source": [
    "#evaluating the model performance through xvalidation of the training set\n",
    "\n",
    "start_time = time.time()\n",
    "\n",
    "print(cross_val_score(decision_tree, X_resampled_train_skb, Y_resampled_train_skb, cv=10))\n",
    "print('The 10-fold cross validation average for the training set is ', \n",
    "      cross_val_score(decision_tree, X_resampled_train_skb, Y_resampled_train_skb, cv=10).mean())\n",
    "\n",
    "print(\"--- %s seconds ---\" % (time.time() - start_time))"
   ]
  },
  {
   "cell_type": "code",
   "execution_count": 40,
   "metadata": {},
   "outputs": [
    {
     "name": "stdout",
     "output_type": "stream",
     "text": [
      "[0.69014085 0.76595745 0.70212766 0.73049645 0.75177305 0.76595745\n",
      " 0.72142857 0.76428571 0.80714286 0.72857143]\n",
      "The 10-fold cross validation average for the testing set  is  0.7356156085448863\n"
     ]
    }
   ],
   "source": [
    "#evaluating the model performance through xvalidation of the testing set\n",
    "\n",
    "print(cross_val_score(decision_tree, X_test_skb, Y_test_skb, cv=10))\n",
    "print('The 10-fold cross validation average for the testing set  is ', \n",
    "      cross_val_score(decision_tree, X_test_skb, Y_test_skb, cv=10).mean())"
   ]
  },
  {
   "cell_type": "code",
   "execution_count": 41,
   "metadata": {},
   "outputs": [
    {
     "name": "stdout",
     "output_type": "stream",
     "text": [
      "              precision    recall  f1-score   support\n",
      "\n",
      "           0       0.85      0.79      0.82      1041\n",
      "           1       0.51      0.61      0.55       366\n",
      "\n",
      "    accuracy                           0.74      1407\n",
      "   macro avg       0.68      0.70      0.69      1407\n",
      "weighted avg       0.76      0.74      0.75      1407\n",
      "\n"
     ]
    }
   ],
   "source": [
    "#classification report\n",
    "\n",
    "print(classification_report(Y_test_skb, Y_pred_dt_skb, labels=None, target_names=None, \n",
    "                      sample_weight=None, digits=2, output_dict=False\n",
    "                     ))"
   ]
  },
  {
   "cell_type": "code",
   "execution_count": 42,
   "metadata": {},
   "outputs": [
    {
     "name": "stdout",
     "output_type": "stream",
     "text": [
      "Test set confusion matrix: \n",
      " [[823 218]\n",
      " [142 224]]\n"
     ]
    }
   ],
   "source": [
    "#confusion matrix\n",
    "print('Test set confusion matrix:', '\\n', \n",
    "      confusion_matrix(Y_test_skb, Y_pred_dt_skb, labels=None, sample_weight=None)\n",
    "     )"
   ]
  },
  {
   "cell_type": "markdown",
   "metadata": {},
   "source": [
    "## Model 2: Decision Tree(PCA)"
   ]
  },
  {
   "cell_type": "code",
   "execution_count": 53,
   "metadata": {},
   "outputs": [],
   "source": [
    "#setting up parameters for GridSearchCV(DecisionTreeClassifier())\n",
    "\n",
    "depths = np.arange(1, 25)\n",
    "num_features = [1, 2, 3, 4, 5, 6, 7, 8]\n",
    "\n",
    "param_grid_dt_pca = [{'decisiontreeclassifier__max_depth':depths,\n",
    "               'decisiontreeclassifier__max_features':num_features}]\n",
    "\n",
    "pipe_tree_dt_pca = make_pipeline(tree.DecisionTreeClassifier(criterion='entropy'))"
   ]
  },
  {
   "cell_type": "code",
   "execution_count": 54,
   "metadata": {},
   "outputs": [],
   "source": [
    "gs_dt_pca = GridSearchCV(pipe_tree_dt_pca, param_grid=param_grid_dt_pca, cv=10)"
   ]
  },
  {
   "cell_type": "code",
   "execution_count": 55,
   "metadata": {},
   "outputs": [
    {
     "name": "stdout",
     "output_type": "stream",
     "text": [
      "{'decisiontreeclassifier__max_depth': 23, 'decisiontreeclassifier__max_features': 7}\n"
     ]
    }
   ],
   "source": [
    "gs_dt_pca.fit(X_resampled_train_pca,Y_resampled_train_pca)\n",
    "print(gs_dt_pca.best_params_)"
   ]
  },
  {
   "cell_type": "code",
   "execution_count": 47,
   "metadata": {},
   "outputs": [
    {
     "data": {
      "text/plain": [
       "DecisionTreeClassifier(class_weight=None, criterion='entropy', max_depth=24,\n",
       "                       max_features=8, max_leaf_nodes=None,\n",
       "                       min_impurity_decrease=0.0, min_impurity_split=None,\n",
       "                       min_samples_leaf=1, min_samples_split=2,\n",
       "                       min_weight_fraction_leaf=0.0, presort=False,\n",
       "                       random_state=None, splitter='best')"
      ]
     },
     "execution_count": 47,
     "metadata": {},
     "output_type": "execute_result"
    }
   ],
   "source": [
    "#initialize and train the decision tree model using GridSearchCV results\n",
    "#    {'decisiontreeclassifier__max_depth': 4, 'decisiontreeclassifier__max_features': 8}\n",
    "\n",
    "decision_tree = tree.DecisionTreeClassifier(\n",
    "    criterion='entropy',\n",
    "    max_features=8,\n",
    "    max_depth=24\n",
    ")\n",
    "\n",
    "decision_tree.fit(X_resampled_train_pca, Y_resampled_train_pca)"
   ]
  },
  {
   "cell_type": "code",
   "execution_count": 48,
   "metadata": {},
   "outputs": [],
   "source": [
    "#making predictions for model evaluation\n",
    "Y_pred_dt_pca = decision_tree.fit(X_resampled_train_pca, Y_resampled_train_pca).predict(X_test_pca)"
   ]
  },
  {
   "cell_type": "code",
   "execution_count": 49,
   "metadata": {},
   "outputs": [
    {
     "name": "stdout",
     "output_type": "stream",
     "text": [
      "[0.7433414  0.75786925 0.72936893 0.78762136 0.80825243 0.77184466\n",
      " 0.78276699 0.80946602 0.80582524 0.81432039]\n",
      "The 10-fold cross validation average for the training set is  0.7818014057688238\n",
      "--- 2.2319681644439697 seconds ---\n"
     ]
    }
   ],
   "source": [
    "#evaluating the model performance through xvalidation of the training set\n",
    "\n",
    "start_time = time.time()\n",
    "\n",
    "print(cross_val_score(decision_tree, X_resampled_train_pca, Y_resampled_train_pca, cv=10))\n",
    "print('The 10-fold cross validation average for the training set is ', \n",
    "      cross_val_score(decision_tree, X_resampled_train_pca, Y_resampled_train_pca, cv=10).mean())\n",
    "\n",
    "print(\"--- %s seconds ---\" % (time.time() - start_time))"
   ]
  },
  {
   "cell_type": "code",
   "execution_count": 50,
   "metadata": {},
   "outputs": [
    {
     "name": "stdout",
     "output_type": "stream",
     "text": [
      "[0.73943662 0.74468085 0.70921986 0.78014184 0.70921986 0.73049645\n",
      " 0.82142857 0.83571429 0.78571429 0.78571429]\n",
      "The 10-fold cross validation average for the testing set  is  0.7399063173366439\n"
     ]
    }
   ],
   "source": [
    "#evaluating the model performance through xvalidation of the testing set\n",
    "\n",
    "print(cross_val_score(decision_tree, X_test_pca, Y_test_pca, cv=10))\n",
    "print('The 10-fold cross validation average for the testing set  is ', \n",
    "      cross_val_score(decision_tree, X_test_pca, Y_test_pca, cv=10).mean())"
   ]
  },
  {
   "cell_type": "code",
   "execution_count": 51,
   "metadata": {},
   "outputs": [
    {
     "name": "stdout",
     "output_type": "stream",
     "text": [
      "              precision    recall  f1-score   support\n",
      "\n",
      "           0       0.83      0.75      0.79      1041\n",
      "           1       0.44      0.57      0.50       366\n",
      "\n",
      "    accuracy                           0.70      1407\n",
      "   macro avg       0.64      0.66      0.64      1407\n",
      "weighted avg       0.73      0.70      0.71      1407\n",
      "\n"
     ]
    }
   ],
   "source": [
    "#classification report\n",
    "\n",
    "print(classification_report(Y_test_pca, Y_pred_dt_pca, labels=None, target_names=None, \n",
    "                      sample_weight=None, digits=2, output_dict=False\n",
    "                     ))"
   ]
  },
  {
   "cell_type": "code",
   "execution_count": 52,
   "metadata": {},
   "outputs": [
    {
     "name": "stdout",
     "output_type": "stream",
     "text": [
      "Test set confusion matrix: \n",
      " [[782 259]\n",
      " [159 207]]\n"
     ]
    }
   ],
   "source": [
    "#confusion matrix\n",
    "print('Test set confusion matrix:', '\\n', \n",
    "      confusion_matrix(Y_test_pca, Y_pred_dt_pca, labels=None, sample_weight=None)\n",
    "     )"
   ]
  },
  {
   "cell_type": "markdown",
   "metadata": {},
   "source": [
    "## Model 3: Random Forest Classifier(SelectKBest)"
   ]
  },
  {
   "cell_type": "code",
   "execution_count": 56,
   "metadata": {},
   "outputs": [
    {
     "data": {
      "text/plain": [
       "RandomForestClassifier(bootstrap=True, class_weight=None, criterion='gini',\n",
       "                       max_depth=None, max_features='auto', max_leaf_nodes=None,\n",
       "                       min_impurity_decrease=0.0, min_impurity_split=None,\n",
       "                       min_samples_leaf=1, min_samples_split=2,\n",
       "                       min_weight_fraction_leaf=0.0, n_estimators=10,\n",
       "                       n_jobs=None, oob_score=False, random_state=None,\n",
       "                       verbose=0, warm_start=False)"
      ]
     },
     "execution_count": 56,
     "metadata": {},
     "output_type": "execute_result"
    }
   ],
   "source": [
    "rfc = ensemble.RandomForestClassifier()\n",
    "rfc.fit(X_resampled_train_skb,Y_resampled_train_skb)"
   ]
  },
  {
   "cell_type": "code",
   "execution_count": 57,
   "metadata": {},
   "outputs": [],
   "source": [
    "#making predictions for model evaluation\n",
    "Y_preds_rfc_skb=rfc.predict(X_test_skb)"
   ]
  },
  {
   "cell_type": "code",
   "execution_count": 58,
   "metadata": {},
   "outputs": [
    {
     "name": "stdout",
     "output_type": "stream",
     "text": [
      "[0.69975787 0.71670702 0.70752427 0.78762136 0.91868932 0.92597087\n",
      " 0.9368932  0.94296117 0.94174757 0.94174757]\n",
      "The 10-fold cross validation average for the training set is  0.8500208632078798\n",
      "--- 1.548774242401123 seconds ---\n"
     ]
    }
   ],
   "source": [
    "#evaluating the model performance through xvalidation of the training set\n",
    "\n",
    "start_time = time.time()\n",
    "\n",
    "print(cross_val_score(rfc, X_resampled_train_skb, Y_resampled_train_skb, cv=10))\n",
    "print('The 10-fold cross validation average for the training set is ', \n",
    "      cross_val_score(rfc, X_resampled_train_skb, Y_resampled_train_skb, cv=10).mean())\n",
    "\n",
    "print(\"--- %s seconds ---\" % (time.time() - start_time))"
   ]
  },
  {
   "cell_type": "code",
   "execution_count": 59,
   "metadata": {},
   "outputs": [
    {
     "name": "stdout",
     "output_type": "stream",
     "text": [
      "[0.77464789 0.75886525 0.76595745 0.81560284 0.73049645 0.79432624\n",
      " 0.78571429 0.79285714 0.82857143 0.79285714]\n",
      "The 10-fold cross validation average for the testing set  is  0.77403028097664\n"
     ]
    }
   ],
   "source": [
    "#evaluating the model performance through xvalidation of the testing set\n",
    "\n",
    "print(cross_val_score(rfc, X_test_skb, Y_test_skb, cv=10))\n",
    "print('The 10-fold cross validation average for the testing set  is ', \n",
    "      cross_val_score(rfc, X_test_skb, Y_test_skb, cv=10).mean())"
   ]
  },
  {
   "cell_type": "code",
   "execution_count": 60,
   "metadata": {},
   "outputs": [
    {
     "name": "stdout",
     "output_type": "stream",
     "text": [
      "              precision    recall  f1-score   support\n",
      "\n",
      "           0       0.82      0.88      0.85      1041\n",
      "           1       0.58      0.46      0.52       366\n",
      "\n",
      "    accuracy                           0.77      1407\n",
      "   macro avg       0.70      0.67      0.68      1407\n",
      "weighted avg       0.76      0.77      0.76      1407\n",
      "\n"
     ]
    }
   ],
   "source": [
    "#classification report\n",
    "\n",
    "print(classification_report(Y_test_skb, Y_preds_rfc_skb, labels=None, target_names=None, \n",
    "                      sample_weight=None, digits=2, output_dict=False\n",
    "                     ))"
   ]
  },
  {
   "cell_type": "code",
   "execution_count": 61,
   "metadata": {},
   "outputs": [
    {
     "name": "stdout",
     "output_type": "stream",
     "text": [
      "Test set confusion matrix: \n",
      " [[918 123]\n",
      " [196 170]]\n"
     ]
    }
   ],
   "source": [
    "#confusion matrix\n",
    "print('Test set confusion matrix:', '\\n', \n",
    "      confusion_matrix(Y_test_skb, Y_preds_rfc_skb, labels=None, sample_weight=None)\n",
    "     )"
   ]
  },
  {
   "cell_type": "markdown",
   "metadata": {},
   "source": [
    "## Model 4: Random Forest Classifier(PCA)"
   ]
  },
  {
   "cell_type": "code",
   "execution_count": 62,
   "metadata": {
    "scrolled": true
   },
   "outputs": [
    {
     "data": {
      "text/plain": [
       "RandomForestClassifier(bootstrap=True, class_weight=None, criterion='gini',\n",
       "                       max_depth=None, max_features='auto', max_leaf_nodes=None,\n",
       "                       min_impurity_decrease=0.0, min_impurity_split=None,\n",
       "                       min_samples_leaf=1, min_samples_split=2,\n",
       "                       min_weight_fraction_leaf=0.0, n_estimators=10,\n",
       "                       n_jobs=None, oob_score=False, random_state=None,\n",
       "                       verbose=0, warm_start=False)"
      ]
     },
     "execution_count": 62,
     "metadata": {},
     "output_type": "execute_result"
    }
   ],
   "source": [
    "rfc = ensemble.RandomForestClassifier()\n",
    "rfc.fit(X_resampled_train_pca,Y_resampled_train_pca)"
   ]
  },
  {
   "cell_type": "code",
   "execution_count": 63,
   "metadata": {},
   "outputs": [],
   "source": [
    "#making predictions for model evaluation\n",
    "Y_preds_rfc_pca=rfc.predict(X_test_pca)"
   ]
  },
  {
   "cell_type": "code",
   "execution_count": 64,
   "metadata": {},
   "outputs": [
    {
     "name": "stdout",
     "output_type": "stream",
     "text": [
      "[0.80750605 0.80266344 0.78762136 0.81796117 0.85072816 0.8434466\n",
      " 0.87014563 0.87135922 0.84708738 0.84708738]\n",
      "The 10-fold cross validation average for the training set is  0.8274121982181057\n",
      "--- 4.479430913925171 seconds ---\n"
     ]
    }
   ],
   "source": [
    "#evaluating the model performance through xvalidation of the training set\n",
    "\n",
    "start_time = time.time()\n",
    "\n",
    "print(cross_val_score(rfc, X_resampled_train_pca, Y_resampled_train_pca, cv=10))\n",
    "print('The 10-fold cross validation average for the training set is ', \n",
    "      cross_val_score(rfc, X_resampled_train_pca, Y_resampled_train_pca, cv=10).mean())\n",
    "\n",
    "print(\"--- %s seconds ---\" % (time.time() - start_time))"
   ]
  },
  {
   "cell_type": "code",
   "execution_count": 65,
   "metadata": {},
   "outputs": [
    {
     "name": "stdout",
     "output_type": "stream",
     "text": [
      "[0.78873239 0.77304965 0.72340426 0.75886525 0.78723404 0.77304965\n",
      " 0.81428571 0.77142857 0.81428571 0.72857143]\n",
      "The 10-fold cross validation average for the testing set  is  0.7833007263438788\n"
     ]
    }
   ],
   "source": [
    "#evaluating the model performance through xvalidation of the testing set\n",
    "\n",
    "print(cross_val_score(rfc, X_test_pca, Y_test_pca, cv=10))\n",
    "print('The 10-fold cross validation average for the testing set  is ', \n",
    "      cross_val_score(rfc, X_test_pca, Y_test_pca, cv=10).mean())"
   ]
  },
  {
   "cell_type": "code",
   "execution_count": 66,
   "metadata": {},
   "outputs": [
    {
     "name": "stdout",
     "output_type": "stream",
     "text": [
      "              precision    recall  f1-score   support\n",
      "\n",
      "           0       0.84      0.83      0.83      1041\n",
      "           1       0.53      0.55      0.54       366\n",
      "\n",
      "    accuracy                           0.75      1407\n",
      "   macro avg       0.68      0.69      0.69      1407\n",
      "weighted avg       0.76      0.75      0.76      1407\n",
      "\n"
     ]
    }
   ],
   "source": [
    "#classification report\n",
    "\n",
    "print(classification_report(Y_test_pca, Y_preds_rfc_pca, labels=None, target_names=None, \n",
    "                      sample_weight=None, digits=2, output_dict=False\n",
    "                     ))"
   ]
  },
  {
   "cell_type": "code",
   "execution_count": 67,
   "metadata": {},
   "outputs": [
    {
     "name": "stdout",
     "output_type": "stream",
     "text": [
      "Test set confusion matrix: \n",
      " [[861 180]\n",
      " [165 201]]\n"
     ]
    }
   ],
   "source": [
    "#confusion matrix\n",
    "print('Test set confusion matrix:', '\\n', \n",
    "      confusion_matrix(Y_test_pca, Y_preds_rfc_pca, labels=None, sample_weight=None)\n",
    "     )"
   ]
  },
  {
   "cell_type": "markdown",
   "metadata": {},
   "source": [
    "## Model 5: SVM(SelectKBest)"
   ]
  },
  {
   "cell_type": "code",
   "execution_count": 168,
   "metadata": {},
   "outputs": [],
   "source": [
    "#kernels = ['linear', 'poly', 'rbf', 'sigmoid']\n",
    "degrees = [1,2]\n",
    "param_grid_svm_skb = [{'svc__degree':degrees}]\n",
    "pipe_tree_svm_skb = make_pipeline(SVC(kernel = 'poly'))"
   ]
  },
  {
   "cell_type": "code",
   "execution_count": 169,
   "metadata": {},
   "outputs": [],
   "source": [
    "gs_svm = GridSearchCV(pipe_tree_svm_skb, param_grid=param_grid_svm_skb, cv=10)\n",
    "\n",
    "#gs_svm.get_params().keys()"
   ]
  },
  {
   "cell_type": "code",
   "execution_count": 170,
   "metadata": {},
   "outputs": [
    {
     "name": "stdout",
     "output_type": "stream",
     "text": [
      "{'svc__degree': 1}\n"
     ]
    }
   ],
   "source": [
    "gs_svm.fit(X_resampled_train_skb,Y_resampled_train_skb)\n",
    "print(gs_svm.best_params_)"
   ]
  },
  {
   "cell_type": "code",
   "execution_count": 70,
   "metadata": {},
   "outputs": [
    {
     "data": {
      "text/plain": [
       "SVC(C=1.0, cache_size=200, class_weight=None, coef0=0.0,\n",
       "    decision_function_shape='ovr', degree=1, gamma='auto_deprecated',\n",
       "    kernel='poly', max_iter=-1, probability=False, random_state=None,\n",
       "    shrinking=True, tol=0.001, verbose=False)"
      ]
     },
     "execution_count": 70,
     "metadata": {},
     "output_type": "execute_result"
    }
   ],
   "source": [
    "svm = SVC(kernel='poly',degree=1)\n",
    "svm.fit(X_resampled_train_skb, Y_resampled_train_skb)"
   ]
  },
  {
   "cell_type": "code",
   "execution_count": 71,
   "metadata": {},
   "outputs": [],
   "source": [
    "#Setting the predictions for analysis\n",
    "Y_pred_svm_skb = svm.fit(X_resampled_train_skb, Y_resampled_train_skb).predict(X_test_skb)"
   ]
  },
  {
   "cell_type": "code",
   "execution_count": 73,
   "metadata": {},
   "outputs": [
    {
     "name": "stdout",
     "output_type": "stream",
     "text": [
      "[0.76755448 0.75423729 0.75       0.75970874 0.77548544 0.77427184\n",
      " 0.77548544 0.74514563 0.76941748 0.77548544]\n",
      "The 10-fold cross validation average for the training set is  0.7646791767554479\n",
      "--- 47.49872303009033 seconds ---\n"
     ]
    }
   ],
   "source": [
    "#evaluating the model performance through xvalidation of the training set\n",
    "\n",
    "start_time = time.time()\n",
    "\n",
    "print(cross_val_score(svm, X_resampled_train_skb, Y_resampled_train_skb, cv=10))\n",
    "print('The 10-fold cross validation average for the training set is ', \n",
    "      cross_val_score(svm, X_resampled_train_skb, Y_resampled_train_skb, cv=10).mean())\n",
    "\n",
    "print(\"--- %s seconds ---\" % (time.time() - start_time))"
   ]
  },
  {
   "cell_type": "code",
   "execution_count": 74,
   "metadata": {},
   "outputs": [
    {
     "name": "stdout",
     "output_type": "stream",
     "text": [
      "[0.80985915 0.78014184 0.77304965 0.81560284 0.79432624 0.77304965\n",
      " 0.8        0.78571429 0.79285714 0.8       ]\n",
      "The 10-fold cross validation average for the testing set  is  0.7924600796266963\n"
     ]
    }
   ],
   "source": [
    "#evaluating the model performance through xvalidation of the testing set\n",
    "\n",
    "print(cross_val_score(svm, X_test_skb, Y_test_skb, cv=10))\n",
    "print('The 10-fold cross validation average for the testing set  is ', \n",
    "      cross_val_score(svm, X_test_skb, Y_test_skb, cv=10).mean())"
   ]
  },
  {
   "cell_type": "code",
   "execution_count": 75,
   "metadata": {},
   "outputs": [
    {
     "name": "stdout",
     "output_type": "stream",
     "text": [
      "              precision    recall  f1-score   support\n",
      "\n",
      "           0       0.92      0.71      0.81      1041\n",
      "           1       0.51      0.83      0.63       366\n",
      "\n",
      "    accuracy                           0.74      1407\n",
      "   macro avg       0.71      0.77      0.72      1407\n",
      "weighted avg       0.81      0.74      0.76      1407\n",
      "\n"
     ]
    }
   ],
   "source": [
    "#classification report\n",
    "\n",
    "print(classification_report(Y_test_skb, Y_pred_svm_skb, labels=None, target_names=None, \n",
    "                      sample_weight=None, digits=2, output_dict=False\n",
    "                     ))"
   ]
  },
  {
   "cell_type": "code",
   "execution_count": 76,
   "metadata": {},
   "outputs": [
    {
     "name": "stdout",
     "output_type": "stream",
     "text": [
      "Test set confusion matrix: \n",
      " [[744 297]\n",
      " [ 63 303]]\n"
     ]
    }
   ],
   "source": [
    "#confusion matrix\n",
    "print('Test set confusion matrix:', '\\n', \n",
    "      confusion_matrix(Y_test_skb, Y_pred_svm_skb, labels=None, sample_weight=None)\n",
    "     )"
   ]
  },
  {
   "cell_type": "markdown",
   "metadata": {},
   "source": [
    "## Model 6: SVM(PCA)"
   ]
  },
  {
   "cell_type": "code",
   "execution_count": 171,
   "metadata": {},
   "outputs": [],
   "source": [
    "#kernels = ['linear', 'poly', 'rbf', 'sigmoid']\n",
    "degrees = [1,2]\n",
    "param_grid_svm_pca = [{'svc__degree':degrees}]\n",
    "pipe_tree_svm_pca = make_pipeline(SVC(kernel = 'poly'))"
   ]
  },
  {
   "cell_type": "code",
   "execution_count": 172,
   "metadata": {},
   "outputs": [],
   "source": [
    "gs_svm_pca = GridSearchCV(pipe_tree_svm_pca, param_grid=param_grid_svm_pca, cv=10)\n",
    "\n",
    "#gs_svm.get_params().keys()"
   ]
  },
  {
   "cell_type": "code",
   "execution_count": 173,
   "metadata": {},
   "outputs": [
    {
     "name": "stdout",
     "output_type": "stream",
     "text": [
      "{'svc__degree': 1}\n"
     ]
    }
   ],
   "source": [
    "gs_svm_pca.fit(X_resampled_train_pca,Y_resampled_train_pca)\n",
    "print(gs_svm_pca.best_params_)"
   ]
  },
  {
   "cell_type": "code",
   "execution_count": 80,
   "metadata": {},
   "outputs": [
    {
     "data": {
      "text/plain": [
       "SVC(C=1.0, cache_size=200, class_weight=None, coef0=0.0,\n",
       "    decision_function_shape='ovr', degree=1, gamma='auto_deprecated',\n",
       "    kernel='poly', max_iter=-1, probability=False, random_state=None,\n",
       "    shrinking=True, tol=0.001, verbose=False)"
      ]
     },
     "execution_count": 80,
     "metadata": {},
     "output_type": "execute_result"
    }
   ],
   "source": [
    "svm = SVC(kernel='poly',degree=1)\n",
    "svm.fit(X_resampled_train_pca, Y_resampled_train_pca)"
   ]
  },
  {
   "cell_type": "code",
   "execution_count": 81,
   "metadata": {},
   "outputs": [],
   "source": [
    "#Setting the predictions for analysis\n",
    "Y_pred_svm_pca = svm.fit(X_resampled_train_pca, Y_resampled_train_pca).predict(X_test_pca)"
   ]
  },
  {
   "cell_type": "code",
   "execution_count": 82,
   "metadata": {},
   "outputs": [
    {
     "name": "stdout",
     "output_type": "stream",
     "text": [
      "[0.77239709 0.7566586  0.75728155 0.75485437 0.76334951 0.77063107\n",
      " 0.78398058 0.76820388 0.77184466 0.78276699]\n",
      "The 10-fold cross validation average for the training set is  0.7681968311431862\n",
      "--- 25.259382963180542 seconds ---\n"
     ]
    }
   ],
   "source": [
    "#evaluating the model performance through xvalidation of the training set\n",
    "\n",
    "start_time = time.time()\n",
    "\n",
    "print(cross_val_score(svm, X_resampled_train_pca, Y_resampled_train_pca, cv=10))\n",
    "print('The 10-fold cross validation average for the training set is ', \n",
    "      cross_val_score(svm, X_resampled_train_pca, Y_resampled_train_pca, cv=10).mean())\n",
    "\n",
    "print(\"--- %s seconds ---\" % (time.time() - start_time))"
   ]
  },
  {
   "cell_type": "code",
   "execution_count": 83,
   "metadata": {},
   "outputs": [
    {
     "name": "stdout",
     "output_type": "stream",
     "text": [
      "[0.79577465 0.72340426 0.80141844 0.80851064 0.79432624 0.77304965\n",
      " 0.82857143 0.78571429 0.85       0.79285714]\n",
      "The 10-fold cross validation average for the testing set  is  0.7953626724888336\n"
     ]
    }
   ],
   "source": [
    "#evaluating the model performance through xvalidation of the testing set\n",
    "\n",
    "print(cross_val_score(svm, X_test_pca, Y_test_pca, cv=10))\n",
    "print('The 10-fold cross validation average for the testing set  is ', \n",
    "      cross_val_score(svm, X_test_pca, Y_test_pca, cv=10).mean())"
   ]
  },
  {
   "cell_type": "code",
   "execution_count": 84,
   "metadata": {},
   "outputs": [
    {
     "name": "stdout",
     "output_type": "stream",
     "text": [
      "              precision    recall  f1-score   support\n",
      "\n",
      "           0       0.92      0.73      0.81      1041\n",
      "           1       0.51      0.82      0.63       366\n",
      "\n",
      "    accuracy                           0.75      1407\n",
      "   macro avg       0.72      0.77      0.72      1407\n",
      "weighted avg       0.82      0.75      0.77      1407\n",
      "\n"
     ]
    }
   ],
   "source": [
    "#classification report\n",
    "\n",
    "print(classification_report(Y_test_pca, Y_pred_svm_pca, labels=None, target_names=None, \n",
    "                      sample_weight=None, digits=2, output_dict=False\n",
    "                     ))"
   ]
  },
  {
   "cell_type": "code",
   "execution_count": 85,
   "metadata": {},
   "outputs": [
    {
     "name": "stdout",
     "output_type": "stream",
     "text": [
      "Test set confusion matrix: \n",
      " [[757 284]\n",
      " [ 65 301]]\n"
     ]
    }
   ],
   "source": [
    "#confusion matrix\n",
    "print('Test set confusion matrix:', '\\n', \n",
    "      confusion_matrix(Y_test_pca, Y_pred_svm_pca, labels=None, sample_weight=None)\n",
    "     )"
   ]
  },
  {
   "cell_type": "markdown",
   "metadata": {},
   "source": [
    "## Model 7: Naive Bayes(SelectKBest)\n"
   ]
  },
  {
   "cell_type": "code",
   "execution_count": 96,
   "metadata": {},
   "outputs": [],
   "source": [
    "# Instantiate our model and store it in a new variable.\n",
    "bnb = BernoulliNB()\n",
    "\n",
    "# Fit our model to the data.\n",
    "bnb.fit(X_resampled_train_skb, Y_resampled_train_skb)\n",
    "\n",
    "# Classify, storing the result in a new variable.\n",
    "Y_preds_nb_skb = bnb.predict(X_test_skb)"
   ]
  },
  {
   "cell_type": "code",
   "execution_count": 97,
   "metadata": {},
   "outputs": [
    {
     "name": "stdout",
     "output_type": "stream",
     "text": [
      "[0.73728814 0.71549637 0.72087379 0.75485437 0.72694175 0.7342233\n",
      " 0.75121359 0.70995146 0.74757282 0.73786408]\n",
      "The 10-fold cross validation average for the training set is  0.7336279649263029\n",
      "--- 0.16277098655700684 seconds ---\n"
     ]
    }
   ],
   "source": [
    "#evaluating the model performance through xvalidation of the training set\n",
    "\n",
    "start_time = time.time()\n",
    "\n",
    "print(cross_val_score(bnb, X_resampled_train_skb, Y_resampled_train_skb, cv=10))\n",
    "print('The 10-fold cross validation average for the training set is ', \n",
    "      cross_val_score(bnb, X_resampled_train_skb, Y_resampled_train_skb, cv=10).mean())\n",
    "\n",
    "print(\"--- %s seconds ---\" % (time.time() - start_time))"
   ]
  },
  {
   "cell_type": "code",
   "execution_count": 98,
   "metadata": {},
   "outputs": [
    {
     "name": "stdout",
     "output_type": "stream",
     "text": [
      "[0.72535211 0.74468085 0.67375887 0.81560284 0.72340426 0.78014184\n",
      " 0.77142857 0.75       0.76428571 0.67857143]\n",
      "The 10-fold cross validation average for the testing set  is  0.742722647944404\n"
     ]
    }
   ],
   "source": [
    "#evaluating the model performance through xvalidation of the testing set\n",
    "\n",
    "print(cross_val_score(bnb, X_test_skb, Y_test_skb, cv=10))\n",
    "print('The 10-fold cross validation average for the testing set  is ', \n",
    "      cross_val_score(bnb, X_test_skb, Y_test_skb, cv=10).mean())"
   ]
  },
  {
   "cell_type": "code",
   "execution_count": 99,
   "metadata": {},
   "outputs": [
    {
     "name": "stdout",
     "output_type": "stream",
     "text": [
      "              precision    recall  f1-score   support\n",
      "\n",
      "           0       0.93      0.59      0.72      1041\n",
      "           1       0.43      0.87      0.57       366\n",
      "\n",
      "    accuracy                           0.67      1407\n",
      "   macro avg       0.68      0.73      0.65      1407\n",
      "weighted avg       0.80      0.67      0.69      1407\n",
      "\n"
     ]
    }
   ],
   "source": [
    "#classification report\n",
    "\n",
    "print(classification_report(Y_test_skb, Y_preds_nb_skb, labels=None, target_names=None, \n",
    "                      sample_weight=None, digits=2, output_dict=False\n",
    "                     ))"
   ]
  },
  {
   "cell_type": "code",
   "execution_count": 100,
   "metadata": {},
   "outputs": [
    {
     "name": "stdout",
     "output_type": "stream",
     "text": [
      "Test set confusion matrix: \n",
      " [[619 422]\n",
      " [ 49 317]]\n"
     ]
    }
   ],
   "source": [
    "#confusion matrix\n",
    "print('Test set confusion matrix:', '\\n', \n",
    "      confusion_matrix(Y_test_skb, Y_preds_nb_skb, labels=None, sample_weight=None)\n",
    "     )"
   ]
  },
  {
   "cell_type": "markdown",
   "metadata": {},
   "source": [
    "## Model 8: Naive Bayes(PCA)"
   ]
  },
  {
   "cell_type": "code",
   "execution_count": 101,
   "metadata": {},
   "outputs": [],
   "source": [
    "# Instantiate our model and store it in a new variable.\n",
    "bnb = BernoulliNB()\n",
    "\n",
    "# Fit our model to the data.\n",
    "bnb.fit(X_resampled_train_pca, Y_resampled_train_pca)\n",
    "\n",
    "# Classify, storing the result in a new variable.\n",
    "Y_preds_nb_pca = bnb.predict(X_test_pca)"
   ]
  },
  {
   "cell_type": "code",
   "execution_count": 102,
   "metadata": {},
   "outputs": [
    {
     "name": "stdout",
     "output_type": "stream",
     "text": [
      "[0.71428571 0.69854722 0.67961165 0.69053398 0.72572816 0.72572816\n",
      " 0.71966019 0.70873786 0.72087379 0.70024272]\n",
      "The 10-fold cross validation average for the training set is  0.7083949434636451\n",
      "--- 0.1382429599761963 seconds ---\n"
     ]
    }
   ],
   "source": [
    "#evaluating the model performance through xvalidation of the training set\n",
    "\n",
    "start_time = time.time()\n",
    "\n",
    "print(cross_val_score(bnb, X_resampled_train_pca, Y_resampled_train_pca, cv=10))\n",
    "print('The 10-fold cross validation average for the training set is ', \n",
    "      cross_val_score(bnb, X_resampled_train_pca, Y_resampled_train_pca, cv=10).mean())\n",
    "\n",
    "print(\"--- %s seconds ---\" % (time.time() - start_time))"
   ]
  },
  {
   "cell_type": "code",
   "execution_count": 103,
   "metadata": {},
   "outputs": [
    {
     "name": "stdout",
     "output_type": "stream",
     "text": [
      "[0.80985915 0.70212766 0.72340426 0.79432624 0.75177305 0.75177305\n",
      " 0.75       0.77142857 0.86428571 0.82142857]\n",
      "The 10-fold cross validation average for the testing set  is  0.7740406267391583\n"
     ]
    }
   ],
   "source": [
    "#evaluating the model performance through xvalidation of the testing set\n",
    "\n",
    "print(cross_val_score(bnb, X_test_pca, Y_test_pca, cv=10))\n",
    "print('The 10-fold cross validation average for the testing set  is ', \n",
    "      cross_val_score(bnb, X_test_pca, Y_test_pca, cv=10).mean())"
   ]
  },
  {
   "cell_type": "code",
   "execution_count": 104,
   "metadata": {},
   "outputs": [
    {
     "name": "stdout",
     "output_type": "stream",
     "text": [
      "              precision    recall  f1-score   support\n",
      "\n",
      "           0       0.88      0.73      0.80      1041\n",
      "           1       0.48      0.71      0.57       366\n",
      "\n",
      "    accuracy                           0.72      1407\n",
      "   macro avg       0.68      0.72      0.68      1407\n",
      "weighted avg       0.77      0.72      0.74      1407\n",
      "\n"
     ]
    }
   ],
   "source": [
    "#classification report\n",
    "\n",
    "print(classification_report(Y_test_pca, Y_preds_nb_pca, labels=None, target_names=None, \n",
    "                      sample_weight=None, digits=2, output_dict=False\n",
    "                     ))"
   ]
  },
  {
   "cell_type": "code",
   "execution_count": 105,
   "metadata": {},
   "outputs": [
    {
     "name": "stdout",
     "output_type": "stream",
     "text": [
      "Test set confusion matrix: \n",
      " [[758 283]\n",
      " [107 259]]\n"
     ]
    }
   ],
   "source": [
    "#confusion matrix\n",
    "print('Test set confusion matrix:', '\\n', \n",
    "      confusion_matrix(Y_test_pca, Y_preds_nb_pca, labels=None, sample_weight=None)\n",
    "     )"
   ]
  },
  {
   "cell_type": "markdown",
   "metadata": {},
   "source": [
    "## Model 9: KNN(SelectKBest)"
   ]
  },
  {
   "cell_type": "code",
   "execution_count": 149,
   "metadata": {},
   "outputs": [],
   "source": [
    "#kernels = ['linear', 'poly', 'rbf', 'sigmoid']\n",
    "num_neighbors = np.arange(1, 25)\n",
    "weights = ['distance','uniform']\n",
    "leaf_sizes = np.arange(1, 40)\n",
    "\n",
    "param_grid_knn_skb = [{'kneighborsclassifier__n_neighbors':num_neighbors,\n",
    "                      'kneighborsclassifier__weights':weights,\n",
    "                      'kneighborsclassifier__leaf_size':leaf_sizes}\n",
    "                     ]\n",
    "pipe_tree_knn_skb = make_pipeline(neighbors.KNeighborsClassifier())"
   ]
  },
  {
   "cell_type": "code",
   "execution_count": 150,
   "metadata": {},
   "outputs": [],
   "source": [
    "gs_knn_skb = GridSearchCV(pipe_tree_knn_skb, param_grid=param_grid_knn_skb, cv=10)\n",
    "\n",
    "#gs_knn_skb.get_params().keys()"
   ]
  },
  {
   "cell_type": "code",
   "execution_count": 151,
   "metadata": {},
   "outputs": [
    {
     "name": "stdout",
     "output_type": "stream",
     "text": [
      "{'kneighborsclassifier__leaf_size': 4, 'kneighborsclassifier__n_neighbors': 1, 'kneighborsclassifier__weights': 'distance'}\n"
     ]
    }
   ],
   "source": [
    "gs_knn_skb.fit(X_resampled_train_skb,Y_resampled_train_skb)\n",
    "print(gs_knn_skb.best_params_)"
   ]
  },
  {
   "cell_type": "code",
   "execution_count": 152,
   "metadata": {},
   "outputs": [
    {
     "data": {
      "text/plain": [
       "KNeighborsClassifier(algorithm='auto', leaf_size=4, metric='minkowski',\n",
       "                     metric_params=None, n_jobs=None, n_neighbors=1, p=2,\n",
       "                     weights='distance')"
      ]
     },
     "execution_count": 152,
     "metadata": {},
     "output_type": "execute_result"
    }
   ],
   "source": [
    "knn = neighbors.KNeighborsClassifier(n_neighbors=1, weights='distance', leaf_size=4)\n",
    "knn.fit(X_resampled_train_skb, Y_resampled_train_skb)"
   ]
  },
  {
   "cell_type": "code",
   "execution_count": 153,
   "metadata": {},
   "outputs": [],
   "source": [
    "# Classify, storing the result in a new variable.\n",
    "Y_preds_knn_skb = knn.predict(X_test_skb)"
   ]
  },
  {
   "cell_type": "code",
   "execution_count": 154,
   "metadata": {},
   "outputs": [
    {
     "name": "stdout",
     "output_type": "stream",
     "text": [
      "[0.8062954  0.83535109 0.84466019 0.85194175 0.86650485 0.84708738\n",
      " 0.87985437 0.85800971 0.86286408 0.87257282]\n",
      "The 10-fold cross validation average for the training set is  0.8525141634735183\n",
      "--- 0.5048840045928955 seconds ---\n"
     ]
    }
   ],
   "source": [
    "#evaluating the model performance through xvalidation of the training set\n",
    "\n",
    "start_time = time.time()\n",
    "\n",
    "print(cross_val_score(knn, X_resampled_train_skb, Y_resampled_train_skb, cv=10))\n",
    "print('The 10-fold cross validation average for the training set is ', \n",
    "      cross_val_score(knn, X_resampled_train_skb, Y_resampled_train_skb, cv=10).mean())\n",
    "\n",
    "print(\"--- %s seconds ---\" % (time.time() - start_time))"
   ]
  },
  {
   "cell_type": "code",
   "execution_count": 155,
   "metadata": {},
   "outputs": [
    {
     "name": "stdout",
     "output_type": "stream",
     "text": [
      "[0.71830986 0.71631206 0.70921986 0.74468085 0.70212766 0.75886525\n",
      " 0.73571429 0.72142857 0.77142857 0.72857143]\n",
      "The 10-fold cross validation average for the testing set  is  0.7306658390056653\n"
     ]
    }
   ],
   "source": [
    "#evaluating the model performance through xvalidation of the testing set\n",
    "\n",
    "print(cross_val_score(knn, X_test_skb, Y_test_skb, cv=10))\n",
    "print('The 10-fold cross validation average for the testing set  is ', \n",
    "      cross_val_score(knn, X_test_skb, Y_test_skb, cv=10).mean())"
   ]
  },
  {
   "cell_type": "code",
   "execution_count": 156,
   "metadata": {},
   "outputs": [
    {
     "name": "stdout",
     "output_type": "stream",
     "text": [
      "              precision    recall  f1-score   support\n",
      "\n",
      "           0       0.84      0.76      0.80      1041\n",
      "           1       0.46      0.58      0.51       366\n",
      "\n",
      "    accuracy                           0.71      1407\n",
      "   macro avg       0.65      0.67      0.65      1407\n",
      "weighted avg       0.74      0.71      0.72      1407\n",
      "\n"
     ]
    }
   ],
   "source": [
    "#classification report\n",
    "\n",
    "print(classification_report(Y_test_skb, Y_preds_knn_skb, labels=None, target_names=None, \n",
    "                      sample_weight=None, digits=2, output_dict=False\n",
    "                     ))"
   ]
  },
  {
   "cell_type": "code",
   "execution_count": 157,
   "metadata": {},
   "outputs": [
    {
     "name": "stdout",
     "output_type": "stream",
     "text": [
      "Test set confusion matrix: \n",
      " [[789 252]\n",
      " [153 213]]\n"
     ]
    }
   ],
   "source": [
    "#confusion matrix\n",
    "print('Test set confusion matrix:', '\\n', \n",
    "      confusion_matrix(Y_test_skb, Y_preds_knn_skb, labels=None, sample_weight=None)\n",
    "     )"
   ]
  },
  {
   "cell_type": "markdown",
   "metadata": {},
   "source": [
    "## Model 10: KNN(PCA)"
   ]
  },
  {
   "cell_type": "code",
   "execution_count": 158,
   "metadata": {},
   "outputs": [],
   "source": [
    "#kernels = ['linear', 'poly', 'rbf', 'sigmoid']\n",
    "num_neighbors = np.arange(1, 25)\n",
    "weights = ['distance','uniform']\n",
    "leaf_sizes = np.arange(1, 40)\n",
    "\n",
    "param_grid_knn_pca = [{'kneighborsclassifier__n_neighbors':num_neighbors,\n",
    "                      'kneighborsclassifier__weights':weights,\n",
    "                      'kneighborsclassifier__leaf_size':leaf_sizes}\n",
    "                     ]\n",
    "pipe_tree_knn_pca = make_pipeline(neighbors.KNeighborsClassifier())"
   ]
  },
  {
   "cell_type": "code",
   "execution_count": 159,
   "metadata": {},
   "outputs": [],
   "source": [
    "gs_knn_pca = GridSearchCV(pipe_tree_knn_pca, param_grid=param_grid_knn_pca, cv=10)\n",
    "\n",
    "#gs_knn_pca.get_params().keys()"
   ]
  },
  {
   "cell_type": "code",
   "execution_count": 160,
   "metadata": {},
   "outputs": [
    {
     "name": "stdout",
     "output_type": "stream",
     "text": [
      "{'kneighborsclassifier__leaf_size': 29, 'kneighborsclassifier__n_neighbors': 1, 'kneighborsclassifier__weights': 'distance'}\n"
     ]
    }
   ],
   "source": [
    "gs_knn_pca.fit(X_resampled_train_pca,Y_resampled_train_pca)\n",
    "print(gs_knn_pca.best_params_)"
   ]
  },
  {
   "cell_type": "code",
   "execution_count": 161,
   "metadata": {},
   "outputs": [
    {
     "data": {
      "text/plain": [
       "KNeighborsClassifier(algorithm='auto', leaf_size=29, metric='minkowski',\n",
       "                     metric_params=None, n_jobs=None, n_neighbors=1, p=2,\n",
       "                     weights='distance')"
      ]
     },
     "execution_count": 161,
     "metadata": {},
     "output_type": "execute_result"
    }
   ],
   "source": [
    "#{'kneighborsclassifier__leaf_size': 29, 'kneighborsclassifier__n_neighbors': 1, 'kneighborsclassifier__weights': 'distance'}\n",
    "knn = neighbors.KNeighborsClassifier(n_neighbors=1, weights='distance', leaf_size=29)\n",
    "knn.fit(X_resampled_train_pca, Y_resampled_train_pca)"
   ]
  },
  {
   "cell_type": "code",
   "execution_count": 162,
   "metadata": {},
   "outputs": [],
   "source": [
    "# Classify, storing the result in a new variable.\n",
    "Y_preds_knn_pca = knn.predict(X_test_pca)"
   ]
  },
  {
   "cell_type": "code",
   "execution_count": 163,
   "metadata": {},
   "outputs": [
    {
     "name": "stdout",
     "output_type": "stream",
     "text": [
      "[0.80992736 0.80387409 0.80582524 0.82281553 0.86650485 0.84587379\n",
      " 0.8592233  0.85315534 0.86529126 0.85194175]\n",
      "The 10-fold cross validation average for the training set is  0.8384432520745669\n",
      "--- 0.9935920238494873 seconds ---\n"
     ]
    }
   ],
   "source": [
    "#evaluating the model performance through xvalidation of the training set\n",
    "\n",
    "start_time = time.time()\n",
    "\n",
    "print(cross_val_score(knn, X_resampled_train_pca, Y_resampled_train_pca, cv=10))\n",
    "print('The 10-fold cross validation average for the training set is ', \n",
    "      cross_val_score(knn, X_resampled_train_pca, Y_resampled_train_pca, cv=10).mean())\n",
    "\n",
    "print(\"--- %s seconds ---\" % (time.time() - start_time))"
   ]
  },
  {
   "cell_type": "code",
   "execution_count": 164,
   "metadata": {},
   "outputs": [
    {
     "name": "stdout",
     "output_type": "stream",
     "text": [
      "[0.74647887 0.71631206 0.70921986 0.70921986 0.73049645 0.75886525\n",
      " 0.77142857 0.78571429 0.78571429 0.66428571]\n",
      "The 10-fold cross validation average for the testing set  is  0.7377735205559599\n"
     ]
    }
   ],
   "source": [
    "#evaluating the model performance through xvalidation of the testing set\n",
    "\n",
    "print(cross_val_score(knn, X_test_pca, Y_test_pca, cv=10))\n",
    "print('The 10-fold cross validation average for the testing set  is ', \n",
    "      cross_val_score(knn, X_test_pca, Y_test_pca, cv=10).mean())"
   ]
  },
  {
   "cell_type": "code",
   "execution_count": 165,
   "metadata": {},
   "outputs": [
    {
     "name": "stdout",
     "output_type": "stream",
     "text": [
      "              precision    recall  f1-score   support\n",
      "\n",
      "           0       0.82      0.75      0.78      1041\n",
      "           1       0.42      0.52      0.47       366\n",
      "\n",
      "    accuracy                           0.69      1407\n",
      "   macro avg       0.62      0.64      0.62      1407\n",
      "weighted avg       0.71      0.69      0.70      1407\n",
      "\n"
     ]
    }
   ],
   "source": [
    "#classification report\n",
    "\n",
    "print(classification_report(Y_test_pca, Y_preds_knn_pca, labels=None, target_names=None, \n",
    "                      sample_weight=None, digits=2, output_dict=False\n",
    "                     ))"
   ]
  },
  {
   "cell_type": "code",
   "execution_count": 166,
   "metadata": {},
   "outputs": [
    {
     "name": "stdout",
     "output_type": "stream",
     "text": [
      "Test set confusion matrix: \n",
      " [[777 264]\n",
      " [174 192]]\n"
     ]
    }
   ],
   "source": [
    "#confusion matrix\n",
    "print('Test set confusion matrix:', '\\n', \n",
    "      confusion_matrix(Y_test_pca, Y_preds_knn_pca, labels=None, sample_weight=None)\n",
    "     )"
   ]
  },
  {
   "cell_type": "code",
   "execution_count": null,
   "metadata": {},
   "outputs": [],
   "source": []
  }
 ],
 "metadata": {
  "kernelspec": {
   "display_name": "Python 3",
   "language": "python",
   "name": "python3"
  },
  "language_info": {
   "codemirror_mode": {
    "name": "ipython",
    "version": 3
   },
   "file_extension": ".py",
   "mimetype": "text/x-python",
   "name": "python",
   "nbconvert_exporter": "python",
   "pygments_lexer": "ipython3",
   "version": "3.7.3"
  }
 },
 "nbformat": 4,
 "nbformat_minor": 2
}
