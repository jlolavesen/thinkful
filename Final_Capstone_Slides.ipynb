{
 "cells": [
  {
   "cell_type": "code",
   "execution_count": 1,
   "metadata": {
    "slideshow": {
     "slide_type": "skip"
    }
   },
   "outputs": [
    {
     "name": "stderr",
     "output_type": "stream",
     "text": [
      "Using TensorFlow backend.\n"
     ]
    }
   ],
   "source": [
    "import numpy as np\n",
    "import pandas as pd\n",
    "import seaborn as sns\n",
    "from sklearn.decomposition import PCA\n",
    "from sklearn.model_selection import GridSearchCV\n",
    "from sklearn.preprocessing import normalize\n",
    "\n",
    "import sklearn.model_selection as ms\n",
    "import matplotlib.pyplot as plt\n",
    "import math\n",
    "from imblearn.over_sampling import RandomOverSampler\n",
    "from scipy.stats import ttest_ind\n",
    "from sqlalchemy import create_engine\n",
    "from scipy.stats.mstats import winsorize\n",
    "from scipy.stats import boxcox\n",
    "from scipy.stats import jarque_bera\n",
    "from scipy.stats import normaltest\n",
    "\n",
    "from sklearn.preprocessing import StandardScaler\n",
    "from sklearn.naive_bayes import BernoulliNB\n",
    "from sklearn.model_selection import cross_val_score\n",
    "from sklearn.model_selection import cross_validate\n",
    "from sklearn import linear_model\n",
    "from sklearn.model_selection import train_test_split\n",
    "\n",
    "from sklearn.metrics import mean_absolute_error\n",
    "from sklearn.metrics import make_scorer\n",
    "from sklearn.datasets import load_files\n",
    "from sklearn.cluster import KMeans\n",
    "from sklearn.metrics import classification_report, confusion_matrix\n",
    "from sklearn.linear_model import LinearRegression, LassoCV, RidgeCV, ElasticNetCV\n",
    "from statsmodels.tools.eval_measures import mse, rmse\n",
    "from wordcloud import WordCloud\n",
    "import statsmodels.api as sm\n",
    "from sklearn.pipeline import make_pipeline\n",
    "from sklearn.pipeline import Pipeline\n",
    "from sklearn.feature_selection import SelectKBest, f_regression\n",
    "from sklearn.svm import SVC\n",
    "from sklearn import tree\n",
    "from sklearn import ensemble\n",
    "from sklearn import datasets\n",
    "from sklearn.utils import shuffle\n",
    "from sklearn import neighbors\n",
    "from IPython.display import Image\n",
    "from sklearn.utils import resample\n",
    "from sklearn import metrics\n",
    "\n",
    "import pydotplus\n",
    "from sklearn import ensemble\n",
    "\n",
    "import warnings\n",
    "\n",
    "%matplotlib inline\n",
    "sns.set()\n",
    "\n",
    "warnings.filterwarnings('ignore')\n",
    "import time\n",
    "import cv2\n",
    "import glob"
   ]
  },
  {
   "cell_type": "code",
   "execution_count": 29,
   "metadata": {
    "slideshow": {
     "slide_type": "skip"
    }
   },
   "outputs": [],
   "source": [
    "#importing the data\n",
    "\n",
    "df_app_events = (pd.read_csv('Data/talkingdata/app_events.csv'))\n",
    "\n",
    "df_app_labels = (pd.read_csv('Data/talkingdata/app_labels.csv'))\n",
    "\n",
    "df_events = (pd.read_csv('Data/talkingdata/events.csv'))\n",
    "\n",
    "df_gender_age_train = (pd.read_csv('Data/talkingdata/gender_age_train.csv'))\n",
    "\n",
    "df_label_categories = (pd.read_csv('Data/talkingdata/label_categories.csv'))\n",
    "\n",
    "df_phone_brand_device_model = (pd.read_csv('Data/talkingdata/phone_brand_device_model.csv'))"
   ]
  },
  {
   "cell_type": "markdown",
   "metadata": {
    "slideshow": {
     "slide_type": "slide"
    }
   },
   "source": [
    "# Gender Classification by App Usage Data\n",
    "### by Jason Olavesen"
   ]
  },
  {
   "cell_type": "markdown",
   "metadata": {
    "slideshow": {
     "slide_type": "slide"
    }
   },
   "source": [
    "## Introduction\n",
    "\n",
    "Is it possible to predict a user's demographic data based on their app downloads, app usage behavior, and geolocation?  Such an ability would allow developers and brand advertisers to customize their efforts and offerings to the preferences and needs of each user.  In this project, we predict the gender of a user based on exactly those variables.  The dataset was made available by TalkingData, China’s largest third-party mobile data platform, and can be found here: https://www.kaggle.com/c/talkingdata-mobile-user-demographics/overview. "
   ]
  },
  {
   "cell_type": "markdown",
   "metadata": {
    "slideshow": {
     "slide_type": "slide"
    }
   },
   "source": [
    "## Data Exploration\n",
    "\n",
    "- This data set comes organized in a conceptual heirarchy of dataframes, with the target variable at the top, as well as a unique id number ('device_id') representing a specific cell phone which is leveraged by TalkingData.  The bottom of the heirarchy includes variables like app category (e.g. gaming, navigation, etc) and phone brand.  The cells below are arranged in this concept order, and the variables listed under each one illustrate the steps required to associate a variable at the top of the heirarchy with a variable at the bottom.  \n",
    "- For example, a 'device_id' selected from the first dataframe (df_gender_age_train) is associated with one or more 'event_id' values in the next dataframe (df_events).  In the subsequent dataframe (df_app_events), 'event_id' values are associated with one or more 'app_id' values, and finally the next dataframe (df_app_labels) associates 'app_id' values with one or more 'label_id' values.  To deal with this complexity and prepare our feature set, we will combine the variables we want into one (very) large dataframe through a series of join operations.\n",
    "- All of the id values in the data are nominal integers."
   ]
  },
  {
   "cell_type": "code",
   "execution_count": 16,
   "metadata": {
    "slideshow": {
     "slide_type": "subslide"
    }
   },
   "outputs": [
    {
     "name": "stdout",
     "output_type": "stream",
     "text": [
      "<class 'pandas.core.frame.DataFrame'>\n",
      "RangeIndex: 74645 entries, 0 to 74644\n",
      "Data columns (total 4 columns):\n",
      "device_id    74645 non-null int64\n",
      "gender       74645 non-null object\n",
      "age          74645 non-null int64\n",
      "group        74645 non-null object\n",
      "dtypes: int64(2), object(2)\n",
      "memory usage: 2.3+ MB\n"
     ]
    }
   ],
   "source": [
    "df_gender_age_train.info()"
   ]
  },
  {
   "cell_type": "code",
   "execution_count": 15,
   "metadata": {
    "slideshow": {
     "slide_type": "subslide"
    }
   },
   "outputs": [
    {
     "name": "stdout",
     "output_type": "stream",
     "text": [
      "<class 'pandas.core.frame.DataFrame'>\n",
      "RangeIndex: 3252950 entries, 0 to 3252949\n",
      "Data columns (total 5 columns):\n",
      "event_id     int64\n",
      "device_id    int64\n",
      "timestamp    object\n",
      "longitude    float64\n",
      "latitude     float64\n",
      "dtypes: float64(2), int64(2), object(1)\n",
      "memory usage: 124.1+ MB\n"
     ]
    }
   ],
   "source": [
    "df_events.info()"
   ]
  },
  {
   "cell_type": "code",
   "execution_count": 13,
   "metadata": {
    "slideshow": {
     "slide_type": "skip"
    }
   },
   "outputs": [
    {
     "name": "stdout",
     "output_type": "stream",
     "text": [
      "<class 'pandas.core.frame.DataFrame'>\n",
      "RangeIndex: 32473067 entries, 0 to 32473066\n",
      "Data columns (total 4 columns):\n",
      "event_id        int64\n",
      "app_id          int64\n",
      "is_installed    int64\n",
      "is_active       int64\n",
      "dtypes: int64(4)\n",
      "memory usage: 991.0 MB\n"
     ]
    }
   ],
   "source": [
    "df_app_events.info()"
   ]
  },
  {
   "cell_type": "code",
   "execution_count": 14,
   "metadata": {
    "slideshow": {
     "slide_type": "skip"
    }
   },
   "outputs": [
    {
     "name": "stdout",
     "output_type": "stream",
     "text": [
      "<class 'pandas.core.frame.DataFrame'>\n",
      "RangeIndex: 459943 entries, 0 to 459942\n",
      "Data columns (total 2 columns):\n",
      "app_id      459943 non-null int64\n",
      "label_id    459943 non-null int64\n",
      "dtypes: int64(2)\n",
      "memory usage: 7.0 MB\n"
     ]
    }
   ],
   "source": [
    "df_app_labels.info()"
   ]
  },
  {
   "cell_type": "code",
   "execution_count": 17,
   "metadata": {
    "slideshow": {
     "slide_type": "skip"
    }
   },
   "outputs": [
    {
     "name": "stdout",
     "output_type": "stream",
     "text": [
      "<class 'pandas.core.frame.DataFrame'>\n",
      "RangeIndex: 930 entries, 0 to 929\n",
      "Data columns (total 2 columns):\n",
      "label_id    930 non-null int64\n",
      "category    927 non-null object\n",
      "dtypes: int64(1), object(1)\n",
      "memory usage: 14.6+ KB\n"
     ]
    }
   ],
   "source": [
    "df_label_categories.info()"
   ]
  },
  {
   "cell_type": "code",
   "execution_count": 18,
   "metadata": {
    "slideshow": {
     "slide_type": "skip"
    }
   },
   "outputs": [
    {
     "name": "stdout",
     "output_type": "stream",
     "text": [
      "<class 'pandas.core.frame.DataFrame'>\n",
      "RangeIndex: 187245 entries, 0 to 187244\n",
      "Data columns (total 3 columns):\n",
      "device_id       187245 non-null int64\n",
      "phone_brand     187245 non-null object\n",
      "device_model    187245 non-null object\n",
      "dtypes: int64(1), object(2)\n",
      "memory usage: 4.3+ MB\n"
     ]
    }
   ],
   "source": [
    "df_phone_brand_device_model.info()"
   ]
  },
  {
   "cell_type": "markdown",
   "metadata": {
    "slideshow": {
     "slide_type": "slide"
    }
   },
   "source": [
    "## Feature Engineering\n",
    "\n",
    "- The \"df_phone_brand_device_model\" data frame includes the variables 'phone_brand' and 'device_model' which both contain Chinese characters as shown below.  Here we use a string encoder called 'unicode-escape' to convert them into python friendly strings.\n",
    "- The converted strings can be used as dummy variables in our feature set."
   ]
  },
  {
   "cell_type": "code",
   "execution_count": 30,
   "metadata": {
    "slideshow": {
     "slide_type": "skip"
    }
   },
   "outputs": [],
   "source": [
    "#create new variable to store the converted strings\n",
    "df_phone_brand_device_model['encoded_model'] = None\n",
    "df_phone_brand_device_model['encoded_brand'] = None"
   ]
  },
  {
   "cell_type": "code",
   "execution_count": 31,
   "metadata": {
    "slideshow": {
     "slide_type": "subslide"
    }
   },
   "outputs": [],
   "source": [
    "#convert the strings\n",
    "df_phone_brand_device_model['encoded_model'] = df_phone_brand_device_model['device_model'].apply(lambda x: x.encode('unicode-escape'))\n",
    "df_phone_brand_device_model['encoded_brand'] = df_phone_brand_device_model['phone_brand'].apply(lambda x: x.encode('unicode-escape'))"
   ]
  },
  {
   "cell_type": "code",
   "execution_count": 32,
   "metadata": {
    "slideshow": {
     "slide_type": "subslide"
    }
   },
   "outputs": [
    {
     "data": {
      "text/html": [
       "<div>\n",
       "<style scoped>\n",
       "    .dataframe tbody tr th:only-of-type {\n",
       "        vertical-align: middle;\n",
       "    }\n",
       "\n",
       "    .dataframe tbody tr th {\n",
       "        vertical-align: top;\n",
       "    }\n",
       "\n",
       "    .dataframe thead th {\n",
       "        text-align: right;\n",
       "    }\n",
       "</style>\n",
       "<table border=\"1\" class=\"dataframe\">\n",
       "  <thead>\n",
       "    <tr style=\"text-align: right;\">\n",
       "      <th></th>\n",
       "      <th>device_id</th>\n",
       "      <th>phone_brand</th>\n",
       "      <th>device_model</th>\n",
       "      <th>encoded_model</th>\n",
       "      <th>encoded_brand</th>\n",
       "    </tr>\n",
       "  </thead>\n",
       "  <tbody>\n",
       "    <tr>\n",
       "      <th>0</th>\n",
       "      <td>-8890648629457979026</td>\n",
       "      <td>小米</td>\n",
       "      <td>红米</td>\n",
       "      <td>b'\\\\u7ea2\\\\u7c73'</td>\n",
       "      <td>b'\\\\u5c0f\\\\u7c73'</td>\n",
       "    </tr>\n",
       "    <tr>\n",
       "      <th>1</th>\n",
       "      <td>1277779817574759137</td>\n",
       "      <td>小米</td>\n",
       "      <td>MI 2</td>\n",
       "      <td>b'MI 2'</td>\n",
       "      <td>b'\\\\u5c0f\\\\u7c73'</td>\n",
       "    </tr>\n",
       "    <tr>\n",
       "      <th>2</th>\n",
       "      <td>5137427614288105724</td>\n",
       "      <td>三星</td>\n",
       "      <td>Galaxy S4</td>\n",
       "      <td>b'Galaxy S4'</td>\n",
       "      <td>b'\\\\u4e09\\\\u661f'</td>\n",
       "    </tr>\n",
       "    <tr>\n",
       "      <th>3</th>\n",
       "      <td>3669464369358936369</td>\n",
       "      <td>SUGAR</td>\n",
       "      <td>时尚手机</td>\n",
       "      <td>b'\\\\u65f6\\\\u5c1a\\\\u624b\\\\u673a'</td>\n",
       "      <td>b'SUGAR'</td>\n",
       "    </tr>\n",
       "    <tr>\n",
       "      <th>4</th>\n",
       "      <td>-5019277647504317457</td>\n",
       "      <td>三星</td>\n",
       "      <td>Galaxy Note 2</td>\n",
       "      <td>b'Galaxy Note 2'</td>\n",
       "      <td>b'\\\\u4e09\\\\u661f'</td>\n",
       "    </tr>\n",
       "  </tbody>\n",
       "</table>\n",
       "</div>"
      ],
      "text/plain": [
       "             device_id phone_brand   device_model  \\\n",
       "0 -8890648629457979026          小米             红米   \n",
       "1  1277779817574759137          小米           MI 2   \n",
       "2  5137427614288105724          三星      Galaxy S4   \n",
       "3  3669464369358936369       SUGAR           时尚手机   \n",
       "4 -5019277647504317457          三星  Galaxy Note 2   \n",
       "\n",
       "                     encoded_model      encoded_brand  \n",
       "0                b'\\\\u7ea2\\\\u7c73'  b'\\\\u5c0f\\\\u7c73'  \n",
       "1                          b'MI 2'  b'\\\\u5c0f\\\\u7c73'  \n",
       "2                     b'Galaxy S4'  b'\\\\u4e09\\\\u661f'  \n",
       "3  b'\\\\u65f6\\\\u5c1a\\\\u624b\\\\u673a'           b'SUGAR'  \n",
       "4                 b'Galaxy Note 2'  b'\\\\u4e09\\\\u661f'  "
      ]
     },
     "execution_count": 32,
     "metadata": {},
     "output_type": "execute_result"
    }
   ],
   "source": [
    "df_phone_brand_device_model.head(5)"
   ]
  },
  {
   "cell_type": "markdown",
   "metadata": {
    "slideshow": {
     "slide_type": "slide"
    }
   },
   "source": [
    "### Feature Engineering (continued)\n",
    "\n",
    "- The \"df_events\" dataframe contains latitudinal and longitudinal data as two separate variables.  To combine them into one useful feature, we will implement the Haversine formula (essentially the distance formula for spherical surfaces) and store the result in a new variable."
   ]
  },
  {
   "cell_type": "code",
   "execution_count": 35,
   "metadata": {
    "slideshow": {
     "slide_type": "subslide"
    }
   },
   "outputs": [],
   "source": [
    "#combine lat and long into haversine distance\n",
    "df_events['haversine_distance'] = [haversine_to_origin(x, y) for x, y in zip(df_events.latitude, df_events.longitude)]"
   ]
  },
  {
   "cell_type": "code",
   "execution_count": 36,
   "metadata": {
    "slideshow": {
     "slide_type": "subslide"
    }
   },
   "outputs": [
    {
     "data": {
      "text/html": [
       "<div>\n",
       "<style scoped>\n",
       "    .dataframe tbody tr th:only-of-type {\n",
       "        vertical-align: middle;\n",
       "    }\n",
       "\n",
       "    .dataframe tbody tr th {\n",
       "        vertical-align: top;\n",
       "    }\n",
       "\n",
       "    .dataframe thead th {\n",
       "        text-align: right;\n",
       "    }\n",
       "</style>\n",
       "<table border=\"1\" class=\"dataframe\">\n",
       "  <thead>\n",
       "    <tr style=\"text-align: right;\">\n",
       "      <th></th>\n",
       "      <th>event_id</th>\n",
       "      <th>device_id</th>\n",
       "      <th>timestamp</th>\n",
       "      <th>longitude</th>\n",
       "      <th>latitude</th>\n",
       "      <th>haversine_distance</th>\n",
       "    </tr>\n",
       "  </thead>\n",
       "  <tbody>\n",
       "    <tr>\n",
       "      <th>0</th>\n",
       "      <td>1</td>\n",
       "      <td>29182687948017175</td>\n",
       "      <td>2016-05-01 00:55:25</td>\n",
       "      <td>121.38</td>\n",
       "      <td>31.24</td>\n",
       "      <td>12947.176657</td>\n",
       "    </tr>\n",
       "    <tr>\n",
       "      <th>1</th>\n",
       "      <td>2</td>\n",
       "      <td>-6401643145415154744</td>\n",
       "      <td>2016-05-01 00:54:12</td>\n",
       "      <td>103.65</td>\n",
       "      <td>30.97</td>\n",
       "      <td>11305.657658</td>\n",
       "    </tr>\n",
       "  </tbody>\n",
       "</table>\n",
       "</div>"
      ],
      "text/plain": [
       "   event_id            device_id            timestamp  longitude  latitude  \\\n",
       "0         1    29182687948017175  2016-05-01 00:55:25     121.38     31.24   \n",
       "1         2 -6401643145415154744  2016-05-01 00:54:12     103.65     30.97   \n",
       "\n",
       "   haversine_distance  \n",
       "0        12947.176657  \n",
       "1        11305.657658  "
      ]
     },
     "execution_count": 36,
     "metadata": {},
     "output_type": "execute_result"
    }
   ],
   "source": [
    "df_events.head(2)"
   ]
  },
  {
   "cell_type": "markdown",
   "metadata": {
    "slideshow": {
     "slide_type": "slide"
    }
   },
   "source": [
    "## Feature Engineering (continued)\n",
    "\n",
    "- The \"df_events\" dataframe also contains a timestamp variable.  Time of day seems intuitively more relevant than calendar date with respect to app usage, so here we create a convenient feature that bins each timestamp into its respective hour."
   ]
  },
  {
   "cell_type": "code",
   "execution_count": 37,
   "metadata": {
    "slideshow": {
     "slide_type": "subslide"
    }
   },
   "outputs": [],
   "source": [
    "df_events['time_hour'] = pd.to_datetime(df_events['timestamp']).dt.hour"
   ]
  },
  {
   "cell_type": "code",
   "execution_count": 38,
   "metadata": {
    "slideshow": {
     "slide_type": "subslide"
    }
   },
   "outputs": [
    {
     "data": {
      "text/plain": [
       "10    183839\n",
       "21    181175\n",
       "20    178179\n",
       "22    168246\n",
       "11    167025\n",
       "19    166160\n",
       "9     166061\n",
       "12    162745\n",
       "8     157896\n",
       "18    156209\n",
       "13    155337\n",
       "17    153516\n",
       "14    151379\n",
       "16    150732\n",
       "15    149912\n",
       "7     146667\n",
       "23    136339\n",
       "0     120512\n",
       "6     116370\n",
       "1      72671\n",
       "5      66411\n",
       "2      53764\n",
       "3      47048\n",
       "4      44757\n",
       "Name: time_hour, dtype: int64"
      ]
     },
     "execution_count": 38,
     "metadata": {},
     "output_type": "execute_result"
    }
   ],
   "source": [
    "df_events['time_hour'].value_counts()"
   ]
  },
  {
   "cell_type": "markdown",
   "metadata": {
    "slideshow": {
     "slide_type": "notes"
    }
   },
   "source": [
    "### Feature Engineering (continued)\n",
    "\n",
    "- Here we convert our target variable 'gender' to binary, and the 'group' variable to numeric (we will use this group variable in our unsupervised analysis). "
   ]
  },
  {
   "cell_type": "code",
   "execution_count": 39,
   "metadata": {
    "slideshow": {
     "slide_type": "skip"
    }
   },
   "outputs": [],
   "source": [
    "# Convert gender into a binary output\n",
    "df_gender_age_train['gender'] = df_gender_age_train['gender'].apply(lambda x: 1 if x == 'F' else 0 )"
   ]
  },
  {
   "cell_type": "code",
   "execution_count": 40,
   "metadata": {
    "slideshow": {
     "slide_type": "skip"
    }
   },
   "outputs": [
    {
     "data": {
      "text/plain": [
       "0    47904\n",
       "1    26741\n",
       "Name: gender, dtype: int64"
      ]
     },
     "execution_count": 40,
     "metadata": {},
     "output_type": "execute_result"
    }
   ],
   "source": [
    "df_gender_age_train['gender'].value_counts()"
   ]
  },
  {
   "cell_type": "markdown",
   "metadata": {
    "slideshow": {
     "slide_type": "subslide"
    }
   },
   "source": [
    "- The 'group' variable separates the genders into age brackets, as shown below.  We will use this variable in our unsupervised model."
   ]
  },
  {
   "cell_type": "code",
   "execution_count": 41,
   "metadata": {
    "slideshow": {
     "slide_type": "subslide"
    }
   },
   "outputs": [
    {
     "data": {
      "text/plain": [
       "M23-26    9605\n",
       "M32-38    9476\n",
       "M39+      8581\n",
       "M22-      7488\n",
       "M29-31    7309\n",
       "F33-42    5561\n",
       "M27-28    5445\n",
       "F23-      5050\n",
       "F29-32    4628\n",
       "F43+      4194\n",
       "F24-26    4190\n",
       "F27-28    3118\n",
       "Name: group, dtype: int64"
      ]
     },
     "execution_count": 41,
     "metadata": {},
     "output_type": "execute_result"
    }
   ],
   "source": [
    "df_gender_age_train['group'].value_counts()"
   ]
  },
  {
   "cell_type": "code",
   "execution_count": 42,
   "metadata": {
    "slideshow": {
     "slide_type": "skip"
    }
   },
   "outputs": [],
   "source": [
    "#Make a numerical version of the 'group' variable\n",
    "group_num = []\n",
    "\n",
    "for idx, val in enumerate(df_gender_age_train['group']):\n",
    "    if val == 'F27-28':\n",
    "        group_num.append(0)\n",
    "    elif val == 'F24-26':\n",
    "        group_num.append(1)\n",
    "    elif val == 'F43+':\n",
    "        group_num.append(2)\n",
    "    elif val == 'F29-32':\n",
    "        group_num.append(3)\n",
    "    elif val == 'F23-':\n",
    "        group_num.append(4)\n",
    "    elif val == 'M27-28':\n",
    "        group_num.append(5)\n",
    "    elif val == 'F33-42':\n",
    "        group_num.append(6)\n",
    "    elif val == 'M29-31':\n",
    "        group_num.append(7)\n",
    "    elif val == 'M22-':\n",
    "        group_num.append(8)\n",
    "    elif val == 'M39+':\n",
    "        group_num.append(9)\n",
    "    elif val == 'M32-38':\n",
    "        group_num.append(10)\n",
    "    elif val == 'M23-26':\n",
    "        group_num.append(11)\n",
    "        \n",
    "df_gender_age_train['group_num'] = group_num"
   ]
  },
  {
   "cell_type": "code",
   "execution_count": 43,
   "metadata": {
    "slideshow": {
     "slide_type": "skip"
    }
   },
   "outputs": [
    {
     "data": {
      "text/plain": [
       "11    9605\n",
       "10    9476\n",
       "9     8581\n",
       "8     7488\n",
       "7     7309\n",
       "6     5561\n",
       "5     5445\n",
       "4     5050\n",
       "3     4628\n",
       "2     4194\n",
       "1     4190\n",
       "0     3118\n",
       "Name: group_num, dtype: int64"
      ]
     },
     "execution_count": 43,
     "metadata": {},
     "output_type": "execute_result"
    }
   ],
   "source": [
    "df_gender_age_train['group_num'].value_counts()"
   ]
  },
  {
   "cell_type": "markdown",
   "metadata": {
    "slideshow": {
     "slide_type": "slide"
    }
   },
   "source": [
    "## Merging the Data"
   ]
  },
  {
   "cell_type": "markdown",
   "metadata": {
    "slideshow": {
     "slide_type": "subslide"
    }
   },
   "source": [
    "- Here we join the dataframes together into one large dataframe in several steps."
   ]
  },
  {
   "cell_type": "code",
   "execution_count": 44,
   "metadata": {
    "slideshow": {
     "slide_type": "skip"
    }
   },
   "outputs": [],
   "source": [
    "df_gender_age_train = df_gender_age_train.drop(['age'], axis=1)"
   ]
  },
  {
   "cell_type": "code",
   "execution_count": 45,
   "metadata": {
    "slideshow": {
     "slide_type": "subslide"
    }
   },
   "outputs": [
    {
     "name": "stdout",
     "output_type": "stream",
     "text": [
      "--- 112.15651106834412 seconds ---\n"
     ]
    }
   ],
   "source": [
    "start_time = time.time()\n",
    "\n",
    "apps_labeled = pd.merge(df_app_labels,\n",
    "                       df_app_events[['app_id', 'is_active']],\n",
    "                       on='app_id').dropna().drop_duplicates()\n",
    "\n",
    "print(\"--- %s seconds ---\" % (time.time() - start_time))"
   ]
  },
  {
   "cell_type": "code",
   "execution_count": 46,
   "metadata": {
    "slideshow": {
     "slide_type": "subslide"
    }
   },
   "outputs": [
    {
     "name": "stdout",
     "output_type": "stream",
     "text": [
      "--- 44.888741970062256 seconds ---\n"
     ]
    }
   ],
   "source": [
    "start_time = time.time()\n",
    "\n",
    "device_apps = pd.merge(df_events,\n",
    "                       df_app_events[['app_id', 'is_active', 'event_id']],\n",
    "                       on='event_id').dropna().drop_duplicates()\n",
    "\n",
    "print(\"--- %s seconds ---\" % (time.time() - start_time))"
   ]
  },
  {
   "cell_type": "code",
   "execution_count": 47,
   "metadata": {
    "slideshow": {
     "slide_type": "skip"
    }
   },
   "outputs": [],
   "source": [
    "del(df_app_events, df_app_labels, df_events)"
   ]
  },
  {
   "cell_type": "code",
   "execution_count": 48,
   "metadata": {
    "slideshow": {
     "slide_type": "skip"
    }
   },
   "outputs": [
    {
     "name": "stdout",
     "output_type": "stream",
     "text": [
      "--- 16.55095410346985 seconds ---\n"
     ]
    }
   ],
   "source": [
    "start_time = time.time()\n",
    "\n",
    "ga_apps = pd.merge(df_gender_age_train,\n",
    "                  device_apps[['app_id', 'is_active', 'device_id', 'event_id', 'haversine_distance', 'time_hour']],\n",
    "                  on='device_id').dropna().drop_duplicates()\n",
    "\n",
    "print(\"--- %s seconds ---\" % (time.time() - start_time))"
   ]
  },
  {
   "cell_type": "code",
   "execution_count": 49,
   "metadata": {
    "slideshow": {
     "slide_type": "skip"
    }
   },
   "outputs": [],
   "source": [
    "del(df_gender_age_train, device_apps)"
   ]
  },
  {
   "cell_type": "code",
   "execution_count": 50,
   "metadata": {
    "slideshow": {
     "slide_type": "skip"
    }
   },
   "outputs": [
    {
     "name": "stdout",
     "output_type": "stream",
     "text": [
      "--- 17.409013986587524 seconds ---\n"
     ]
    }
   ],
   "source": [
    "start_time = time.time()\n",
    "\n",
    "ga_apps_brands = pd.merge(ga_apps,\n",
    "                         df_phone_brand_device_model[['device_id', 'encoded_brand']],\n",
    "                         on='device_id').dropna().drop_duplicates()\n",
    "\n",
    "\n",
    "print(\"--- %s seconds ---\" % (time.time() - start_time))"
   ]
  },
  {
   "cell_type": "code",
   "execution_count": 51,
   "metadata": {
    "slideshow": {
     "slide_type": "skip"
    }
   },
   "outputs": [],
   "source": [
    "del(ga_apps, df_phone_brand_device_model)"
   ]
  },
  {
   "cell_type": "code",
   "execution_count": 52,
   "metadata": {
    "slideshow": {
     "slide_type": "skip"
    }
   },
   "outputs": [
    {
     "name": "stdout",
     "output_type": "stream",
     "text": [
      "--- 443.255215883255 seconds ---\n"
     ]
    }
   ],
   "source": [
    "start_time = time.time()\n",
    "\n",
    "ga_apps_labeled_brands = pd.merge(ga_apps_brands,\n",
    "                                 apps_labeled[['app_id', 'label_id']],\n",
    "                                 on='app_id').dropna().drop_duplicates()\n",
    "\n",
    "\n",
    "\n",
    "print(\"--- %s seconds ---\" % (time.time() - start_time))"
   ]
  },
  {
   "cell_type": "code",
   "execution_count": 53,
   "metadata": {
    "slideshow": {
     "slide_type": "skip"
    }
   },
   "outputs": [],
   "source": [
    "del(ga_apps_brands, apps_labeled)"
   ]
  },
  {
   "cell_type": "markdown",
   "metadata": {
    "slideshow": {
     "slide_type": "slide"
    }
   },
   "source": [
    "- This final dataframe is fairly large, occupying over 7 GB in memory.  It also has a class imbalance of roughly 3:1 (M:F) in the target variable.  Here we do some downsampling to get the data into a manageable size and balance our target classes."
   ]
  },
  {
   "cell_type": "code",
   "execution_count": 54,
   "metadata": {
    "slideshow": {
     "slide_type": "subslide"
    }
   },
   "outputs": [
    {
     "name": "stdout",
     "output_type": "stream",
     "text": [
      "<class 'pandas.core.frame.DataFrame'>\n",
      "Int64Index: 78360118 entries, 0 to 154039970\n",
      "Data columns (total 11 columns):\n",
      "device_id             int64\n",
      "gender                int64\n",
      "group                 object\n",
      "group_num             int64\n",
      "app_id                int64\n",
      "is_active             int64\n",
      "event_id              int64\n",
      "haversine_distance    float64\n",
      "time_hour             int64\n",
      "encoded_brand         object\n",
      "label_id              int64\n",
      "dtypes: float64(1), int64(8), object(2)\n",
      "memory usage: 7.0+ GB\n"
     ]
    }
   ],
   "source": [
    "ga_apps_labeled_brands.info()"
   ]
  },
  {
   "cell_type": "code",
   "execution_count": 55,
   "metadata": {
    "slideshow": {
     "slide_type": "skip"
    }
   },
   "outputs": [],
   "source": [
    "df_smaller = ga_apps_labeled_brands.sample(frac=0.02, random_state=1)"
   ]
  },
  {
   "cell_type": "code",
   "execution_count": 56,
   "metadata": {
    "slideshow": {
     "slide_type": "skip"
    }
   },
   "outputs": [
    {
     "data": {
      "text/plain": [
       "0    1165725\n",
       "1     401477\n",
       "Name: gender, dtype: int64"
      ]
     },
     "execution_count": 56,
     "metadata": {},
     "output_type": "execute_result"
    }
   ],
   "source": [
    "df_smaller.gender.value_counts()"
   ]
  },
  {
   "cell_type": "code",
   "execution_count": 57,
   "metadata": {
    "slideshow": {
     "slide_type": "skip"
    }
   },
   "outputs": [],
   "source": [
    "# separate minority and majority classes\n",
    "df_guys = df_smaller[df_smaller.gender==0]\n",
    "df_gals = df_smaller[df_smaller.gender==1]"
   ]
  },
  {
   "cell_type": "code",
   "execution_count": 58,
   "metadata": {
    "slideshow": {
     "slide_type": "skip"
    }
   },
   "outputs": [],
   "source": [
    "# downsample majority class\n",
    "df_guys_downsampled = resample(df_guys,\n",
    "                                replace = False, \n",
    "                                n_samples = len(df_gals),\n",
    "                                random_state = 42)\n",
    "\n",
    "# concatenate minority and downsampled majority\n",
    "df_smaller_downsampled = pd.concat([df_guys_downsampled, df_gals])"
   ]
  },
  {
   "cell_type": "markdown",
   "metadata": {
    "slideshow": {
     "slide_type": "slide"
    }
   },
   "source": [
    "- Our downsampled dataframe, while still sizable, is much more manageable for our local computing environment, and has the target class balanced at 1:1."
   ]
  },
  {
   "cell_type": "code",
   "execution_count": 59,
   "metadata": {
    "slideshow": {
     "slide_type": "subslide"
    }
   },
   "outputs": [
    {
     "name": "stdout",
     "output_type": "stream",
     "text": [
      "<class 'pandas.core.frame.DataFrame'>\n",
      "Int64Index: 802954 entries, 90661971 to 19018624\n",
      "Data columns (total 11 columns):\n",
      "device_id             802954 non-null int64\n",
      "gender                802954 non-null int64\n",
      "group                 802954 non-null object\n",
      "group_num             802954 non-null int64\n",
      "app_id                802954 non-null int64\n",
      "is_active             802954 non-null int64\n",
      "event_id              802954 non-null int64\n",
      "haversine_distance    802954 non-null float64\n",
      "time_hour             802954 non-null int64\n",
      "encoded_brand         802954 non-null object\n",
      "label_id              802954 non-null int64\n",
      "dtypes: float64(1), int64(8), object(2)\n",
      "memory usage: 73.5+ MB\n"
     ]
    }
   ],
   "source": [
    "df_smaller_downsampled.info()"
   ]
  },
  {
   "cell_type": "code",
   "execution_count": 60,
   "metadata": {
    "slideshow": {
     "slide_type": "skip"
    }
   },
   "outputs": [],
   "source": [
    "del(ga_apps_labeled_brands)"
   ]
  },
  {
   "cell_type": "code",
   "execution_count": 61,
   "metadata": {
    "slideshow": {
     "slide_type": "skip"
    }
   },
   "outputs": [],
   "source": [
    "df_smaller_downsampled.to_csv(path_or_buf='Data/talkingdata/df_smaller_downsampled.csv')\n",
    "#df_smaller_downsampled=(pd.read_csv('Data/talkingdata/these_features.csv'))"
   ]
  },
  {
   "cell_type": "markdown",
   "metadata": {
    "slideshow": {
     "slide_type": "slide"
    }
   },
   "source": [
    "## Data Visualization\n",
    "\n",
    "- Now that we have our data in a workable form, let's take a look at it.\n",
    "- These figures provide some interesting insights concerning the frequency of certain apps and categories, and the usage habits of the most frequent users.  The devices of the most active users register several thousand entries, and the most popular apps appear in tens of thousands of entries. "
   ]
  },
  {
   "cell_type": "code",
   "execution_count": 114,
   "metadata": {
    "slideshow": {
     "slide_type": "subslide"
    }
   },
   "outputs": [
    {
     "data": {
      "image/png": "[encoded data removed]",
      "text/plain": [
       "<Figure size 1440x2160 with 4 Axes>"
      ]
     },
     "metadata": {},
     "output_type": "display_data"
    }
   ],
   "source": [
    "plt.figure(figsize=(20,30))\n",
    "\n",
    "plt.subplot(4,1,1)\n",
    "plt.title(\"Device_id top 10\")\n",
    "plt.ylabel('Number of entries')\n",
    "plt.bar(np.arange(10), df_smaller_downsampled['device_id'].value_counts().head(10), color=(\"grey\",\"purple\"))\n",
    "\n",
    "plt.subplot(4,1,2)\n",
    "plt.title(\"Event_id top 10\")\n",
    "plt.ylabel('Number of entries')\n",
    "plt.bar(np.arange(10), df_smaller_downsampled['event_id'].value_counts().head(10), color=(\"grey\",\"purple\"))\n",
    "\n",
    "plt.subplot(4,1,3)\n",
    "plt.title(\"App_id top 10\")\n",
    "plt.ylabel('Number of entries')\n",
    "plt.bar(np.arange(10), df_smaller_downsampled['app_id'].value_counts().head(10), color=(\"grey\",\"purple\"))\n",
    "\n",
    "plt.subplot(4,1,4)\n",
    "plt.title(\"Label_id top 10\")\n",
    "plt.ylabel('Number of entries')\n",
    "plt.bar(np.arange(10), df_smaller_downsampled['label_id'].value_counts().head(10), color=(\"grey\",\"purple\"))\n",
    "\n",
    "plt.show()"
   ]
  },
  {
   "cell_type": "markdown",
   "metadata": {
    "slideshow": {
     "slide_type": "slide"
    }
   },
   "source": [
    "- The histogram of haversine distance indicates that most of the TalkingData users live in two distinct but relatively contained geogrpahical areas (e.g. China).  The histogram of the time feature shows that only a small minority of people are active on their devices from 3-4 AM, contrasted with the greatest hour or so of activity from 8-9 AM."
   ]
  },
  {
   "cell_type": "code",
   "execution_count": 117,
   "metadata": {
    "slideshow": {
     "slide_type": "subslide"
    }
   },
   "outputs": [
    {
     "data": {
      "image/png": "[encoded data removed]",
      "text/plain": [
       "<Figure size 1440x720 with 2 Axes>"
      ]
     },
     "metadata": {},
     "output_type": "display_data"
    }
   ],
   "source": [
    "plt.figure(figsize=(20,10))\n",
    "\n",
    "plt.subplot(2,3,1)\n",
    "plt.hist(df_smaller_downsampled.haversine_distance)\n",
    "plt.title(\"Histogram of {}\".format(\"haversine_distance\"))\n",
    "plt.xlabel('haversine_distance')\n",
    "\n",
    "plt.subplot(2,3,2)\n",
    "plt.hist(df_smaller_downsampled.time_hour)\n",
    "plt.title(\"Histogram of {}\".format(\"time_hour\"))\n",
    "plt.xlabel('time_hour')\n",
    "\n",
    "plt.show()"
   ]
  },
  {
   "cell_type": "markdown",
   "metadata": {
    "slideshow": {
     "slide_type": "slide"
    }
   },
   "source": [
    "- Here, we use a heatmap to check the correlations of the various features with each other and with the target variable."
   ]
  },
  {
   "cell_type": "code",
   "execution_count": 4,
   "metadata": {
    "slideshow": {
     "slide_type": "subslide"
    }
   },
   "outputs": [
    {
     "data": {
      "image/png": "[encoded data removed]",
      "text/plain": [
       "<Figure size 1080x1080 with 2 Axes>"
      ]
     },
     "metadata": {
      "needs_background": "light"
     },
     "output_type": "display_data"
    }
   ],
   "source": [
    "plt.figure(figsize=(15,15))\n",
    "\n",
    "sns.heatmap(df_smaller_downsampled.select_dtypes(['int64', 'float64']).corr(), square=True, annot=True, linewidths=.5)\n",
    "plt.title(\"Feature Set Correlation Heatmap \")\n",
    "\n",
    "plt.show()"
   ]
  },
  {
   "cell_type": "code",
   "execution_count": 104,
   "metadata": {
    "slideshow": {
     "slide_type": "subslide"
    }
   },
   "outputs": [
    {
     "data": {
      "text/plain": [
       "gender                1.000000\n",
       "haversine_distance    0.123080\n",
       "is_active             0.086999\n",
       "time_hour             0.026926\n",
       "label_id              0.024670\n",
       "app_id                0.020519\n",
       "event_id              0.001316\n",
       "Name: gender, dtype: float64"
      ]
     },
     "execution_count": 104,
     "metadata": {},
     "output_type": "execute_result"
    }
   ],
   "source": [
    "#check the correlation of various features with the target\n",
    "\n",
    "np.abs(df_smaller_downsampled[\n",
    "    df_smaller_downsampled.select_dtypes([\n",
    "        'int64', 'float64']).columns].iloc[:,1:].corr().loc[:,'gender']).sort_values(ascending=False)\n"
   ]
  },
  {
   "cell_type": "markdown",
   "metadata": {
    "slideshow": {
     "slide_type": "notes"
    }
   },
   "source": [
    "- None of the variables show much correlation."
   ]
  },
  {
   "cell_type": "code",
   "execution_count": 106,
   "metadata": {
    "slideshow": {
     "slide_type": "notes"
    }
   },
   "outputs": [
    {
     "data": {
      "text/plain": [
       "label_id              0.0\n",
       "encoded_brand         0.0\n",
       "time_hour             0.0\n",
       "haversine_distance    0.0\n",
       "event_id              0.0\n",
       "dtype: float64"
      ]
     },
     "execution_count": 106,
     "metadata": {},
     "output_type": "execute_result"
    }
   ],
   "source": [
    "#double checking for missing values in the data\n",
    "\n",
    "missing_values_ratios = (df_smaller_downsampled.isnull().sum()/df_smaller_downsampled.isnull().count())\n",
    "missing_values_ratios.sort_values(ascending=False).head()"
   ]
  },
  {
   "cell_type": "markdown",
   "metadata": {
    "slideshow": {
     "slide_type": "slide"
    }
   },
   "source": [
    "## Feature Engineering (cont)\n",
    "\n",
    "- Here we choose our features, normalize the data, apply PCA, and split the data into testing and training sets to prepare the data for the models."
   ]
  },
  {
   "cell_type": "code",
   "execution_count": 62,
   "metadata": {
    "slideshow": {
     "slide_type": "skip"
    }
   },
   "outputs": [],
   "source": [
    "#make dummies from the 'encoded_brand' variable to use in the feature set\n",
    "brand_dummies = pd.get_dummies(df_smaller_downsampled[['encoded_brand']], drop_first=True)"
   ]
  },
  {
   "cell_type": "code",
   "execution_count": 63,
   "metadata": {
    "slideshow": {
     "slide_type": "subslide"
    }
   },
   "outputs": [],
   "source": [
    "X = pd.concat([df_smaller_downsampled[['device_id', 'app_id', 'is_active', 'label_id', 'event_id', \n",
    "                            'haversine_distance', 'time_hour']], brand_dummies], axis=1)\n",
    "\n",
    "y = df_smaller_downsampled['gender']\n",
    "\n",
    "y_2 = df_smaller_downsampled['group_num']"
   ]
  },
  {
   "cell_type": "markdown",
   "metadata": {
    "slideshow": {
     "slide_type": "skip"
    }
   },
   "source": [
    "- Preparing the data for PCA"
   ]
  },
  {
   "cell_type": "code",
   "execution_count": 64,
   "metadata": {
    "slideshow": {
     "slide_type": "skip"
    }
   },
   "outputs": [],
   "source": [
    "X_norm = normalize(X)"
   ]
  },
  {
   "cell_type": "code",
   "execution_count": 65,
   "metadata": {
    "slideshow": {
     "slide_type": "skip"
    }
   },
   "outputs": [],
   "source": [
    "Xt = X_norm.T\n",
    "Cx = np.cov(Xt)\n",
    "eig_val_cov, eig_vec_cov = np.linalg.eig(Cx)"
   ]
  },
  {
   "cell_type": "code",
   "execution_count": 38,
   "metadata": {
    "slideshow": {
     "slide_type": "subslide"
    }
   },
   "outputs": [
    {
     "data": {
      "image/png": "[encoded data removed]",
      "text/plain": [
       "<Figure size 432x288 with 1 Axes>"
      ]
     },
     "metadata": {
      "needs_background": "light"
     },
     "output_type": "display_data"
    },
    {
     "name": "stdout",
     "output_type": "stream",
     "text": [
      "[5.00710990e-01 4.69145926e-01 4.45622943e-25 6.76724868e-30\n",
      " 2.25997911e-32 9.45168645e-36 3.14142949e-38 5.14214788e-38\n",
      " 2.70281190e-38 1.65501930e-38]\n"
     ]
    }
   ],
   "source": [
    "# view scree plot to evaluate n_components for PCA\n",
    "plt.plot(eig_val_cov)\n",
    "plt.show()\n",
    "\n",
    "print(eig_val_cov[0:10])"
   ]
  },
  {
   "cell_type": "markdown",
   "metadata": {
    "slideshow": {
     "slide_type": "notes"
    }
   },
   "source": [
    "- Most of the variance is explained by only two components"
   ]
  },
  {
   "cell_type": "code",
   "execution_count": 66,
   "metadata": {
    "scrolled": true,
    "slideshow": {
     "slide_type": "skip"
    }
   },
   "outputs": [
    {
     "name": "stdout",
     "output_type": "stream",
     "text": [
      "The percentage of total variance in the dataset explained by each component from Sklearn PCA:\n",
      " [0.51627305 0.48372695]\n",
      "--- 3.3713951110839844 seconds ---\n"
     ]
    }
   ],
   "source": [
    "start_time = time.time()\n",
    "\n",
    "sklearn_pca = PCA(n_components=2)  \n",
    "X_pca = sklearn_pca.fit_transform(X_norm)\n",
    "\n",
    "print(\n",
    "    'The percentage of total variance in the dataset explained by each',\n",
    "    'component from Sklearn PCA:\\n',\n",
    "    sklearn_pca.explained_variance_ratio_\n",
    ")\n",
    "\n",
    "print(\"--- %s seconds ---\" % (time.time() - start_time))"
   ]
  },
  {
   "cell_type": "code",
   "execution_count": 67,
   "metadata": {
    "slideshow": {
     "slide_type": "skip"
    }
   },
   "outputs": [],
   "source": [
    "# Split the data into four equally-sized samples for analysis with silhouette. \n",
    "\n",
    "X_pcahalf1, X_pcahalf2 = train_test_split(\n",
    "    X_pca,\n",
    "    test_size=0.5,\n",
    "    random_state=42)\n",
    "X_pca1, X_pca2 = train_test_split(\n",
    "    X_pcahalf1,\n",
    "    test_size=0.5,\n",
    "    random_state=42)\n",
    "X_pca3, X_pca4 = train_test_split(\n",
    "    X_pcahalf2,\n",
    "    test_size=0.5,\n",
    "   random_state=42)"
   ]
  },
  {
   "cell_type": "code",
   "execution_count": 68,
   "metadata": {
    "slideshow": {
     "slide_type": "skip"
    }
   },
   "outputs": [],
   "source": [
    "#Split the data into training and testing sets\n",
    "X_train, X_test, y_train, y_test, y_2_train, y_2_test = train_test_split(\n",
    "    X_pca,\n",
    "    y,\n",
    "    y_2,\n",
    "    test_size=0.2,\n",
    "    random_state=1)"
   ]
  },
  {
   "cell_type": "markdown",
   "metadata": {
    "slideshow": {
     "slide_type": "skip"
    }
   },
   "source": [
    "# Supervised Models"
   ]
  },
  {
   "cell_type": "markdown",
   "metadata": {
    "slideshow": {
     "slide_type": "slide"
    }
   },
   "source": [
    "## Model 1: Decision Tree\n",
    "\n",
    "- Decision Trees are a good choice for classification problems, and don't make any assumptions about the data.  This makes them a good benchmark choice for this project.\n",
    "- We used GridSearchCV for choosing hyperparameters on this and subsequent models that require them."
   ]
  },
  {
   "cell_type": "code",
   "execution_count": 13,
   "metadata": {
    "slideshow": {
     "slide_type": "skip"
    }
   },
   "outputs": [],
   "source": [
    "#setting up parameters for GridSearchCV(DecisionTreeClassifier())\n",
    "\n",
    "depths = np.arange(1, 10)\n",
    "num_features = [1, 2]\n",
    "\n",
    "param_grid_dt_pca = [{'decisiontreeclassifier__max_depth':depths,\n",
    "               'decisiontreeclassifier__max_features':num_features}]\n",
    "\n",
    "pipe_tree_dt_pca = make_pipeline(tree.DecisionTreeClassifier(criterion='entropy'))"
   ]
  },
  {
   "cell_type": "code",
   "execution_count": 14,
   "metadata": {
    "slideshow": {
     "slide_type": "skip"
    }
   },
   "outputs": [
    {
     "name": "stdout",
     "output_type": "stream",
     "text": [
      "--- 0.00019598007202148438 seconds ---\n"
     ]
    }
   ],
   "source": [
    "start_time = time.time()\n",
    "\n",
    "gs_dt_pca = GridSearchCV(pipe_tree_dt_pca, param_grid=param_grid_dt_pca, cv=5)\n",
    "\n",
    "print(\"--- %s seconds ---\" % (time.time() - start_time))"
   ]
  },
  {
   "cell_type": "code",
   "execution_count": 15,
   "metadata": {
    "slideshow": {
     "slide_type": "skip"
    }
   },
   "outputs": [
    {
     "name": "stdout",
     "output_type": "stream",
     "text": [
      "{'decisiontreeclassifier__max_depth': 9, 'decisiontreeclassifier__max_features': 2}\n"
     ]
    }
   ],
   "source": [
    "start_time = time.time()\n",
    "\n",
    "gs_dt_pca.fit(X_train,y_train)\n",
    "print(gs_dt_pca.best_params_)\n",
    "\n",
    "print(\"--- %s seconds ---\" % (time.time() - start_time))"
   ]
  },
  {
   "cell_type": "code",
   "execution_count": 136,
   "metadata": {
    "slideshow": {
     "slide_type": "skip"
    }
   },
   "outputs": [
    {
     "name": "stdout",
     "output_type": "stream",
     "text": [
      "--- 2.1042330265045166 seconds ---\n"
     ]
    }
   ],
   "source": [
    "#initialize and train the decision tree model using GridSearchCV results\n",
    "start_time = time.time()\n",
    "\n",
    "decision_tree = tree.DecisionTreeClassifier(\n",
    "    criterion='entropy',\n",
    "    max_features=2,\n",
    "    max_depth=9\n",
    ")\n",
    "\n",
    "decision_tree.fit(X_train, y_train)\n",
    "\n",
    "print(\"--- %s seconds ---\" % (time.time() - start_time))"
   ]
  },
  {
   "cell_type": "code",
   "execution_count": 137,
   "metadata": {
    "slideshow": {
     "slide_type": "skip"
    }
   },
   "outputs": [
    {
     "name": "stdout",
     "output_type": "stream",
     "text": [
      "--- 2.36745023727417 seconds ---\n"
     ]
    }
   ],
   "source": [
    "#making predictions for model evaluation\n",
    "\n",
    "start_time = time.time()\n",
    "\n",
    "y_pred_dt = decision_tree.fit(X_train, y_train).predict(X_test)\n",
    "\n",
    "print(\"--- %s seconds ---\" % (time.time() - start_time))"
   ]
  },
  {
   "cell_type": "code",
   "execution_count": 138,
   "metadata": {
    "slideshow": {
     "slide_type": "subslide"
    }
   },
   "outputs": [
    {
     "name": "stdout",
     "output_type": "stream",
     "text": [
      "[0.53202059 0.52973736 0.52768937 0.52666538 0.52589046 0.53089973\n",
      " 0.52991725 0.53269864 0.53209714 0.53421435]\n",
      "The 10-fold cross validation average for the training set is  0.5300723182926923\n",
      "--- 40.03949522972107 seconds ---\n"
     ]
    }
   ],
   "source": [
    "#evaluating the model performance through xvalidation of the training set\n",
    "\n",
    "start_time = time.time()\n",
    "\n",
    "print(cross_val_score(decision_tree, X_train, y_train, cv=10))\n",
    "print('The 10-fold cross validation average for the training set is ', \n",
    "      cross_val_score(decision_tree, X_train, y_train, cv=10).mean())\n",
    "\n",
    "print(\"--- %s seconds ---\" % (time.time() - start_time))"
   ]
  },
  {
   "cell_type": "code",
   "execution_count": 140,
   "metadata": {
    "slideshow": {
     "slide_type": "subslide"
    }
   },
   "outputs": [
    {
     "name": "stdout",
     "output_type": "stream",
     "text": [
      "              precision    recall  f1-score   support\n",
      "\n",
      "           0       0.52      0.60      0.56     40089\n",
      "           1       0.53      0.45      0.49     40207\n",
      "\n",
      "    accuracy                           0.53     80296\n",
      "   macro avg       0.53      0.53      0.53     80296\n",
      "weighted avg       0.53      0.53      0.53     80296\n",
      "\n"
     ]
    }
   ],
   "source": [
    "#classification report\n",
    "\n",
    "print(classification_report(y_test, y_pred_dt, labels=None, target_names=None, \n",
    "                      sample_weight=None, digits=2, output_dict=False\n",
    "                     ))"
   ]
  },
  {
   "cell_type": "code",
   "execution_count": 141,
   "metadata": {
    "slideshow": {
     "slide_type": "subslide"
    }
   },
   "outputs": [
    {
     "name": "stdout",
     "output_type": "stream",
     "text": [
      "Test set confusion matrix: \n",
      " [[24160 15929]\n",
      " [21982 18225]]\n"
     ]
    }
   ],
   "source": [
    "#confusion matrix\n",
    "print('Test set confusion matrix:', '\\n', \n",
    "      confusion_matrix(y_test, y_pred_dt, labels=None, sample_weight=None)\n",
    "     )"
   ]
  },
  {
   "cell_type": "markdown",
   "metadata": {
    "slideshow": {
     "slide_type": "skip"
    }
   },
   "source": [
    "- Our decision tree performed as a classifier only a few percentage points better than a coin toss."
   ]
  },
  {
   "cell_type": "markdown",
   "metadata": {
    "slideshow": {
     "slide_type": "slide"
    }
   },
   "source": [
    "## Model 2: Naive Bayes\n",
    "\n",
    "- Naive Bayes models, while simple, fast, and intuitve, prefer normally distributed data, so it's not a big surprise that it doesn't show very good performance here.  This is our weakest classifier."
   ]
  },
  {
   "cell_type": "code",
   "execution_count": 74,
   "metadata": {
    "slideshow": {
     "slide_type": "skip"
    }
   },
   "outputs": [
    {
     "name": "stdout",
     "output_type": "stream",
     "text": [
      "--- 0.18696928024291992 seconds ---\n"
     ]
    }
   ],
   "source": [
    "start_time = time.time()\n",
    "\n",
    "# Instantiate our model and store it in a new variable.\n",
    "bnb = BernoulliNB()\n",
    "\n",
    "# Fit our model to the data.\n",
    "bnb.fit(X_train, y_train)\n",
    "\n",
    "# Classify, storing the result in a new variable.\n",
    "y_preds_nb = bnb.predict(X_test)\n",
    "\n",
    "print(\"--- %s seconds ---\" % (time.time() - start_time))"
   ]
  },
  {
   "cell_type": "code",
   "execution_count": 75,
   "metadata": {
    "slideshow": {
     "slide_type": "subslide"
    }
   },
   "outputs": [
    {
     "name": "stdout",
     "output_type": "stream",
     "text": [
      "[0.51147151 0.50906374 0.51178978 0.50954806 0.51109789 0.51007389\n",
      " 0.5105167  0.51064124 0.50901543 0.5093337 ]\n",
      "The 10-fold cross validation average for the training set is  0.5102551937967117\n",
      "--- 3.913083076477051 seconds ---\n"
     ]
    }
   ],
   "source": [
    "#evaluating the model performance through xvalidation of the training set\n",
    "\n",
    "start_time = time.time()\n",
    "\n",
    "print(cross_val_score(bnb, X_train, y_train, cv=10))\n",
    "print('The 10-fold cross validation average for the training set is ', \n",
    "      cross_val_score(bnb, X_train, y_train, cv=10).mean())\n",
    "\n",
    "print(\"--- %s seconds ---\" % (time.time() - start_time))"
   ]
  },
  {
   "cell_type": "code",
   "execution_count": 77,
   "metadata": {
    "slideshow": {
     "slide_type": "subslide"
    }
   },
   "outputs": [
    {
     "name": "stdout",
     "output_type": "stream",
     "text": [
      "              precision    recall  f1-score   support\n",
      "\n",
      "           0       0.51      0.46      0.48     40237\n",
      "           1       0.51      0.56      0.53     40059\n",
      "\n",
      "    accuracy                           0.51     80296\n",
      "   macro avg       0.51      0.51      0.51     80296\n",
      "weighted avg       0.51      0.51      0.51     80296\n",
      "\n"
     ]
    }
   ],
   "source": [
    "#classification report\n",
    "\n",
    "print(classification_report(y_test, y_preds_nb, labels=None, target_names=None, \n",
    "                      sample_weight=None, digits=2, output_dict=False\n",
    "                     ))"
   ]
  },
  {
   "cell_type": "code",
   "execution_count": 78,
   "metadata": {
    "slideshow": {
     "slide_type": "subslide"
    }
   },
   "outputs": [
    {
     "name": "stdout",
     "output_type": "stream",
     "text": [
      "Test set confusion matrix: \n",
      " [[18427 21810]\n",
      " [17471 22588]]\n"
     ]
    }
   ],
   "source": [
    "#confusion matrix\n",
    "print('Test set confusion matrix:', '\\n', \n",
    "      confusion_matrix(y_test, y_preds_nb, labels=None, sample_weight=None)\n",
    "     )"
   ]
  },
  {
   "cell_type": "markdown",
   "metadata": {
    "slideshow": {
     "slide_type": "slide"
    }
   },
   "source": [
    "## Model 3: KNN\n",
    "\n",
    "- KNN models are also intuitive and relatively simple, tend to perform well on multi-class problems, and don't make any assumptions about the distribution of the data.\n",
    "- We expected good performance from KNN, and this model ended up in second place."
   ]
  },
  {
   "cell_type": "code",
   "execution_count": 41,
   "metadata": {
    "slideshow": {
     "slide_type": "notes"
    }
   },
   "outputs": [],
   "source": [
    "#kernels = ['linear', 'poly', 'rbf', 'sigmoid']\n",
    "num_neighbors = np.arange(1, 20)\n",
    "weights = ['distance','uniform']\n",
    "leaf_sizes = np.arange(1, 5)\n",
    "\n",
    "param_grid_knn = [{'kneighborsclassifier__n_neighbors':num_neighbors,\n",
    "                      'kneighborsclassifier__weights':weights,\n",
    "                      'kneighborsclassifier__leaf_size':leaf_sizes}\n",
    "                     ]\n",
    "pipe_tree_knn = make_pipeline(neighbors.KNeighborsClassifier())"
   ]
  },
  {
   "cell_type": "code",
   "execution_count": 42,
   "metadata": {
    "slideshow": {
     "slide_type": "skip"
    }
   },
   "outputs": [
    {
     "name": "stdout",
     "output_type": "stream",
     "text": [
      "--- 0.00014209747314453125 seconds ---\n"
     ]
    }
   ],
   "source": [
    "start_time = time.time()\n",
    "\n",
    "gs_knn = GridSearchCV(pipe_tree_knn, param_grid=param_grid_knn, cv=5)\n",
    "\n",
    "print(\"--- %s seconds ---\" % (time.time() - start_time))\n",
    "#gs_knn.get_params().keys()"
   ]
  },
  {
   "cell_type": "code",
   "execution_count": 43,
   "metadata": {
    "slideshow": {
     "slide_type": "skip"
    }
   },
   "outputs": [
    {
     "name": "stdout",
     "output_type": "stream",
     "text": [
      "{'kneighborsclassifier__leaf_size': 1, 'kneighborsclassifier__n_neighbors': 19, 'kneighborsclassifier__weights': 'uniform'}\n",
      "--- 199.55490612983704 seconds ---\n"
     ]
    }
   ],
   "source": [
    "start_time = time.time()\n",
    "\n",
    "gs_knn.fit(X_train,y_train)\n",
    "print(gs_knn.best_params_)\n",
    "\n",
    "print(\"--- %s seconds ---\" % (time.time() - start_time))"
   ]
  },
  {
   "cell_type": "code",
   "execution_count": 12,
   "metadata": {
    "slideshow": {
     "slide_type": "skip"
    }
   },
   "outputs": [
    {
     "name": "stdout",
     "output_type": "stream",
     "text": [
      "--- 2.2875797748565674 seconds ---\n"
     ]
    }
   ],
   "source": [
    "start_time = time.time()\n",
    "\n",
    "knn = neighbors.KNeighborsClassifier(n_neighbors=19, weights='uniform', leaf_size=1)\n",
    "knn.fit(X_train, y_train)\n",
    "\n",
    "print(\"--- %s seconds ---\" % (time.time() - start_time))"
   ]
  },
  {
   "cell_type": "code",
   "execution_count": 13,
   "metadata": {
    "slideshow": {
     "slide_type": "skip"
    }
   },
   "outputs": [
    {
     "name": "stdout",
     "output_type": "stream",
     "text": [
      "--- 8.602159261703491 seconds ---\n"
     ]
    }
   ],
   "source": [
    "# Classify, storing the result in a new variable.\n",
    "start_time = time.time()\n",
    "\n",
    "y_preds_knn = knn.predict(X_test)\n",
    "\n",
    "print(\"--- %s seconds ---\" % (time.time() - start_time))"
   ]
  },
  {
   "cell_type": "code",
   "execution_count": 14,
   "metadata": {
    "slideshow": {
     "slide_type": "subslide"
    }
   },
   "outputs": [
    {
     "name": "stdout",
     "output_type": "stream",
     "text": [
      "[0.66569111 0.67084391 0.6722761  0.67048586 0.66893954 0.67241111\n",
      " 0.670543   0.67473068 0.67336073 0.6766716 ]\n",
      "The 10-fold cross validation average for the training set is  0.6715953629967901\n",
      "--- 109.50365686416626 seconds ---\n"
     ]
    }
   ],
   "source": [
    "#evaluating the model performance through xvalidation of the training set\n",
    "\n",
    "start_time = time.time()\n",
    "\n",
    "print(cross_val_score(knn, X_train, y_train, cv=10))\n",
    "print('The 10-fold cross validation average for the training set is ', \n",
    "      cross_val_score(knn, X_train, y_train, cv=10).mean())\n",
    "\n",
    "print(\"--- %s seconds ---\" % (time.time() - start_time))"
   ]
  },
  {
   "cell_type": "code",
   "execution_count": 15,
   "metadata": {
    "slideshow": {
     "slide_type": "subslide"
    }
   },
   "outputs": [
    {
     "name": "stdout",
     "output_type": "stream",
     "text": [
      "              precision    recall  f1-score   support\n",
      "\n",
      "           0       0.69      0.67      0.68     80308\n",
      "           1       0.68      0.69      0.68     80283\n",
      "\n",
      "    accuracy                           0.68    160591\n",
      "   macro avg       0.68      0.68      0.68    160591\n",
      "weighted avg       0.68      0.68      0.68    160591\n",
      "\n"
     ]
    }
   ],
   "source": [
    "#classification report\n",
    "\n",
    "print(classification_report(y_test, y_preds_knn, labels=None, target_names=None, \n",
    "                      sample_weight=None, digits=2, output_dict=False\n",
    "                     ))"
   ]
  },
  {
   "cell_type": "code",
   "execution_count": 16,
   "metadata": {
    "slideshow": {
     "slide_type": "subslide"
    }
   },
   "outputs": [
    {
     "name": "stdout",
     "output_type": "stream",
     "text": [
      "Test set confusion matrix: \n",
      " [[53670 26638]\n",
      " [24610 55673]]\n"
     ]
    }
   ],
   "source": [
    "#confusion matrix\n",
    "print('Test set confusion matrix:', '\\n', \n",
    "      confusion_matrix(y_test, y_preds_knn, labels=None, sample_weight=None)\n",
    "     )"
   ]
  },
  {
   "cell_type": "markdown",
   "metadata": {
    "slideshow": {
     "slide_type": "skip"
    }
   },
   "source": [
    "- KNN models, like decision trees, are intuitive and fast.  Even with this challenging data set, the KNN model shows decent classificatin performance, and is less resource intensive than our first place model, the random forest classifier.  The silver medalist!"
   ]
  },
  {
   "cell_type": "markdown",
   "metadata": {
    "slideshow": {
     "slide_type": "slide"
    }
   },
   "source": [
    "## Model 4: SVM\n",
    "\n",
    "- SVM models are very effective classifiers.  However, they require the tuning of several hyperparameters, and are far more resource intensive than our other models.\n",
    "- Our SVM model did not classify well, but there is room for improvement and further exploration here."
   ]
  },
  {
   "cell_type": "code",
   "execution_count": 50,
   "metadata": {
    "slideshow": {
     "slide_type": "skip"
    }
   },
   "outputs": [],
   "source": [
    "#kernels = ['linear', 'poly', 'rbf', 'sigmoid']\n",
    "degrees = [1,2,3]\n",
    "param_grid_svm = [{'svc__degree':degrees}]\n",
    "pipe_tree_svm = make_pipeline(SVC(kernel = 'poly'))"
   ]
  },
  {
   "cell_type": "code",
   "execution_count": 51,
   "metadata": {
    "slideshow": {
     "slide_type": "skip"
    }
   },
   "outputs": [
    {
     "name": "stdout",
     "output_type": "stream",
     "text": [
      "--- 0.00011610984802246094 seconds ---\n"
     ]
    }
   ],
   "source": [
    "start_time = time.time()\n",
    "\n",
    "gs_svm = GridSearchCV(pipe_tree_svm, param_grid=param_grid_svm, cv=5)\n",
    "\n",
    "#gs_svm.get_params().keys()\n",
    "print(\"--- %s seconds ---\" % (time.time() - start_time))"
   ]
  },
  {
   "cell_type": "code",
   "execution_count": 52,
   "metadata": {
    "slideshow": {
     "slide_type": "skip"
    }
   },
   "outputs": [
    {
     "name": "stdout",
     "output_type": "stream",
     "text": [
      "{'svc__degree': 1}\n",
      "--- 185.38452196121216 seconds ---\n"
     ]
    }
   ],
   "source": [
    "start_time = time.time()\n",
    "\n",
    "gs_svm.fit(X_train,y_train)\n",
    "print(gs_svm.best_params_)\n",
    "\n",
    "print(\"--- %s seconds ---\" % (time.time() - start_time))"
   ]
  },
  {
   "cell_type": "markdown",
   "metadata": {
    "slideshow": {
     "slide_type": "skip"
    }
   },
   "source": [
    "{'svc__degree': 1}\n",
    "--- 185.38452196121216 seconds ---"
   ]
  },
  {
   "cell_type": "code",
   "execution_count": 9,
   "metadata": {
    "slideshow": {
     "slide_type": "skip"
    }
   },
   "outputs": [
    {
     "name": "stdout",
     "output_type": "stream",
     "text": [
      "--- 11176.421251058578 seconds ---\n"
     ]
    }
   ],
   "source": [
    "start_time = time.time()\n",
    "\n",
    "svm = SVC(kernel='poly',degree=1)\n",
    "svm.fit(X_train, y_train)\n",
    "\n",
    "print(\"--- %s seconds ---\" % (time.time() - start_time))"
   ]
  },
  {
   "cell_type": "code",
   "execution_count": 10,
   "metadata": {
    "slideshow": {
     "slide_type": "skip"
    }
   },
   "outputs": [
    {
     "name": "stdout",
     "output_type": "stream",
     "text": [
      "--- 12423.343416929245 seconds ---\n"
     ]
    }
   ],
   "source": [
    "start_time = time.time()\n",
    "\n",
    "#Setting the predictions for analysis\n",
    "y_pred_svm = svm.fit(X_train, y_train).predict(X_test)\n",
    "\n",
    "print(\"--- %s seconds ---\" % (time.time() - start_time))"
   ]
  },
  {
   "cell_type": "code",
   "execution_count": null,
   "metadata": {
    "slideshow": {
     "slide_type": "skip"
    }
   },
   "outputs": [],
   "source": [
    "# #evaluating the model performance through xvalidation of the training set\n",
    "\n",
    "# start_time = time.time()\n",
    "\n",
    "# print(cross_val_score(svm, X_train, y_train, cv=10))\n",
    "# print('The 10-fold cross validation average for the training set is ', \n",
    "#       cross_val_score(svm, X_train, y_train, cv=10).mean())\n",
    "\n",
    "# print(\"--- %s seconds ---\" % (time.time() - start_time))"
   ]
  },
  {
   "cell_type": "code",
   "execution_count": 11,
   "metadata": {
    "scrolled": false,
    "slideshow": {
     "slide_type": "subslide"
    }
   },
   "outputs": [
    {
     "name": "stdout",
     "output_type": "stream",
     "text": [
      "              precision    recall  f1-score   support\n",
      "\n",
      "           0       0.51      0.40      0.45     80308\n",
      "           1       0.51      0.62      0.56     80283\n",
      "\n",
      "    accuracy                           0.51    160591\n",
      "   macro avg       0.51      0.51      0.51    160591\n",
      "weighted avg       0.51      0.51      0.51    160591\n",
      "\n"
     ]
    }
   ],
   "source": [
    "#classification report\n",
    "print(classification_report(y_test, y_pred_svm, labels=None, target_names=None, \n",
    "                       sample_weight=None, digits=2, output_dict=False\n",
    "                      ))"
   ]
  },
  {
   "cell_type": "code",
   "execution_count": 12,
   "metadata": {
    "scrolled": true,
    "slideshow": {
     "slide_type": "subslide"
    }
   },
   "outputs": [
    {
     "name": "stdout",
     "output_type": "stream",
     "text": [
      "Test set confusion matrix: \n",
      " [[32448 47860]\n",
      " [30571 49712]]\n"
     ]
    }
   ],
   "source": [
    "#confusion matrix\n",
    "print('Test set confusion matrix:', '\\n', \n",
    "      confusion_matrix(y_test, y_pred_svm, labels=None, sample_weight=None)\n",
    "      )"
   ]
  },
  {
   "cell_type": "markdown",
   "metadata": {
    "slideshow": {
     "slide_type": "subslide"
    }
   },
   "source": [
    "- SVM models are powerful classifiers, so we were surpised to see that our SVM model didn't perform very well on this data.  Unfortunately, SVM models are also resource intensive, and memory issues have prevented us from running cross_val_score() on this model.  The classification performance is unimpressive regardless, and so we are not recommending this model for this dataset. \n",
    "- To explore this model further, GridSearchCV could be used in a more powerful computing environment to tune the hyperparameters."
   ]
  },
  {
   "cell_type": "markdown",
   "metadata": {
    "slideshow": {
     "slide_type": "slide"
    }
   },
   "source": [
    "## Model 5: Random Forest Classifier\n",
    "\n",
    "- Random Forest Classifiers are an ensemble-style model built from myriad decision trees.  This allows them to avoid some of the pitfalls (like overfitting) of decision tree models while maintaining most of the advantages (they are more resource intensive than decison trees, but much less so than SVM).\n",
    "- Our Random Forest Model demonstrated the best classification performance by far."
   ]
  },
  {
   "cell_type": "code",
   "execution_count": 69,
   "metadata": {
    "scrolled": true,
    "slideshow": {
     "slide_type": "skip"
    }
   },
   "outputs": [
    {
     "name": "stdout",
     "output_type": "stream",
     "text": [
      "--- 42.189146995544434 seconds ---\n"
     ]
    }
   ],
   "source": [
    "start_time = time.time()\n",
    "\n",
    "rfc = ensemble.RandomForestClassifier()\n",
    "rfc.fit(X_train,y_train)\n",
    "\n",
    "print(\"--- %s seconds ---\" % (time.time() - start_time))"
   ]
  },
  {
   "cell_type": "code",
   "execution_count": 70,
   "metadata": {
    "slideshow": {
     "slide_type": "skip"
    }
   },
   "outputs": [
    {
     "name": "stdout",
     "output_type": "stream",
     "text": [
      "--- 0.45691967010498047 seconds ---\n"
     ]
    }
   ],
   "source": [
    "start_time = time.time()\n",
    "\n",
    "#making predictions for model evaluation\n",
    "y_preds_rfc=rfc.predict(X_test)\n",
    "\n",
    "print(\"--- %s seconds ---\" % (time.time() - start_time))"
   ]
  },
  {
   "cell_type": "code",
   "execution_count": 146,
   "metadata": {
    "slideshow": {
     "slide_type": "subslide"
    }
   },
   "outputs": [
    {
     "name": "stdout",
     "output_type": "stream",
     "text": [
      "[0.8731492  0.8720145  0.87310769 0.87032629 0.87299698 0.87504497\n",
      " 0.87447762 0.87135029 0.87040753 0.87162527]\n",
      "--- 381.6102182865143 seconds ---\n"
     ]
    }
   ],
   "source": [
    "#evaluating the model performance through xvalidation of the training set\n",
    "start_time = time.time()\n",
    "\n",
    "print(cross_val_score(rfc, X_train, y_train, cv=10))\n",
    "\n",
    "print(\"--- %s seconds ---\" % (time.time() - start_time))"
   ]
  },
  {
   "cell_type": "code",
   "execution_count": 72,
   "metadata": {
    "slideshow": {
     "slide_type": "subslide"
    }
   },
   "outputs": [
    {
     "name": "stdout",
     "output_type": "stream",
     "text": [
      "              precision    recall  f1-score   support\n",
      "\n",
      "           0       0.89      0.88      0.88     40237\n",
      "           1       0.88      0.89      0.88     40059\n",
      "\n",
      "    accuracy                           0.88     80296\n",
      "   macro avg       0.88      0.88      0.88     80296\n",
      "weighted avg       0.88      0.88      0.88     80296\n",
      "\n"
     ]
    }
   ],
   "source": [
    "#classification report\n",
    "\n",
    "print(classification_report(y_test, y_preds_rfc, labels=None, target_names=None, \n",
    "                      sample_weight=None, digits=2, output_dict=False\n",
    "                     ))"
   ]
  },
  {
   "cell_type": "code",
   "execution_count": 73,
   "metadata": {
    "slideshow": {
     "slide_type": "subslide"
    }
   },
   "outputs": [
    {
     "name": "stdout",
     "output_type": "stream",
     "text": [
      "Test set confusion matrix: \n",
      " [[35258  4979]\n",
      " [ 4494 35565]]\n"
     ]
    }
   ],
   "source": [
    "#confusion matrix\n",
    "print('Test set confusion matrix:', '\\n', \n",
    "      confusion_matrix(y_test, y_preds_rfc, labels=None, sample_weight=None)\n",
    "     )"
   ]
  },
  {
   "cell_type": "markdown",
   "metadata": {
    "slideshow": {
     "slide_type": "subslide"
    }
   },
   "source": [
    "- The random forest classifier shows impressive, balanced performance, with good precision and recall for both classes!  While admittedly more resource intensive than the decision tree model, this performance is really strong, making the random forest classifer our number one recommended model."
   ]
  },
  {
   "cell_type": "markdown",
   "metadata": {
    "slideshow": {
     "slide_type": "slide"
    }
   },
   "source": [
    "## Model 6: KMeans\n",
    "\n",
    "- Our next model, KMeans, is of the unsupervised variety.\n",
    "- We were hoping that perhaps it would naturally find a pattern in the data that would separate the target variable into clusters.  Unfortunately, each of the clusters contained an almost 50-50 split of the target.\n",
    "- Our first step was to calculate the silhouette coefficient for different values of K (different numbers of clusters).  The silhouette coefficient gives information about how well the clusters are separated for a specific value of K trained on specific data set."
   ]
  },
  {
   "cell_type": "code",
   "execution_count": 25,
   "metadata": {
    "slideshow": {
     "slide_type": "skip"
    }
   },
   "outputs": [
    {
     "name": "stdout",
     "output_type": "stream",
     "text": [
      "0.5477679712987001\n",
      "0.5467898376264809\n",
      "0.5480898533517531\n",
      "0.5492933714818348\n"
     ]
    }
   ],
   "source": [
    "start_time = time.time()\n",
    "for sample in [X_pca1, X_pca2, X_pca3, X_pca4]:\n",
    "    model = KMeans(n_clusters=4, random_state=42).fit(sample)\n",
    "    labels_test = model.labels_\n",
    "    print(metrics.silhouette_score(sample, labels_test, metric='euclidean'))\n",
    "print(\"--- %s seconds ---\" % (time.time() - start_time))"
   ]
  },
  {
   "cell_type": "code",
   "execution_count": 26,
   "metadata": {
    "slideshow": {
     "slide_type": "skip"
    }
   },
   "outputs": [
    {
     "name": "stdout",
     "output_type": "stream",
     "text": [
      "0.5347068985480117\n",
      "0.5383372834444189\n",
      "0.5354919165035713\n",
      "0.5420264792562377\n"
     ]
    }
   ],
   "source": [
    "\n",
    "for sample in [X_pca1, X_pca2, X_pca3, X_pca4]:\n",
    "    model = KMeans(n_clusters=5, random_state=42).fit(sample)\n",
    "    labels_test = model.labels_\n",
    "    print(metrics.silhouette_score(sample, labels_test, metric='euclidean'))"
   ]
  },
  {
   "cell_type": "code",
   "execution_count": 27,
   "metadata": {
    "slideshow": {
     "slide_type": "subslide"
    }
   },
   "outputs": [
    {
     "name": "stdout",
     "output_type": "stream",
     "text": [
      "0.5326741689680675\n",
      "0.5348579998593697\n",
      "0.5366722980007194\n",
      "0.5316382628890104\n"
     ]
    }
   ],
   "source": [
    "start_time = time.time()\n",
    "for sample in [X_pca1, X_pca2, X_pca3, X_pca4]:\n",
    "    model = KMeans(n_clusters=6, random_state=42).fit(sample)\n",
    "    labels_test = model.labels_\n",
    "    print(metrics.silhouette_score(sample, labels_test, metric='euclidean'))\n",
    "print(\"--- %s seconds ---\" % (time.time() - start_time))"
   ]
  },
  {
   "cell_type": "markdown",
   "metadata": {
    "slideshow": {
     "slide_type": "subslide"
    }
   },
   "source": [
    "- Silhouette coefficient analysis on this data seems relatively ambivalent to the number of clusters from 4-6. We will try six clusters for our model."
   ]
  },
  {
   "cell_type": "code",
   "execution_count": 69,
   "metadata": {
    "slideshow": {
     "slide_type": "skip"
    }
   },
   "outputs": [],
   "source": [
    "y_pred = KMeans(n_clusters=6).fit(X_train)\n",
    "labels = y_pred.labels_"
   ]
  },
  {
   "cell_type": "code",
   "execution_count": 70,
   "metadata": {
    "slideshow": {
     "slide_type": "slide"
    }
   },
   "outputs": [
    {
     "name": "stdout",
     "output_type": "stream",
     "text": [
      "Comparing k-means clusters against the data:\n",
      "col_0       0      1      2      3      4      5\n",
      "gender                                          \n",
      "0       45436  73139  74088  44939  42735  40832\n",
      "1       41010  75457  74229  42146  42990  45362\n"
     ]
    }
   ],
   "source": [
    "print('Comparing k-means clusters against the gender data:')\n",
    "print(pd.crosstab(y_train, labels))"
   ]
  },
  {
   "cell_type": "code",
   "execution_count": 72,
   "metadata": {
    "slideshow": {
     "slide_type": "subslide"
    }
   },
   "outputs": [
    {
     "data": {
      "image/png": "[encoded data removed]",
      "text/plain": [
       "<Figure size 1440x720 with 6 Axes>"
      ]
     },
     "metadata": {
      "needs_background": "light"
     },
     "output_type": "display_data"
    }
   ],
   "source": [
    "plt.figure(figsize=(20,10))\n",
    "\n",
    "n1 = np.arange(2)\n",
    "c0_genders = [45436,41010]\n",
    "c1_genders = [73139,75457]\n",
    "c2_genders = [74088,74229]\n",
    "c3_genders = [44939,42146]\n",
    "c4_genders = [42735,42990]\n",
    "c5_genders = [40832,45362]\n",
    "\n",
    "plt.subplot(2,3,1)\n",
    "plt.bar(n1, c0_genders, color=(\"blue\",\"red\"))\n",
    "plt.xticks(n1, ('M', 'F'))\n",
    "plt.title('Cluster0 Gender Distribution')\n",
    "\n",
    "plt.subplot(2,3,2)\n",
    "plt.bar(n1, c1_genders, color=(\"blue\",\"red\"))\n",
    "plt.xticks(n1, ('M', 'F'))\n",
    "plt.title('Cluster1 Gender Distribution')\n",
    "\n",
    "plt.subplot(2,3,3)\n",
    "plt.bar(n1, c2_genders, color=(\"blue\",\"red\"))\n",
    "plt.xticks(n1, ('M', 'F'))\n",
    "plt.title('Cluster2 Gender Distribution')\n",
    "\n",
    "plt.subplot(2,3,4)\n",
    "plt.bar(n1, c3_genders, color=(\"blue\",\"red\"))\n",
    "plt.xticks(n1, ('M', 'F'))\n",
    "plt.title('Cluster3 Gender Distribution')\n",
    "\n",
    "plt.subplot(2,3,5)\n",
    "plt.bar(n1, c4_genders, color=(\"blue\",\"red\"))\n",
    "plt.xticks(n1, ('M', 'F'))\n",
    "plt.title('Cluster4 Gender Distribution')\n",
    "\n",
    "plt.subplot(2,3,6)\n",
    "plt.bar(n1, c5_genders, color=(\"blue\",\"red\"))\n",
    "plt.xticks(n1, ('M', 'F'))\n",
    "plt.title('Cluster5 Gender Distribution')\n",
    "\n",
    "plt.show()"
   ]
  },
  {
   "cell_type": "markdown",
   "metadata": {
    "slideshow": {
     "slide_type": "subslide"
    }
   },
   "source": [
    "- Our clustering solution is not doing a good job of classifying our target variable, gender.  In fact, gender appears relatively equally distributed in each cluster.  The custers show an interesting uniformity in size as well: two of them contain ~ 150,000 entries, and the other 4 are each ~ 85,000 entries. Let's see how the clusters organized the 'group' variable."
   ]
  },
  {
   "cell_type": "code",
   "execution_count": 71,
   "metadata": {
    "slideshow": {
     "slide_type": "skip"
    }
   },
   "outputs": [
    {
     "name": "stdout",
     "output_type": "stream",
     "text": [
      "Comparing k-means clusters against the group data:\n",
      "col_0          0      1      2      3      4      5\n",
      "group_num                                          \n",
      "0           5266   7805   8713   4289   3950   5160\n",
      "1           5816   8866  11491   4498   4136   7466\n",
      "2           8286  15358  14243   8769   8956   9127\n",
      "3           6532  13680  12067   7671   8548   7270\n",
      "4           4830   8110   8324   4547   4720   4876\n",
      "5           4544   7449   7993   4494   3843   4184\n",
      "6          10280  21638  19391  12372  12680  11463\n",
      "7           7931  12153  12836   7267   6887   6927\n",
      "8           2849   5592   4753   3311   3132   2701\n",
      "9          11084  17963  17368  11396  12152  10963\n",
      "10         12598  18506  20496  11381  10786  10777\n",
      "11          6430  11476  10642   7090   5935   5280\n"
     ]
    }
   ],
   "source": [
    "print('Comparing k-means clusters against the group data:')\n",
    "print(pd.crosstab(y_2_train, labels))"
   ]
  },
  {
   "cell_type": "code",
   "execution_count": 92,
   "metadata": {
    "slideshow": {
     "slide_type": "subslide"
    }
   },
   "outputs": [
    {
     "data": {
      "image/png": "[encoded data removed]",
      "text/plain": [
       "<Figure size 1440x1440 with 4 Axes>"
      ]
     },
     "metadata": {
      "needs_background": "light"
     },
     "output_type": "display_data"
    }
   ],
   "source": [
    "plt.figure(figsize=(20,20))\n",
    "\n",
    "n1 = np.arange(12)\n",
    "c0_groups = [5266,5816,8286,6532,4830,4544,10280,7931,2849,11084,12598,6430]\n",
    "c1_groups = [7805,8866,15358,13680,8110,7449,21638,12153,5592,17963,18506,11476]\n",
    "c2_groups = [8713,11491,14243,12067,8324,7993,19391,12836,4753,17368,20496,10642]\n",
    "\n",
    "plt.subplot(4,1,1)\n",
    "plt.bar(n1, c0_groups, color=(\"blue\",\"red\"))\n",
    "plt.xticks(n1, ('F27-28', 'F24-26','F43+','F29-32','F23-','M27-28','F33-42','M29-31','M22-','M39+','M32-38','M23-26'))\n",
    "plt.title('Cluster0 Group Distribution')\n",
    "\n",
    "plt.subplot(4,1,2)\n",
    "plt.bar(n1, c1_groups, color=(\"blue\",\"red\"))\n",
    "plt.xticks(n1, ('F27-28', 'F24-26','F43+','F29-32','F23-','M27-28','F33-42','M29-31','M22-','M39+','M32-38','M23-26'))\n",
    "plt.title('Cluster1 Group Distribution')\n",
    "\n",
    "plt.subplot(4,1,3)\n",
    "plt.bar(n1, c2_groups, color=(\"blue\",\"red\"))\n",
    "plt.xticks(n1, ('F27-28', 'F24-26','F43+','F29-32','F23-','M27-28','F33-42','M29-31','M22-','M39+','M32-38','M23-26'))\n",
    "plt.title('Cluster2 Group Distribution')\n",
    "\n",
    "plt.subplot(4,1,4)\n",
    "plt.bar(n1, (len(df_smaller_downsampled.loc[df_smaller_downsampled['group'] == 'F27-28']),\n",
    "             len(df_smaller_downsampled.loc[df_smaller_downsampled['group'] == 'F24-26']),\n",
    "             len(df_smaller_downsampled.loc[df_smaller_downsampled['group'] == 'F43+']),\n",
    "             len(df_smaller_downsampled.loc[df_smaller_downsampled['group'] == 'F29-32']),\n",
    "             len(df_smaller_downsampled.loc[df_smaller_downsampled['group'] == 'F23-']),\n",
    "             len(df_smaller_downsampled.loc[df_smaller_downsampled['group'] == 'M27-28']),\n",
    "             len(df_smaller_downsampled.loc[df_smaller_downsampled['group'] == 'F33-42']),\n",
    "             len(df_smaller_downsampled.loc[df_smaller_downsampled['group'] == 'M29-31']),\n",
    "             len(df_smaller_downsampled.loc[df_smaller_downsampled['group'] == 'M22-']),\n",
    "             len(df_smaller_downsampled.loc[df_smaller_downsampled['group'] == 'M39+']),\n",
    "             len(df_smaller_downsampled.loc[df_smaller_downsampled['group'] == 'M32-38']),\n",
    "             len(df_smaller_downsampled.loc[df_smaller_downsampled['group'] == 'M23-26'])), color=(\"grey\",\"green\"))\n",
    "plt.xticks(n1, ('F27-28', 'F24-26','F43+','F29-32','F23-','M27-28','F33-42','M29-31','M22-','M39+','M32-38','M23-26'))\n",
    "plt.title('Overall Group Distribution')\n",
    "\n",
    "plt.show()"
   ]
  },
  {
   "cell_type": "markdown",
   "metadata": {
    "slideshow": {
     "slide_type": "subslide"
    }
   },
   "source": [
    "- Our clustering model is not finding meaningful discrimination patterns in the data with respect to the 'group' variable, either.  The distribution of the 'group' variable in each cluster closely matches the distribution of the 'group' variable in general, as shown in the histograms above."
   ]
  },
  {
   "cell_type": "markdown",
   "metadata": {
    "slideshow": {
     "slide_type": "slide"
    }
   },
   "source": [
    "## Model 7: CNN"
   ]
  },
  {
   "cell_type": "markdown",
   "metadata": {
    "slideshow": {
     "slide_type": "notes"
    }
   },
   "source": [
    "- We're still learning how to use neural networks, but we're so excited about them that we wanted to try one here.  Unfortunately, we weren't able to get it to train very well on this data."
   ]
  },
  {
   "cell_type": "code",
   "execution_count": 93,
   "metadata": {
    "slideshow": {
     "slide_type": "skip"
    }
   },
   "outputs": [],
   "source": [
    "import keras\n",
    "\n",
    "from keras.models import Sequential\n",
    "from keras.layers import Dense, Dropout, Flatten, Conv1D, MaxPooling1D\n",
    "from keras.layers import LSTM, Input, TimeDistributed\n",
    "from keras.models import Model\n",
    "from keras.optimizers import RMSprop\n",
    "\n",
    "from keras import backend as K"
   ]
  },
  {
   "cell_type": "code",
   "execution_count": 94,
   "metadata": {
    "slideshow": {
     "slide_type": "skip"
    }
   },
   "outputs": [],
   "source": [
    "X_cnn = df_smaller_downsampled[['device_id', 'app_id', 'is_active', 'label_id', 'event_id', \n",
    "                            'haversine_distance', 'time_hour']]\n",
    "X_norm_cnn = normalize(X_cnn)"
   ]
  },
  {
   "cell_type": "code",
   "execution_count": 103,
   "metadata": {
    "slideshow": {
     "slide_type": "skip"
    }
   },
   "outputs": [],
   "source": [
    "#Split the data into training and testing sets\n",
    "X_train_cnn, X_test_cnn, y_train_cnn, y_test_cnn = train_test_split(\n",
    "    X_norm_cnn,\n",
    "    y,\n",
    "    test_size=0.2,\n",
    "    random_state=42)"
   ]
  },
  {
   "cell_type": "code",
   "execution_count": 104,
   "metadata": {
    "slideshow": {
     "slide_type": "subslide"
    }
   },
   "outputs": [],
   "source": [
    "#Shaping the data for the network\n",
    "y_train_cnn2 = keras.utils.to_categorical(y_train_cnn)\n",
    "y_test_cnn2 = keras.utils.to_categorical(y_test_cnn)\n",
    "\n",
    "X_train_cnn2 = X_train_cnn.reshape(X_train_cnn.shape[0], 1, 7)\n",
    "X_test_cnn2 = X_test_cnn.reshape(X_test_cnn.shape[0], 1, 7)"
   ]
  },
  {
   "cell_type": "code",
   "execution_count": 97,
   "metadata": {
    "slideshow": {
     "slide_type": "subslide"
    }
   },
   "outputs": [
    {
     "name": "stdout",
     "output_type": "stream",
     "text": [
      "Model: \"sequential_1\"\n",
      "_________________________________________________________________\n",
      "Layer (type)                 Output Shape              Param #   \n",
      "=================================================================\n",
      "conv1d_1 (Conv1D)            (None, 1, 1)              8         \n",
      "_________________________________________________________________\n",
      "dropout_1 (Dropout)          (None, 1, 1)              0         \n",
      "_________________________________________________________________\n",
      "flatten_1 (Flatten)          (None, 1)                 0         \n",
      "_________________________________________________________________\n",
      "dense_1 (Dense)              (None, 128)               256       \n",
      "_________________________________________________________________\n",
      "dropout_2 (Dropout)          (None, 128)               0         \n",
      "_________________________________________________________________\n",
      "dense_2 (Dense)              (None, 2)                 258       \n",
      "=================================================================\n",
      "Total params: 522\n",
      "Trainable params: 522\n",
      "Non-trainable params: 0\n",
      "_________________________________________________________________\n"
     ]
    }
   ],
   "source": [
    "#Building the model\n",
    "model = Sequential()\n",
    "\n",
    "model.add(Conv1D(filters=1, kernel_size=1, \n",
    "                 input_shape=(1,7),kernel_initializer= 'uniform',      \n",
    "                  activation= 'relu'))\n",
    "#model.add(MaxPooling1D(pool_size=(1)))\n",
    "model.add(Dropout(0.25))\n",
    "model.add(Flatten())\n",
    "model.add(Dense(128, activation='relu'))\n",
    "model.add(Dropout(0.5))\n",
    "model.add(Dense(2, activation='softmax'))\n",
    "\n",
    "model.summary()\n",
    "\n",
    "model.compile(loss='categorical_crossentropy',\n",
    "              optimizer=keras.optimizers.Adadelta(),\n",
    "              metrics=['accuracy'])"
   ]
  },
  {
   "cell_type": "code",
   "execution_count": 98,
   "metadata": {
    "slideshow": {
     "slide_type": "subslide"
    }
   },
   "outputs": [
    {
     "name": "stdout",
     "output_type": "stream",
     "text": [
      "Train on 642363 samples, validate on 160591 samples\n",
      "Epoch 1/10\n",
      "642363/642363 [==============================] - 34s 54us/step - loss: 0.6932 - accuracy: 0.5001 - val_loss: 0.6932 - val_accuracy: 0.4989\n",
      "Epoch 2/10\n",
      "642363/642363 [==============================] - 34s 52us/step - loss: 0.6932 - accuracy: 0.5001 - val_loss: 0.6932 - val_accuracy: 0.4989\n",
      "Epoch 3/10\n",
      "642363/642363 [==============================] - 33s 51us/step - loss: 0.6932 - accuracy: 0.5002 - val_loss: 0.6931 - val_accuracy: 0.4989\n",
      "Epoch 4/10\n",
      "642363/642363 [==============================] - 32s 49us/step - loss: 0.6932 - accuracy: 0.5000 - val_loss: 0.6931 - val_accuracy: 0.4989\n",
      "Epoch 5/10\n",
      "642363/642363 [==============================] - 32s 49us/step - loss: 0.6932 - accuracy: 0.5001 - val_loss: 0.6933 - val_accuracy: 0.5011\n",
      "Epoch 6/10\n",
      "642363/642363 [==============================] - 31s 48us/step - loss: 0.6932 - accuracy: 0.5009 - val_loss: 0.6932 - val_accuracy: 0.5011\n",
      "Epoch 7/10\n",
      "642363/642363 [==============================] - 31s 49us/step - loss: 0.6932 - accuracy: 0.5006 - val_loss: 0.6931 - val_accuracy: 0.5011\n",
      "Epoch 8/10\n",
      "642363/642363 [==============================] - 31s 48us/step - loss: 0.6932 - accuracy: 0.5000 - val_loss: 0.6932 - val_accuracy: 0.4989\n",
      "Epoch 9/10\n",
      "642363/642363 [==============================] - 31s 48us/step - loss: 0.6932 - accuracy: 0.4999 - val_loss: 0.6932 - val_accuracy: 0.4989\n",
      "Epoch 10/10\n",
      "642363/642363 [==============================] - 32s 49us/step - loss: 0.6932 - accuracy: 0.4999 - val_loss: 0.6931 - val_accuracy: 0.5011\n",
      "Test loss: 0.6931449532083503\n",
      "Test accuracy: 0.501130223274231\n"
     ]
    }
   ],
   "source": [
    "#Fitting the model\n",
    "model.fit(X_train_cnn2, y_train_cnn2,\n",
    "          epochs=10,\n",
    "          verbose=1,\n",
    "          validation_data=(X_test_cnn2, y_test_cnn2))\n",
    "score = model.evaluate(X_test_cnn2, y_test_cnn2, verbose=0)\n",
    "print('Test loss:', score[0])\n",
    "print('Test accuracy:', score[1])"
   ]
  },
  {
   "cell_type": "code",
   "execution_count": 100,
   "metadata": {
    "slideshow": {
     "slide_type": "skip"
    }
   },
   "outputs": [],
   "source": [
    "y_preds_cnn = model.predict(X_test_cnn2)"
   ]
  },
  {
   "cell_type": "code",
   "execution_count": 115,
   "metadata": {
    "slideshow": {
     "slide_type": "skip"
    }
   },
   "outputs": [],
   "source": [
    "y_preds_cnn2 = keras.utils.to_categorical(y_preds_cnn)"
   ]
  },
  {
   "cell_type": "code",
   "execution_count": 139,
   "metadata": {
    "slideshow": {
     "slide_type": "subslide"
    }
   },
   "outputs": [
    {
     "name": "stdout",
     "output_type": "stream",
     "text": [
      "              precision    recall  f1-score   support\n",
      "\n",
      "           0       0.00      0.00      0.00     80477\n",
      "           1       0.50      1.00      0.67     80114\n",
      "\n",
      "    accuracy                           0.50    160591\n",
      "   macro avg       0.25      0.50      0.33    160591\n",
      "weighted avg       0.25      0.50      0.33    160591\n",
      "\n"
     ]
    }
   ],
   "source": [
    "#classification report\n",
    "print(classification_report(y_test_cnn, y_preds_cnn2[:,0], labels=None, target_names=None, \n",
    "                       sample_weight=None, digits=2, output_dict=False\n",
    "                      ))"
   ]
  },
  {
   "cell_type": "markdown",
   "metadata": {
    "slideshow": {
     "slide_type": "subslide"
    }
   },
   "source": [
    "- This relatively simple neural network is not doing a great job of classifying the target variable, as shown above by the classification report.  In fact, its performance is about the same as guessing, since the target variable classes are balanced 1:1, and the network's accuracy is ~ 0.51."
   ]
  },
  {
   "cell_type": "markdown",
   "metadata": {
    "slideshow": {
     "slide_type": "slide"
    }
   },
   "source": [
    "## Summary and Conclusions\n",
    "\n",
    "- We set out on this project wondering if it was possible to classify gender based on a large set of app usage data.  After data exploration, a series of join operations, downsampling, and some clever feature engneering, we were finally able to try some models.  \n",
    "- The best performing model by far was the Random Forest Classifier, followed by the KNN model.  None of the other models showed good enough classification performance to be considered.  We suspected from the beginning that the RFC model would be one of the best performers: they make no assumptions about data shape or type, and they are known for being excellent classifying solutions.  \n",
    "- As a product, this model could be included in a suite of models designed to construct a sort of digital avatar of a user, enabling marketing teams to customize their offerings to specific users.  \n",
    "- To maintain and improve the model, the best strategies would be to feed the model more data, and to move it to a more powerful computing envionment.  We would also like to try it as a classifier for other user characteristics to improve its value as a product."
   ]
  },
  {
   "cell_type": "markdown",
   "metadata": {
    "slideshow": {
     "slide_type": "skip"
    }
   },
   "source": [
    "## Appendix"
   ]
  },
  {
   "cell_type": "code",
   "execution_count": 34,
   "metadata": {
    "slideshow": {
     "slide_type": "skip"
    }
   },
   "outputs": [],
   "source": [
    "#Here is our haversine distance function\n",
    "from math import radians, cos, sin, asin, sqrt\n",
    "\n",
    "def haversine_to_origin(lat, lng, degrees=True):\n",
    "    # radius of earth in km\n",
    "    r = 6371 \n",
    "\n",
    "    # Convert degrees to radians\n",
    "    if degrees:\n",
    "        lat, lng = map(radians, [lat, lng])\n",
    "\n",
    "    # Haversine formula expressed as distance to lat-long origin (0,0)\n",
    "    a = sin(lat/2)**2 + cos(lat) * sin(lng/2)**2\n",
    "    d = 2 * r * asin(sqrt(a)) \n",
    "\n",
    "    return d"
   ]
  }
 ],
 "metadata": {
  "celltoolbar": "Slideshow",
  "kernelspec": {
   "display_name": "Python 3",
   "language": "python",
   "name": "python3"
  },
  "language_info": {
   "codemirror_mode": {
    "name": "ipython",
    "version": 3
   },
   "file_extension": ".py",
   "mimetype": "text/x-python",
   "name": "python",
   "nbconvert_exporter": "python",
   "pygments_lexer": "ipython3",
   "version": "3.7.3"
  }
 },
 "nbformat": 4,
 "nbformat_minor": 2
}
