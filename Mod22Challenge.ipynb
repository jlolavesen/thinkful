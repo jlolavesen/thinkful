{
 "cells": [
  {
   "cell_type": "code",
   "execution_count": 373,
   "metadata": {},
   "outputs": [],
   "source": [
    "import matplotlib.pyplot as plt\n",
    "import numpy as np\n",
    "import pandas as pd\n",
    "import seaborn as sns\n",
    "from scipy.stats import ttest_ind\n",
    "from sqlalchemy import create_engine\n",
    "from scipy.stats.mstats import winsorize\n",
    "from scipy.stats import boxcox\n",
    "from scipy.stats import jarque_bera\n",
    "from scipy.stats import normaltest\n",
    "from sklearn.decomposition import PCA\n",
    "from sklearn.preprocessing import StandardScaler\n",
    "from sklearn.naive_bayes import BernoulliNB\n",
    "from sklearn.model_selection import cross_val_score\n",
    "from sklearn import linear_model\n",
    "from sklearn.model_selection import train_test_split\n",
    "from sklearn.model_selection import GridSearchCV\n",
    "from sklearn.metrics import mean_absolute_error\n",
    "from sklearn.metrics import make_scorer\n",
    "from sklearn.metrics import classification_report, confusion_matrix\n",
    "from sklearn.linear_model import LinearRegression, LassoCV, RidgeCV, ElasticNetCV\n",
    "from statsmodels.tools.eval_measures import mse, rmse\n",
    "from wordcloud import WordCloud\n",
    "import statsmodels.api as sm\n",
    "from sklearn.pipeline import make_pipeline\n",
    "from sklearn.pipeline import Pipeline\n",
    "from sklearn.feature_selection import SelectKBest\n",
    "\n",
    "from sklearn import tree\n",
    "\n",
    "\n",
    "from IPython.display import Image\n",
    "\n",
    "\n",
    "import pydotplus\n",
    "from sklearn import ensemble\n",
    "\n",
    "import warnings\n",
    "\n",
    "%matplotlib inline\n",
    "sns.set()\n",
    "\n",
    "warnings.filterwarnings('ignore')"
   ]
  },
  {
   "cell_type": "code",
   "execution_count": 61,
   "metadata": {},
   "outputs": [],
   "source": [
    "#assign data frames\n",
    "employees_df = pd.read_csv('Data/IMB_HR.csv')"
   ]
  },
  {
   "cell_type": "code",
   "execution_count": 62,
   "metadata": {},
   "outputs": [
    {
     "name": "stdout",
     "output_type": "stream",
     "text": [
      "<class 'pandas.core.frame.DataFrame'>\n",
      "RangeIndex: 1470 entries, 0 to 1469\n",
      "Data columns (total 35 columns):\n",
      "Age                         1470 non-null int64\n",
      "Attrition                   1470 non-null object\n",
      "BusinessTravel              1470 non-null object\n",
      "DailyRate                   1470 non-null int64\n",
      "Department                  1470 non-null object\n",
      "DistanceFromHome            1470 non-null int64\n",
      "Education                   1470 non-null int64\n",
      "EducationField              1470 non-null object\n",
      "EmployeeCount               1470 non-null int64\n",
      "EmployeeNumber              1470 non-null int64\n",
      "EnvironmentSatisfaction     1470 non-null int64\n",
      "Gender                      1470 non-null object\n",
      "HourlyRate                  1470 non-null int64\n",
      "JobInvolvement              1470 non-null int64\n",
      "JobLevel                    1470 non-null int64\n",
      "JobRole                     1470 non-null object\n",
      "JobSatisfaction             1470 non-null int64\n",
      "MaritalStatus               1470 non-null object\n",
      "MonthlyIncome               1470 non-null int64\n",
      "MonthlyRate                 1470 non-null int64\n",
      "NumCompaniesWorked          1470 non-null int64\n",
      "Over18                      1470 non-null object\n",
      "OverTime                    1470 non-null object\n",
      "PercentSalaryHike           1470 non-null int64\n",
      "PerformanceRating           1470 non-null int64\n",
      "RelationshipSatisfaction    1470 non-null int64\n",
      "StandardHours               1470 non-null int64\n",
      "StockOptionLevel            1470 non-null int64\n",
      "TotalWorkingYears           1470 non-null int64\n",
      "TrainingTimesLastYear       1470 non-null int64\n",
      "WorkLifeBalance             1470 non-null int64\n",
      "YearsAtCompany              1470 non-null int64\n",
      "YearsInCurrentRole          1470 non-null int64\n",
      "YearsSinceLastPromotion     1470 non-null int64\n",
      "YearsWithCurrManager        1470 non-null int64\n",
      "dtypes: int64(26), object(9)\n",
      "memory usage: 402.0+ KB\n",
      "   Age Attrition     BusinessTravel  DailyRate              Department  \\\n",
      "0   41       Yes      Travel_Rarely       1102                   Sales   \n",
      "1   49        No  Travel_Frequently        279  Research & Development   \n",
      "2   37       Yes      Travel_Rarely       1373  Research & Development   \n",
      "3   33        No  Travel_Frequently       1392  Research & Development   \n",
      "4   27        No      Travel_Rarely        591  Research & Development   \n",
      "\n",
      "   DistanceFromHome  Education EducationField  EmployeeCount  EmployeeNumber  \\\n",
      "0                 1          2  Life Sciences              1               1   \n",
      "1                 8          1  Life Sciences              1               2   \n",
      "2                 2          2          Other              1               4   \n",
      "3                 3          4  Life Sciences              1               5   \n",
      "4                 2          1        Medical              1               7   \n",
      "\n",
      "   ...  RelationshipSatisfaction StandardHours  StockOptionLevel  \\\n",
      "0  ...                         1            80                 0   \n",
      "1  ...                         4            80                 1   \n",
      "2  ...                         2            80                 0   \n",
      "3  ...                         3            80                 0   \n",
      "4  ...                         4            80                 1   \n",
      "\n",
      "   TotalWorkingYears  TrainingTimesLastYear WorkLifeBalance  YearsAtCompany  \\\n",
      "0                  8                      0               1               6   \n",
      "1                 10                      3               3              10   \n",
      "2                  7                      3               3               0   \n",
      "3                  8                      3               3               8   \n",
      "4                  6                      3               3               2   \n",
      "\n",
      "  YearsInCurrentRole  YearsSinceLastPromotion  YearsWithCurrManager  \n",
      "0                  4                        0                     5  \n",
      "1                  7                        1                     7  \n",
      "2                  0                        0                     0  \n",
      "3                  7                        3                     0  \n",
      "4                  2                        2                     2  \n",
      "\n",
      "[5 rows x 35 columns] None                Age    DailyRate  DistanceFromHome    Education  EmployeeCount  \\\n",
      "count  1470.000000  1470.000000       1470.000000  1470.000000         1470.0   \n",
      "mean     36.923810   802.485714          9.192517     2.912925            1.0   \n",
      "std       9.135373   403.509100          8.106864     1.024165            0.0   \n",
      "min      18.000000   102.000000          1.000000     1.000000            1.0   \n",
      "25%      30.000000   465.000000          2.000000     2.000000            1.0   \n",
      "50%      36.000000   802.000000          7.000000     3.000000            1.0   \n",
      "75%      43.000000  1157.000000         14.000000     4.000000            1.0   \n",
      "max      60.000000  1499.000000         29.000000     5.000000            1.0   \n",
      "\n",
      "       EmployeeNumber  EnvironmentSatisfaction   HourlyRate  JobInvolvement  \\\n",
      "count     1470.000000              1470.000000  1470.000000     1470.000000   \n",
      "mean      1024.865306                 2.721769    65.891156        2.729932   \n",
      "std        602.024335                 1.093082    20.329428        0.711561   \n",
      "min          1.000000                 1.000000    30.000000        1.000000   \n",
      "25%        491.250000                 2.000000    48.000000        2.000000   \n",
      "50%       1020.500000                 3.000000    66.000000        3.000000   \n",
      "75%       1555.750000                 4.000000    83.750000        3.000000   \n",
      "max       2068.000000                 4.000000   100.000000        4.000000   \n",
      "\n",
      "          JobLevel  ...  RelationshipSatisfaction  StandardHours  \\\n",
      "count  1470.000000  ...               1470.000000         1470.0   \n",
      "mean      2.063946  ...                  2.712245           80.0   \n",
      "std       1.106940  ...                  1.081209            0.0   \n",
      "min       1.000000  ...                  1.000000           80.0   \n",
      "25%       1.000000  ...                  2.000000           80.0   \n",
      "50%       2.000000  ...                  3.000000           80.0   \n",
      "75%       3.000000  ...                  4.000000           80.0   \n",
      "max       5.000000  ...                  4.000000           80.0   \n",
      "\n",
      "       StockOptionLevel  TotalWorkingYears  TrainingTimesLastYear  \\\n",
      "count       1470.000000        1470.000000            1470.000000   \n",
      "mean           0.793878          11.279592               2.799320   \n",
      "std            0.852077           7.780782               1.289271   \n",
      "min            0.000000           0.000000               0.000000   \n",
      "25%            0.000000           6.000000               2.000000   \n",
      "50%            1.000000          10.000000               3.000000   \n",
      "75%            1.000000          15.000000               3.000000   \n",
      "max            3.000000          40.000000               6.000000   \n",
      "\n",
      "       WorkLifeBalance  YearsAtCompany  YearsInCurrentRole  \\\n",
      "count      1470.000000     1470.000000         1470.000000   \n",
      "mean          2.761224        7.008163            4.229252   \n",
      "std           0.706476        6.126525            3.623137   \n",
      "min           1.000000        0.000000            0.000000   \n",
      "25%           2.000000        3.000000            2.000000   \n",
      "50%           3.000000        5.000000            3.000000   \n",
      "75%           3.000000        9.000000            7.000000   \n",
      "max           4.000000       40.000000           18.000000   \n",
      "\n",
      "       YearsSinceLastPromotion  YearsWithCurrManager  \n",
      "count              1470.000000           1470.000000  \n",
      "mean                  2.187755              4.123129  \n",
      "std                   3.222430              3.568136  \n",
      "min                   0.000000              0.000000  \n",
      "25%                   0.000000              2.000000  \n",
      "50%                   1.000000              3.000000  \n",
      "75%                   3.000000              7.000000  \n",
      "max                  15.000000             17.000000  \n",
      "\n",
      "[8 rows x 26 columns]\n"
     ]
    }
   ],
   "source": [
    "#examine the data frame\n",
    "\n",
    "print(\n",
    "    employees_df.head(),\n",
    "    employees_df.info(),\n",
    "    employees_df.describe()\n",
    ")"
   ]
  },
  {
   "cell_type": "code",
   "execution_count": 63,
   "metadata": {},
   "outputs": [
    {
     "data": {
      "text/plain": [
       "YearsWithCurrManager    0.0\n",
       "EmployeeCount           0.0\n",
       "JobLevel                0.0\n",
       "JobInvolvement          0.0\n",
       "HourlyRate              0.0\n",
       "dtype: float64"
      ]
     },
     "execution_count": 63,
     "metadata": {},
     "output_type": "execute_result"
    }
   ],
   "source": [
    "#Check for missing values\n",
    "\n",
    "missing_values_ratios = (employees_df.isnull().sum()/employees_df.isnull().count())\n",
    "missing_values_ratios.sort_values(ascending=False).head()"
   ]
  },
  {
   "cell_type": "code",
   "execution_count": 64,
   "metadata": {},
   "outputs": [],
   "source": [
    "#Make a numeric version of the target to check for correlation\n",
    "Attrition_numeric = []\n",
    "\n",
    "for idx, val in enumerate(employees_df['Attrition']):\n",
    "    if val == 'Yes':\n",
    "        Attrition_numeric.append(1)\n",
    "    else:\n",
    "        Attrition_numeric.append(0)\n",
    "        \n",
    "employees_df['Attrition_numeric'] = Attrition_numeric"
   ]
  },
  {
   "cell_type": "code",
   "execution_count": 65,
   "metadata": {},
   "outputs": [
    {
     "data": {
      "text/plain": [
       "Attrition_numeric           1.000000\n",
       "TotalWorkingYears           0.171063\n",
       "JobLevel                    0.169105\n",
       "YearsInCurrentRole          0.160545\n",
       "MonthlyIncome               0.159840\n",
       "YearsWithCurrManager        0.156199\n",
       "StockOptionLevel            0.137145\n",
       "YearsAtCompany              0.134392\n",
       "JobInvolvement              0.130016\n",
       "JobSatisfaction             0.103481\n",
       "EnvironmentSatisfaction     0.103369\n",
       "DistanceFromHome            0.077924\n",
       "WorkLifeBalance             0.063939\n",
       "TrainingTimesLastYear       0.059478\n",
       "DailyRate                   0.056652\n",
       "RelationshipSatisfaction    0.045872\n",
       "NumCompaniesWorked          0.043494\n",
       "YearsSinceLastPromotion     0.033019\n",
       "Education                   0.031373\n",
       "MonthlyRate                 0.015170\n",
       "Name: Attrition_numeric, dtype: float64"
      ]
     },
     "execution_count": 65,
     "metadata": {},
     "output_type": "execute_result"
    }
   ],
   "source": [
    "#check the correlation of the numerical variables with the target\n",
    "np.abs(employees_df[employees_df.select_dtypes(['int64', 'float64']).columns].iloc[:,1:].corr().loc[:,\"Attrition_numeric\"]).sort_values(ascending=False).head(20)\n",
    "\n"
   ]
  },
  {
   "cell_type": "code",
   "execution_count": 66,
   "metadata": {},
   "outputs": [
    {
     "data": {
      "text/html": [
       "<div>\n",
       "<style scoped>\n",
       "    .dataframe tbody tr th:only-of-type {\n",
       "        vertical-align: middle;\n",
       "    }\n",
       "\n",
       "    .dataframe tbody tr th {\n",
       "        vertical-align: top;\n",
       "    }\n",
       "\n",
       "    .dataframe thead th {\n",
       "        text-align: right;\n",
       "    }\n",
       "</style>\n",
       "<table border=\"1\" class=\"dataframe\">\n",
       "  <thead>\n",
       "    <tr style=\"text-align: right;\">\n",
       "      <th></th>\n",
       "      <th>Attrition_numeric</th>\n",
       "      <th>TotalWorkingYears</th>\n",
       "      <th>JobLevel</th>\n",
       "      <th>YearsInCurrentRole</th>\n",
       "      <th>MonthlyIncome</th>\n",
       "      <th>YearsWithCurrManager</th>\n",
       "      <th>StockOptionLevel</th>\n",
       "      <th>YearsAtCompany</th>\n",
       "      <th>JobInvolvement</th>\n",
       "      <th>JobSatisfaction</th>\n",
       "      <th>EnvironmentSatisfaction</th>\n",
       "    </tr>\n",
       "  </thead>\n",
       "  <tbody>\n",
       "    <tr>\n",
       "      <th>Attrition_numeric</th>\n",
       "      <td>1.000000</td>\n",
       "      <td>0.171063</td>\n",
       "      <td>0.169105</td>\n",
       "      <td>0.160545</td>\n",
       "      <td>0.159840</td>\n",
       "      <td>0.156199</td>\n",
       "      <td>0.137145</td>\n",
       "      <td>0.134392</td>\n",
       "      <td>0.130016</td>\n",
       "      <td>0.103481</td>\n",
       "      <td>0.103369</td>\n",
       "    </tr>\n",
       "    <tr>\n",
       "      <th>TotalWorkingYears</th>\n",
       "      <td>0.171063</td>\n",
       "      <td>1.000000</td>\n",
       "      <td>0.782208</td>\n",
       "      <td>0.460365</td>\n",
       "      <td>0.772893</td>\n",
       "      <td>0.459188</td>\n",
       "      <td>0.010136</td>\n",
       "      <td>0.628133</td>\n",
       "      <td>0.005533</td>\n",
       "      <td>0.020185</td>\n",
       "      <td>0.002693</td>\n",
       "    </tr>\n",
       "    <tr>\n",
       "      <th>JobLevel</th>\n",
       "      <td>0.169105</td>\n",
       "      <td>0.782208</td>\n",
       "      <td>1.000000</td>\n",
       "      <td>0.389447</td>\n",
       "      <td>0.950300</td>\n",
       "      <td>0.375281</td>\n",
       "      <td>0.013984</td>\n",
       "      <td>0.534739</td>\n",
       "      <td>0.012630</td>\n",
       "      <td>0.001944</td>\n",
       "      <td>0.001212</td>\n",
       "    </tr>\n",
       "    <tr>\n",
       "      <th>YearsInCurrentRole</th>\n",
       "      <td>0.160545</td>\n",
       "      <td>0.460365</td>\n",
       "      <td>0.389447</td>\n",
       "      <td>1.000000</td>\n",
       "      <td>0.363818</td>\n",
       "      <td>0.714365</td>\n",
       "      <td>0.050818</td>\n",
       "      <td>0.758754</td>\n",
       "      <td>0.008717</td>\n",
       "      <td>0.002305</td>\n",
       "      <td>0.018007</td>\n",
       "    </tr>\n",
       "    <tr>\n",
       "      <th>MonthlyIncome</th>\n",
       "      <td>0.159840</td>\n",
       "      <td>0.772893</td>\n",
       "      <td>0.950300</td>\n",
       "      <td>0.363818</td>\n",
       "      <td>1.000000</td>\n",
       "      <td>0.344079</td>\n",
       "      <td>0.005408</td>\n",
       "      <td>0.514285</td>\n",
       "      <td>0.015271</td>\n",
       "      <td>0.007157</td>\n",
       "      <td>0.006259</td>\n",
       "    </tr>\n",
       "    <tr>\n",
       "      <th>YearsWithCurrManager</th>\n",
       "      <td>0.156199</td>\n",
       "      <td>0.459188</td>\n",
       "      <td>0.375281</td>\n",
       "      <td>0.714365</td>\n",
       "      <td>0.344079</td>\n",
       "      <td>1.000000</td>\n",
       "      <td>0.024698</td>\n",
       "      <td>0.769212</td>\n",
       "      <td>0.025976</td>\n",
       "      <td>0.027656</td>\n",
       "      <td>0.004999</td>\n",
       "    </tr>\n",
       "    <tr>\n",
       "      <th>StockOptionLevel</th>\n",
       "      <td>0.137145</td>\n",
       "      <td>0.010136</td>\n",
       "      <td>0.013984</td>\n",
       "      <td>0.050818</td>\n",
       "      <td>0.005408</td>\n",
       "      <td>0.024698</td>\n",
       "      <td>1.000000</td>\n",
       "      <td>0.015058</td>\n",
       "      <td>0.021523</td>\n",
       "      <td>0.010690</td>\n",
       "      <td>0.003432</td>\n",
       "    </tr>\n",
       "    <tr>\n",
       "      <th>YearsAtCompany</th>\n",
       "      <td>0.134392</td>\n",
       "      <td>0.628133</td>\n",
       "      <td>0.534739</td>\n",
       "      <td>0.758754</td>\n",
       "      <td>0.514285</td>\n",
       "      <td>0.769212</td>\n",
       "      <td>0.015058</td>\n",
       "      <td>1.000000</td>\n",
       "      <td>0.021355</td>\n",
       "      <td>0.003803</td>\n",
       "      <td>0.001458</td>\n",
       "    </tr>\n",
       "    <tr>\n",
       "      <th>JobInvolvement</th>\n",
       "      <td>0.130016</td>\n",
       "      <td>0.005533</td>\n",
       "      <td>0.012630</td>\n",
       "      <td>0.008717</td>\n",
       "      <td>0.015271</td>\n",
       "      <td>0.025976</td>\n",
       "      <td>0.021523</td>\n",
       "      <td>0.021355</td>\n",
       "      <td>1.000000</td>\n",
       "      <td>0.021476</td>\n",
       "      <td>0.008278</td>\n",
       "    </tr>\n",
       "    <tr>\n",
       "      <th>JobSatisfaction</th>\n",
       "      <td>0.103481</td>\n",
       "      <td>0.020185</td>\n",
       "      <td>0.001944</td>\n",
       "      <td>0.002305</td>\n",
       "      <td>0.007157</td>\n",
       "      <td>0.027656</td>\n",
       "      <td>0.010690</td>\n",
       "      <td>0.003803</td>\n",
       "      <td>0.021476</td>\n",
       "      <td>1.000000</td>\n",
       "      <td>0.006784</td>\n",
       "    </tr>\n",
       "    <tr>\n",
       "      <th>EnvironmentSatisfaction</th>\n",
       "      <td>0.103369</td>\n",
       "      <td>0.002693</td>\n",
       "      <td>0.001212</td>\n",
       "      <td>0.018007</td>\n",
       "      <td>0.006259</td>\n",
       "      <td>0.004999</td>\n",
       "      <td>0.003432</td>\n",
       "      <td>0.001458</td>\n",
       "      <td>0.008278</td>\n",
       "      <td>0.006784</td>\n",
       "      <td>1.000000</td>\n",
       "    </tr>\n",
       "  </tbody>\n",
       "</table>\n",
       "</div>"
      ],
      "text/plain": [
       "                         Attrition_numeric  TotalWorkingYears  JobLevel  \\\n",
       "Attrition_numeric                 1.000000           0.171063  0.169105   \n",
       "TotalWorkingYears                 0.171063           1.000000  0.782208   \n",
       "JobLevel                          0.169105           0.782208  1.000000   \n",
       "YearsInCurrentRole                0.160545           0.460365  0.389447   \n",
       "MonthlyIncome                     0.159840           0.772893  0.950300   \n",
       "YearsWithCurrManager              0.156199           0.459188  0.375281   \n",
       "StockOptionLevel                  0.137145           0.010136  0.013984   \n",
       "YearsAtCompany                    0.134392           0.628133  0.534739   \n",
       "JobInvolvement                    0.130016           0.005533  0.012630   \n",
       "JobSatisfaction                   0.103481           0.020185  0.001944   \n",
       "EnvironmentSatisfaction           0.103369           0.002693  0.001212   \n",
       "\n",
       "                         YearsInCurrentRole  MonthlyIncome  \\\n",
       "Attrition_numeric                  0.160545       0.159840   \n",
       "TotalWorkingYears                  0.460365       0.772893   \n",
       "JobLevel                           0.389447       0.950300   \n",
       "YearsInCurrentRole                 1.000000       0.363818   \n",
       "MonthlyIncome                      0.363818       1.000000   \n",
       "YearsWithCurrManager               0.714365       0.344079   \n",
       "StockOptionLevel                   0.050818       0.005408   \n",
       "YearsAtCompany                     0.758754       0.514285   \n",
       "JobInvolvement                     0.008717       0.015271   \n",
       "JobSatisfaction                    0.002305       0.007157   \n",
       "EnvironmentSatisfaction            0.018007       0.006259   \n",
       "\n",
       "                         YearsWithCurrManager  StockOptionLevel  \\\n",
       "Attrition_numeric                    0.156199          0.137145   \n",
       "TotalWorkingYears                    0.459188          0.010136   \n",
       "JobLevel                             0.375281          0.013984   \n",
       "YearsInCurrentRole                   0.714365          0.050818   \n",
       "MonthlyIncome                        0.344079          0.005408   \n",
       "YearsWithCurrManager                 1.000000          0.024698   \n",
       "StockOptionLevel                     0.024698          1.000000   \n",
       "YearsAtCompany                       0.769212          0.015058   \n",
       "JobInvolvement                       0.025976          0.021523   \n",
       "JobSatisfaction                      0.027656          0.010690   \n",
       "EnvironmentSatisfaction              0.004999          0.003432   \n",
       "\n",
       "                         YearsAtCompany  JobInvolvement  JobSatisfaction  \\\n",
       "Attrition_numeric              0.134392        0.130016         0.103481   \n",
       "TotalWorkingYears              0.628133        0.005533         0.020185   \n",
       "JobLevel                       0.534739        0.012630         0.001944   \n",
       "YearsInCurrentRole             0.758754        0.008717         0.002305   \n",
       "MonthlyIncome                  0.514285        0.015271         0.007157   \n",
       "YearsWithCurrManager           0.769212        0.025976         0.027656   \n",
       "StockOptionLevel               0.015058        0.021523         0.010690   \n",
       "YearsAtCompany                 1.000000        0.021355         0.003803   \n",
       "JobInvolvement                 0.021355        1.000000         0.021476   \n",
       "JobSatisfaction                0.003803        0.021476         1.000000   \n",
       "EnvironmentSatisfaction        0.001458        0.008278         0.006784   \n",
       "\n",
       "                         EnvironmentSatisfaction  \n",
       "Attrition_numeric                       0.103369  \n",
       "TotalWorkingYears                       0.002693  \n",
       "JobLevel                                0.001212  \n",
       "YearsInCurrentRole                      0.018007  \n",
       "MonthlyIncome                           0.006259  \n",
       "YearsWithCurrManager                    0.004999  \n",
       "StockOptionLevel                        0.003432  \n",
       "YearsAtCompany                          0.001458  \n",
       "JobInvolvement                          0.008278  \n",
       "JobSatisfaction                         0.006784  \n",
       "EnvironmentSatisfaction                 1.000000  "
      ]
     },
     "execution_count": 66,
     "metadata": {},
     "output_type": "execute_result"
    }
   ],
   "source": [
    "#Check the mutual correlation of the potential features \n",
    "np.abs(employees_df[['Attrition_numeric', 'TotalWorkingYears', 'JobLevel', 'YearsInCurrentRole', 'MonthlyIncome',\n",
    "            'YearsWithCurrManager', 'StockOptionLevel', 'YearsAtCompany', 'JobInvolvement', 'JobSatisfaction',\n",
    "            'EnvironmentSatisfaction']].corr())"
   ]
  },
  {
   "cell_type": "markdown",
   "metadata": {},
   "source": [
    "## PCA"
   ]
  },
  {
   "cell_type": "code",
   "execution_count": 256,
   "metadata": {},
   "outputs": [],
   "source": [
    "# Normalize the data so that all variables have a mean of 0 and standard deviation\n",
    "# of 1.\n",
    "X = StandardScaler().fit_transform(employees_df.select_dtypes(['int64', 'float64']))\n",
    "Y = employees_df.Attrition"
   ]
  },
  {
   "cell_type": "markdown",
   "metadata": {},
   "source": [
    "Setting up the parameter grid for tuning PCA."
   ]
  },
  {
   "cell_type": "code",
   "execution_count": 268,
   "metadata": {},
   "outputs": [],
   "source": [
    "n_comps = np.arange(1, 28)"
   ]
  },
  {
   "cell_type": "code",
   "execution_count": 269,
   "metadata": {},
   "outputs": [],
   "source": [
    "param_grid_pca = [{'pca__n_components':n_comps}]"
   ]
  },
  {
   "cell_type": "code",
   "execution_count": 270,
   "metadata": {},
   "outputs": [],
   "source": [
    "pipe_tree_pca = make_pipeline(PCA())"
   ]
  },
  {
   "cell_type": "markdown",
   "metadata": {},
   "source": [
    "Tuning PCA with GridSearchCV.  We are using GridSearchCV's default scorer."
   ]
  },
  {
   "cell_type": "code",
   "execution_count": 378,
   "metadata": {},
   "outputs": [],
   "source": [
    "gs_pca = GridSearchCV(pipe_tree_pca, param_grid=param_grid_pca, cv=10)\n",
    "\n",
    "#gs_pca.get_params().keys()"
   ]
  },
  {
   "cell_type": "code",
   "execution_count": 379,
   "metadata": {},
   "outputs": [
    {
     "name": "stdout",
     "output_type": "stream",
     "text": [
      "{'pca__n_components': 27}\n"
     ]
    }
   ],
   "source": [
    "gs_pca.fit(X,Y)\n",
    "print(gs_pca.best_params_)"
   ]
  },
  {
   "cell_type": "markdown",
   "metadata": {},
   "source": [
    "Processing PCA with the GridSearchCV results."
   ]
  },
  {
   "cell_type": "code",
   "execution_count": 380,
   "metadata": {},
   "outputs": [
    {
     "name": "stdout",
     "output_type": "stream",
     "text": [
      "The percentage of total variance in the dataset explained by each component from Sklearn PCA.\n",
      " [1.88042137e-01 7.34520080e-02 7.02270863e-02 5.14844780e-02\n",
      " 4.83408293e-02 4.52917697e-02 4.30758500e-02 4.20705631e-02\n",
      " 4.09523849e-02 4.01786845e-02 3.89980308e-02 3.81817909e-02\n",
      " 3.69360101e-02 3.62244852e-02 3.56063511e-02 3.47964591e-02\n",
      " 3.12089921e-02 2.74407054e-02 2.11831775e-02 2.03729096e-02\n",
      " 1.11922618e-02 9.02699533e-03 8.12643880e-03 5.65405718e-03\n",
      " 1.93554403e-03 3.70847727e-32 9.68079635e-34]\n"
     ]
    }
   ],
   "source": [
    "sklearn_pca = PCA(n_components=27)\n",
    "X_sklearn = sklearn_pca.fit_transform(X)\n",
    "\n",
    "print(\n",
    "    'The percentage of total variance in the dataset explained by each',\n",
    "    'component from Sklearn PCA.\\n',\n",
    "    sklearn_pca.explained_variance_ratio_\n",
    ")"
   ]
  },
  {
   "cell_type": "markdown",
   "metadata": {},
   "source": [
    "## Decision Tree Model"
   ]
  },
  {
   "cell_type": "markdown",
   "metadata": {},
   "source": [
    "Splitting the data into training and testing sets."
   ]
  },
  {
   "cell_type": "code",
   "execution_count": 352,
   "metadata": {},
   "outputs": [],
   "source": [
    "X_train, X_test, Y_train, Y_test = train_test_split(\n",
    "    X_sklearn, Y, test_size = 0.20, random_state = 1\n",
    ")"
   ]
  },
  {
   "cell_type": "markdown",
   "metadata": {},
   "source": [
    "Setting up the parameters for tuning the decision tree model."
   ]
  },
  {
   "cell_type": "code",
   "execution_count": 353,
   "metadata": {},
   "outputs": [],
   "source": [
    "depths = np.arange(1, 21)\n",
    "features = [1, 2, 3]"
   ]
  },
  {
   "cell_type": "code",
   "execution_count": 354,
   "metadata": {},
   "outputs": [],
   "source": [
    "param_grid_dt = [{'decisiontreeclassifier__max_depth':depths,\n",
    "               'decisiontreeclassifier__max_features':features}]"
   ]
  },
  {
   "cell_type": "code",
   "execution_count": 355,
   "metadata": {},
   "outputs": [],
   "source": [
    "pipe_tree_dt = make_pipeline(tree.DecisionTreeClassifier(criterion='entropy'))"
   ]
  },
  {
   "cell_type": "markdown",
   "metadata": {},
   "source": [
    "Tuning the decision tree model with GridSearchCV using the default scorer."
   ]
  },
  {
   "cell_type": "code",
   "execution_count": 356,
   "metadata": {},
   "outputs": [],
   "source": [
    "gs_dt = GridSearchCV(pipe_tree_dt, param_grid=param_grid_dt, cv=10)\n",
    "\n",
    "#gs.get_params().keys()"
   ]
  },
  {
   "cell_type": "code",
   "execution_count": 357,
   "metadata": {},
   "outputs": [
    {
     "name": "stdout",
     "output_type": "stream",
     "text": [
      "{'decisiontreeclassifier__max_depth': 16, 'decisiontreeclassifier__max_features': 3}\n"
     ]
    }
   ],
   "source": [
    "gs_dt.fit(X_train,Y_train)\n",
    "print(gs_dt.best_params_)"
   ]
  },
  {
   "cell_type": "markdown",
   "metadata": {},
   "source": [
    "Building the decision tree model using the best GridSearchCV parameters."
   ]
  },
  {
   "cell_type": "code",
   "execution_count": 360,
   "metadata": {},
   "outputs": [
    {
     "data": {
      "text/plain": [
       "DecisionTreeClassifier(class_weight=None, criterion='entropy', max_depth=16,\n",
       "            max_features=3, max_leaf_nodes=None, min_impurity_decrease=0.0,\n",
       "            min_impurity_split=None, min_samples_leaf=1,\n",
       "            min_samples_split=2, min_weight_fraction_leaf=0.0,\n",
       "            presort=False, random_state=None, splitter='best')"
      ]
     },
     "execution_count": 360,
     "metadata": {},
     "output_type": "execute_result"
    }
   ],
   "source": [
    "#Initialize and train our Decision Tree.\n",
    "decision_tree = tree.DecisionTreeClassifier(\n",
    "    criterion='entropy',\n",
    "    max_features=3,\n",
    "    max_depth=16\n",
    ")\n",
    "\n",
    "decision_tree.fit(X_train, Y_train)"
   ]
  },
  {
   "cell_type": "code",
   "execution_count": 361,
   "metadata": {},
   "outputs": [],
   "source": [
    "#Setting the predictions for analysis\n",
    "Y_pred = decision_tree.fit(X_train, Y_train).predict(X_test)"
   ]
  },
  {
   "cell_type": "markdown",
   "metadata": {},
   "source": [
    "Scores for the training set:"
   ]
  },
  {
   "cell_type": "code",
   "execution_count": 364,
   "metadata": {},
   "outputs": [
    {
     "name": "stdout",
     "output_type": "stream",
     "text": [
      "[0.94915254 0.89830508 0.86440678 0.94067797 0.96610169 0.99152542\n",
      " 0.94915254 0.88034188 0.93162393 0.93103448]\n",
      "The 10-fold cross validation average for the training set is  0.9158543012283514\n"
     ]
    }
   ],
   "source": [
    "print(cross_val_score(decision_tree, X_train, Y_train, cv=10))\n",
    "print('The 10-fold cross validation average for the training set is ', \n",
    "      cross_val_score(decision_tree, X_train, Y_train, cv=10).mean())"
   ]
  },
  {
   "cell_type": "markdown",
   "metadata": {},
   "source": [
    "Scores for the testing set:"
   ]
  },
  {
   "cell_type": "code",
   "execution_count": 365,
   "metadata": {},
   "outputs": [
    {
     "name": "stdout",
     "output_type": "stream",
     "text": [
      "[0.76666667 0.9        0.8        0.86666667 0.73333333 0.8\n",
      " 0.86206897 0.96551724 0.78571429 0.78571429]\n",
      "The 10-fold cross validation average for the testing set  is  0.9045648604269292\n"
     ]
    }
   ],
   "source": [
    "print(cross_val_score(decision_tree, X_test, Y_test, cv=10))\n",
    "print('The 10-fold cross validation average for the testing set  is ', \n",
    "      cross_val_score(decision_tree, X_test, Y_test, cv=10).mean())"
   ]
  },
  {
   "cell_type": "markdown",
   "metadata": {},
   "source": [
    "The classification report shows that our decision tree model is better at predicting if an individual is staying at the company than if an individual is leaving the company, but it still much better than a dummy model."
   ]
  },
  {
   "cell_type": "code",
   "execution_count": 366,
   "metadata": {},
   "outputs": [
    {
     "name": "stdout",
     "output_type": "stream",
     "text": [
      "              precision    recall  f1-score   support\n",
      "\n",
      "          No       0.96      0.99      0.98       236\n",
      "         Yes       0.96      0.84      0.90        58\n",
      "\n",
      "   micro avg       0.96      0.96      0.96       294\n",
      "   macro avg       0.96      0.92      0.94       294\n",
      "weighted avg       0.96      0.96      0.96       294\n",
      "\n"
     ]
    }
   ],
   "source": [
    "print(classification_report(Y_test, Y_pred, labels=None, target_names=None, \n",
    "                      sample_weight=None, digits=2, output_dict=False\n",
    "                     ))"
   ]
  },
  {
   "cell_type": "code",
   "execution_count": 367,
   "metadata": {},
   "outputs": [
    {
     "data": {
      "text/plain": [
       "array([[234,   2],\n",
       "       [  9,  49]])"
      ]
     },
     "execution_count": 367,
     "metadata": {},
     "output_type": "execute_result"
    }
   ],
   "source": [
    "confusion_matrix(Y_test, Y_pred, labels=None, sample_weight=None)"
   ]
  },
  {
   "cell_type": "markdown",
   "metadata": {},
   "source": [
    "## Random Forest Classifier Model"
   ]
  },
  {
   "cell_type": "code",
   "execution_count": 368,
   "metadata": {},
   "outputs": [],
   "source": [
    "# Initialize and train our Random Forest Classifier.\n",
    "rfc = ensemble.RandomForestClassifier()\n",
    "rfc.fit(X_train,Y_train)\n",
    "\n",
    "Y_preds_rfc=rfc.predict(X_test)"
   ]
  },
  {
   "cell_type": "markdown",
   "metadata": {},
   "source": [
    "The classification report and cross val scores show that the random forest model is stronger by several points than the decision tree model."
   ]
  },
  {
   "cell_type": "code",
   "execution_count": 369,
   "metadata": {},
   "outputs": [
    {
     "name": "stdout",
     "output_type": "stream",
     "text": [
      "              precision    recall  f1-score   support\n",
      "\n",
      "          No       0.98      1.00      0.99       236\n",
      "         Yes       1.00      0.91      0.95        58\n",
      "\n",
      "   micro avg       0.98      0.98      0.98       294\n",
      "   macro avg       0.99      0.96      0.97       294\n",
      "weighted avg       0.98      0.98      0.98       294\n",
      "\n"
     ]
    }
   ],
   "source": [
    "print(classification_report(Y_test, Y_preds_rfc, labels=None, target_names=None, \n",
    "                      sample_weight=None, digits=2, output_dict=False\n",
    "                     ))"
   ]
  },
  {
   "cell_type": "code",
   "execution_count": 370,
   "metadata": {},
   "outputs": [
    {
     "name": "stdout",
     "output_type": "stream",
     "text": [
      "[0.97457627 0.98305085 0.97457627 0.97457627 0.98305085 0.98305085\n",
      " 0.96610169 0.98290598 0.98290598 1.        ]\n",
      "The 10-fold cross validation average for the training set is  0.9889467098263124\n"
     ]
    }
   ],
   "source": [
    "print(cross_val_score(rfc, X_train, Y_train, cv=10))\n",
    "print('The 10-fold cross validation average for the training set is ', \n",
    "      cross_val_score(rfc, X_train, Y_train, cv=10).mean())"
   ]
  },
  {
   "cell_type": "code",
   "execution_count": 371,
   "metadata": {},
   "outputs": [
    {
     "name": "stdout",
     "output_type": "stream",
     "text": [
      "[1.         0.86666667 0.96666667 1.         0.96666667 1.\n",
      " 1.         1.         0.96428571 0.89285714]\n",
      "The 10-fold cross validation average for the testing set  is  0.9552463054187191\n"
     ]
    }
   ],
   "source": [
    "print(cross_val_score(rfc, X_test, Y_test, cv=10))\n",
    "print('The 10-fold cross validation average for the testing set  is ', \n",
    "      cross_val_score(rfc, X_test, Y_test, cv=10).mean())"
   ]
  },
  {
   "cell_type": "code",
   "execution_count": 372,
   "metadata": {},
   "outputs": [
    {
     "data": {
      "text/plain": [
       "array([[236,   0],\n",
       "       [  5,  53]])"
      ]
     },
     "execution_count": 372,
     "metadata": {},
     "output_type": "execute_result"
    }
   ],
   "source": [
    "confusion_matrix(Y_test, Y_preds_rfc, labels=None, sample_weight=None)"
   ]
  },
  {
   "cell_type": "markdown",
   "metadata": {},
   "source": [
    "## Conclusion"
   ]
  },
  {
   "cell_type": "markdown",
   "metadata": {},
   "source": [
    "The random forest classifier model performed best by several points, with only 5 out of 294 predictions incorrect. In comparision, the decision tree model had 11 incorrect predictions out of the 294 points."
   ]
  },
  {
   "cell_type": "code",
   "execution_count": null,
   "metadata": {},
   "outputs": [],
   "source": []
  }
 ],
 "metadata": {
  "kernelspec": {
   "display_name": "Python 3",
   "language": "python",
   "name": "python3"
  },
  "language_info": {
   "codemirror_mode": {
    "name": "ipython",
    "version": 3
   },
   "file_extension": ".py",
   "mimetype": "text/x-python",
   "name": "python",
   "nbconvert_exporter": "python",
   "pygments_lexer": "ipython3",
   "version": "3.7.3"
  }
 },
 "nbformat": 4,
 "nbformat_minor": 2
}
