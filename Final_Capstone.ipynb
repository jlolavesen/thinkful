{
 "cells": [
  {
   "cell_type": "code",
   "execution_count": 1,
   "metadata": {},
   "outputs": [
    {
     "name": "stderr",
     "output_type": "stream",
     "text": [
      "Using TensorFlow backend.\n"
     ]
    }
   ],
   "source": [
    "import numpy as np\n",
    "import pandas as pd\n",
    "import seaborn as sns\n",
    "from sklearn.decomposition import PCA\n",
    "from sklearn.model_selection import GridSearchCV\n",
    "from sklearn.preprocessing import normalize\n",
    "\n",
    "import sklearn.model_selection as ms\n",
    "import matplotlib.pyplot as plt\n",
    "import math\n",
    "from imblearn.over_sampling import RandomOverSampler\n",
    "from scipy.stats import ttest_ind\n",
    "from sqlalchemy import create_engine\n",
    "from scipy.stats.mstats import winsorize\n",
    "from scipy.stats import boxcox\n",
    "from scipy.stats import jarque_bera\n",
    "from scipy.stats import normaltest\n",
    "\n",
    "from sklearn.preprocessing import StandardScaler\n",
    "from sklearn.naive_bayes import BernoulliNB\n",
    "from sklearn.model_selection import cross_val_score\n",
    "from sklearn.model_selection import cross_validate\n",
    "from sklearn import linear_model\n",
    "from sklearn.model_selection import train_test_split\n",
    "\n",
    "from sklearn.metrics import mean_absolute_error\n",
    "from sklearn.metrics import make_scorer\n",
    "from sklearn.datasets import load_files\n",
    "from sklearn.cluster import KMeans\n",
    "from sklearn.metrics import classification_report, confusion_matrix\n",
    "from sklearn.linear_model import LinearRegression, LassoCV, RidgeCV, ElasticNetCV\n",
    "from statsmodels.tools.eval_measures import mse, rmse\n",
    "from wordcloud import WordCloud\n",
    "import statsmodels.api as sm\n",
    "from sklearn.pipeline import make_pipeline\n",
    "from sklearn.pipeline import Pipeline\n",
    "from sklearn.feature_selection import SelectKBest, f_regression\n",
    "from sklearn.svm import SVC\n",
    "from sklearn import tree\n",
    "from sklearn import ensemble\n",
    "from sklearn import datasets\n",
    "from sklearn.utils import shuffle\n",
    "from sklearn import neighbors\n",
    "from IPython.display import Image\n",
    "from sklearn.utils import resample\n",
    "from sklearn import metrics\n",
    "\n",
    "import pydotplus\n",
    "from sklearn import ensemble\n",
    "\n",
    "import warnings\n",
    "\n",
    "%matplotlib inline\n",
    "sns.set()\n",
    "\n",
    "warnings.filterwarnings('ignore')\n",
    "import time\n",
    "import cv2\n",
    "import glob"
   ]
  },
  {
   "cell_type": "code",
   "execution_count": 12,
   "metadata": {},
   "outputs": [],
   "source": [
    "#importing the data\n",
    "\n",
    "df_app_events = (pd.read_csv('Data/talkingdata/app_events.csv'))\n",
    "\n",
    "df_app_labels = (pd.read_csv('Data/talkingdata/app_labels.csv'))\n",
    "\n",
    "df_events = (pd.read_csv('Data/talkingdata/events.csv'))\n",
    "\n",
    "df_gender_age_train = (pd.read_csv('Data/talkingdata/gender_age_train.csv'))\n",
    "\n",
    "df_label_categories = (pd.read_csv('Data/talkingdata/label_categories.csv'))\n",
    "\n",
    "df_phone_brand_device_model = (pd.read_csv('Data/talkingdata/phone_brand_device_model.csv'))"
   ]
  },
  {
   "cell_type": "markdown",
   "metadata": {},
   "source": [
    "## Introduction"
   ]
  },
  {
   "cell_type": "markdown",
   "metadata": {},
   "source": [
    "Is it possible to predict a user's demographic data based on their app downloads, app usage behavior, and geolocation?  Such an ability would allow developers and brand advertisers to customize their efforts and offerings to the preferences and needs of each user.  In this project, we predict the gender of a user based on exactly those variables.  The dataset was made available by TalkingData, China’s largest third-party mobile data platform, and can be found here: https://www.kaggle.com/c/talkingdata-mobile-user-demographics/overview.   "
   ]
  },
  {
   "cell_type": "markdown",
   "metadata": {},
   "source": [
    "## Data Exploration"
   ]
  },
  {
   "cell_type": "markdown",
   "metadata": {},
   "source": [
    "This data set comes organized in a conceptual heirarchy of dataframes, with the target variable at the top, as well as a unique id number ('device_id') representing a specific cell phone which is leveraged by TalkingData.  The bottom of the heirarchy includes variables like app category (e.g. gaming, navigation, etc) and phone brand.  The cells below are arranged in this concept order, and the variables listed under each one illustrate the steps required to associate a variable at the top of the heirarchy with a variable at the bottom.  For example, a 'device_id' selected from the first dataframe (df_gender_age_train) is associated with one or more 'event_id' values in the next dataframe (df_events).  In the subsequent dataframe (df_app_events), 'event_id' values are associated with one or more 'app_id' values, and finally the next dataframe (df_app_labels) associates 'app_id' values with one or more 'label_id' values.  To deal with this complexity and prepare our feature set, we will combine the variables we want into one (very) large dataframe through a series of join operations.\n",
    "\n",
    "All of the id values in the data are nominal integers."
   ]
  },
  {
   "cell_type": "code",
   "execution_count": 16,
   "metadata": {},
   "outputs": [
    {
     "name": "stdout",
     "output_type": "stream",
     "text": [
      "<class 'pandas.core.frame.DataFrame'>\n",
      "RangeIndex: 74645 entries, 0 to 74644\n",
      "Data columns (total 4 columns):\n",
      "device_id    74645 non-null int64\n",
      "gender       74645 non-null object\n",
      "age          74645 non-null int64\n",
      "group        74645 non-null object\n",
      "dtypes: int64(2), object(2)\n",
      "memory usage: 2.3+ MB\n"
     ]
    }
   ],
   "source": [
    "df_gender_age_train.info()"
   ]
  },
  {
   "cell_type": "code",
   "execution_count": 15,
   "metadata": {},
   "outputs": [
    {
     "name": "stdout",
     "output_type": "stream",
     "text": [
      "<class 'pandas.core.frame.DataFrame'>\n",
      "RangeIndex: 3252950 entries, 0 to 3252949\n",
      "Data columns (total 5 columns):\n",
      "event_id     int64\n",
      "device_id    int64\n",
      "timestamp    object\n",
      "longitude    float64\n",
      "latitude     float64\n",
      "dtypes: float64(2), int64(2), object(1)\n",
      "memory usage: 124.1+ MB\n"
     ]
    }
   ],
   "source": [
    "df_events.info()"
   ]
  },
  {
   "cell_type": "code",
   "execution_count": 13,
   "metadata": {},
   "outputs": [
    {
     "name": "stdout",
     "output_type": "stream",
     "text": [
      "<class 'pandas.core.frame.DataFrame'>\n",
      "RangeIndex: 32473067 entries, 0 to 32473066\n",
      "Data columns (total 4 columns):\n",
      "event_id        int64\n",
      "app_id          int64\n",
      "is_installed    int64\n",
      "is_active       int64\n",
      "dtypes: int64(4)\n",
      "memory usage: 991.0 MB\n"
     ]
    }
   ],
   "source": [
    "df_app_events.info()"
   ]
  },
  {
   "cell_type": "code",
   "execution_count": 14,
   "metadata": {},
   "outputs": [
    {
     "name": "stdout",
     "output_type": "stream",
     "text": [
      "<class 'pandas.core.frame.DataFrame'>\n",
      "RangeIndex: 459943 entries, 0 to 459942\n",
      "Data columns (total 2 columns):\n",
      "app_id      459943 non-null int64\n",
      "label_id    459943 non-null int64\n",
      "dtypes: int64(2)\n",
      "memory usage: 7.0 MB\n"
     ]
    }
   ],
   "source": [
    "df_app_labels.info()"
   ]
  },
  {
   "cell_type": "code",
   "execution_count": 17,
   "metadata": {},
   "outputs": [
    {
     "name": "stdout",
     "output_type": "stream",
     "text": [
      "<class 'pandas.core.frame.DataFrame'>\n",
      "RangeIndex: 930 entries, 0 to 929\n",
      "Data columns (total 2 columns):\n",
      "label_id    930 non-null int64\n",
      "category    927 non-null object\n",
      "dtypes: int64(1), object(1)\n",
      "memory usage: 14.6+ KB\n"
     ]
    }
   ],
   "source": [
    "df_label_categories.info()"
   ]
  },
  {
   "cell_type": "code",
   "execution_count": 18,
   "metadata": {},
   "outputs": [
    {
     "name": "stdout",
     "output_type": "stream",
     "text": [
      "<class 'pandas.core.frame.DataFrame'>\n",
      "RangeIndex: 187245 entries, 0 to 187244\n",
      "Data columns (total 3 columns):\n",
      "device_id       187245 non-null int64\n",
      "phone_brand     187245 non-null object\n",
      "device_model    187245 non-null object\n",
      "dtypes: int64(1), object(2)\n",
      "memory usage: 4.3+ MB\n"
     ]
    }
   ],
   "source": [
    "df_phone_brand_device_model.info()"
   ]
  },
  {
   "cell_type": "markdown",
   "metadata": {},
   "source": [
    "## Feature Engineering"
   ]
  },
  {
   "cell_type": "markdown",
   "metadata": {},
   "source": [
    "- The \"df_phone_brand_device_model\" data frame includes the variables 'phone_brand' and 'device_model' which both contain Chinese characters as shown below.  Here we use a string encoder called 'unicode-escape' to convert them into python friendly strings."
   ]
  },
  {
   "cell_type": "code",
   "execution_count": 32,
   "metadata": {},
   "outputs": [],
   "source": [
    "#create new variable to store the converted strings\n",
    "df_phone_brand_device_model['encoded_model'] = None\n",
    "df_phone_brand_device_model['encoded_brand'] = None"
   ]
  },
  {
   "cell_type": "code",
   "execution_count": 33,
   "metadata": {},
   "outputs": [],
   "source": [
    "#convert the strings\n",
    "df_phone_brand_device_model['encoded_model'] = df_phone_brand_device_model['device_model'].apply(lambda x: x.encode('unicode-escape'))\n",
    "df_phone_brand_device_model['encoded_brand'] = df_phone_brand_device_model['phone_brand'].apply(lambda x: x.encode('unicode-escape'))"
   ]
  },
  {
   "cell_type": "code",
   "execution_count": 56,
   "metadata": {},
   "outputs": [
    {
     "data": {
      "text/html": [
       "<div>\n",
       "<style scoped>\n",
       "    .dataframe tbody tr th:only-of-type {\n",
       "        vertical-align: middle;\n",
       "    }\n",
       "\n",
       "    .dataframe tbody tr th {\n",
       "        vertical-align: top;\n",
       "    }\n",
       "\n",
       "    .dataframe thead th {\n",
       "        text-align: right;\n",
       "    }\n",
       "</style>\n",
       "<table border=\"1\" class=\"dataframe\">\n",
       "  <thead>\n",
       "    <tr style=\"text-align: right;\">\n",
       "      <th></th>\n",
       "      <th>device_id</th>\n",
       "      <th>phone_brand</th>\n",
       "      <th>device_model</th>\n",
       "      <th>encoded_model</th>\n",
       "      <th>encoded_brand</th>\n",
       "    </tr>\n",
       "  </thead>\n",
       "  <tbody>\n",
       "    <tr>\n",
       "      <th>0</th>\n",
       "      <td>-8890648629457979026</td>\n",
       "      <td>小米</td>\n",
       "      <td>红米</td>\n",
       "      <td>b'\\\\u7ea2\\\\u7c73'</td>\n",
       "      <td>b'\\\\u5c0f\\\\u7c73'</td>\n",
       "    </tr>\n",
       "    <tr>\n",
       "      <th>1</th>\n",
       "      <td>1277779817574759137</td>\n",
       "      <td>小米</td>\n",
       "      <td>MI 2</td>\n",
       "      <td>b'MI 2'</td>\n",
       "      <td>b'\\\\u5c0f\\\\u7c73'</td>\n",
       "    </tr>\n",
       "    <tr>\n",
       "      <th>2</th>\n",
       "      <td>5137427614288105724</td>\n",
       "      <td>三星</td>\n",
       "      <td>Galaxy S4</td>\n",
       "      <td>b'Galaxy S4'</td>\n",
       "      <td>b'\\\\u4e09\\\\u661f'</td>\n",
       "    </tr>\n",
       "    <tr>\n",
       "      <th>3</th>\n",
       "      <td>3669464369358936369</td>\n",
       "      <td>SUGAR</td>\n",
       "      <td>时尚手机</td>\n",
       "      <td>b'\\\\u65f6\\\\u5c1a\\\\u624b\\\\u673a'</td>\n",
       "      <td>b'SUGAR'</td>\n",
       "    </tr>\n",
       "    <tr>\n",
       "      <th>4</th>\n",
       "      <td>-5019277647504317457</td>\n",
       "      <td>三星</td>\n",
       "      <td>Galaxy Note 2</td>\n",
       "      <td>b'Galaxy Note 2'</td>\n",
       "      <td>b'\\\\u4e09\\\\u661f'</td>\n",
       "    </tr>\n",
       "  </tbody>\n",
       "</table>\n",
       "</div>"
      ],
      "text/plain": [
       "             device_id phone_brand   device_model  \\\n",
       "0 -8890648629457979026          小米             红米   \n",
       "1  1277779817574759137          小米           MI 2   \n",
       "2  5137427614288105724          三星      Galaxy S4   \n",
       "3  3669464369358936369       SUGAR           时尚手机   \n",
       "4 -5019277647504317457          三星  Galaxy Note 2   \n",
       "\n",
       "                     encoded_model      encoded_brand  \n",
       "0                b'\\\\u7ea2\\\\u7c73'  b'\\\\u5c0f\\\\u7c73'  \n",
       "1                          b'MI 2'  b'\\\\u5c0f\\\\u7c73'  \n",
       "2                     b'Galaxy S4'  b'\\\\u4e09\\\\u661f'  \n",
       "3  b'\\\\u65f6\\\\u5c1a\\\\u624b\\\\u673a'           b'SUGAR'  \n",
       "4                 b'Galaxy Note 2'  b'\\\\u4e09\\\\u661f'  "
      ]
     },
     "execution_count": 56,
     "metadata": {},
     "output_type": "execute_result"
    }
   ],
   "source": [
    "df_phone_brand_device_model.head(5)"
   ]
  },
  {
   "cell_type": "markdown",
   "metadata": {},
   "source": [
    "- The converted strings can be used as dummy variables."
   ]
  },
  {
   "cell_type": "markdown",
   "metadata": {},
   "source": [
    "- The \"df_events\" dataframe contains latitudinal and longitudinal data as two separate variables.  To combine them into one useful feature, we will implement the Haversine formula (essentially the distance formula for spherical surfaces) and store the result in a new variable."
   ]
  },
  {
   "cell_type": "code",
   "execution_count": 41,
   "metadata": {},
   "outputs": [],
   "source": [
    "#combine lat and long into haversine distance\n",
    "df_events['haversine_distance'] = [haversine_to_origin(x, y) for x, y in zip(df_events.latitude, df_events.longitude)]"
   ]
  },
  {
   "cell_type": "code",
   "execution_count": 42,
   "metadata": {},
   "outputs": [
    {
     "data": {
      "text/html": [
       "<div>\n",
       "<style scoped>\n",
       "    .dataframe tbody tr th:only-of-type {\n",
       "        vertical-align: middle;\n",
       "    }\n",
       "\n",
       "    .dataframe tbody tr th {\n",
       "        vertical-align: top;\n",
       "    }\n",
       "\n",
       "    .dataframe thead th {\n",
       "        text-align: right;\n",
       "    }\n",
       "</style>\n",
       "<table border=\"1\" class=\"dataframe\">\n",
       "  <thead>\n",
       "    <tr style=\"text-align: right;\">\n",
       "      <th></th>\n",
       "      <th>event_id</th>\n",
       "      <th>device_id</th>\n",
       "      <th>timestamp</th>\n",
       "      <th>longitude</th>\n",
       "      <th>latitude</th>\n",
       "      <th>haversine_distance</th>\n",
       "    </tr>\n",
       "  </thead>\n",
       "  <tbody>\n",
       "    <tr>\n",
       "      <th>0</th>\n",
       "      <td>1</td>\n",
       "      <td>29182687948017175</td>\n",
       "      <td>2016-05-01 00:55:25</td>\n",
       "      <td>121.38</td>\n",
       "      <td>31.24</td>\n",
       "      <td>12947.176657</td>\n",
       "    </tr>\n",
       "    <tr>\n",
       "      <th>1</th>\n",
       "      <td>2</td>\n",
       "      <td>-6401643145415154744</td>\n",
       "      <td>2016-05-01 00:54:12</td>\n",
       "      <td>103.65</td>\n",
       "      <td>30.97</td>\n",
       "      <td>11305.657658</td>\n",
       "    </tr>\n",
       "  </tbody>\n",
       "</table>\n",
       "</div>"
      ],
      "text/plain": [
       "   event_id            device_id            timestamp  longitude  latitude  \\\n",
       "0         1    29182687948017175  2016-05-01 00:55:25     121.38     31.24   \n",
       "1         2 -6401643145415154744  2016-05-01 00:54:12     103.65     30.97   \n",
       "\n",
       "   haversine_distance  \n",
       "0        12947.176657  \n",
       "1        11305.657658  "
      ]
     },
     "execution_count": 42,
     "metadata": {},
     "output_type": "execute_result"
    }
   ],
   "source": [
    "df_events.head(2)"
   ]
  },
  {
   "cell_type": "markdown",
   "metadata": {},
   "source": [
    "- Notice that the \"df_events\" dataframe also contains a timestamp variable.  Time of day seems intuitively more relevant than calendar date with respect to app usage, so here we create a convenient feature that simply bins each timestamp into its respective hour."
   ]
  },
  {
   "cell_type": "code",
   "execution_count": 46,
   "metadata": {},
   "outputs": [],
   "source": [
    "df_events['time_hour'] = pd.to_datetime(df_events['timestamp']).dt.hour"
   ]
  },
  {
   "cell_type": "code",
   "execution_count": 53,
   "metadata": {},
   "outputs": [
    {
     "data": {
      "text/plain": [
       "10    183839\n",
       "21    181175\n",
       "20    178179\n",
       "22    168246\n",
       "11    167025\n",
       "19    166160\n",
       "9     166061\n",
       "12    162745\n",
       "8     157896\n",
       "18    156209\n",
       "13    155337\n",
       "17    153516\n",
       "14    151379\n",
       "16    150732\n",
       "15    149912\n",
       "7     146667\n",
       "23    136339\n",
       "0     120512\n",
       "6     116370\n",
       "1      72671\n",
       "5      66411\n",
       "2      53764\n",
       "3      47048\n",
       "4      44757\n",
       "Name: time_hour, dtype: int64"
      ]
     },
     "execution_count": 53,
     "metadata": {},
     "output_type": "execute_result"
    }
   ],
   "source": [
    "df_events['time_hour'].value_counts()"
   ]
  },
  {
   "cell_type": "markdown",
   "metadata": {},
   "source": [
    "- Here we convert our target variable to binary. "
   ]
  },
  {
   "cell_type": "code",
   "execution_count": 62,
   "metadata": {},
   "outputs": [],
   "source": [
    "# Convert gender into a binary output\n",
    "df_gender_age_train['gender'] = df_gender_age_train['gender'].apply(lambda x: 1 if x == 'F' else 0 )"
   ]
  },
  {
   "cell_type": "code",
   "execution_count": 63,
   "metadata": {},
   "outputs": [
    {
     "data": {
      "text/plain": [
       "0    47904\n",
       "1    26741\n",
       "Name: gender, dtype: int64"
      ]
     },
     "execution_count": 63,
     "metadata": {},
     "output_type": "execute_result"
    }
   ],
   "source": [
    "df_gender_age_train['gender'].value_counts()"
   ]
  },
  {
   "cell_type": "markdown",
   "metadata": {},
   "source": [
    "## Merging"
   ]
  },
  {
   "cell_type": "markdown",
   "metadata": {},
   "source": [
    "- Here we join the dataframes together into one large dataframe in several steps."
   ]
  },
  {
   "cell_type": "code",
   "execution_count": 73,
   "metadata": {},
   "outputs": [],
   "source": [
    "df_gender_age_train = df_gender_age_train.drop(['age', 'group'], axis=1)"
   ]
  },
  {
   "cell_type": "code",
   "execution_count": 66,
   "metadata": {},
   "outputs": [
    {
     "name": "stdout",
     "output_type": "stream",
     "text": [
      "--- 197.82360100746155 seconds ---\n"
     ]
    }
   ],
   "source": [
    "start_time = time.time()\n",
    "\n",
    "apps_labeled = pd.merge(df_app_labels,\n",
    "                       df_app_events[['app_id', 'is_active']],\n",
    "                       on='app_id').dropna().drop_duplicates()\n",
    "\n",
    "print(\"--- %s seconds ---\" % (time.time() - start_time))"
   ]
  },
  {
   "cell_type": "code",
   "execution_count": 67,
   "metadata": {},
   "outputs": [
    {
     "name": "stdout",
     "output_type": "stream",
     "text": [
      "--- 47.303226947784424 seconds ---\n"
     ]
    }
   ],
   "source": [
    "start_time = time.time()\n",
    "\n",
    "device_apps = pd.merge(df_events,\n",
    "                       df_app_events[['app_id', 'is_active', 'event_id']],\n",
    "                       on='event_id').dropna().drop_duplicates()\n",
    "\n",
    "print(\"--- %s seconds ---\" % (time.time() - start_time))"
   ]
  },
  {
   "cell_type": "code",
   "execution_count": 68,
   "metadata": {},
   "outputs": [],
   "source": [
    "del(df_app_events, df_app_labels, df_events)"
   ]
  },
  {
   "cell_type": "code",
   "execution_count": 75,
   "metadata": {},
   "outputs": [
    {
     "name": "stdout",
     "output_type": "stream",
     "text": [
      "--- 16.81745481491089 seconds ---\n"
     ]
    }
   ],
   "source": [
    "start_time = time.time()\n",
    "\n",
    "ga_apps = pd.merge(df_gender_age_train,\n",
    "                  device_apps[['app_id', 'is_active', 'device_id', 'event_id', 'haversine_distance', 'time_hour']],\n",
    "                  on='device_id').dropna().drop_duplicates()\n",
    "\n",
    "print(\"--- %s seconds ---\" % (time.time() - start_time))"
   ]
  },
  {
   "cell_type": "code",
   "execution_count": 76,
   "metadata": {},
   "outputs": [],
   "source": [
    "del(df_gender_age_train, device_apps)"
   ]
  },
  {
   "cell_type": "code",
   "execution_count": 77,
   "metadata": {},
   "outputs": [
    {
     "name": "stdout",
     "output_type": "stream",
     "text": [
      "--- 13.221431970596313 seconds ---\n"
     ]
    }
   ],
   "source": [
    "start_time = time.time()\n",
    "\n",
    "ga_apps_brands = pd.merge(ga_apps,\n",
    "                         df_phone_brand_device_model[['device_id', 'encoded_brand']],\n",
    "                         on='device_id').dropna().drop_duplicates()\n",
    "\n",
    "\n",
    "print(\"--- %s seconds ---\" % (time.time() - start_time))"
   ]
  },
  {
   "cell_type": "code",
   "execution_count": 78,
   "metadata": {},
   "outputs": [],
   "source": [
    "del(ga_apps, df_phone_brand_device_model)"
   ]
  },
  {
   "cell_type": "code",
   "execution_count": 79,
   "metadata": {},
   "outputs": [
    {
     "name": "stdout",
     "output_type": "stream",
     "text": [
      "--- 365.36184787750244 seconds ---\n"
     ]
    }
   ],
   "source": [
    "start_time = time.time()\n",
    "\n",
    "ga_apps_labeled_brands = pd.merge(ga_apps_brands,\n",
    "                                 apps_labeled[['app_id', 'label_id']],\n",
    "                                 on='app_id').dropna().drop_duplicates()\n",
    "\n",
    "\n",
    "\n",
    "print(\"--- %s seconds ---\" % (time.time() - start_time))"
   ]
  },
  {
   "cell_type": "code",
   "execution_count": 80,
   "metadata": {},
   "outputs": [],
   "source": [
    "del(ga_apps_brands, apps_labeled)"
   ]
  },
  {
   "cell_type": "code",
   "execution_count": 81,
   "metadata": {},
   "outputs": [
    {
     "name": "stdout",
     "output_type": "stream",
     "text": [
      "<class 'pandas.core.frame.DataFrame'>\n",
      "Int64Index: 78360118 entries, 0 to 154039970\n",
      "Data columns (total 9 columns):\n",
      "device_id             int64\n",
      "gender                int64\n",
      "app_id                int64\n",
      "is_active             int64\n",
      "event_id              int64\n",
      "haversine_distance    float64\n",
      "time_hour             int64\n",
      "encoded_brand         object\n",
      "label_id              int64\n",
      "dtypes: float64(1), int64(7), object(1)\n",
      "memory usage: 5.8+ GB\n"
     ]
    }
   ],
   "source": [
    "ga_apps_labeled_brands.info()"
   ]
  },
  {
   "cell_type": "markdown",
   "metadata": {},
   "source": [
    "- This final dataframe is big- too big to work with on our machine.  It also has a class imbalance of roughly 3:1 (M:F) in the target variable.  Here we do some downsampling to get the data into a manageable size and balance our target classes."
   ]
  },
  {
   "cell_type": "code",
   "execution_count": 94,
   "metadata": {},
   "outputs": [],
   "source": [
    "df_smaller = ga_apps_labeled_brands.sample(frac=0.02, random_state=1)"
   ]
  },
  {
   "cell_type": "code",
   "execution_count": 95,
   "metadata": {},
   "outputs": [
    {
     "data": {
      "text/plain": [
       "0    1165725\n",
       "1     401477\n",
       "Name: gender, dtype: int64"
      ]
     },
     "execution_count": 95,
     "metadata": {},
     "output_type": "execute_result"
    }
   ],
   "source": [
    "df_smaller.gender.value_counts()"
   ]
  },
  {
   "cell_type": "code",
   "execution_count": 96,
   "metadata": {},
   "outputs": [],
   "source": [
    "# separate minority and majority classes\n",
    "df_guys = df_smaller[df_smaller.gender==0]\n",
    "df_gals = df_smaller[df_smaller.gender==1]"
   ]
  },
  {
   "cell_type": "code",
   "execution_count": 99,
   "metadata": {},
   "outputs": [],
   "source": [
    "# downsample majority class\n",
    "df_guys_downsampled = resample(df_guys,\n",
    "                                replace = False, \n",
    "                                n_samples = len(df_gals),\n",
    "                                random_state = 42)\n",
    "\n",
    "# concatenate minority and downsampled majority\n",
    "df_smaller_downsampled = pd.concat([df_guys_downsampled, df_gals])"
   ]
  },
  {
   "cell_type": "code",
   "execution_count": 100,
   "metadata": {},
   "outputs": [
    {
     "name": "stdout",
     "output_type": "stream",
     "text": [
      "<class 'pandas.core.frame.DataFrame'>\n",
      "Int64Index: 802954 entries, 90661971 to 19018624\n",
      "Data columns (total 9 columns):\n",
      "device_id             802954 non-null int64\n",
      "gender                802954 non-null int64\n",
      "app_id                802954 non-null int64\n",
      "is_active             802954 non-null int64\n",
      "event_id              802954 non-null int64\n",
      "haversine_distance    802954 non-null float64\n",
      "time_hour             802954 non-null int64\n",
      "encoded_brand         802954 non-null object\n",
      "label_id              802954 non-null int64\n",
      "dtypes: float64(1), int64(7), object(1)\n",
      "memory usage: 61.3+ MB\n"
     ]
    }
   ],
   "source": [
    "df_smaller_downsampled.info()"
   ]
  },
  {
   "cell_type": "code",
   "execution_count": 103,
   "metadata": {},
   "outputs": [],
   "source": [
    "del(ga_apps_labeled_brands)"
   ]
  },
  {
   "cell_type": "code",
   "execution_count": 2,
   "metadata": {},
   "outputs": [],
   "source": [
    "#df_smaller_downsampled.to_csv(path_or_buf='Data/talkingdata/df_smaller_downsampled.csv')\n",
    "df_smaller_downsampled=(pd.read_csv('Data/talkingdata/these_features.csv'))"
   ]
  },
  {
   "cell_type": "markdown",
   "metadata": {},
   "source": [
    "## Data Visualization"
   ]
  },
  {
   "cell_type": "markdown",
   "metadata": {},
   "source": [
    "- Now that we have our data in a workable form, let's take a look at it."
   ]
  },
  {
   "cell_type": "code",
   "execution_count": 114,
   "metadata": {},
   "outputs": [
    {
     "data": {
      "image/png": "[encoded data removed]",
      "text/plain": [
       "<Figure size 1440x2160 with 4 Axes>"
      ]
     },
     "metadata": {},
     "output_type": "display_data"
    }
   ],
   "source": [
    "plt.figure(figsize=(20,30))\n",
    "\n",
    "plt.subplot(4,1,1)\n",
    "plt.title(\"Device_id top 10\")\n",
    "plt.ylabel('Number of entries')\n",
    "plt.bar(np.arange(10), df_smaller_downsampled['device_id'].value_counts().head(10), color=(\"grey\",\"purple\"))\n",
    "\n",
    "plt.subplot(4,1,2)\n",
    "plt.title(\"Event_id top 10\")\n",
    "plt.ylabel('Number of entries')\n",
    "plt.bar(np.arange(10), df_smaller_downsampled['event_id'].value_counts().head(10), color=(\"grey\",\"purple\"))\n",
    "\n",
    "plt.subplot(4,1,3)\n",
    "plt.title(\"App_id top 10\")\n",
    "plt.ylabel('Number of entries')\n",
    "plt.bar(np.arange(10), df_smaller_downsampled['app_id'].value_counts().head(10), color=(\"grey\",\"purple\"))\n",
    "\n",
    "plt.subplot(4,1,4)\n",
    "plt.title(\"Label_id top 10\")\n",
    "plt.ylabel('Number of entries')\n",
    "plt.bar(np.arange(10), df_smaller_downsampled['label_id'].value_counts().head(10), color=(\"grey\",\"purple\"))\n",
    "\n",
    "plt.show()"
   ]
  },
  {
   "cell_type": "markdown",
   "metadata": {},
   "source": [
    "- These figures provide some interesting insights concerning the frequency of certain apps and categories, and the usage habits of the most frequent users."
   ]
  },
  {
   "cell_type": "code",
   "execution_count": 117,
   "metadata": {},
   "outputs": [
    {
     "data": {
      "image/png": "[encoded data removed]",
      "text/plain": [
       "<Figure size 1440x720 with 2 Axes>"
      ]
     },
     "metadata": {},
     "output_type": "display_data"
    }
   ],
   "source": [
    "plt.figure(figsize=(20,10))\n",
    "\n",
    "plt.subplot(2,3,1)\n",
    "plt.hist(df_smaller_downsampled.haversine_distance)\n",
    "plt.title(\"Histogram of {}\".format(\"haversine_distance\"))\n",
    "plt.xlabel('haversine_distance')\n",
    "\n",
    "plt.subplot(2,3,2)\n",
    "plt.hist(df_smaller_downsampled.time_hour)\n",
    "plt.title(\"Histogram of {}\".format(\"time_hour\"))\n",
    "plt.xlabel('time_hour')\n",
    "\n",
    "plt.show()"
   ]
  },
  {
   "cell_type": "markdown",
   "metadata": {},
   "source": [
    "- The histogram of haversine distance indicates that most of the TalkingData users live in two distinct but relatively contained geogrpahical areas (e.g. China).  The histogram of the time feature shows that only a small minority of people are active on their devices from 3-4 AM, contrasted with the greatest hour or so of activity from 8-9 AM."
   ]
  },
  {
   "cell_type": "markdown",
   "metadata": {},
   "source": [
    "- Here, we use a heatmap to check the correlations of the various features with each other and with the target variable."
   ]
  },
  {
   "cell_type": "code",
   "execution_count": 4,
   "metadata": {},
   "outputs": [
    {
     "data": {
      "image/png": "[encoded data removed]",
      "text/plain": [
       "<Figure size 1080x1080 with 2 Axes>"
      ]
     },
     "metadata": {
      "needs_background": "light"
     },
     "output_type": "display_data"
    }
   ],
   "source": [
    "plt.figure(figsize=(15,15))\n",
    "\n",
    "sns.heatmap(df_smaller_downsampled.select_dtypes(['int64', 'float64']).corr(), square=True, annot=True, linewidths=.5)\n",
    "plt.title(\"Feature Set Correlation Heatmap \")\n",
    "\n",
    "plt.show()"
   ]
  },
  {
   "cell_type": "code",
   "execution_count": 104,
   "metadata": {},
   "outputs": [
    {
     "data": {
      "text/plain": [
       "gender                1.000000\n",
       "haversine_distance    0.123080\n",
       "is_active             0.086999\n",
       "time_hour             0.026926\n",
       "label_id              0.024670\n",
       "app_id                0.020519\n",
       "event_id              0.001316\n",
       "Name: gender, dtype: float64"
      ]
     },
     "execution_count": 104,
     "metadata": {},
     "output_type": "execute_result"
    }
   ],
   "source": [
    "#check the correlation of various features with the target\n",
    "start_time = time.time()\n",
    "\n",
    "np.abs(df_smaller_downsampled[\n",
    "    df_smaller_downsampled.select_dtypes([\n",
    "        'int64', 'float64']).columns].iloc[:,1:].corr().loc[:,'gender']).sort_values(ascending=False)\n"
   ]
  },
  {
   "cell_type": "markdown",
   "metadata": {},
   "source": [
    "- None of the variables show much correlation."
   ]
  },
  {
   "cell_type": "code",
   "execution_count": 106,
   "metadata": {},
   "outputs": [
    {
     "data": {
      "text/plain": [
       "label_id              0.0\n",
       "encoded_brand         0.0\n",
       "time_hour             0.0\n",
       "haversine_distance    0.0\n",
       "event_id              0.0\n",
       "dtype: float64"
      ]
     },
     "execution_count": 106,
     "metadata": {},
     "output_type": "execute_result"
    }
   ],
   "source": [
    "#double checking for missing values in the data\n",
    "\n",
    "missing_values_ratios = (df_smaller_downsampled.isnull().sum()/df_smaller_downsampled.isnull().count())\n",
    "missing_values_ratios.sort_values(ascending=False).head()"
   ]
  },
  {
   "cell_type": "markdown",
   "metadata": {},
   "source": [
    "## Feature Engineering 2"
   ]
  },
  {
   "cell_type": "markdown",
   "metadata": {},
   "source": [
    "- Here we split the data into testing and training sets and apply PCA to prepare the data for the models."
   ]
  },
  {
   "cell_type": "code",
   "execution_count": 3,
   "metadata": {},
   "outputs": [],
   "source": [
    "#make dummies from the 'encoded_brand' variable to use in the feature set\n",
    "brand_dummies = pd.get_dummies(df_smaller_downsampled[['encoded_brand']], drop_first=True)"
   ]
  },
  {
   "cell_type": "code",
   "execution_count": 4,
   "metadata": {},
   "outputs": [],
   "source": [
    "X = pd.concat([df_smaller_downsampled[['device_id', 'app_id', 'is_active', 'label_id', 'event_id', \n",
    "                            'haversine_distance', 'time_hour']], brand_dummies], axis=1)\n",
    "\n",
    "y = df_smaller_downsampled['gender']"
   ]
  },
  {
   "cell_type": "markdown",
   "metadata": {},
   "source": [
    "- Preparing the data for PCA"
   ]
  },
  {
   "cell_type": "code",
   "execution_count": 5,
   "metadata": {},
   "outputs": [],
   "source": [
    "X_norm = normalize(X)"
   ]
  },
  {
   "cell_type": "code",
   "execution_count": 34,
   "metadata": {},
   "outputs": [],
   "source": [
    "Xt = X_norm.T\n",
    "Cx = np.cov(Xt)\n",
    "eig_val_cov, eig_vec_cov = np.linalg.eig(Cx)"
   ]
  },
  {
   "cell_type": "code",
   "execution_count": 38,
   "metadata": {},
   "outputs": [
    {
     "data": {
      "image/png": "[encoded data removed]",
      "text/plain": [
       "<Figure size 432x288 with 1 Axes>"
      ]
     },
     "metadata": {
      "needs_background": "light"
     },
     "output_type": "display_data"
    },
    {
     "name": "stdout",
     "output_type": "stream",
     "text": [
      "[5.00710990e-01 4.69145926e-01 4.45622943e-25 6.76724868e-30\n",
      " 2.25997911e-32 9.45168645e-36 3.14142949e-38 5.14214788e-38\n",
      " 2.70281190e-38 1.65501930e-38]\n"
     ]
    }
   ],
   "source": [
    "# print scree plot\n",
    "plt.plot(eig_val_cov)\n",
    "plt.show()\n",
    "\n",
    "print(eig_val_cov[0:10])"
   ]
  },
  {
   "cell_type": "markdown",
   "metadata": {},
   "source": [
    "- Most of the variance is explained by only two components"
   ]
  },
  {
   "cell_type": "code",
   "execution_count": 6,
   "metadata": {
    "scrolled": true
   },
   "outputs": [
    {
     "name": "stdout",
     "output_type": "stream",
     "text": [
      "The percentage of total variance in the dataset explained by each component from Sklearn PCA:\n",
      " [0.51627305 0.48372695]\n",
      "--- 12.552181005477905 seconds ---\n"
     ]
    }
   ],
   "source": [
    "start_time = time.time()\n",
    "\n",
    "sklearn_pca = PCA(n_components=2)  \n",
    "X_pca = sklearn_pca.fit_transform(X_norm)\n",
    "\n",
    "print(\n",
    "    'The percentage of total variance in the dataset explained by each',\n",
    "    'component from Sklearn PCA:\\n',\n",
    "    sklearn_pca.explained_variance_ratio_\n",
    ")\n",
    "\n",
    "print(\"--- %s seconds ---\" % (time.time() - start_time))"
   ]
  },
  {
   "cell_type": "code",
   "execution_count": 40,
   "metadata": {},
   "outputs": [],
   "source": [
    "# Split the data into four equally-sized samples for analysis with silhouette. \n",
    "\n",
    "X_pcahalf1, X_pcahalf2 = train_test_split(\n",
    "    X_pca,\n",
    "    test_size=0.5,\n",
    "    random_state=42)\n",
    "X_pca1, X_pca2 = train_test_split(\n",
    "    X_pcahalf1,\n",
    "    test_size=0.5,\n",
    "    random_state=42)\n",
    "X_pca3, X_pca4 = train_test_split(\n",
    "    X_pcahalf2,\n",
    "    test_size=0.5,\n",
    "   random_state=42)"
   ]
  },
  {
   "cell_type": "code",
   "execution_count": 7,
   "metadata": {},
   "outputs": [],
   "source": [
    "#Split the data into training and testing sets\n",
    "X_train, X_test, y_train, y_test = train_test_split(\n",
    "    X_pca,\n",
    "    y,\n",
    "    test_size=0.2,\n",
    "    random_state=1)"
   ]
  },
  {
   "cell_type": "markdown",
   "metadata": {},
   "source": [
    "# Supervised Models"
   ]
  },
  {
   "cell_type": "markdown",
   "metadata": {},
   "source": [
    "## Model 1: Decision Tree"
   ]
  },
  {
   "cell_type": "markdown",
   "metadata": {},
   "source": [
    "- Decision Trees are a good choice for classification problems, and don't make any assumptions about the data.  This makes them a good benchmark choice for this project."
   ]
  },
  {
   "cell_type": "code",
   "execution_count": 13,
   "metadata": {},
   "outputs": [],
   "source": [
    "#setting up parameters for GridSearchCV(DecisionTreeClassifier())\n",
    "\n",
    "depths = np.arange(1, 10)\n",
    "num_features = [1, 2]\n",
    "\n",
    "param_grid_dt_pca = [{'decisiontreeclassifier__max_depth':depths,\n",
    "               'decisiontreeclassifier__max_features':num_features}]\n",
    "\n",
    "pipe_tree_dt_pca = make_pipeline(tree.DecisionTreeClassifier(criterion='entropy'))"
   ]
  },
  {
   "cell_type": "code",
   "execution_count": 14,
   "metadata": {},
   "outputs": [
    {
     "name": "stdout",
     "output_type": "stream",
     "text": [
      "--- 0.00019598007202148438 seconds ---\n"
     ]
    }
   ],
   "source": [
    "start_time = time.time()\n",
    "\n",
    "gs_dt_pca = GridSearchCV(pipe_tree_dt_pca, param_grid=param_grid_dt_pca, cv=5)\n",
    "\n",
    "print(\"--- %s seconds ---\" % (time.time() - start_time))"
   ]
  },
  {
   "cell_type": "code",
   "execution_count": 15,
   "metadata": {},
   "outputs": [
    {
     "name": "stdout",
     "output_type": "stream",
     "text": [
      "{'decisiontreeclassifier__max_depth': 9, 'decisiontreeclassifier__max_features': 2}\n"
     ]
    }
   ],
   "source": [
    "start_time = time.time()\n",
    "\n",
    "gs_dt_pca.fit(X_train,y_train)\n",
    "print(gs_dt_pca.best_params_)\n",
    "\n",
    "print(\"--- %s seconds ---\" % (time.time() - start_time))"
   ]
  },
  {
   "cell_type": "code",
   "execution_count": 136,
   "metadata": {},
   "outputs": [
    {
     "name": "stdout",
     "output_type": "stream",
     "text": [
      "--- 2.1042330265045166 seconds ---\n"
     ]
    }
   ],
   "source": [
    "#initialize and train the decision tree model using GridSearchCV results\n",
    "start_time = time.time()\n",
    "\n",
    "decision_tree = tree.DecisionTreeClassifier(\n",
    "    criterion='entropy',\n",
    "    max_features=2,\n",
    "    max_depth=9\n",
    ")\n",
    "\n",
    "decision_tree.fit(X_train, y_train)\n",
    "\n",
    "print(\"--- %s seconds ---\" % (time.time() - start_time))"
   ]
  },
  {
   "cell_type": "code",
   "execution_count": 137,
   "metadata": {},
   "outputs": [
    {
     "name": "stdout",
     "output_type": "stream",
     "text": [
      "--- 2.36745023727417 seconds ---\n"
     ]
    }
   ],
   "source": [
    "#making predictions for model evaluation\n",
    "\n",
    "start_time = time.time()\n",
    "\n",
    "y_pred_dt = decision_tree.fit(X_train, y_train).predict(X_test)\n",
    "\n",
    "print(\"--- %s seconds ---\" % (time.time() - start_time))"
   ]
  },
  {
   "cell_type": "code",
   "execution_count": 138,
   "metadata": {},
   "outputs": [
    {
     "name": "stdout",
     "output_type": "stream",
     "text": [
      "[0.53202059 0.52973736 0.52768937 0.52666538 0.52589046 0.53089973\n",
      " 0.52991725 0.53269864 0.53209714 0.53421435]\n",
      "The 10-fold cross validation average for the training set is  0.5300723182926923\n",
      "--- 40.03949522972107 seconds ---\n"
     ]
    }
   ],
   "source": [
    "#evaluating the model performance through xvalidation of the training set\n",
    "\n",
    "start_time = time.time()\n",
    "\n",
    "print(cross_val_score(decision_tree, X_train, y_train, cv=10))\n",
    "print('The 10-fold cross validation average for the training set is ', \n",
    "      cross_val_score(decision_tree, X_train, y_train, cv=10).mean())\n",
    "\n",
    "print(\"--- %s seconds ---\" % (time.time() - start_time))"
   ]
  },
  {
   "cell_type": "code",
   "execution_count": 140,
   "metadata": {},
   "outputs": [
    {
     "name": "stdout",
     "output_type": "stream",
     "text": [
      "              precision    recall  f1-score   support\n",
      "\n",
      "           0       0.52      0.60      0.56     40089\n",
      "           1       0.53      0.45      0.49     40207\n",
      "\n",
      "    accuracy                           0.53     80296\n",
      "   macro avg       0.53      0.53      0.53     80296\n",
      "weighted avg       0.53      0.53      0.53     80296\n",
      "\n"
     ]
    }
   ],
   "source": [
    "#classification report\n",
    "\n",
    "print(classification_report(y_test, y_pred_dt, labels=None, target_names=None, \n",
    "                      sample_weight=None, digits=2, output_dict=False\n",
    "                     ))"
   ]
  },
  {
   "cell_type": "code",
   "execution_count": 141,
   "metadata": {},
   "outputs": [
    {
     "name": "stdout",
     "output_type": "stream",
     "text": [
      "Test set confusion matrix: \n",
      " [[24160 15929]\n",
      " [21982 18225]]\n"
     ]
    }
   ],
   "source": [
    "#confusion matrix\n",
    "print('Test set confusion matrix:', '\\n', \n",
    "      confusion_matrix(y_test, y_pred_dt, labels=None, sample_weight=None)\n",
    "     )"
   ]
  },
  {
   "cell_type": "markdown",
   "metadata": {},
   "source": [
    "- Our decision tree performed as a classifier only a few percentage points better than a coin toss.\n",
    "- Let's see if a random forest classifier can expand on those few points."
   ]
  },
  {
   "cell_type": "markdown",
   "metadata": {},
   "source": [
    "## Model 2: Random Forest Classifier"
   ]
  },
  {
   "cell_type": "code",
   "execution_count": 69,
   "metadata": {
    "scrolled": true
   },
   "outputs": [
    {
     "name": "stdout",
     "output_type": "stream",
     "text": [
      "--- 42.189146995544434 seconds ---\n"
     ]
    }
   ],
   "source": [
    "start_time = time.time()\n",
    "\n",
    "rfc = ensemble.RandomForestClassifier()\n",
    "rfc.fit(X_train,y_train)\n",
    "\n",
    "print(\"--- %s seconds ---\" % (time.time() - start_time))"
   ]
  },
  {
   "cell_type": "code",
   "execution_count": 70,
   "metadata": {},
   "outputs": [
    {
     "name": "stdout",
     "output_type": "stream",
     "text": [
      "--- 0.45691967010498047 seconds ---\n"
     ]
    }
   ],
   "source": [
    "start_time = time.time()\n",
    "\n",
    "#making predictions for model evaluation\n",
    "y_preds_rfc=rfc.predict(X_test)\n",
    "\n",
    "print(\"--- %s seconds ---\" % (time.time() - start_time))"
   ]
  },
  {
   "cell_type": "code",
   "execution_count": 146,
   "metadata": {},
   "outputs": [
    {
     "name": "stdout",
     "output_type": "stream",
     "text": [
      "[0.8731492  0.8720145  0.87310769 0.87032629 0.87299698 0.87504497\n",
      " 0.87447762 0.87135029 0.87040753 0.87162527]\n",
      "--- 381.6102182865143 seconds ---\n"
     ]
    }
   ],
   "source": [
    "#evaluating the model performance through xvalidation of the training set\n",
    "start_time = time.time()\n",
    "\n",
    "print(cross_val_score(rfc, X_train, y_train, cv=10))\n",
    "\n",
    "print(\"--- %s seconds ---\" % (time.time() - start_time))"
   ]
  },
  {
   "cell_type": "code",
   "execution_count": 72,
   "metadata": {},
   "outputs": [
    {
     "name": "stdout",
     "output_type": "stream",
     "text": [
      "              precision    recall  f1-score   support\n",
      "\n",
      "           0       0.89      0.88      0.88     40237\n",
      "           1       0.88      0.89      0.88     40059\n",
      "\n",
      "    accuracy                           0.88     80296\n",
      "   macro avg       0.88      0.88      0.88     80296\n",
      "weighted avg       0.88      0.88      0.88     80296\n",
      "\n"
     ]
    }
   ],
   "source": [
    "#classification report\n",
    "\n",
    "print(classification_report(y_test, y_preds_rfc, labels=None, target_names=None, \n",
    "                      sample_weight=None, digits=2, output_dict=False\n",
    "                     ))"
   ]
  },
  {
   "cell_type": "code",
   "execution_count": 73,
   "metadata": {},
   "outputs": [
    {
     "name": "stdout",
     "output_type": "stream",
     "text": [
      "Test set confusion matrix: \n",
      " [[35258  4979]\n",
      " [ 4494 35565]]\n"
     ]
    }
   ],
   "source": [
    "#confusion matrix\n",
    "print('Test set confusion matrix:', '\\n', \n",
    "      confusion_matrix(y_test, y_preds_rfc, labels=None, sample_weight=None)\n",
    "     )"
   ]
  },
  {
   "cell_type": "markdown",
   "metadata": {},
   "source": [
    "- The random forest classifier shows impressive, balanced performance, with good precision and recall for both classes!  While admittedly more resource intensive than the decision tree model, this performance is really strong, making the random forest classifer a very strong choice for the recommended model."
   ]
  },
  {
   "cell_type": "markdown",
   "metadata": {},
   "source": [
    "## Model 3: Naive Bayes"
   ]
  },
  {
   "cell_type": "code",
   "execution_count": 74,
   "metadata": {},
   "outputs": [
    {
     "name": "stdout",
     "output_type": "stream",
     "text": [
      "--- 0.18696928024291992 seconds ---\n"
     ]
    }
   ],
   "source": [
    "start_time = time.time()\n",
    "\n",
    "# Instantiate our model and store it in a new variable.\n",
    "bnb = BernoulliNB()\n",
    "\n",
    "# Fit our model to the data.\n",
    "bnb.fit(X_train, y_train)\n",
    "\n",
    "# Classify, storing the result in a new variable.\n",
    "y_preds_nb = bnb.predict(X_test)\n",
    "\n",
    "print(\"--- %s seconds ---\" % (time.time() - start_time))"
   ]
  },
  {
   "cell_type": "code",
   "execution_count": 75,
   "metadata": {},
   "outputs": [
    {
     "name": "stdout",
     "output_type": "stream",
     "text": [
      "[0.51147151 0.50906374 0.51178978 0.50954806 0.51109789 0.51007389\n",
      " 0.5105167  0.51064124 0.50901543 0.5093337 ]\n",
      "The 10-fold cross validation average for the training set is  0.5102551937967117\n",
      "--- 3.913083076477051 seconds ---\n"
     ]
    }
   ],
   "source": [
    "#evaluating the model performance through xvalidation of the training set\n",
    "\n",
    "start_time = time.time()\n",
    "\n",
    "print(cross_val_score(bnb, X_train, y_train, cv=10))\n",
    "print('The 10-fold cross validation average for the training set is ', \n",
    "      cross_val_score(bnb, X_train, y_train, cv=10).mean())\n",
    "\n",
    "print(\"--- %s seconds ---\" % (time.time() - start_time))"
   ]
  },
  {
   "cell_type": "code",
   "execution_count": 77,
   "metadata": {},
   "outputs": [
    {
     "name": "stdout",
     "output_type": "stream",
     "text": [
      "              precision    recall  f1-score   support\n",
      "\n",
      "           0       0.51      0.46      0.48     40237\n",
      "           1       0.51      0.56      0.53     40059\n",
      "\n",
      "    accuracy                           0.51     80296\n",
      "   macro avg       0.51      0.51      0.51     80296\n",
      "weighted avg       0.51      0.51      0.51     80296\n",
      "\n"
     ]
    }
   ],
   "source": [
    "#classification report\n",
    "\n",
    "print(classification_report(y_test, y_preds_nb, labels=None, target_names=None, \n",
    "                      sample_weight=None, digits=2, output_dict=False\n",
    "                     ))"
   ]
  },
  {
   "cell_type": "code",
   "execution_count": 78,
   "metadata": {},
   "outputs": [
    {
     "name": "stdout",
     "output_type": "stream",
     "text": [
      "Test set confusion matrix: \n",
      " [[18427 21810]\n",
      " [17471 22588]]\n"
     ]
    }
   ],
   "source": [
    "#confusion matrix\n",
    "print('Test set confusion matrix:', '\\n', \n",
    "      confusion_matrix(y_test, y_preds_nb, labels=None, sample_weight=None)\n",
    "     )"
   ]
  },
  {
   "cell_type": "markdown",
   "metadata": {},
   "source": [
    "- Naive Bayes models, while simple, fast, and intuitve, prefer normally distributed data, so it's not a big surprise that it doesn't show very good performance here.  This is our weakest classifier."
   ]
  },
  {
   "cell_type": "markdown",
   "metadata": {},
   "source": [
    "## Model 4: KNN"
   ]
  },
  {
   "cell_type": "code",
   "execution_count": 41,
   "metadata": {},
   "outputs": [],
   "source": [
    "#kernels = ['linear', 'poly', 'rbf', 'sigmoid']\n",
    "num_neighbors = np.arange(1, 20)\n",
    "weights = ['distance','uniform']\n",
    "leaf_sizes = np.arange(1, 5)\n",
    "\n",
    "param_grid_knn = [{'kneighborsclassifier__n_neighbors':num_neighbors,\n",
    "                      'kneighborsclassifier__weights':weights,\n",
    "                      'kneighborsclassifier__leaf_size':leaf_sizes}\n",
    "                     ]\n",
    "pipe_tree_knn = make_pipeline(neighbors.KNeighborsClassifier())"
   ]
  },
  {
   "cell_type": "code",
   "execution_count": 42,
   "metadata": {},
   "outputs": [
    {
     "name": "stdout",
     "output_type": "stream",
     "text": [
      "--- 0.00014209747314453125 seconds ---\n"
     ]
    }
   ],
   "source": [
    "start_time = time.time()\n",
    "\n",
    "gs_knn = GridSearchCV(pipe_tree_knn, param_grid=param_grid_knn, cv=5)\n",
    "\n",
    "print(\"--- %s seconds ---\" % (time.time() - start_time))\n",
    "#gs_knn.get_params().keys()"
   ]
  },
  {
   "cell_type": "code",
   "execution_count": 43,
   "metadata": {},
   "outputs": [
    {
     "name": "stdout",
     "output_type": "stream",
     "text": [
      "{'kneighborsclassifier__leaf_size': 1, 'kneighborsclassifier__n_neighbors': 19, 'kneighborsclassifier__weights': 'uniform'}\n",
      "--- 199.55490612983704 seconds ---\n"
     ]
    }
   ],
   "source": [
    "start_time = time.time()\n",
    "\n",
    "gs_knn.fit(X_train,y_train)\n",
    "print(gs_knn.best_params_)\n",
    "\n",
    "print(\"--- %s seconds ---\" % (time.time() - start_time))"
   ]
  },
  {
   "cell_type": "markdown",
   "metadata": {},
   "source": [
    "{'kneighborsclassifier__leaf_size': 1, 'kneighborsclassifier__n_neighbors': 19, 'kneighborsclassifier__weights': 'uniform'}\n",
    "--- 199.55490612983704 seconds ---"
   ]
  },
  {
   "cell_type": "code",
   "execution_count": 12,
   "metadata": {},
   "outputs": [
    {
     "name": "stdout",
     "output_type": "stream",
     "text": [
      "--- 2.2875797748565674 seconds ---\n"
     ]
    }
   ],
   "source": [
    "start_time = time.time()\n",
    "\n",
    "knn = neighbors.KNeighborsClassifier(n_neighbors=19, weights='uniform', leaf_size=1)\n",
    "knn.fit(X_train, y_train)\n",
    "\n",
    "print(\"--- %s seconds ---\" % (time.time() - start_time))"
   ]
  },
  {
   "cell_type": "code",
   "execution_count": 13,
   "metadata": {},
   "outputs": [
    {
     "name": "stdout",
     "output_type": "stream",
     "text": [
      "--- 8.602159261703491 seconds ---\n"
     ]
    }
   ],
   "source": [
    "# Classify, storing the result in a new variable.\n",
    "start_time = time.time()\n",
    "\n",
    "y_preds_knn = knn.predict(X_test)\n",
    "\n",
    "print(\"--- %s seconds ---\" % (time.time() - start_time))"
   ]
  },
  {
   "cell_type": "code",
   "execution_count": 14,
   "metadata": {},
   "outputs": [
    {
     "name": "stdout",
     "output_type": "stream",
     "text": [
      "[0.66569111 0.67084391 0.6722761  0.67048586 0.66893954 0.67241111\n",
      " 0.670543   0.67473068 0.67336073 0.6766716 ]\n",
      "The 10-fold cross validation average for the training set is  0.6715953629967901\n",
      "--- 109.50365686416626 seconds ---\n"
     ]
    }
   ],
   "source": [
    "#evaluating the model performance through xvalidation of the training set\n",
    "\n",
    "start_time = time.time()\n",
    "\n",
    "print(cross_val_score(knn, X_train, y_train, cv=10))\n",
    "print('The 10-fold cross validation average for the training set is ', \n",
    "      cross_val_score(knn, X_train, y_train, cv=10).mean())\n",
    "\n",
    "print(\"--- %s seconds ---\" % (time.time() - start_time))"
   ]
  },
  {
   "cell_type": "code",
   "execution_count": 15,
   "metadata": {},
   "outputs": [
    {
     "name": "stdout",
     "output_type": "stream",
     "text": [
      "              precision    recall  f1-score   support\n",
      "\n",
      "           0       0.69      0.67      0.68     80308\n",
      "           1       0.68      0.69      0.68     80283\n",
      "\n",
      "    accuracy                           0.68    160591\n",
      "   macro avg       0.68      0.68      0.68    160591\n",
      "weighted avg       0.68      0.68      0.68    160591\n",
      "\n"
     ]
    }
   ],
   "source": [
    "#classification report\n",
    "\n",
    "print(classification_report(y_test, y_preds_knn, labels=None, target_names=None, \n",
    "                      sample_weight=None, digits=2, output_dict=False\n",
    "                     ))"
   ]
  },
  {
   "cell_type": "code",
   "execution_count": 16,
   "metadata": {},
   "outputs": [
    {
     "name": "stdout",
     "output_type": "stream",
     "text": [
      "Test set confusion matrix: \n",
      " [[53670 26638]\n",
      " [24610 55673]]\n"
     ]
    }
   ],
   "source": [
    "#confusion matrix\n",
    "print('Test set confusion matrix:', '\\n', \n",
    "      confusion_matrix(y_test, y_preds_knn, labels=None, sample_weight=None)\n",
    "     )"
   ]
  },
  {
   "cell_type": "markdown",
   "metadata": {},
   "source": [
    "- KNN models, like decision trees, are intuitive and fast.  Even with this challenging data set, the KNN model shows decent classificatin performance, and is less resource intensive than our first place model, the random forest classifier.  The silver medalist!"
   ]
  },
  {
   "cell_type": "markdown",
   "metadata": {},
   "source": [
    "## Model 5: SVM"
   ]
  },
  {
   "cell_type": "code",
   "execution_count": 50,
   "metadata": {},
   "outputs": [],
   "source": [
    "#kernels = ['linear', 'poly', 'rbf', 'sigmoid']\n",
    "degrees = [1,2,3]\n",
    "param_grid_svm = [{'svc__degree':degrees}]\n",
    "pipe_tree_svm = make_pipeline(SVC(kernel = 'poly'))"
   ]
  },
  {
   "cell_type": "code",
   "execution_count": 51,
   "metadata": {},
   "outputs": [
    {
     "name": "stdout",
     "output_type": "stream",
     "text": [
      "--- 0.00011610984802246094 seconds ---\n"
     ]
    }
   ],
   "source": [
    "start_time = time.time()\n",
    "\n",
    "gs_svm = GridSearchCV(pipe_tree_svm, param_grid=param_grid_svm, cv=5)\n",
    "\n",
    "#gs_svm.get_params().keys()\n",
    "print(\"--- %s seconds ---\" % (time.time() - start_time))"
   ]
  },
  {
   "cell_type": "code",
   "execution_count": 52,
   "metadata": {},
   "outputs": [
    {
     "name": "stdout",
     "output_type": "stream",
     "text": [
      "{'svc__degree': 1}\n",
      "--- 185.38452196121216 seconds ---\n"
     ]
    }
   ],
   "source": [
    "start_time = time.time()\n",
    "\n",
    "gs_svm.fit(X_train,y_train)\n",
    "print(gs_svm.best_params_)\n",
    "\n",
    "print(\"--- %s seconds ---\" % (time.time() - start_time))"
   ]
  },
  {
   "cell_type": "markdown",
   "metadata": {},
   "source": [
    "{'svc__degree': 1}\n",
    "--- 185.38452196121216 seconds ---"
   ]
  },
  {
   "cell_type": "code",
   "execution_count": 8,
   "metadata": {},
   "outputs": [
    {
     "name": "stdout",
     "output_type": "stream",
     "text": [
      "--- 18514.912628889084 seconds ---\n"
     ]
    }
   ],
   "source": [
    "start_time = time.time()\n",
    "\n",
    "svm = SVC(kernel='poly',degree=1)\n",
    "svm.fit(X_train, y_train)\n",
    "\n",
    "print(\"--- %s seconds ---\" % (time.time() - start_time))"
   ]
  },
  {
   "cell_type": "code",
   "execution_count": null,
   "metadata": {},
   "outputs": [],
   "source": [
    "# start_time = time.time()\n",
    "\n",
    "# #Setting the predictions for analysis\n",
    "# y_pred_svm = svm.fit(X_train, y_train).predict(X_test)\n",
    "\n",
    "# print(\"--- %s seconds ---\" % (time.time() -i start_time))"
   ]
  },
  {
   "cell_type": "code",
   "execution_count": null,
   "metadata": {},
   "outputs": [],
   "source": [
    "# #evaluating the model performance through xvalidation of the training set\n",
    "\n",
    "# start_time = time.time()\n",
    "\n",
    "# print(cross_val_score(svm, X_train, y_train, cv=10))\n",
    "# print('The 10-fold cross validation average for the training set is ', \n",
    "#       cross_val_score(svm, X_train, y_train, cv=10).mean())\n",
    "\n",
    "# print(\"--- %s seconds ---\" % (time.time() - start_time))"
   ]
  },
  {
   "cell_type": "code",
   "execution_count": null,
   "metadata": {
    "scrolled": false
   },
   "outputs": [],
   "source": [
    "# #classification report\n",
    "# print(classification_report(y_test, y_pred_svm, labels=None, target_names=None, \n",
    "#                       sample_weight=None, digits=2, output_dict=False\n",
    "#                      ))"
   ]
  },
  {
   "cell_type": "code",
   "execution_count": null,
   "metadata": {
    "scrolled": true
   },
   "outputs": [],
   "source": [
    "# #confusion matrix\n",
    "# print('Test set confusion matrix:', '\\n', \n",
    "#       confusion_matrix(y_test, y_pred_svm, labels=None, sample_weight=None)\n",
    "#      )"
   ]
  },
  {
   "cell_type": "markdown",
   "metadata": {},
   "source": [
    "- SVM models are powerful classifiers, and are proabably a great choice for this dataset.  Unfortunately, they are also extremely resource intensive, and memory issues have prevented this one from getting up and running on our humble machine.  We will continue to work on that, as we would really like to see how it performs on this data."
   ]
  },
  {
   "cell_type": "markdown",
   "metadata": {},
   "source": [
    "- Our next model is of the unsupervised variety\n",
    "- We were hoping that perhaps it would naturally find a pattern in the data that would separate the target variable into clusters.  Unfortunately, each of the clusters contained an almost 50-50 split of the target."
   ]
  },
  {
   "cell_type": "markdown",
   "metadata": {},
   "source": [
    "## Model 6: KMeans"
   ]
  },
  {
   "cell_type": "code",
   "execution_count": 25,
   "metadata": {},
   "outputs": [
    {
     "name": "stdout",
     "output_type": "stream",
     "text": [
      "0.5477679712987001\n",
      "0.5467898376264809\n",
      "0.5480898533517531\n",
      "0.5492933714818348\n"
     ]
    }
   ],
   "source": [
    "start_time = time.time()\n",
    "for sample in [X_pca1, X_pca2, X_pca3, X_pca4]:\n",
    "    model = KMeans(n_clusters=4, random_state=42).fit(sample)\n",
    "    labels_test = model.labels_\n",
    "    print(metrics.silhouette_score(sample, labels_test, metric='euclidean'))"
   ]
  },
  {
   "cell_type": "code",
   "execution_count": 26,
   "metadata": {},
   "outputs": [
    {
     "name": "stdout",
     "output_type": "stream",
     "text": [
      "0.5347068985480117\n",
      "0.5383372834444189\n",
      "0.5354919165035713\n",
      "0.5420264792562377\n"
     ]
    }
   ],
   "source": [
    "start_time = time.time()\n",
    "for sample in [X_pca1, X_pca2, X_pca3, X_pca4]:\n",
    "    model = KMeans(n_clusters=5, random_state=42).fit(sample)\n",
    "    labels_test = model.labels_\n",
    "    print(metrics.silhouette_score(sample, labels_test, metric='euclidean'))"
   ]
  },
  {
   "cell_type": "code",
   "execution_count": 27,
   "metadata": {},
   "outputs": [
    {
     "name": "stdout",
     "output_type": "stream",
     "text": [
      "0.5326741689680675\n",
      "0.5348579998593697\n",
      "0.5366722980007194\n",
      "0.5316382628890104\n"
     ]
    }
   ],
   "source": [
    "start_time = time.time()\n",
    "for sample in [X_pca1, X_pca2, X_pca3, X_pca4]:\n",
    "    model = KMeans(n_clusters=6, random_state=42).fit(sample)\n",
    "    labels_test = model.labels_\n",
    "    print(metrics.silhouette_score(sample, labels_test, metric='euclidean'))"
   ]
  },
  {
   "cell_type": "markdown",
   "metadata": {},
   "source": [
    "#### Silhouette analysis seems relatively ambivalent to the number of clusters from 4-6. We will try six clusters for our model."
   ]
  },
  {
   "cell_type": "code",
   "execution_count": 105,
   "metadata": {},
   "outputs": [],
   "source": [
    "y_pred = KMeans(n_clusters=6).fit(X_train)\n",
    "labels = y_pred.labels_"
   ]
  },
  {
   "cell_type": "code",
   "execution_count": 106,
   "metadata": {},
   "outputs": [
    {
     "name": "stdout",
     "output_type": "stream",
     "text": [
      "Comparing k-means clusters against the data:\n",
      "col_0       0      1      2      3      4      5\n",
      "gender                                          \n",
      "0       82275  45902  50614  83415  50959  48075\n",
      "1       84893  51082  47245  83793  45777  48628\n"
     ]
    }
   ],
   "source": [
    "print('Comparing k-means clusters against the data:')\n",
    "print(pd.crosstab(y_train, labels))"
   ]
  },
  {
   "cell_type": "code",
   "execution_count": 119,
   "metadata": {},
   "outputs": [],
   "source": [
    "crosstab_KMeans = pd.crosstab(y_train, labels)"
   ]
  },
  {
   "cell_type": "code",
   "execution_count": 124,
   "metadata": {},
   "outputs": [
    {
     "data": {
      "image/png": "[encoded data removed]",
      "text/plain": [
       "<Figure size 1440x720 with 6 Axes>"
      ]
     },
     "metadata": {},
     "output_type": "display_data"
    }
   ],
   "source": [
    "plt.figure(figsize=(20,10))\n",
    "\n",
    "n1 = np.arange(2)\n",
    "c0_genders = [82275,84893]\n",
    "c1_genders = [45902,51082]\n",
    "c2_genders = [50614,47245]\n",
    "c3_genders = [83415,83793]\n",
    "c4_genders = [50959,45777]\n",
    "c5_genders = [48075,48628]\n",
    "\n",
    "plt.subplot(2,3,1)\n",
    "plt.bar(n1, c0_genders, color=(\"blue\",\"red\"))\n",
    "plt.xticks(n1, ('M', 'F'))\n",
    "plt.title('Cluster0 Gender Distribution')\n",
    "\n",
    "plt.subplot(2,3,2)\n",
    "plt.bar(n1, c1_genders, color=(\"blue\",\"red\"))\n",
    "plt.xticks(n1, ('M', 'F'))\n",
    "plt.title('Cluster1 Gender Distribution')\n",
    "\n",
    "plt.subplot(2,3,3)\n",
    "plt.bar(n1, c2_genders, color=(\"blue\",\"red\"))\n",
    "plt.xticks(n1, ('M', 'F'))\n",
    "plt.title('Cluster2 Gender Distribution')\n",
    "\n",
    "plt.subplot(2,3,4)\n",
    "plt.bar(n1, c3_genders, color=(\"blue\",\"red\"))\n",
    "plt.xticks(n1, ('M', 'F'))\n",
    "plt.title('Cluster3 Gender Distribution')\n",
    "\n",
    "plt.subplot(2,3,5)\n",
    "plt.bar(n1, c4_genders, color=(\"blue\",\"red\"))\n",
    "plt.xticks(n1, ('M', 'F'))\n",
    "plt.title('Cluster4 Gender Distribution')\n",
    "\n",
    "plt.subplot(2,3,6)\n",
    "plt.bar(n1, c5_genders, color=(\"blue\",\"red\"))\n",
    "plt.xticks(n1, ('M', 'F'))\n",
    "plt.title('Cluster5 Gender Distribution')\n",
    "\n",
    "plt.show()"
   ]
  },
  {
   "cell_type": "markdown",
   "metadata": {},
   "source": [
    "Our clustering solution is not doing a good job of classifying our target variable, gender.  In fact, gender appears relatively equally distributed in each cluster.  The custers show an interesting uniformity in size as well: two of them are ~ 170,000 entries, and the other 4 are each ~ 100,000 entries. Let's see if our neural network does a better job."
   ]
  },
  {
   "cell_type": "markdown",
   "metadata": {},
   "source": [
    "## Model 7: CNN"
   ]
  },
  {
   "cell_type": "markdown",
   "metadata": {},
   "source": [
    "- We're still learning how to use neural networks, but we're so excited about them that we wanted to try one here.  Unfortunately, we weren't able to get it to train very well on this data."
   ]
  },
  {
   "cell_type": "code",
   "execution_count": 125,
   "metadata": {},
   "outputs": [],
   "source": [
    "import keras\n",
    "\n",
    "from keras.models import Sequential\n",
    "from keras.layers import Dense, Dropout, Flatten, Conv1D, MaxPooling1D\n",
    "from keras.layers import LSTM, Input, TimeDistributed\n",
    "from keras.models import Model\n",
    "from keras.optimizers import RMSprop\n",
    "\n",
    "from keras import backend as K"
   ]
  },
  {
   "cell_type": "code",
   "execution_count": 129,
   "metadata": {},
   "outputs": [],
   "source": [
    "X_cnn = df_smaller_downsampled[['device_id', 'app_id', 'is_active', 'label_id', 'event_id', \n",
    "                            'haversine_distance', 'time_hour']]\n",
    "X_norm_cnn = normalize(X_cnn)"
   ]
  },
  {
   "cell_type": "code",
   "execution_count": 131,
   "metadata": {},
   "outputs": [],
   "source": [
    "#Split the data into training and testing sets\n",
    "X_train_cnn, X_test_cnn, y_train_cnn, y_test_cnn = train_test_split(\n",
    "    X_norm_cnn,\n",
    "    y,\n",
    "    test_size=0.2,\n",
    "    random_state=42)"
   ]
  },
  {
   "cell_type": "code",
   "execution_count": 133,
   "metadata": {},
   "outputs": [],
   "source": [
    "#Shaping the data for the network\n",
    "y_train_cnn = keras.utils.to_categorical(y_train_cnn)\n",
    "y_test_cnn = keras.utils.to_categorical(y_test_cnn)\n",
    "\n",
    "X_train_cnn2 = X_train_cnn.reshape(X_train_cnn.shape[0], 1, 7)\n",
    "X_test_cnn2 = X_test_cnn.reshape(X_test_cnn.shape[0], 1, 7)"
   ]
  },
  {
   "cell_type": "code",
   "execution_count": 143,
   "metadata": {},
   "outputs": [
    {
     "name": "stdout",
     "output_type": "stream",
     "text": [
      "Model: \"sequential_6\"\n",
      "_________________________________________________________________\n",
      "Layer (type)                 Output Shape              Param #   \n",
      "=================================================================\n",
      "conv1d_6 (Conv1D)            (None, 1, 1)              8         \n",
      "_________________________________________________________________\n",
      "dropout_3 (Dropout)          (None, 1, 1)              0         \n",
      "_________________________________________________________________\n",
      "flatten_2 (Flatten)          (None, 1)                 0         \n",
      "_________________________________________________________________\n",
      "dense_3 (Dense)              (None, 128)               256       \n",
      "_________________________________________________________________\n",
      "dropout_4 (Dropout)          (None, 128)               0         \n",
      "_________________________________________________________________\n",
      "dense_4 (Dense)              (None, 2)                 258       \n",
      "=================================================================\n",
      "Total params: 522\n",
      "Trainable params: 522\n",
      "Non-trainable params: 0\n",
      "_________________________________________________________________\n"
     ]
    }
   ],
   "source": [
    "#Building the model\n",
    "model = Sequential()\n",
    "\n",
    "model.add(Conv1D(filters=1, kernel_size=1, \n",
    "                 input_shape=(1,7),kernel_initializer= 'uniform',      \n",
    "                  activation= 'relu'))\n",
    "#model.add(MaxPooling1D(pool_size=(1)))\n",
    "model.add(Dropout(0.25))\n",
    "model.add(Flatten())\n",
    "model.add(Dense(128, activation='relu'))\n",
    "model.add(Dropout(0.5))\n",
    "model.add(Dense(2, activation='softmax'))\n",
    "\n",
    "model.summary()\n",
    "\n",
    "model.compile(loss='categorical_crossentropy',\n",
    "              optimizer=keras.optimizers.Adadelta(),\n",
    "              metrics=['accuracy'])"
   ]
  },
  {
   "cell_type": "code",
   "execution_count": 144,
   "metadata": {},
   "outputs": [
    {
     "name": "stdout",
     "output_type": "stream",
     "text": [
      "Train on 642363 samples, validate on 160591 samples\n",
      "Epoch 1/10\n",
      "642363/642363 [==============================] - 33s 52us/step - loss: 0.6930 - accuracy: 0.5069 - val_loss: 0.6931 - val_accuracy: 0.5064\n",
      "Epoch 2/10\n",
      "642363/642363 [==============================] - 34s 53us/step - loss: 0.6930 - accuracy: 0.5067 - val_loss: 0.6931 - val_accuracy: 0.5089\n",
      "Epoch 3/10\n",
      "642363/642363 [==============================] - 35s 54us/step - loss: 0.6930 - accuracy: 0.5078 - val_loss: 0.6929 - val_accuracy: 0.5106\n",
      "Epoch 4/10\n",
      "642363/642363 [==============================] - 34s 53us/step - loss: 0.6930 - accuracy: 0.5066 - val_loss: 0.6932 - val_accuracy: 0.5028\n",
      "Epoch 5/10\n",
      "642363/642363 [==============================] - 34s 53us/step - loss: 0.6930 - accuracy: 0.5068 - val_loss: 0.6929 - val_accuracy: 0.5109\n",
      "Epoch 6/10\n",
      "642363/642363 [==============================] - 34s 53us/step - loss: 0.6930 - accuracy: 0.5068 - val_loss: 0.6930 - val_accuracy: 0.5073\n",
      "Epoch 7/10\n",
      "642363/642363 [==============================] - 35s 54us/step - loss: 0.6931 - accuracy: 0.5062 - val_loss: 0.6930 - val_accuracy: 0.5108\n",
      "Epoch 8/10\n",
      "642363/642363 [==============================] - 34s 53us/step - loss: 0.6930 - accuracy: 0.5064 - val_loss: 0.6932 - val_accuracy: 0.4994\n",
      "Epoch 9/10\n",
      "642363/642363 [==============================] - 35s 54us/step - loss: 0.6930 - accuracy: 0.5071 - val_loss: 0.6931 - val_accuracy: 0.5070\n",
      "Epoch 10/10\n",
      "642363/642363 [==============================] - 35s 54us/step - loss: 0.6930 - accuracy: 0.5064 - val_loss: 0.6930 - val_accuracy: 0.5088\n",
      "Test loss: 0.6929634741479304\n",
      "Test accuracy: 0.5088392496109009\n"
     ]
    }
   ],
   "source": [
    "#Fitting the model\n",
    "model.fit(X_train_cnn2, y_train_cnn,\n",
    "          epochs=10,\n",
    "          verbose=1,\n",
    "          validation_data=(X_test_cnn2, y_test_cnn))\n",
    "score = model.evaluate(X_test_cnn2, y_test_cnn, verbose=0)\n",
    "print('Test loss:', score[0])\n",
    "print('Test accuracy:', score[1])"
   ]
  },
  {
   "cell_type": "markdown",
   "metadata": {},
   "source": [
    "- This relatively simple neural network is not doing a great job of classifying the target variable.  In fact, its performance is about the same as guessing, since the target variable classes are balanced 1:1, and the network's accuracy is ~ 0.51."
   ]
  },
  {
   "cell_type": "markdown",
   "metadata": {},
   "source": [
    "## Summary and Conclusions"
   ]
  },
  {
   "cell_type": "markdown",
   "metadata": {},
   "source": [
    "We set out on this project wondering if it was possible to classify gender based on a large set of app usage data.  After data exploration, a series of join operations, downsampling, and some clever feature engneering, we were finally able to try some models.  The best performing model by far was the Random Forest Classifier, followed by the KNN model.  We are still hoping to see the performance of SVM, but considering how resource intensive it is, it would be hard to recommend over the Random Forest Classifier even if it showed better classification results.  We suspected from the beginning that the RFC model would be one of the best performers: they make no assumptions about data shape or type, and they are known for being excellent classifying solutions.  As a product, this model could be included in a suite of models designed to construct a sort of digital avatar of a user, enabling marketing teams to customize their offerings to specific users.  To maintain and improve the model, the best strategies would be to feed the model more data, and to move it to a more powerful computing envionment.  We would also like to try it as a classifier for other user characteristics to improve its value as a product."
   ]
  },
  {
   "cell_type": "markdown",
   "metadata": {},
   "source": [
    "## Appendix"
   ]
  },
  {
   "cell_type": "code",
   "execution_count": 38,
   "metadata": {},
   "outputs": [],
   "source": [
    "#Here is our haversine distance function\n",
    "from math import radians, cos, sin, asin, sqrt\n",
    "\n",
    "def haversine_to_origin(lat, lng, degrees=True):\n",
    "    # radius of earth in km\n",
    "    r = 6371 \n",
    "\n",
    "    # Convert degrees to radians\n",
    "    if degrees:\n",
    "        lat, lng = map(radians, [lat, lng])\n",
    "\n",
    "    # Haversine formula expressed as distance to lat-long origin (0,0)\n",
    "    a = sin(lat/2)**2 + cos(lat) * sin(lng/2)**2\n",
    "    d = 2 * r * asin(sqrt(a)) \n",
    "\n",
    "    return d"
   ]
  }
 ],
 "metadata": {
  "kernelspec": {
   "display_name": "Python 3",
   "language": "python",
   "name": "python3"
  },
  "language_info": {
   "codemirror_mode": {
    "name": "ipython",
    "version": 3
   },
   "file_extension": ".py",
   "mimetype": "text/x-python",
   "name": "python",
   "nbconvert_exporter": "python",
   "pygments_lexer": "ipython3",
   "version": "3.7.3"
  }
 },
 "nbformat": 4,
 "nbformat_minor": 2
}
