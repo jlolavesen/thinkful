{
 "cells": [
  {
   "cell_type": "markdown",
   "metadata": {},
   "source": [
    "## Euler 1"
   ]
  },
  {
   "cell_type": "code",
   "execution_count": 11,
   "metadata": {},
   "outputs": [
    {
     "name": "stdout",
     "output_type": "stream",
     "text": [
      "233168\n"
     ]
    }
   ],
   "source": [
    "x=0\n",
    "ans=0\n",
    "\n",
    "for x in range(1000): \n",
    "    if (x % 3 == 0 or x % 5 == 0):\n",
    "        ans+=x\n",
    "        \n",
    "print(ans)"
   ]
  },
  {
   "cell_type": "markdown",
   "metadata": {},
   "source": [
    "## Euler 2"
   ]
  },
  {
   "cell_type": "code",
   "execution_count": 13,
   "metadata": {},
   "outputs": [
    {
     "name": "stdout",
     "output_type": "stream",
     "text": [
      "4613732\n"
     ]
    }
   ],
   "source": [
    "ans = 0\n",
    "x = 1\n",
    "y = 2\n",
    "\n",
    "while x <= 4000000:\n",
    "    if x % 2 == 0:\n",
    "        ans += x\n",
    "    (x,y) = (y, x + y)\n",
    "        \n",
    "print(ans)"
   ]
  },
  {
   "cell_type": "markdown",
   "metadata": {},
   "source": [
    "## Euler 3"
   ]
  },
  {
   "cell_type": "code",
   "execution_count": 66,
   "metadata": {},
   "outputs": [],
   "source": [
    "def least_prime_factor(n):\n",
    "    for i in range(2, n):\n",
    "        if n % i == 0:\n",
    "            return i\n",
    "    return n"
   ]
  },
  {
   "cell_type": "code",
   "execution_count": 67,
   "metadata": {},
   "outputs": [],
   "source": [
    "def greatest_prime_factor(n):\n",
    "    i = 1\n",
    "    while i < n:\n",
    "        i = least_prime_factor(n)\n",
    "        n //= i\n",
    "    return i"
   ]
  },
  {
   "cell_type": "code",
   "execution_count": 68,
   "metadata": {},
   "outputs": [
    {
     "data": {
      "text/plain": [
       "6857"
      ]
     },
     "execution_count": 68,
     "metadata": {},
     "output_type": "execute_result"
    }
   ],
   "source": [
    "greatest_prime_factor(600851475143)"
   ]
  },
  {
   "cell_type": "markdown",
   "metadata": {},
   "source": [
    "## Euler 4"
   ]
  },
  {
   "cell_type": "code",
   "execution_count": 86,
   "metadata": {},
   "outputs": [
    {
     "data": {
      "text/plain": [
       "906609"
      ]
     },
     "execution_count": 86,
     "metadata": {},
     "output_type": "execute_result"
    }
   ],
   "source": [
    "list = []\n",
    "i=0\n",
    "j=0\n",
    "\n",
    "for i in range(100, 1000):\n",
    "    for j in range(100, 1000):\n",
    "        if str(i * j) == str(i * j)[ : : -1]:\n",
    "            list.append(i*j)\n",
    "\n",
    "max(list)"
   ]
  },
  {
   "cell_type": "markdown",
   "metadata": {},
   "source": [
    "NTS: The Slice notation in python has the syntax - list[<start>:<stop>:<step>] So, a[::-1]  starts from the end, towards the first, taking each element. So it reverses a. This is applicable for lists/tuples as well."
   ]
  },
  {
   "cell_type": "markdown",
   "metadata": {},
   "source": [
    "## Euler 5"
   ]
  },
  {
   "cell_type": "code",
   "execution_count": 98,
   "metadata": {},
   "outputs": [
    {
     "name": "stdout",
     "output_type": "stream",
     "text": [
      "232792560\n"
     ]
    }
   ],
   "source": [
    "import math\n",
    "\n",
    "ans = 1\n",
    "for i in range(1, 20):\n",
    "    ans *= i // math.gcd(i, ans)\n",
    "\n",
    "\n",
    "print(ans)"
   ]
  },
  {
   "cell_type": "markdown",
   "metadata": {},
   "source": [
    "## Euler 6"
   ]
  },
  {
   "cell_type": "code",
   "execution_count": 100,
   "metadata": {},
   "outputs": [
    {
     "name": "stdout",
     "output_type": "stream",
     "text": [
      "25164150\n"
     ]
    }
   ],
   "source": [
    "x = 100\n",
    "s = sum(i for i in range(1, x + 1))\n",
    "s2 = sum(i**2 for i in range(1, x + 1))\n",
    "print(s**2 - s2)"
   ]
  },
  {
   "cell_type": "markdown",
   "metadata": {},
   "source": [
    "## Euler 7"
   ]
  },
  {
   "cell_type": "code",
   "execution_count": 107,
   "metadata": {},
   "outputs": [
    {
     "name": "stdout",
     "output_type": "stream",
     "text": [
      "--- 37.387258768081665 seconds ---\n"
     ]
    }
   ],
   "source": [
    "X = [2]\n",
    "n=3\n",
    "while len(X) <= 10000:\n",
    "    if n == least_prime_factor(n):\n",
    "        X.append(n)\n",
    "    n += 2\n",
    "    \n",
    "max(X)"
   ]
  },
  {
   "cell_type": "markdown",
   "metadata": {},
   "source": [
    "## Euler 8"
   ]
  },
  {
   "cell_type": "code",
   "execution_count": 110,
   "metadata": {},
   "outputs": [
    {
     "name": "stdout",
     "output_type": "stream",
     "text": [
      "23514624000\n"
     ]
    }
   ],
   "source": [
    "NUMBER = \"7316717653133062491922511967442657474235534919493496983520312774506326239578318016984801869478851843858615607891129494954595017379583319528532088055111254069874715852386305071569329096329522744304355766896648950445244523161731856403098711121722383113622298934233803081353362766142828064444866452387493035890729629049156044077239071381051585930796086670172427121883998797908792274921901699720888093776657273330010533678812202354218097512545405947522435258490771167055601360483958644670632441572215539753697817977846174064955149290862569321978468622482839722413756570560574902614079729686524145351004748216637048440319989000889524345065854122758866688116427171479924442928230863465674813919123162824586178664583591245665294765456828489128831426076900422421902267105562632111110937054421750694165896040807198403850962455444362981230987879927244284909188845801561660979191338754992005240636899125607176060588611646710940507754100225698315520005593572972571636269561882670428252483600823257530420752963450\"\n",
    "\n",
    "def string_product(string):\n",
    "    product = 1\n",
    "    for character in string:\n",
    "        product *= int(character)\n",
    "    return product\n",
    "\n",
    "print(max(string_product(NUMBER[i : i + 13]) for i in range (len(NUMBER) - 12)))\n"
   ]
  },
  {
   "cell_type": "markdown",
   "metadata": {},
   "source": [
    "## Euler 9"
   ]
  },
  {
   "cell_type": "code",
   "execution_count": 115,
   "metadata": {},
   "outputs": [
    {
     "name": "stdout",
     "output_type": "stream",
     "text": [
      "31875000\n"
     ]
    }
   ],
   "source": [
    "for a in range(1, 1000):\n",
    "    for b in range(1, 1000):\n",
    "        c = 1000 - a - b\n",
    "        if (c**2) == (a**2) + (b**2):\n",
    "            product = a * b * c\n",
    "            \n",
    "print(product)"
   ]
  },
  {
   "cell_type": "markdown",
   "metadata": {},
   "source": [
    "## Euler 10"
   ]
  },
  {
   "cell_type": "code",
   "execution_count": 127,
   "metadata": {},
   "outputs": [
    {
     "name": "stdout",
     "output_type": "stream",
     "text": [
      "142913828922\n"
     ]
    }
   ],
   "source": [
    "n = 2000000\n",
    "prime = [True] * (n+1)\n",
    "p = 2\n",
    "x = 0\n",
    "while (p * p <= n):  \n",
    "    if (prime[p] == True): \n",
    "        for i in range(p * 2, n + 1, p): \n",
    "            prime[i] = False\n",
    "    p += 1\n",
    "prime[0]= False\n",
    "prime[1]= False\n",
    "    \n",
    "#sum all prime numbers \n",
    "for p in range(n + 1): \n",
    "    if prime[p]: \n",
    "        x += p\n",
    "        \n",
    "print(x)"
   ]
  }
 ],
 "metadata": {
  "kernelspec": {
   "display_name": "Python 3",
   "language": "python",
   "name": "python3"
  },
  "language_info": {
   "codemirror_mode": {
    "name": "ipython",
    "version": 3
   },
   "file_extension": ".py",
   "mimetype": "text/x-python",
   "name": "python",
   "nbconvert_exporter": "python",
   "pygments_lexer": "ipython3",
   "version": "3.7.3"
  }
 },
 "nbformat": 4,
 "nbformat_minor": 2
}
