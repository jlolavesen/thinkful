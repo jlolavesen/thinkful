{
 "cells": [
  {
   "cell_type": "code",
   "execution_count": null,
   "metadata": {},
   "outputs": [],
   "source": [
    "#Set 1\n",
    "\n",
    "#1) 1/16\n",
    "\n",
    "#2) 24/45\n",
    "\n",
    "#3) 0.000005\n",
    "\n",
    "#4) this conclusion ignores users who don't click links.\n",
    "\n",
    "\n",
    "#Set 2\n",
    "P(A | B) = P(B | A) * P(A) / P(B)\n",
    "P(A | B) = P(B | A) * P(A) / [P(A)*P(B|A) + P(A~)*P(B|A~)]\n",
    "\n",
    "#1) P(positive) = 0.005 * 0.98 + 0.995 * 0.1\n",
    "#               = 0.1044\n",
    "\n",
    "#2) P(positive|infected) = 0.98\n",
    "\n",
    "#3) P(!positive|!infected) = 0.90\n",
    "\n",
    "#4) P(!correct) = 1 - P(correct) = 1 - (0.98 * 0.005 + .9*.995) = 0.0996 "
   ]
  }
 ],
 "metadata": {
  "kernelspec": {
   "display_name": "Python 3",
   "language": "python",
   "name": "python3"
  },
  "language_info": {
   "codemirror_mode": {
    "name": "ipython",
    "version": 3
   },
   "file_extension": ".py",
   "mimetype": "text/x-python",
   "name": "python",
   "nbconvert_exporter": "python",
   "pygments_lexer": "ipython3",
   "version": "3.7.3"
  }
 },
 "nbformat": 4,
 "nbformat_minor": 2
}
