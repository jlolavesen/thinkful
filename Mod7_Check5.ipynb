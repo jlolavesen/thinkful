{
 "cells": [
  {
   "cell_type": "code",
   "execution_count": 1,
   "metadata": {},
   "outputs": [],
   "source": [
    "import matplotlib.pyplot as plt\n",
    "import numpy as np\n",
    "import pandas as pd\n",
    "%matplotlib inline\n",
    "import statistics"
   ]
  },
  {
   "cell_type": "code",
   "execution_count": 4,
   "metadata": {},
   "outputs": [
    {
     "name": "stdout",
     "output_type": "stream",
     "text": [
      "mean:  9.857142857142858\n",
      "median:  10.0\n",
      "mode:  8\n",
      "variance:  7.476190476190475\n",
      "s:  2.734262327610589\n",
      "se:  1.0334540197243192\n"
     ]
    }
   ],
   "source": [
    "#1\n",
    "ages = [14,12,11,10,8,6,8]\n",
    "\n",
    "print('mean: ', np.mean(ages))\n",
    "print('median: ', np.median(ages))\n",
    "print('mode: ', statistics.mode(ages))\n",
    "print('variance: ', np.var(ages, ddof=1))\n",
    "print('s: ', np.std(ages, ddof=1))\n",
    "print('se: ', np.std(ages, ddof=1)/np.sqrt(len(ages)))"
   ]
  },
  {
   "cell_type": "code",
   "execution_count": 5,
   "metadata": {},
   "outputs": [],
   "source": [
    "#2\n",
    "#I would pick the mean and standard deviation because \n",
    "#they are common and useful and there doesn't appear to be a reason not to"
   ]
  },
  {
   "cell_type": "code",
   "execution_count": 6,
   "metadata": {},
   "outputs": [
    {
     "name": "stdout",
     "output_type": "stream",
     "text": [
      "mean:  10.0\n",
      "median:  10.0\n",
      "mode:  8\n",
      "variance:  6.333333333333333\n",
      "s:  2.516611478423583\n",
      "se:  0.9511897312113418\n"
     ]
    }
   ],
   "source": [
    "#3\n",
    "ages = [14,12,11,10,8,7,8]\n",
    "print('mean: ', np.mean(ages))\n",
    "print('median: ', np.median(ages))\n",
    "print('mode: ', statistics.mode(ages))\n",
    "print('variance: ', np.var(ages, ddof=1))\n",
    "print('s: ', np.std(ages, ddof=1))\n",
    "print('se: ', np.std(ages, ddof=1)/np.sqrt(len(ages)))\n",
    "\n",
    "#the mean and all measures of variance have changed"
   ]
  },
  {
   "cell_type": "code",
   "execution_count": 8,
   "metadata": {},
   "outputs": [
    {
     "name": "stdout",
     "output_type": "stream",
     "text": [
      "mean:  9.0\n",
      "median:  10.0\n",
      "mode: n/a\n",
      "variance:  18.0\n",
      "s:  4.242640687119285\n",
      "se:  1.6035674514745462\n"
     ]
    }
   ],
   "source": [
    "#4\n",
    "ages = [14,12,11,10,8,7,1]\n",
    "print('mean: ', np.mean(ages))\n",
    "print('median: ', np.median(ages))\n",
    "print('mode: n/a')\n",
    "print('variance: ', np.var(ages, ddof=1))\n",
    "print('s: ', np.std(ages, ddof=1))\n",
    "print('se: ', np.std(ages, ddof=1)/np.sqrt(len(ages)))\n",
    "\n",
    "#now there is no mode (or every value is the mode? not sure which of these is technically correct)  \n",
    "#I would opt for the median and standard deviation or perhaps standard error \n",
    "#to describe this data set now, since 1 is kind of an outlier"
   ]
  },
  {
   "cell_type": "code",
   "execution_count": null,
   "metadata": {},
   "outputs": [],
   "source": [
    "#5 \n",
    "#with only this data, the best estimate is ~20% of Americans"
   ]
  }
 ],
 "metadata": {
  "kernelspec": {
   "display_name": "Python 3",
   "language": "python",
   "name": "python3"
  },
  "language_info": {
   "codemirror_mode": {
    "name": "ipython",
    "version": 3
   },
   "file_extension": ".py",
   "mimetype": "text/x-python",
   "name": "python",
   "nbconvert_exporter": "python",
   "pygments_lexer": "ipython3",
   "version": "3.7.3"
  }
 },
 "nbformat": 4,
 "nbformat_minor": 2
}
